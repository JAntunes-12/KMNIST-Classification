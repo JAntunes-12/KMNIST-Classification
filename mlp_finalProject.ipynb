{
 "cells": [
  {
   "cell_type": "markdown",
   "metadata": {},
   "source": [
    "# 1. Import necessary libraries"
   ]
  },
  {
   "cell_type": "code",
   "execution_count": 2,
   "metadata": {},
   "outputs": [],
   "source": [
    "import pandas as pd\n",
    "import numpy as np\n",
    "import tensorflow as tf\n",
    "from tensorflow.keras.callbacks import ModelCheckpoint, EarlyStopping\n",
    "from matplotlib import pyplot as plt\n",
    "from sklearn import metrics\n",
    "import seaborn as sn\n",
    "from sklearn.model_selection import train_test_split\n",
    "import itertools\n",
    "import time\n",
    "import json\n",
    "from tqdm import tqdm\n",
    "import os"
   ]
  },
  {
   "cell_type": "markdown",
   "metadata": {},
   "source": [
    "# 2. Get the data\n",
    "## 2.1. Download the data from tensorflow\n",
    "(only need to do this once)"
   ]
  },
  {
   "cell_type": "code",
   "execution_count": 2,
   "metadata": {},
   "outputs": [
    {
     "name": "stdout",
     "output_type": "stream",
     "text": [
      "Downloading data from http://codh.rois.ac.jp/kmnist/dataset/kmnist/kmnist-train-imgs.npz\n"
     ]
    },
    {
     "ename": "Exception",
     "evalue": "URL fetch failure on http://codh.rois.ac.jp/kmnist/dataset/kmnist/kmnist-train-imgs.npz: None -- [SSL: CERTIFICATE_VERIFY_FAILED] certificate verify failed: unable to get local issuer certificate (_ssl.c:1000)",
     "output_type": "error",
     "traceback": [
      "\u001b[31m---------------------------------------------------------------------------\u001b[39m",
      "\u001b[31mSSLCertVerificationError\u001b[39m                  Traceback (most recent call last)",
      "\u001b[36mFile \u001b[39m\u001b[32m~\\AppData\\Local\\Programs\\Python\\Python312\\Lib\\urllib\\request.py:1344\u001b[39m, in \u001b[36mAbstractHTTPHandler.do_open\u001b[39m\u001b[34m(self, http_class, req, **http_conn_args)\u001b[39m\n\u001b[32m   1343\u001b[39m \u001b[38;5;28;01mtry\u001b[39;00m:\n\u001b[32m-> \u001b[39m\u001b[32m1344\u001b[39m     \u001b[43mh\u001b[49m\u001b[43m.\u001b[49m\u001b[43mrequest\u001b[49m\u001b[43m(\u001b[49m\u001b[43mreq\u001b[49m\u001b[43m.\u001b[49m\u001b[43mget_method\u001b[49m\u001b[43m(\u001b[49m\u001b[43m)\u001b[49m\u001b[43m,\u001b[49m\u001b[43m \u001b[49m\u001b[43mreq\u001b[49m\u001b[43m.\u001b[49m\u001b[43mselector\u001b[49m\u001b[43m,\u001b[49m\u001b[43m \u001b[49m\u001b[43mreq\u001b[49m\u001b[43m.\u001b[49m\u001b[43mdata\u001b[49m\u001b[43m,\u001b[49m\u001b[43m \u001b[49m\u001b[43mheaders\u001b[49m\u001b[43m,\u001b[49m\n\u001b[32m   1345\u001b[39m \u001b[43m              \u001b[49m\u001b[43mencode_chunked\u001b[49m\u001b[43m=\u001b[49m\u001b[43mreq\u001b[49m\u001b[43m.\u001b[49m\u001b[43mhas_header\u001b[49m\u001b[43m(\u001b[49m\u001b[33;43m'\u001b[39;49m\u001b[33;43mTransfer-encoding\u001b[39;49m\u001b[33;43m'\u001b[39;49m\u001b[43m)\u001b[49m\u001b[43m)\u001b[49m\n\u001b[32m   1346\u001b[39m \u001b[38;5;28;01mexcept\u001b[39;00m \u001b[38;5;167;01mOSError\u001b[39;00m \u001b[38;5;28;01mas\u001b[39;00m err: \u001b[38;5;66;03m# timeout error\u001b[39;00m\n",
      "\u001b[36mFile \u001b[39m\u001b[32m~\\AppData\\Local\\Programs\\Python\\Python312\\Lib\\http\\client.py:1319\u001b[39m, in \u001b[36mHTTPConnection.request\u001b[39m\u001b[34m(self, method, url, body, headers, encode_chunked)\u001b[39m\n\u001b[32m   1318\u001b[39m \u001b[38;5;250m\u001b[39m\u001b[33;03m\"\"\"Send a complete request to the server.\"\"\"\u001b[39;00m\n\u001b[32m-> \u001b[39m\u001b[32m1319\u001b[39m \u001b[38;5;28;43mself\u001b[39;49m\u001b[43m.\u001b[49m\u001b[43m_send_request\u001b[49m\u001b[43m(\u001b[49m\u001b[43mmethod\u001b[49m\u001b[43m,\u001b[49m\u001b[43m \u001b[49m\u001b[43murl\u001b[49m\u001b[43m,\u001b[49m\u001b[43m \u001b[49m\u001b[43mbody\u001b[49m\u001b[43m,\u001b[49m\u001b[43m \u001b[49m\u001b[43mheaders\u001b[49m\u001b[43m,\u001b[49m\u001b[43m \u001b[49m\u001b[43mencode_chunked\u001b[49m\u001b[43m)\u001b[49m\n",
      "\u001b[36mFile \u001b[39m\u001b[32m~\\AppData\\Local\\Programs\\Python\\Python312\\Lib\\http\\client.py:1365\u001b[39m, in \u001b[36mHTTPConnection._send_request\u001b[39m\u001b[34m(self, method, url, body, headers, encode_chunked)\u001b[39m\n\u001b[32m   1364\u001b[39m     body = _encode(body, \u001b[33m'\u001b[39m\u001b[33mbody\u001b[39m\u001b[33m'\u001b[39m)\n\u001b[32m-> \u001b[39m\u001b[32m1365\u001b[39m \u001b[38;5;28;43mself\u001b[39;49m\u001b[43m.\u001b[49m\u001b[43mendheaders\u001b[49m\u001b[43m(\u001b[49m\u001b[43mbody\u001b[49m\u001b[43m,\u001b[49m\u001b[43m \u001b[49m\u001b[43mencode_chunked\u001b[49m\u001b[43m=\u001b[49m\u001b[43mencode_chunked\u001b[49m\u001b[43m)\u001b[49m\n",
      "\u001b[36mFile \u001b[39m\u001b[32m~\\AppData\\Local\\Programs\\Python\\Python312\\Lib\\http\\client.py:1314\u001b[39m, in \u001b[36mHTTPConnection.endheaders\u001b[39m\u001b[34m(self, message_body, encode_chunked)\u001b[39m\n\u001b[32m   1313\u001b[39m     \u001b[38;5;28;01mraise\u001b[39;00m CannotSendHeader()\n\u001b[32m-> \u001b[39m\u001b[32m1314\u001b[39m \u001b[38;5;28;43mself\u001b[39;49m\u001b[43m.\u001b[49m\u001b[43m_send_output\u001b[49m\u001b[43m(\u001b[49m\u001b[43mmessage_body\u001b[49m\u001b[43m,\u001b[49m\u001b[43m \u001b[49m\u001b[43mencode_chunked\u001b[49m\u001b[43m=\u001b[49m\u001b[43mencode_chunked\u001b[49m\u001b[43m)\u001b[49m\n",
      "\u001b[36mFile \u001b[39m\u001b[32m~\\AppData\\Local\\Programs\\Python\\Python312\\Lib\\http\\client.py:1074\u001b[39m, in \u001b[36mHTTPConnection._send_output\u001b[39m\u001b[34m(self, message_body, encode_chunked)\u001b[39m\n\u001b[32m   1073\u001b[39m \u001b[38;5;28;01mdel\u001b[39;00m \u001b[38;5;28mself\u001b[39m._buffer[:]\n\u001b[32m-> \u001b[39m\u001b[32m1074\u001b[39m \u001b[38;5;28;43mself\u001b[39;49m\u001b[43m.\u001b[49m\u001b[43msend\u001b[49m\u001b[43m(\u001b[49m\u001b[43mmsg\u001b[49m\u001b[43m)\u001b[49m\n\u001b[32m   1076\u001b[39m \u001b[38;5;28;01mif\u001b[39;00m message_body \u001b[38;5;129;01mis\u001b[39;00m \u001b[38;5;129;01mnot\u001b[39;00m \u001b[38;5;28;01mNone\u001b[39;00m:\n\u001b[32m   1077\u001b[39m \n\u001b[32m   1078\u001b[39m     \u001b[38;5;66;03m# create a consistent interface to message_body\u001b[39;00m\n",
      "\u001b[36mFile \u001b[39m\u001b[32m~\\AppData\\Local\\Programs\\Python\\Python312\\Lib\\http\\client.py:1018\u001b[39m, in \u001b[36mHTTPConnection.send\u001b[39m\u001b[34m(self, data)\u001b[39m\n\u001b[32m   1017\u001b[39m \u001b[38;5;28;01mif\u001b[39;00m \u001b[38;5;28mself\u001b[39m.auto_open:\n\u001b[32m-> \u001b[39m\u001b[32m1018\u001b[39m     \u001b[38;5;28;43mself\u001b[39;49m\u001b[43m.\u001b[49m\u001b[43mconnect\u001b[49m\u001b[43m(\u001b[49m\u001b[43m)\u001b[49m\n\u001b[32m   1019\u001b[39m \u001b[38;5;28;01melse\u001b[39;00m:\n",
      "\u001b[36mFile \u001b[39m\u001b[32m~\\AppData\\Local\\Programs\\Python\\Python312\\Lib\\http\\client.py:1460\u001b[39m, in \u001b[36mHTTPSConnection.connect\u001b[39m\u001b[34m(self)\u001b[39m\n\u001b[32m   1458\u001b[39m     server_hostname = \u001b[38;5;28mself\u001b[39m.host\n\u001b[32m-> \u001b[39m\u001b[32m1460\u001b[39m \u001b[38;5;28mself\u001b[39m.sock = \u001b[38;5;28;43mself\u001b[39;49m\u001b[43m.\u001b[49m\u001b[43m_context\u001b[49m\u001b[43m.\u001b[49m\u001b[43mwrap_socket\u001b[49m\u001b[43m(\u001b[49m\u001b[38;5;28;43mself\u001b[39;49m\u001b[43m.\u001b[49m\u001b[43msock\u001b[49m\u001b[43m,\u001b[49m\n\u001b[32m   1461\u001b[39m \u001b[43m                                      \u001b[49m\u001b[43mserver_hostname\u001b[49m\u001b[43m=\u001b[49m\u001b[43mserver_hostname\u001b[49m\u001b[43m)\u001b[49m\n",
      "\u001b[36mFile \u001b[39m\u001b[32m~\\AppData\\Local\\Programs\\Python\\Python312\\Lib\\ssl.py:455\u001b[39m, in \u001b[36mSSLContext.wrap_socket\u001b[39m\u001b[34m(self, sock, server_side, do_handshake_on_connect, suppress_ragged_eofs, server_hostname, session)\u001b[39m\n\u001b[32m    449\u001b[39m \u001b[38;5;28;01mdef\u001b[39;00m\u001b[38;5;250m \u001b[39m\u001b[34mwrap_socket\u001b[39m(\u001b[38;5;28mself\u001b[39m, sock, server_side=\u001b[38;5;28;01mFalse\u001b[39;00m,\n\u001b[32m    450\u001b[39m                 do_handshake_on_connect=\u001b[38;5;28;01mTrue\u001b[39;00m,\n\u001b[32m    451\u001b[39m                 suppress_ragged_eofs=\u001b[38;5;28;01mTrue\u001b[39;00m,\n\u001b[32m    452\u001b[39m                 server_hostname=\u001b[38;5;28;01mNone\u001b[39;00m, session=\u001b[38;5;28;01mNone\u001b[39;00m):\n\u001b[32m    453\u001b[39m     \u001b[38;5;66;03m# SSLSocket class handles server_hostname encoding before it calls\u001b[39;00m\n\u001b[32m    454\u001b[39m     \u001b[38;5;66;03m# ctx._wrap_socket()\u001b[39;00m\n\u001b[32m--> \u001b[39m\u001b[32m455\u001b[39m     \u001b[38;5;28;01mreturn\u001b[39;00m \u001b[38;5;28;43mself\u001b[39;49m\u001b[43m.\u001b[49m\u001b[43msslsocket_class\u001b[49m\u001b[43m.\u001b[49m\u001b[43m_create\u001b[49m\u001b[43m(\u001b[49m\n\u001b[32m    456\u001b[39m \u001b[43m        \u001b[49m\u001b[43msock\u001b[49m\u001b[43m=\u001b[49m\u001b[43msock\u001b[49m\u001b[43m,\u001b[49m\n\u001b[32m    457\u001b[39m \u001b[43m        \u001b[49m\u001b[43mserver_side\u001b[49m\u001b[43m=\u001b[49m\u001b[43mserver_side\u001b[49m\u001b[43m,\u001b[49m\n\u001b[32m    458\u001b[39m \u001b[43m        \u001b[49m\u001b[43mdo_handshake_on_connect\u001b[49m\u001b[43m=\u001b[49m\u001b[43mdo_handshake_on_connect\u001b[49m\u001b[43m,\u001b[49m\n\u001b[32m    459\u001b[39m \u001b[43m        \u001b[49m\u001b[43msuppress_ragged_eofs\u001b[49m\u001b[43m=\u001b[49m\u001b[43msuppress_ragged_eofs\u001b[49m\u001b[43m,\u001b[49m\n\u001b[32m    460\u001b[39m \u001b[43m        \u001b[49m\u001b[43mserver_hostname\u001b[49m\u001b[43m=\u001b[49m\u001b[43mserver_hostname\u001b[49m\u001b[43m,\u001b[49m\n\u001b[32m    461\u001b[39m \u001b[43m        \u001b[49m\u001b[43mcontext\u001b[49m\u001b[43m=\u001b[49m\u001b[38;5;28;43mself\u001b[39;49m\u001b[43m,\u001b[49m\n\u001b[32m    462\u001b[39m \u001b[43m        \u001b[49m\u001b[43msession\u001b[49m\u001b[43m=\u001b[49m\u001b[43msession\u001b[49m\n\u001b[32m    463\u001b[39m \u001b[43m    \u001b[49m\u001b[43m)\u001b[49m\n",
      "\u001b[36mFile \u001b[39m\u001b[32m~\\AppData\\Local\\Programs\\Python\\Python312\\Lib\\ssl.py:1046\u001b[39m, in \u001b[36mSSLSocket._create\u001b[39m\u001b[34m(cls, sock, server_side, do_handshake_on_connect, suppress_ragged_eofs, server_hostname, context, session)\u001b[39m\n\u001b[32m   1045\u001b[39m             \u001b[38;5;28;01mraise\u001b[39;00m \u001b[38;5;167;01mValueError\u001b[39;00m(\u001b[33m\"\u001b[39m\u001b[33mdo_handshake_on_connect should not be specified for non-blocking sockets\u001b[39m\u001b[33m\"\u001b[39m)\n\u001b[32m-> \u001b[39m\u001b[32m1046\u001b[39m         \u001b[38;5;28;43mself\u001b[39;49m\u001b[43m.\u001b[49m\u001b[43mdo_handshake\u001b[49m\u001b[43m(\u001b[49m\u001b[43m)\u001b[49m\n\u001b[32m   1047\u001b[39m \u001b[38;5;28;01mexcept\u001b[39;00m (\u001b[38;5;167;01mOSError\u001b[39;00m, \u001b[38;5;167;01mValueError\u001b[39;00m):\n",
      "\u001b[36mFile \u001b[39m\u001b[32m~\\AppData\\Local\\Programs\\Python\\Python312\\Lib\\ssl.py:1317\u001b[39m, in \u001b[36mSSLSocket.do_handshake\u001b[39m\u001b[34m(self, block)\u001b[39m\n\u001b[32m   1316\u001b[39m         \u001b[38;5;28mself\u001b[39m.settimeout(\u001b[38;5;28;01mNone\u001b[39;00m)\n\u001b[32m-> \u001b[39m\u001b[32m1317\u001b[39m     \u001b[38;5;28;43mself\u001b[39;49m\u001b[43m.\u001b[49m\u001b[43m_sslobj\u001b[49m\u001b[43m.\u001b[49m\u001b[43mdo_handshake\u001b[49m\u001b[43m(\u001b[49m\u001b[43m)\u001b[49m\n\u001b[32m   1318\u001b[39m \u001b[38;5;28;01mfinally\u001b[39;00m:\n",
      "\u001b[31mSSLCertVerificationError\u001b[39m: [SSL: CERTIFICATE_VERIFY_FAILED] certificate verify failed: unable to get local issuer certificate (_ssl.c:1000)",
      "\nDuring handling of the above exception, another exception occurred:\n",
      "\u001b[31mURLError\u001b[39m                                  Traceback (most recent call last)",
      "\u001b[36mFile \u001b[39m\u001b[32mc:\\Users\\user03\\Documents\\KMNIST-Classification\\.venv\\Lib\\site-packages\\keras\\src\\utils\\file_utils.py:311\u001b[39m, in \u001b[36mget_file\u001b[39m\u001b[34m(fname, origin, untar, md5_hash, file_hash, cache_subdir, hash_algorithm, extract, archive_format, cache_dir, force_download)\u001b[39m\n\u001b[32m    310\u001b[39m \u001b[38;5;28;01mtry\u001b[39;00m:\n\u001b[32m--> \u001b[39m\u001b[32m311\u001b[39m     \u001b[43murlretrieve\u001b[49m\u001b[43m(\u001b[49m\u001b[43morigin\u001b[49m\u001b[43m,\u001b[49m\u001b[43m \u001b[49m\u001b[43mdownload_target\u001b[49m\u001b[43m,\u001b[49m\u001b[43m \u001b[49m\u001b[43mDLProgbar\u001b[49m\u001b[43m(\u001b[49m\u001b[43m)\u001b[49m\u001b[43m)\u001b[49m\n\u001b[32m    312\u001b[39m \u001b[38;5;28;01mexcept\u001b[39;00m urllib.error.HTTPError \u001b[38;5;28;01mas\u001b[39;00m e:\n",
      "\u001b[36mFile \u001b[39m\u001b[32m~\\AppData\\Local\\Programs\\Python\\Python312\\Lib\\urllib\\request.py:240\u001b[39m, in \u001b[36murlretrieve\u001b[39m\u001b[34m(url, filename, reporthook, data)\u001b[39m\n\u001b[32m    238\u001b[39m url_type, path = _splittype(url)\n\u001b[32m--> \u001b[39m\u001b[32m240\u001b[39m \u001b[38;5;28;01mwith\u001b[39;00m contextlib.closing(\u001b[43murlopen\u001b[49m\u001b[43m(\u001b[49m\u001b[43murl\u001b[49m\u001b[43m,\u001b[49m\u001b[43m \u001b[49m\u001b[43mdata\u001b[49m\u001b[43m)\u001b[49m) \u001b[38;5;28;01mas\u001b[39;00m fp:\n\u001b[32m    241\u001b[39m     headers = fp.info()\n",
      "\u001b[36mFile \u001b[39m\u001b[32m~\\AppData\\Local\\Programs\\Python\\Python312\\Lib\\urllib\\request.py:215\u001b[39m, in \u001b[36murlopen\u001b[39m\u001b[34m(url, data, timeout, cafile, capath, cadefault, context)\u001b[39m\n\u001b[32m    214\u001b[39m     opener = _opener\n\u001b[32m--> \u001b[39m\u001b[32m215\u001b[39m \u001b[38;5;28;01mreturn\u001b[39;00m \u001b[43mopener\u001b[49m\u001b[43m.\u001b[49m\u001b[43mopen\u001b[49m\u001b[43m(\u001b[49m\u001b[43murl\u001b[49m\u001b[43m,\u001b[49m\u001b[43m \u001b[49m\u001b[43mdata\u001b[49m\u001b[43m,\u001b[49m\u001b[43m \u001b[49m\u001b[43mtimeout\u001b[49m\u001b[43m)\u001b[49m\n",
      "\u001b[36mFile \u001b[39m\u001b[32m~\\AppData\\Local\\Programs\\Python\\Python312\\Lib\\urllib\\request.py:521\u001b[39m, in \u001b[36mOpenerDirector.open\u001b[39m\u001b[34m(self, fullurl, data, timeout)\u001b[39m\n\u001b[32m    520\u001b[39m     meth = \u001b[38;5;28mgetattr\u001b[39m(processor, meth_name)\n\u001b[32m--> \u001b[39m\u001b[32m521\u001b[39m     response = \u001b[43mmeth\u001b[49m\u001b[43m(\u001b[49m\u001b[43mreq\u001b[49m\u001b[43m,\u001b[49m\u001b[43m \u001b[49m\u001b[43mresponse\u001b[49m\u001b[43m)\u001b[49m\n\u001b[32m    523\u001b[39m \u001b[38;5;28;01mreturn\u001b[39;00m response\n",
      "\u001b[36mFile \u001b[39m\u001b[32m~\\AppData\\Local\\Programs\\Python\\Python312\\Lib\\urllib\\request.py:630\u001b[39m, in \u001b[36mHTTPErrorProcessor.http_response\u001b[39m\u001b[34m(self, request, response)\u001b[39m\n\u001b[32m    629\u001b[39m \u001b[38;5;28;01mif\u001b[39;00m \u001b[38;5;129;01mnot\u001b[39;00m (\u001b[32m200\u001b[39m <= code < \u001b[32m300\u001b[39m):\n\u001b[32m--> \u001b[39m\u001b[32m630\u001b[39m     response = \u001b[38;5;28;43mself\u001b[39;49m\u001b[43m.\u001b[49m\u001b[43mparent\u001b[49m\u001b[43m.\u001b[49m\u001b[43merror\u001b[49m\u001b[43m(\u001b[49m\n\u001b[32m    631\u001b[39m \u001b[43m        \u001b[49m\u001b[33;43m'\u001b[39;49m\u001b[33;43mhttp\u001b[39;49m\u001b[33;43m'\u001b[39;49m\u001b[43m,\u001b[49m\u001b[43m \u001b[49m\u001b[43mrequest\u001b[49m\u001b[43m,\u001b[49m\u001b[43m \u001b[49m\u001b[43mresponse\u001b[49m\u001b[43m,\u001b[49m\u001b[43m \u001b[49m\u001b[43mcode\u001b[49m\u001b[43m,\u001b[49m\u001b[43m \u001b[49m\u001b[43mmsg\u001b[49m\u001b[43m,\u001b[49m\u001b[43m \u001b[49m\u001b[43mhdrs\u001b[49m\u001b[43m)\u001b[49m\n\u001b[32m    633\u001b[39m \u001b[38;5;28;01mreturn\u001b[39;00m response\n",
      "\u001b[36mFile \u001b[39m\u001b[32m~\\AppData\\Local\\Programs\\Python\\Python312\\Lib\\urllib\\request.py:553\u001b[39m, in \u001b[36mOpenerDirector.error\u001b[39m\u001b[34m(self, proto, *args)\u001b[39m\n\u001b[32m    552\u001b[39m args = (\u001b[38;5;28mdict\u001b[39m, proto, meth_name) + args\n\u001b[32m--> \u001b[39m\u001b[32m553\u001b[39m result = \u001b[38;5;28;43mself\u001b[39;49m\u001b[43m.\u001b[49m\u001b[43m_call_chain\u001b[49m\u001b[43m(\u001b[49m\u001b[43m*\u001b[49m\u001b[43margs\u001b[49m\u001b[43m)\u001b[49m\n\u001b[32m    554\u001b[39m \u001b[38;5;28;01mif\u001b[39;00m result:\n",
      "\u001b[36mFile \u001b[39m\u001b[32m~\\AppData\\Local\\Programs\\Python\\Python312\\Lib\\urllib\\request.py:492\u001b[39m, in \u001b[36mOpenerDirector._call_chain\u001b[39m\u001b[34m(self, chain, kind, meth_name, *args)\u001b[39m\n\u001b[32m    491\u001b[39m func = \u001b[38;5;28mgetattr\u001b[39m(handler, meth_name)\n\u001b[32m--> \u001b[39m\u001b[32m492\u001b[39m result = \u001b[43mfunc\u001b[49m\u001b[43m(\u001b[49m\u001b[43m*\u001b[49m\u001b[43margs\u001b[49m\u001b[43m)\u001b[49m\n\u001b[32m    493\u001b[39m \u001b[38;5;28;01mif\u001b[39;00m result \u001b[38;5;129;01mis\u001b[39;00m \u001b[38;5;129;01mnot\u001b[39;00m \u001b[38;5;28;01mNone\u001b[39;00m:\n",
      "\u001b[36mFile \u001b[39m\u001b[32m~\\AppData\\Local\\Programs\\Python\\Python312\\Lib\\urllib\\request.py:745\u001b[39m, in \u001b[36mHTTPRedirectHandler.http_error_302\u001b[39m\u001b[34m(self, req, fp, code, msg, headers)\u001b[39m\n\u001b[32m    743\u001b[39m fp.close()\n\u001b[32m--> \u001b[39m\u001b[32m745\u001b[39m \u001b[38;5;28;01mreturn\u001b[39;00m \u001b[38;5;28;43mself\u001b[39;49m\u001b[43m.\u001b[49m\u001b[43mparent\u001b[49m\u001b[43m.\u001b[49m\u001b[43mopen\u001b[49m\u001b[43m(\u001b[49m\u001b[43mnew\u001b[49m\u001b[43m,\u001b[49m\u001b[43m \u001b[49m\u001b[43mtimeout\u001b[49m\u001b[43m=\u001b[49m\u001b[43mreq\u001b[49m\u001b[43m.\u001b[49m\u001b[43mtimeout\u001b[49m\u001b[43m)\u001b[49m\n",
      "\u001b[36mFile \u001b[39m\u001b[32m~\\AppData\\Local\\Programs\\Python\\Python312\\Lib\\urllib\\request.py:515\u001b[39m, in \u001b[36mOpenerDirector.open\u001b[39m\u001b[34m(self, fullurl, data, timeout)\u001b[39m\n\u001b[32m    514\u001b[39m sys.audit(\u001b[33m'\u001b[39m\u001b[33murllib.Request\u001b[39m\u001b[33m'\u001b[39m, req.full_url, req.data, req.headers, req.get_method())\n\u001b[32m--> \u001b[39m\u001b[32m515\u001b[39m response = \u001b[38;5;28;43mself\u001b[39;49m\u001b[43m.\u001b[49m\u001b[43m_open\u001b[49m\u001b[43m(\u001b[49m\u001b[43mreq\u001b[49m\u001b[43m,\u001b[49m\u001b[43m \u001b[49m\u001b[43mdata\u001b[49m\u001b[43m)\u001b[49m\n\u001b[32m    517\u001b[39m \u001b[38;5;66;03m# post-process response\u001b[39;00m\n",
      "\u001b[36mFile \u001b[39m\u001b[32m~\\AppData\\Local\\Programs\\Python\\Python312\\Lib\\urllib\\request.py:532\u001b[39m, in \u001b[36mOpenerDirector._open\u001b[39m\u001b[34m(self, req, data)\u001b[39m\n\u001b[32m    531\u001b[39m protocol = req.type\n\u001b[32m--> \u001b[39m\u001b[32m532\u001b[39m result = \u001b[38;5;28;43mself\u001b[39;49m\u001b[43m.\u001b[49m\u001b[43m_call_chain\u001b[49m\u001b[43m(\u001b[49m\u001b[38;5;28;43mself\u001b[39;49m\u001b[43m.\u001b[49m\u001b[43mhandle_open\u001b[49m\u001b[43m,\u001b[49m\u001b[43m \u001b[49m\u001b[43mprotocol\u001b[49m\u001b[43m,\u001b[49m\u001b[43m \u001b[49m\u001b[43mprotocol\u001b[49m\u001b[43m \u001b[49m\u001b[43m+\u001b[49m\n\u001b[32m    533\u001b[39m \u001b[43m                          \u001b[49m\u001b[33;43m'\u001b[39;49m\u001b[33;43m_open\u001b[39;49m\u001b[33;43m'\u001b[39;49m\u001b[43m,\u001b[49m\u001b[43m \u001b[49m\u001b[43mreq\u001b[49m\u001b[43m)\u001b[49m\n\u001b[32m    534\u001b[39m \u001b[38;5;28;01mif\u001b[39;00m result:\n",
      "\u001b[36mFile \u001b[39m\u001b[32m~\\AppData\\Local\\Programs\\Python\\Python312\\Lib\\urllib\\request.py:492\u001b[39m, in \u001b[36mOpenerDirector._call_chain\u001b[39m\u001b[34m(self, chain, kind, meth_name, *args)\u001b[39m\n\u001b[32m    491\u001b[39m func = \u001b[38;5;28mgetattr\u001b[39m(handler, meth_name)\n\u001b[32m--> \u001b[39m\u001b[32m492\u001b[39m result = \u001b[43mfunc\u001b[49m\u001b[43m(\u001b[49m\u001b[43m*\u001b[49m\u001b[43margs\u001b[49m\u001b[43m)\u001b[49m\n\u001b[32m    493\u001b[39m \u001b[38;5;28;01mif\u001b[39;00m result \u001b[38;5;129;01mis\u001b[39;00m \u001b[38;5;129;01mnot\u001b[39;00m \u001b[38;5;28;01mNone\u001b[39;00m:\n",
      "\u001b[36mFile \u001b[39m\u001b[32m~\\AppData\\Local\\Programs\\Python\\Python312\\Lib\\urllib\\request.py:1392\u001b[39m, in \u001b[36mHTTPSHandler.https_open\u001b[39m\u001b[34m(self, req)\u001b[39m\n\u001b[32m   1391\u001b[39m \u001b[38;5;28;01mdef\u001b[39;00m\u001b[38;5;250m \u001b[39m\u001b[34mhttps_open\u001b[39m(\u001b[38;5;28mself\u001b[39m, req):\n\u001b[32m-> \u001b[39m\u001b[32m1392\u001b[39m     \u001b[38;5;28;01mreturn\u001b[39;00m \u001b[38;5;28;43mself\u001b[39;49m\u001b[43m.\u001b[49m\u001b[43mdo_open\u001b[49m\u001b[43m(\u001b[49m\u001b[43mhttp\u001b[49m\u001b[43m.\u001b[49m\u001b[43mclient\u001b[49m\u001b[43m.\u001b[49m\u001b[43mHTTPSConnection\u001b[49m\u001b[43m,\u001b[49m\u001b[43m \u001b[49m\u001b[43mreq\u001b[49m\u001b[43m,\u001b[49m\n\u001b[32m   1393\u001b[39m \u001b[43m                        \u001b[49m\u001b[43mcontext\u001b[49m\u001b[43m=\u001b[49m\u001b[38;5;28;43mself\u001b[39;49m\u001b[43m.\u001b[49m\u001b[43m_context\u001b[49m\u001b[43m)\u001b[49m\n",
      "\u001b[36mFile \u001b[39m\u001b[32m~\\AppData\\Local\\Programs\\Python\\Python312\\Lib\\urllib\\request.py:1347\u001b[39m, in \u001b[36mAbstractHTTPHandler.do_open\u001b[39m\u001b[34m(self, http_class, req, **http_conn_args)\u001b[39m\n\u001b[32m   1346\u001b[39m \u001b[38;5;28;01mexcept\u001b[39;00m \u001b[38;5;167;01mOSError\u001b[39;00m \u001b[38;5;28;01mas\u001b[39;00m err: \u001b[38;5;66;03m# timeout error\u001b[39;00m\n\u001b[32m-> \u001b[39m\u001b[32m1347\u001b[39m     \u001b[38;5;28;01mraise\u001b[39;00m URLError(err)\n\u001b[32m   1348\u001b[39m r = h.getresponse()\n",
      "\u001b[31mURLError\u001b[39m: <urlopen error [SSL: CERTIFICATE_VERIFY_FAILED] certificate verify failed: unable to get local issuer certificate (_ssl.c:1000)>",
      "\nDuring handling of the above exception, another exception occurred:\n",
      "\u001b[31mException\u001b[39m                                 Traceback (most recent call last)",
      "\u001b[36mCell\u001b[39m\u001b[36m \u001b[39m\u001b[32mIn[2]\u001b[39m\u001b[32m, line 11\u001b[39m\n\u001b[32m      3\u001b[39m files = {\n\u001b[32m      4\u001b[39m     \u001b[33m\"\u001b[39m\u001b[33mtrain_images\u001b[39m\u001b[33m\"\u001b[39m: \u001b[33m\"\u001b[39m\u001b[33mkmnist-train-imgs.npz\u001b[39m\u001b[33m\"\u001b[39m,\n\u001b[32m      5\u001b[39m     \u001b[33m\"\u001b[39m\u001b[33mtrain_labels\u001b[39m\u001b[33m\"\u001b[39m: \u001b[33m\"\u001b[39m\u001b[33mkmnist-train-labels.npz\u001b[39m\u001b[33m\"\u001b[39m,\n\u001b[32m      6\u001b[39m     \u001b[33m\"\u001b[39m\u001b[33mtest_images\u001b[39m\u001b[33m\"\u001b[39m: \u001b[33m\"\u001b[39m\u001b[33mkmnist-test-imgs.npz\u001b[39m\u001b[33m\"\u001b[39m,\n\u001b[32m      7\u001b[39m     \u001b[33m\"\u001b[39m\u001b[33mtest_labels\u001b[39m\u001b[33m\"\u001b[39m: \u001b[33m\"\u001b[39m\u001b[33mkmnist-test-labels.npz\u001b[39m\u001b[33m\"\u001b[39m\n\u001b[32m      8\u001b[39m }\n\u001b[32m     10\u001b[39m \u001b[38;5;66;03m# Use tf.keras.utils.get_file to download each file\u001b[39;00m\n\u001b[32m---> \u001b[39m\u001b[32m11\u001b[39m data_dir = \u001b[43mtf\u001b[49m\u001b[43m.\u001b[49m\u001b[43mkeras\u001b[49m\u001b[43m.\u001b[49m\u001b[43mutils\u001b[49m\u001b[43m.\u001b[49m\u001b[43mget_file\u001b[49m\u001b[43m(\u001b[49m\u001b[33;43m\"\u001b[39;49m\u001b[33;43mkmnist_data\u001b[39;49m\u001b[33;43m\"\u001b[39;49m\u001b[43m,\u001b[49m\u001b[43m \u001b[49m\u001b[43morigin\u001b[49m\u001b[43m=\u001b[49m\u001b[43mbase_url\u001b[49m\u001b[43m \u001b[49m\u001b[43m+\u001b[49m\u001b[43m \u001b[49m\u001b[43mfiles\u001b[49m\u001b[43m[\u001b[49m\u001b[33;43m\"\u001b[39;49m\u001b[33;43mtrain_images\u001b[39;49m\u001b[33;43m\"\u001b[39;49m\u001b[43m]\u001b[49m\u001b[43m,\u001b[49m\u001b[43m \u001b[49m\u001b[43mextract\u001b[49m\u001b[43m=\u001b[49m\u001b[38;5;28;43;01mFalse\u001b[39;49;00m\u001b[43m)\u001b[49m\n\u001b[32m     12\u001b[39m train_images_source = np.load(data_dir)[\u001b[33m\"\u001b[39m\u001b[33marr_0\u001b[39m\u001b[33m\"\u001b[39m]\n\u001b[32m     14\u001b[39m data_dir = tf.keras.utils.get_file(\u001b[33m\"\u001b[39m\u001b[33mkmnist_labels\u001b[39m\u001b[33m\"\u001b[39m, origin=base_url + files[\u001b[33m\"\u001b[39m\u001b[33mtrain_labels\u001b[39m\u001b[33m\"\u001b[39m], extract=\u001b[38;5;28;01mFalse\u001b[39;00m)\n",
      "\u001b[36mFile \u001b[39m\u001b[32mc:\\Users\\user03\\Documents\\KMNIST-Classification\\.venv\\Lib\\site-packages\\keras\\src\\utils\\file_utils.py:315\u001b[39m, in \u001b[36mget_file\u001b[39m\u001b[34m(fname, origin, untar, md5_hash, file_hash, cache_subdir, hash_algorithm, extract, archive_format, cache_dir, force_download)\u001b[39m\n\u001b[32m    313\u001b[39m         \u001b[38;5;28;01mraise\u001b[39;00m \u001b[38;5;167;01mException\u001b[39;00m(error_msg.format(origin, e.code, e.msg))\n\u001b[32m    314\u001b[39m     \u001b[38;5;28;01mexcept\u001b[39;00m urllib.error.URLError \u001b[38;5;28;01mas\u001b[39;00m e:\n\u001b[32m--> \u001b[39m\u001b[32m315\u001b[39m         \u001b[38;5;28;01mraise\u001b[39;00m \u001b[38;5;167;01mException\u001b[39;00m(error_msg.format(origin, e.errno, e.reason))\n\u001b[32m    316\u001b[39m \u001b[38;5;28;01mexcept\u001b[39;00m (\u001b[38;5;167;01mException\u001b[39;00m, \u001b[38;5;167;01mKeyboardInterrupt\u001b[39;00m):\n\u001b[32m    317\u001b[39m     \u001b[38;5;28;01mif\u001b[39;00m os.path.exists(download_target):\n",
      "\u001b[31mException\u001b[39m: URL fetch failure on http://codh.rois.ac.jp/kmnist/dataset/kmnist/kmnist-train-imgs.npz: None -- [SSL: CERTIFICATE_VERIFY_FAILED] certificate verify failed: unable to get local issuer certificate (_ssl.c:1000)"
     ]
    }
   ],
   "source": [
    "# Load the KMNIST dataset\n",
    "base_url = \"http://codh.rois.ac.jp/kmnist/dataset/kmnist/\"\n",
    "files = {\n",
    "    \"train_images\": \"kmnist-train-imgs.npz\",\n",
    "    \"train_labels\": \"kmnist-train-labels.npz\",\n",
    "    \"test_images\": \"kmnist-test-imgs.npz\",\n",
    "    \"test_labels\": \"kmnist-test-labels.npz\"\n",
    "}\n",
    "\n",
    "# Use tf.keras.utils.get_file to download each file\n",
    "data_dir = tf.keras.utils.get_file(\"kmnist_data\", origin=base_url + files[\"train_images\"], extract=False)\n",
    "train_images_source = np.load(data_dir)[\"arr_0\"]\n",
    "\n",
    "data_dir = tf.keras.utils.get_file(\"kmnist_labels\", origin=base_url + files[\"train_labels\"], extract=False)\n",
    "train_labels_source = np.load(data_dir)[\"arr_0\"]\n",
    "\n",
    "data_dir = tf.keras.utils.get_file(\"kmnist_test\", origin=base_url + files[\"test_images\"], extract=False)\n",
    "test_images_source = np.load(data_dir)[\"arr_0\"]\n",
    "\n",
    "data_dir = tf.keras.utils.get_file(\"kmnist_test_labels\", origin=base_url + files[\"test_labels\"], extract=False)\n",
    "test_labels_source = np.load(data_dir)[\"arr_0\"]"
   ]
  },
  {
   "cell_type": "markdown",
   "metadata": {},
   "source": [
    "### 2.1.1 Split the training data into training and validation"
   ]
  },
  {
   "cell_type": "code",
   "execution_count": 274,
   "metadata": {},
   "outputs": [],
   "source": [
    "# We will use 20% of the training data for validation (12k images)\n",
    "\n",
    "train_images, validation_images, train_labels, validation_labels = train_test_split(train_images_source, train_labels_source, test_size= 0.2, random_state=42)"
   ]
  },
  {
   "cell_type": "markdown",
   "metadata": {},
   "source": [
    "### 2.1.2 Check class balance after split"
   ]
  },
  {
   "cell_type": "code",
   "execution_count": 320,
   "metadata": {},
   "outputs": [],
   "source": [
    "def plot_class_balance(train_labels, val_labels, title='Class Balance after train/validation split'):\n",
    "    num_classes = max(train_labels.max(), val_labels.max()) + 1\n",
    "\n",
    "    # Count class occurrences using np.bincount\n",
    "    train_counts = np.bincount(train_labels, minlength=num_classes)\n",
    "    val_counts = np.bincount(val_labels, minlength=num_classes)\n",
    "\n",
    "    # Count occurrences and normalize to get relative frequencies\n",
    "    train_counts = np.bincount(train_labels, minlength=num_classes)\n",
    "    val_counts = np.bincount(val_labels, minlength=num_classes)\n",
    "\n",
    "    train_freq = train_counts / train_counts.sum() * 100\n",
    "    val_freq = val_counts / val_counts.sum() * 100\n",
    "\n",
    "    x = np.arange(num_classes)\n",
    "    width = 0.35\n",
    "\n",
    "    fig, ax = plt.subplots(figsize=(10, 6))\n",
    "    ax.bar(x - width/2, train_freq, width, label='Train')\n",
    "    ax.bar(x + width/2, val_freq, width, label='Validation')\n",
    "\n",
    "    ax.set_xlabel('Class')\n",
    "    ax.set_ylabel('Relative Frequency (%)')\n",
    "    ax.set_title(title)\n",
    "    ax.set_xticks(x)\n",
    "    ax.set_xticklabels(x)\n",
    "    ax.legend()\n",
    "    ax.set_ylim(0, max(train_freq.max(), val_freq.max()) * 1.2)\n",
    "    ax.grid(False)\n",
    "\n",
    "    plt.tight_layout()\n",
    "    plt.show()"
   ]
  },
  {
   "cell_type": "code",
   "execution_count": 321,
   "metadata": {},
   "outputs": [
    {
     "data": {
      "image/png": "[encoded data removed]",
      "text/plain": [
       "<Figure size 1000x600 with 1 Axes>"
      ]
     },
     "metadata": {},
     "output_type": "display_data"
    }
   ],
   "source": [
    "plot_class_balance(np.argmax(train_labels, axis=1), np.argmax(validation_labels, axis=1))"
   ]
  },
  {
   "cell_type": "markdown",
   "metadata": {},
   "source": [
    "## 2.2. Save the data on the directory\n",
    "(only need to do this once)"
   ]
  },
  {
   "cell_type": "code",
   "execution_count": 279,
   "metadata": {},
   "outputs": [],
   "source": [
    "import os\n",
    "# Save the data as .npz to prevent future download time\n",
    "\n",
    "# create the correct folder\n",
    "os.makedirs('data/train', exist_ok= True)\n",
    "os.makedirs('data/validation', exist_ok= True)\n",
    "os.makedirs('data/test', exist_ok= True)\n",
    "\n",
    "# save the data separately between train and test\n",
    "np.save('data/train/train_images.npy', train_images)\n",
    "np.save('data/train/train_labels.npy', train_labels)\n",
    "np.save('data/validation/validation_images.npy', validation_images)\n",
    "np.save('data/validation/validation_labels.npy', validation_labels)\n",
    "np.save('data/test/test_images.npy', test_images_source)\n",
    "np.save('data/test/test_labels.npy', test_labels_source)"
   ]
  },
  {
   "cell_type": "markdown",
   "metadata": {},
   "source": [
    "## 2.3 Load the data from the current directory\n",
    "Use this to save time when returning to the project after leaving"
   ]
  },
  {
   "cell_type": "code",
   "execution_count": 3,
   "metadata": {},
   "outputs": [],
   "source": [
    "# Load data\n",
    "\n",
    "train_images = np.load('data/train/train_images.npy')\n",
    "train_labels = np.load('data/train/train_labels.npy')\n",
    "validation_images = np.load('data/validation/validation_images.npy')\n",
    "validation_labels = np.load('data/validation/validation_labels.npy')\n",
    "test_images = np.load('data/test/test_images.npy')\n",
    "test_labels = np.load('data/test/test_labels.npy')"
   ]
  },
  {
   "cell_type": "code",
   "execution_count": 3,
   "metadata": {},
   "outputs": [
    {
     "data": {
      "image/png": "[encoded data removed]",
      "text/plain": [
       "<Figure size 640x480 with 1 Axes>"
      ]
     },
     "metadata": {},
     "output_type": "display_data"
    }
   ],
   "source": [
    "# Checking some of the instances in the training set\n",
    "\n",
    "plt.imshow(train_images[11], interpolation = 'nearest')\n",
    "plt.show()"
   ]
  },
  {
   "cell_type": "markdown",
   "metadata": {},
   "source": [
    "## 2.4 Preprocessing\n",
    "Data processing before model implementation"
   ]
  },
  {
   "cell_type": "code",
   "execution_count": 4,
   "metadata": {},
   "outputs": [],
   "source": [
    "# Converting the train and validation labels to a numpy array with 10 lines (10 classes) to train the 10 output PE form the MLP\n",
    "\n",
    "train_labels = pd.get_dummies(train_labels, dtype= int).to_numpy()\n",
    "validation_labels = pd.get_dummies(validation_labels, dtype= int).to_numpy()\n",
    "\n",
    "# Standardize the training, validation and test data\n",
    "\n",
    "def numpy_normalize(X):\n",
    "    X_norm = X / 255\n",
    "\n",
    "    return X_norm\n",
    "\n",
    "train_images_norm = np.array([numpy_normalize(image) for image in train_images])\n",
    "validation_images_norm = np.array([numpy_normalize(image) for image in validation_images])\n",
    "test_images_norm = np.array([numpy_normalize(image) for image in test_images])"
   ]
  },
  {
   "cell_type": "markdown",
   "metadata": {},
   "source": [
    "# 3. Model definition\n",
    "Section to define the models to use as python objects\n",
    "## 3.1 MLP with 1 single hidden layer"
   ]
  },
  {
   "cell_type": "code",
   "execution_count": 112,
   "metadata": {},
   "outputs": [],
   "source": [
    "# Class: MLP_1H (MLP with 1 hidden layer)\n",
    "class MLP_1H:\n",
    "\n",
    "  # Method: __init__\n",
    "  def __init__(self, input_size, hidden_size, output_size, learning_rate):\n",
    "      self.input_size = input_size\n",
    "      self.hidden_size = hidden_size\n",
    "      self.output_size = output_size\n",
    "\n",
    "      self.sigma = 0.1\n",
    "      self.miu = 0\n",
    "\n",
    "      # Let's initialise the weights (and biases) between the inputs and the hidden layer\n",
    "      self.weights_input_hidden = self.sigma * np.random.randn(self.input_size, self.hidden_size) + self.miu\n",
    "      self.bias_hidden = np.zeros((1, self.hidden_size))\n",
    "\n",
    "      # Let's initiliase the weights (and biases) between the hidden layer and the output layer\n",
    "      self.weights_hidden_output = self.sigma * np.random.randn(self.hidden_size, self.output_size) + self.miu\n",
    "      self.bias_output = np.zeros((1, self.output_size))\n",
    "\n",
    "      self.learning_rate = learning_rate\n",
    "      self.losses = list()\n",
    "      self.val_losses = list()\n",
    "\n",
    "      return\n",
    "\n",
    "\n",
    "  # Method: Sigmoid\n",
    "  def sigmoid(self, x):\n",
    "      return 1 / (1 + np.exp(-x))\n",
    "\n",
    "\n",
    "  # Method: Sigmoid derivative\n",
    "  def sigmoid_derivative(self, x):\n",
    "      return x * (1 - x)\n",
    "\n",
    "\n",
    "  # Method: Forward pass\n",
    "  def forward_pass(self, X):\n",
    "\n",
    "    # Hidden layer output\n",
    "    self.hidden_activation = np.dot(X, self.weights_input_hidden) + self.bias_hidden\n",
    "    self.hidden_output = self.sigmoid(self.hidden_activation)\n",
    "\n",
    "    # Output layer output\n",
    "    self.output_activation = np.dot(self.hidden_output, self.weights_hidden_output) + self.bias_output\n",
    "    self.predicted_output = self.sigmoid(self.output_activation)\n",
    "\n",
    "    return self.predicted_output\n",
    "\n",
    "\n",
    "  # Method: Backpropagation Algorithm\n",
    "  def backpropagation_algorithm(self, X, y):\n",
    "\n",
    "    # Step 1: Forward propagation\n",
    "    y_pred = self.forward_pass(X)\n",
    "\n",
    "    # Step 2: Compute the error\n",
    "    err = y - y_pred\n",
    "    # print(err)\n",
    "\n",
    "    # Step 3: Backpropagate the errors (i.e., compute the deltas and the errors of the output(s) and hidden layer(s))\n",
    "    # You will need to compute the derivative of the activation function of the neuron units (the activation function is a sigmoid)\n",
    "    # Output delta (depends on the output error, err)\n",
    "    output_delta = err * self.sigmoid_derivative(y_pred)\n",
    "    # print(output_delta)\n",
    "\n",
    "    # Then, we compute the errors related to the hidden layer, using the output delta (i.e., we know the magnitude of the error)\n",
    "    hidden_error = np.dot(output_delta, self.weights_hidden_output.T)\n",
    "\n",
    "    # We have to comput the delta to backpropagate to the weights of the input layer\n",
    "    hidden_delta = hidden_error * self.sigmoid_derivative(self.hidden_output)\n",
    "\n",
    "    # Step 4: Update the current weights using the notation weights_updated = weights - (derror_dweights * learning_rate)\n",
    "    # As soon as you have all the errors and deltas, you can updated the weights and biases of your model\n",
    "    # In this implementation, they use the delta rule\n",
    "    # (+info: https://towardsdatascience.com/a-visual-explanation-of-gradient-descent-methods-momentum-adagrad-rmsprop-adam-f898b102325c/)\n",
    "\n",
    "    # Update weights and biases of the weights between the hidden layer and the ouput\n",
    "    self.weights_hidden_output += np.dot(self.hidden_output.T, output_delta) * self.learning_rate\n",
    "    self.bias_output += np.sum(output_delta, axis=0, keepdims=True) * self.learning_rate\n",
    "\n",
    "    # Update weights and biases of the weights between the input layer and the hidden layer\n",
    "    self.weights_input_hidden += np.dot(X.T, hidden_delta) * self.learning_rate\n",
    "    self.bias_hidden += np.sum(hidden_delta, axis=0, keepdims=True) * self.learning_rate\n",
    "\n",
    "    return\n",
    "\n",
    "\n",
    "  # Method: Train the MLP\n",
    "  def train(self, X, y, epochs, X_val = None, y_val = None):\n",
    "    self.epochs = epochs\n",
    "    for epoch in range(epochs):\n",
    "        output = self.forward_pass(X)\n",
    "        self.backpropagation_algorithm(X, y)\n",
    "        loss = np.mean(np.square(y - output))\n",
    "        self.losses.append(loss)\n",
    "\n",
    "        output_val = self.forward_pass(X_val)\n",
    "        val_loss = np.mean(np.square(y_val - output_val))\n",
    "        self.val_losses.append(val_loss)\n",
    "        # print(f\"Epoch {epoch}, Loss:{loss}\")"
   ]
  },
  {
   "cell_type": "markdown",
   "metadata": {},
   "source": [
    "### 3.1.1 MLP with 1 hidden layer created with tensorflow"
   ]
  },
  {
   "cell_type": "code",
   "execution_count": 5,
   "metadata": {},
   "outputs": [],
   "source": [
    "def build_tf_model_1H(hidden_units, dropout, optimizer_name, lr):\n",
    "    tf_MLP_1H = tf.keras.models.Sequential([\n",
    "        tf.keras.Input(shape=(28, 28)),\n",
    "        tf.keras.layers.Flatten(),\n",
    "        tf.keras.layers.Dense(hidden_units, activation= 'relu'),\n",
    "        tf.keras.layers.Dropout(dropout),\n",
    "        tf.keras.layers.Dense(10, activation= 'softmax')\n",
    "    ])\n",
    "\n",
    "    loss_fn = tf.losses.categorical_crossentropy\n",
    "\n",
    "    if optimizer_name == 'sgd':\n",
    "        optimizer_algorithm = tf.optimizers.SGD(learning_rate=lr)\n",
    "    elif optimizer_name == 'adam':\n",
    "        optimizer_algorithm = tf.optimizers.Adam(learning_rate=lr)\n",
    "    else:\n",
    "        raise ValueError(\"Unsupported optimizer\")\n",
    "\n",
    "    tf_MLP_1H.compile(optimizer = optimizer_algorithm,\n",
    "                    loss = loss_fn,\n",
    "                    metrics = ['accuracy',\n",
    "                               tf.metrics.Precision(name='precision'),\n",
    "                               tf.metrics.Recall(name='recall')])\n",
    "    \n",
    "    return tf_MLP_1H"
   ]
  },
  {
   "cell_type": "markdown",
   "metadata": {},
   "source": [
    "## 3.2 MLP with 2 hidden layers"
   ]
  },
  {
   "cell_type": "code",
   "execution_count": 30,
   "metadata": {},
   "outputs": [],
   "source": [
    "# Class: MLP_2H (MLP with 2 hidden layer)\n",
    "class MLP_2H:\n",
    "\n",
    "  # Method: __init__\n",
    "  def __init__(self, input_size, hidden_size, hidden2_size, output_size, learning_rate):\n",
    "      self.input_size = input_size\n",
    "      self.hidden_size = hidden_size\n",
    "      self.hidden2_size = hidden2_size\n",
    "      self.output_size = output_size\n",
    "\n",
    "      self.sigma = 0.1\n",
    "      self.miu = 0\n",
    "      # Let's initialise the weights (and biases) between the inputs and the first hidden layer\n",
    "      self.weights_input_hidden = self.sigma * np.random.randn(self.input_size, self.hidden_size) + self.miu\n",
    "      self.bias_hidden = np.zeros((1, self.hidden_size))\n",
    "\n",
    "      # Let's initiliase the weights (and biases) between the first and second hidden layer\n",
    "      self.weights_hidden_output = self.sigma * np.random.randn(self.hidden_size, self.hidden2_size) + self.miu\n",
    "      self.bias_hidden2 = np.zeros((1, self.hidden2_size))\n",
    "\n",
    "      # Let's initiliase the weights (and biases) between the second hidden layer and the output layer\n",
    "      self.weights_hidden2_output = self.sigma * np.random.randn(self.hidden2_size, self.output_size) + self.miu\n",
    "      self.bias_output = np.zeros((1, self.output_size))\n",
    "\n",
    "      self.learning_rate = learning_rate\n",
    "      self.losses = list()\n",
    "      self.val_losses = list()\n",
    "\n",
    "      return\n",
    "\n",
    "\n",
    "  # Method: Sigmoid\n",
    "  def sigmoid(self, x):\n",
    "      return 1 / (1 + np.exp(-x))\n",
    "\n",
    "\n",
    "  # Method: Sigmoid derivative\n",
    "  def sigmoid_derivative(self, x):\n",
    "      return x * (1 - x)\n",
    "\n",
    "\n",
    "  # Method: Forward pass\n",
    "  def forward_pass(self, X):\n",
    "\n",
    "    # Hidden layer output\n",
    "    self.hidden_activation = np.dot(X, self.weights_input_hidden) + self.bias_hidden\n",
    "    self.hidden_output = self.sigmoid(self.hidden_activation)\n",
    "\n",
    "    # Second Hidden layer output\n",
    "    self.hidden2_activation = np.dot(self.hidden_output, self.weights_hidden_output) + self.bias_hidden2\n",
    "    self.hidden2_output = self.sigmoid(self.hidden2_activation)\n",
    "\n",
    "    # Output layer output\n",
    "    self.output_activation = np.dot(self.hidden2_output, self.weights_hidden2_output) + self.bias_output\n",
    "    self.predicted_output = self.sigmoid(self.output_activation)\n",
    "\n",
    "    return self.predicted_output\n",
    "\n",
    "\n",
    "  # Method: Backpropagation Algorithm\n",
    "  def backpropagation_algorithm(self, X, y):\n",
    "\n",
    "    # Step 1: Forward propagation\n",
    "    y_pred = self.forward_pass(X)\n",
    "\n",
    "    # Step 2: Compute the error\n",
    "    err = y - y_pred\n",
    "\n",
    "    # Step 3: Backpropagate the errors (i.e., compute the deltas and the errors of the output(s) and hidden layer(s))\n",
    "    # You will need to compute the derivative of the activation function of the neuron units (the activation function is a sigmoid)\n",
    "    # Output delta (depends on the output error, err)\n",
    "    output_delta = err * self.sigmoid_derivative(y_pred)\n",
    "    # print(output_delta)\n",
    "\n",
    "    # Then, we compute the errors related to the hidden layer, using the output delta (i.e., we know the magnitude of the error)\n",
    "    hidden2_error = np.dot(output_delta, self.weights_hidden2_output.T)\n",
    "\n",
    "    # We have to comput the delta to backpropagate to the weights of the input layer\n",
    "    hidden2_delta = hidden2_error * self.sigmoid_derivative(self.hidden2_output)\n",
    "\n",
    "    # Then, we compute the errors related to the hidden layer, using the output delta (i.e., we know the magnitude of the error)\n",
    "    hidden_error = np.dot(hidden2_delta, self.weights_hidden_output.T)\n",
    "\n",
    "    # We have to comput the delta to backpropagate to the weights of the input layer\n",
    "    hidden_delta = hidden_error * self.sigmoid_derivative(self.hidden_output)\n",
    "\n",
    "    # Step 4: Update the current weights using the notation weights_updated = weights - (derror_dweights * learning_rate)\n",
    "    # As soon as you have all the errors and deltas, you can updated the weights and biases of your model\n",
    "    # In this implementation, they use the delta rule\n",
    "    # (+info: https://towardsdatascience.com/a-visual-explanation-of-gradient-descent-methods-momentum-adagrad-rmsprop-adam-f898b102325c/)\n",
    "\n",
    "    # Update weights and biases of the weights between the second hidden layer and the ouput\n",
    "    \n",
    "    self.weights_hidden2_output += np.dot(self.hidden2_output.T, output_delta) * self.learning_rate\n",
    "    self.bias_output += np.sum(output_delta, axis=0, keepdims=True) * self.learning_rate\n",
    "\n",
    "    # Update weights and biases of the weights between the two hidden layers\n",
    "    \n",
    "    self.weights_hidden_output += np.dot(self.hidden_output.T, hidden2_delta) * self.learning_rate\n",
    "    self.bias_hidden2 += np.sum(hidden2_delta, axis=0, keepdims=True) * self.learning_rate\n",
    "\n",
    "    # Update weights and biases of the weights between the input layer and the hidden layer\n",
    "    self.weights_input_hidden += np.dot(X.T, hidden_delta) * self.learning_rate\n",
    "    self.bias_hidden += np.sum(hidden_delta, axis=0, keepdims=True) * self.learning_rate\n",
    "\n",
    "    return\n",
    "\n",
    "\n",
    "  # Method: Train the MLP\n",
    "  def train(self, X, y, epochs, X_val = None, y_val = None):\n",
    "    self.epochs = epochs\n",
    "    for epoch in range(epochs):\n",
    "        output = self.forward_pass(X)\n",
    "        self.backpropagation_algorithm(X, y)\n",
    "        loss = np.mean(np.square(y - output))\n",
    "        self.losses.append(loss)\n",
    "\n",
    "        output_val = self.forward_pass(X_val)\n",
    "        val_loss = np.mean(np.square(y_val - output_val))\n",
    "        self.val_losses.append(val_loss)\n",
    "        # print(f\"Epoch {epoch}, Loss:{loss}\")\n",
    "        \n",
    "\n",
    "    return"
   ]
  },
  {
   "cell_type": "markdown",
   "metadata": {},
   "source": [
    "## 3.3 MLP with 3 hidden layers"
   ]
  },
  {
   "cell_type": "code",
   "execution_count": 9,
   "metadata": {},
   "outputs": [],
   "source": [
    "def build_tf_model_3H(hidden_units1, hidden_units2, hidden_units3, dropout, optimizer_name, lr):\n",
    "    tf_MLP_3H = tf.keras.models.Sequential([\n",
    "        tf.keras.Input(shape=(28, 28)),\n",
    "        tf.keras.layers.Flatten(),\n",
    "        tf.keras.layers.Dense(hidden_units1, activation= 'relu'),\n",
    "        tf.keras.layers.BatchNormalization(),\n",
    "        tf.keras.layers.Dropout(dropout),\n",
    "        tf.keras.layers.Dense(hidden_units2, activation= 'relu'),\n",
    "        tf.keras.layers.BatchNormalization(),\n",
    "        tf.keras.layers.Dropout(dropout),\n",
    "        tf.keras.layers.Dense(hidden_units3, activation= 'relu'),\n",
    "        tf.keras.layers.BatchNormalization(),\n",
    "        tf.keras.layers.Dropout(dropout),\n",
    "        tf.keras.layers.Dense(10, activation= 'softmax')\n",
    "    ])\n",
    "\n",
    "    loss_fn = tf.losses.categorical_crossentropy\n",
    "\n",
    "    if optimizer_name == 'sgd':\n",
    "        optimizer_algorithm = tf.optimizers.SGD(learning_rate=lr)\n",
    "    elif optimizer_name == 'adam':\n",
    "        optimizer_algorithm = tf.optimizers.Adam(learning_rate=lr)\n",
    "    else:\n",
    "        raise ValueError(\"Unsupported optimizer\")\n",
    "\n",
    "    tf_MLP_3H.compile(optimizer = optimizer_algorithm,\n",
    "                    loss = loss_fn,\n",
    "                    metrics = ['accuracy',\n",
    "                               tf.metrics.Precision(name='precision'),\n",
    "                               tf.metrics.Recall(name='recall')])\n",
    "    \n",
    "    return tf_MLP_3H"
   ]
  },
  {
   "cell_type": "markdown",
   "metadata": {},
   "source": [
    "# 4. Running the models"
   ]
  },
  {
   "cell_type": "code",
   "execution_count": 30,
   "metadata": {},
   "outputs": [],
   "source": [
    "# Ploting accuracy and loss for both the training and validation sets\n",
    "\n",
    "def plot_training_results(model_history):\n",
    "    plt.figure(figsize=(12, 5))\n",
    "\n",
    "    # Plot accuracy\n",
    "    plt.subplot(1, 2, 1)\n",
    "    plt.plot(model_history.history['accuracy'], label='Train Accuracy', color='blue')\n",
    "    if 'val_accuracy' in model_history.history:\n",
    "        plt.plot(model_history.history['val_accuracy'], label='Val Accuracy', color='red')\n",
    "    plt.title('Accuracy over Epochs')\n",
    "    plt.xlabel('Epoch')\n",
    "    plt.ylabel('Accuracy')\n",
    "    plt.legend()\n",
    "    plt.grid(False)\n",
    "\n",
    "    # Plot loss\n",
    "    plt.subplot(1, 2, 2)\n",
    "    plt.plot(model_history.history['loss'], label='Train Loss', color='blue')\n",
    "    if 'val_loss' in model_history.history:\n",
    "        plt.plot(model_history.history['val_loss'], label='Val Loss', color='red')\n",
    "    plt.title('Loss over Epochs')\n",
    "    plt.xlabel('Epoch')\n",
    "    plt.ylabel('Loss')\n",
    "    plt.legend()\n",
    "    plt.grid(False)\n",
    "\n",
    "    plt.tight_layout()\n",
    "    plt.show()\n",
    "\n",
    "# Ploting accuracy and loss for both the training and validation sets\n",
    "\n",
    "def plot_finalTraining_results(model_history):\n",
    "    plt.figure(figsize=(12, 5))\n",
    "\n",
    "    # Plot accuracy\n",
    "    plt.subplot(2, 1, 2)\n",
    "    plt.plot(model_history.history['accuracy'], label='Train Accuracy', color='#9be034')\n",
    "    if 'val_accuracy' in model_history.history:\n",
    "        plt.plot(model_history.history['val_accuracy'], label='Test Accuracy', color='red')\n",
    "    plt.title('Accuracy')\n",
    "    #plt.xlabel('Epoch')\n",
    "    #plt.ylabel('Accuracy')\n",
    "    plt.legend()\n",
    "    plt.grid(False)\n",
    "\n",
    "    # Plot loss\n",
    "    plt.subplot(2, 1, 1)\n",
    "    plt.plot(model_history.history['loss'], label='Train Loss', color='#9be034')\n",
    "    if 'val_loss' in model_history.history:\n",
    "        plt.plot(model_history.history['val_loss'], label='Test Loss', color='red')\n",
    "    plt.title('Loss')\n",
    "    #plt.xlabel('Epoch')\n",
    "    #plt.ylabel('Loss')\n",
    "    plt.legend()\n",
    "    plt.grid(False)\n",
    "\n",
    "    plt.tight_layout()\n",
    "    plt.show()"
   ]
  },
  {
   "cell_type": "markdown",
   "metadata": {},
   "source": [
    "## 4.1 MLP with 1 hidden layer"
   ]
  },
  {
   "cell_type": "code",
   "execution_count": 259,
   "metadata": {},
   "outputs": [
    {
     "name": "stdout",
     "output_type": "stream",
     "text": [
      "Epoch 1/100\n",
      "\u001b[1m1500/1500\u001b[0m \u001b[32m━━━━━━━━━━━━━━━━━━━━\u001b[0m\u001b[37m\u001b[0m \u001b[1m2s\u001b[0m 1ms/step - accuracy: 0.3248 - loss: 2.0197 - val_accuracy: 0.6833 - val_loss: 1.2696\n",
      "Epoch 2/100\n",
      "\u001b[1m1500/1500\u001b[0m \u001b[32m━━━━━━━━━━━━━━━━━━━━\u001b[0m\u001b[37m\u001b[0m \u001b[1m1s\u001b[0m 843us/step - accuracy: 0.6795 - loss: 1.1959 - val_accuracy: 0.7463 - val_loss: 0.9460\n",
      "Epoch 3/100\n",
      "\u001b[1m1500/1500\u001b[0m \u001b[32m━━━━━━━━━━━━━━━━━━━━\u001b[0m\u001b[37m\u001b[0m \u001b[1m1s\u001b[0m 890us/step - accuracy: 0.7312 - loss: 0.9443 - val_accuracy: 0.7825 - val_loss: 0.8029\n",
      "Epoch 4/100\n",
      "\u001b[1m1500/1500\u001b[0m \u001b[32m━━━━━━━━━━━━━━━━━━━━\u001b[0m\u001b[37m\u001b[0m \u001b[1m1s\u001b[0m 859us/step - accuracy: 0.7715 - loss: 0.8074 - val_accuracy: 0.8046 - val_loss: 0.7192\n",
      "Epoch 5/100\n",
      "\u001b[1m1500/1500\u001b[0m \u001b[32m━━━━━━━━━━━━━━━━━━━━\u001b[0m\u001b[37m\u001b[0m \u001b[1m1s\u001b[0m 868us/step - accuracy: 0.7898 - loss: 0.7330 - val_accuracy: 0.8180 - val_loss: 0.6631\n",
      "Epoch 6/100\n",
      "\u001b[1m1500/1500\u001b[0m \u001b[32m━━━━━━━━━━━━━━━━━━━━\u001b[0m\u001b[37m\u001b[0m \u001b[1m1s\u001b[0m 908us/step - accuracy: 0.8040 - loss: 0.6833 - val_accuracy: 0.8273 - val_loss: 0.6221\n",
      "Epoch 7/100\n",
      "\u001b[1m1500/1500\u001b[0m \u001b[32m━━━━━━━━━━━━━━━━━━━━\u001b[0m\u001b[37m\u001b[0m \u001b[1m1s\u001b[0m 852us/step - accuracy: 0.8177 - loss: 0.6320 - val_accuracy: 0.8347 - val_loss: 0.5906\n",
      "Epoch 8/100\n",
      "\u001b[1m1500/1500\u001b[0m \u001b[32m━━━━━━━━━━━━━━━━━━━━\u001b[0m\u001b[37m\u001b[0m \u001b[1m1s\u001b[0m 906us/step - accuracy: 0.8225 - loss: 0.6121 - val_accuracy: 0.8433 - val_loss: 0.5643\n",
      "Epoch 9/100\n",
      "\u001b[1m1500/1500\u001b[0m \u001b[32m━━━━━━━━━━━━━━━━━━━━\u001b[0m\u001b[37m\u001b[0m \u001b[1m1s\u001b[0m 915us/step - accuracy: 0.8296 - loss: 0.5818 - val_accuracy: 0.8493 - val_loss: 0.5420\n",
      "Epoch 10/100\n",
      "\u001b[1m1500/1500\u001b[0m \u001b[32m━━━━━━━━━━━━━━━━━━━━\u001b[0m\u001b[37m\u001b[0m \u001b[1m1s\u001b[0m 915us/step - accuracy: 0.8386 - loss: 0.5606 - val_accuracy: 0.8538 - val_loss: 0.5229\n",
      "Epoch 11/100\n",
      "\u001b[1m1500/1500\u001b[0m \u001b[32m━━━━━━━━━━━━━━━━━━━━\u001b[0m\u001b[37m\u001b[0m \u001b[1m1s\u001b[0m 911us/step - accuracy: 0.8439 - loss: 0.5315 - val_accuracy: 0.8586 - val_loss: 0.5057\n",
      "Epoch 12/100\n",
      "\u001b[1m1500/1500\u001b[0m \u001b[32m━━━━━━━━━━━━━━━━━━━━\u001b[0m\u001b[37m\u001b[0m \u001b[1m1s\u001b[0m 887us/step - accuracy: 0.8516 - loss: 0.5160 - val_accuracy: 0.8627 - val_loss: 0.4903\n",
      "Epoch 13/100\n",
      "\u001b[1m1500/1500\u001b[0m \u001b[32m━━━━━━━━━━━━━━━━━━━━\u001b[0m\u001b[37m\u001b[0m \u001b[1m1s\u001b[0m 840us/step - accuracy: 0.8539 - loss: 0.5029 - val_accuracy: 0.8675 - val_loss: 0.4764\n",
      "Epoch 14/100\n",
      "\u001b[1m1500/1500\u001b[0m \u001b[32m━━━━━━━━━━━━━━━━━━━━\u001b[0m\u001b[37m\u001b[0m \u001b[1m1s\u001b[0m 859us/step - accuracy: 0.8599 - loss: 0.4807 - val_accuracy: 0.8700 - val_loss: 0.4641\n",
      "Epoch 15/100\n",
      "\u001b[1m1500/1500\u001b[0m \u001b[32m━━━━━━━━━━━━━━━━━━━━\u001b[0m\u001b[37m\u001b[0m \u001b[1m1s\u001b[0m 841us/step - accuracy: 0.8636 - loss: 0.4659 - val_accuracy: 0.8726 - val_loss: 0.4519\n",
      "Epoch 16/100\n",
      "\u001b[1m1500/1500\u001b[0m \u001b[32m━━━━━━━━━━━━━━━━━━━━\u001b[0m\u001b[37m\u001b[0m \u001b[1m1s\u001b[0m 885us/step - accuracy: 0.8664 - loss: 0.4583 - val_accuracy: 0.8749 - val_loss: 0.4414\n",
      "Epoch 17/100\n",
      "\u001b[1m1500/1500\u001b[0m \u001b[32m━━━━━━━━━━━━━━━━━━━━\u001b[0m\u001b[37m\u001b[0m \u001b[1m1s\u001b[0m 895us/step - accuracy: 0.8706 - loss: 0.4461 - val_accuracy: 0.8784 - val_loss: 0.4317\n",
      "Epoch 18/100\n",
      "\u001b[1m1500/1500\u001b[0m \u001b[32m━━━━━━━━━━━━━━━━━━━━\u001b[0m\u001b[37m\u001b[0m \u001b[1m1s\u001b[0m 959us/step - accuracy: 0.8746 - loss: 0.4324 - val_accuracy: 0.8809 - val_loss: 0.4214\n",
      "Epoch 19/100\n",
      "\u001b[1m1500/1500\u001b[0m \u001b[32m━━━━━━━━━━━━━━━━━━━━\u001b[0m\u001b[37m\u001b[0m \u001b[1m1s\u001b[0m 914us/step - accuracy: 0.8747 - loss: 0.4303 - val_accuracy: 0.8830 - val_loss: 0.4127\n",
      "Epoch 20/100\n",
      "\u001b[1m1500/1500\u001b[0m \u001b[32m━━━━━━━━━━━━━━━━━━━━\u001b[0m\u001b[37m\u001b[0m \u001b[1m1s\u001b[0m 877us/step - accuracy: 0.8759 - loss: 0.4215 - val_accuracy: 0.8856 - val_loss: 0.4043\n",
      "Epoch 21/100\n",
      "\u001b[1m1500/1500\u001b[0m \u001b[32m━━━━━━━━━━━━━━━━━━━━\u001b[0m\u001b[37m\u001b[0m \u001b[1m1s\u001b[0m 894us/step - accuracy: 0.8835 - loss: 0.4020 - val_accuracy: 0.8871 - val_loss: 0.3960\n",
      "Epoch 22/100\n",
      "\u001b[1m1500/1500\u001b[0m \u001b[32m━━━━━━━━━━━━━━━━━━━━\u001b[0m\u001b[37m\u001b[0m \u001b[1m1s\u001b[0m 881us/step - accuracy: 0.8831 - loss: 0.4054 - val_accuracy: 0.8894 - val_loss: 0.3885\n",
      "Epoch 23/100\n",
      "\u001b[1m1500/1500\u001b[0m \u001b[32m━━━━━━━━━━━━━━━━━━━━\u001b[0m\u001b[37m\u001b[0m \u001b[1m1s\u001b[0m 826us/step - accuracy: 0.8886 - loss: 0.3877 - val_accuracy: 0.8913 - val_loss: 0.3816\n",
      "Epoch 24/100\n",
      "\u001b[1m1500/1500\u001b[0m \u001b[32m━━━━━━━━━━━━━━━━━━━━\u001b[0m\u001b[37m\u001b[0m \u001b[1m1s\u001b[0m 941us/step - accuracy: 0.8906 - loss: 0.3807 - val_accuracy: 0.8929 - val_loss: 0.3748\n",
      "Epoch 25/100\n",
      "\u001b[1m1500/1500\u001b[0m \u001b[32m━━━━━━━━━━━━━━━━━━━━\u001b[0m\u001b[37m\u001b[0m \u001b[1m1s\u001b[0m 908us/step - accuracy: 0.8902 - loss: 0.3791 - val_accuracy: 0.8948 - val_loss: 0.3684\n",
      "Epoch 26/100\n",
      "\u001b[1m1500/1500\u001b[0m \u001b[32m━━━━━━━━━━━━━━━━━━━━\u001b[0m\u001b[37m\u001b[0m \u001b[1m1s\u001b[0m 900us/step - accuracy: 0.8940 - loss: 0.3631 - val_accuracy: 0.8973 - val_loss: 0.3623\n",
      "Epoch 27/100\n",
      "\u001b[1m1500/1500\u001b[0m \u001b[32m━━━━━━━━━━━━━━━━━━━━\u001b[0m\u001b[37m\u001b[0m \u001b[1m1s\u001b[0m 827us/step - accuracy: 0.8981 - loss: 0.3600 - val_accuracy: 0.8982 - val_loss: 0.3566\n",
      "Epoch 28/100\n",
      "\u001b[1m1500/1500\u001b[0m \u001b[32m━━━━━━━━━━━━━━━━━━━━\u001b[0m\u001b[37m\u001b[0m \u001b[1m1s\u001b[0m 881us/step - accuracy: 0.8984 - loss: 0.3513 - val_accuracy: 0.8999 - val_loss: 0.3509\n",
      "Epoch 29/100\n",
      "\u001b[1m1500/1500\u001b[0m \u001b[32m━━━━━━━━━━━━━━━━━━━━\u001b[0m\u001b[37m\u001b[0m \u001b[1m1s\u001b[0m 951us/step - accuracy: 0.9007 - loss: 0.3462 - val_accuracy: 0.9018 - val_loss: 0.3459\n",
      "Epoch 30/100\n",
      "\u001b[1m1500/1500\u001b[0m \u001b[32m━━━━━━━━━━━━━━━━━━━━\u001b[0m\u001b[37m\u001b[0m \u001b[1m1s\u001b[0m 871us/step - accuracy: 0.9014 - loss: 0.3427 - val_accuracy: 0.9032 - val_loss: 0.3405\n",
      "Epoch 31/100\n",
      "\u001b[1m1500/1500\u001b[0m \u001b[32m━━━━━━━━━━━━━━━━━━━━\u001b[0m\u001b[37m\u001b[0m \u001b[1m1s\u001b[0m 859us/step - accuracy: 0.9023 - loss: 0.3383 - val_accuracy: 0.9042 - val_loss: 0.3361\n",
      "Epoch 32/100\n",
      "\u001b[1m1500/1500\u001b[0m \u001b[32m━━━━━━━━━━━━━━━━━━━━\u001b[0m\u001b[37m\u001b[0m \u001b[1m1s\u001b[0m 818us/step - accuracy: 0.9049 - loss: 0.3350 - val_accuracy: 0.9066 - val_loss: 0.3309\n",
      "Epoch 33/100\n",
      "\u001b[1m1500/1500\u001b[0m \u001b[32m━━━━━━━━━━━━━━━━━━━━\u001b[0m\u001b[37m\u001b[0m \u001b[1m1s\u001b[0m 835us/step - accuracy: 0.9076 - loss: 0.3271 - val_accuracy: 0.9065 - val_loss: 0.3271\n",
      "Epoch 34/100\n",
      "\u001b[1m1500/1500\u001b[0m \u001b[32m━━━━━━━━━━━━━━━━━━━━\u001b[0m\u001b[37m\u001b[0m \u001b[1m1s\u001b[0m 900us/step - accuracy: 0.9083 - loss: 0.3207 - val_accuracy: 0.9084 - val_loss: 0.3222\n",
      "Epoch 35/100\n",
      "\u001b[1m1500/1500\u001b[0m \u001b[32m━━━━━━━━━━━━━━━━━━━━\u001b[0m\u001b[37m\u001b[0m \u001b[1m1s\u001b[0m 901us/step - accuracy: 0.9101 - loss: 0.3095 - val_accuracy: 0.9093 - val_loss: 0.3184\n",
      "Epoch 36/100\n",
      "\u001b[1m1500/1500\u001b[0m \u001b[32m━━━━━━━━━━━━━━━━━━━━\u001b[0m\u001b[37m\u001b[0m \u001b[1m1s\u001b[0m 855us/step - accuracy: 0.9088 - loss: 0.3150 - val_accuracy: 0.9112 - val_loss: 0.3147\n",
      "Epoch 37/100\n",
      "\u001b[1m1500/1500\u001b[0m \u001b[32m━━━━━━━━━━━━━━━━━━━━\u001b[0m\u001b[37m\u001b[0m \u001b[1m1s\u001b[0m 893us/step - accuracy: 0.9099 - loss: 0.3153 - val_accuracy: 0.9112 - val_loss: 0.3108\n",
      "Epoch 38/100\n",
      "\u001b[1m1500/1500\u001b[0m \u001b[32m━━━━━━━━━━━━━━━━━━━━\u001b[0m\u001b[37m\u001b[0m \u001b[1m1s\u001b[0m 872us/step - accuracy: 0.9110 - loss: 0.3075 - val_accuracy: 0.9133 - val_loss: 0.3071\n",
      "Epoch 39/100\n",
      "\u001b[1m1500/1500\u001b[0m \u001b[32m━━━━━━━━━━━━━━━━━━━━\u001b[0m\u001b[37m\u001b[0m \u001b[1m1s\u001b[0m 879us/step - accuracy: 0.9155 - loss: 0.2967 - val_accuracy: 0.9144 - val_loss: 0.3035\n",
      "Epoch 40/100\n",
      "\u001b[1m1500/1500\u001b[0m \u001b[32m━━━━━━━━━━━━━━━━━━━━\u001b[0m\u001b[37m\u001b[0m \u001b[1m1s\u001b[0m 904us/step - accuracy: 0.9149 - loss: 0.2968 - val_accuracy: 0.9153 - val_loss: 0.2998\n",
      "Epoch 41/100\n",
      "\u001b[1m1500/1500\u001b[0m \u001b[32m━━━━━━━━━━━━━━━━━━━━\u001b[0m\u001b[37m\u001b[0m \u001b[1m1s\u001b[0m 886us/step - accuracy: 0.9161 - loss: 0.2925 - val_accuracy: 0.9153 - val_loss: 0.2966\n",
      "Epoch 42/100\n",
      "\u001b[1m1500/1500\u001b[0m \u001b[32m━━━━━━━━━━━━━━━━━━━━\u001b[0m\u001b[37m\u001b[0m \u001b[1m1s\u001b[0m 885us/step - accuracy: 0.9166 - loss: 0.2909 - val_accuracy: 0.9157 - val_loss: 0.2939\n",
      "Epoch 43/100\n",
      "\u001b[1m1500/1500\u001b[0m \u001b[32m━━━━━━━━━━━━━━━━━━━━\u001b[0m\u001b[37m\u001b[0m \u001b[1m1s\u001b[0m 834us/step - accuracy: 0.9165 - loss: 0.2894 - val_accuracy: 0.9179 - val_loss: 0.2903\n",
      "Epoch 44/100\n",
      "\u001b[1m1500/1500\u001b[0m \u001b[32m━━━━━━━━━━━━━━━━━━━━\u001b[0m\u001b[37m\u001b[0m \u001b[1m1s\u001b[0m 894us/step - accuracy: 0.9172 - loss: 0.2888 - val_accuracy: 0.9187 - val_loss: 0.2873\n",
      "Epoch 45/100\n",
      "\u001b[1m1500/1500\u001b[0m \u001b[32m━━━━━━━━━━━━━━━━━━━━\u001b[0m\u001b[37m\u001b[0m \u001b[1m1s\u001b[0m 915us/step - accuracy: 0.9209 - loss: 0.2759 - val_accuracy: 0.9200 - val_loss: 0.2845\n",
      "Epoch 46/100\n",
      "\u001b[1m1500/1500\u001b[0m \u001b[32m━━━━━━━━━━━━━━━━━━━━\u001b[0m\u001b[37m\u001b[0m \u001b[1m1s\u001b[0m 863us/step - accuracy: 0.9233 - loss: 0.2684 - val_accuracy: 0.9199 - val_loss: 0.2817\n",
      "Epoch 47/100\n",
      "\u001b[1m1500/1500\u001b[0m \u001b[32m━━━━━━━━━━━━━━━━━━━━\u001b[0m\u001b[37m\u001b[0m \u001b[1m1s\u001b[0m 851us/step - accuracy: 0.9232 - loss: 0.2711 - val_accuracy: 0.9217 - val_loss: 0.2785\n",
      "Epoch 48/100\n",
      "\u001b[1m1500/1500\u001b[0m \u001b[32m━━━━━━━━━━━━━━━━━━━━\u001b[0m\u001b[37m\u001b[0m \u001b[1m1s\u001b[0m 876us/step - accuracy: 0.9231 - loss: 0.2710 - val_accuracy: 0.9221 - val_loss: 0.2760\n",
      "Epoch 49/100\n",
      "\u001b[1m1500/1500\u001b[0m \u001b[32m━━━━━━━━━━━━━━━━━━━━\u001b[0m\u001b[37m\u001b[0m \u001b[1m1s\u001b[0m 860us/step - accuracy: 0.9267 - loss: 0.2567 - val_accuracy: 0.9227 - val_loss: 0.2734\n",
      "Epoch 50/100\n",
      "\u001b[1m1500/1500\u001b[0m \u001b[32m━━━━━━━━━━━━━━━━━━━━\u001b[0m\u001b[37m\u001b[0m \u001b[1m1s\u001b[0m 857us/step - accuracy: 0.9248 - loss: 0.2615 - val_accuracy: 0.9247 - val_loss: 0.2707\n",
      "Epoch 51/100\n",
      "\u001b[1m1500/1500\u001b[0m \u001b[32m━━━━━━━━━━━━━━━━━━━━\u001b[0m\u001b[37m\u001b[0m \u001b[1m1s\u001b[0m 909us/step - accuracy: 0.9292 - loss: 0.2543 - val_accuracy: 0.9250 - val_loss: 0.2683\n",
      "Epoch 52/100\n",
      "\u001b[1m1500/1500\u001b[0m \u001b[32m━━━━━━━━━━━━━━━━━━━━\u001b[0m\u001b[37m\u001b[0m \u001b[1m1s\u001b[0m 880us/step - accuracy: 0.9266 - loss: 0.2563 - val_accuracy: 0.9259 - val_loss: 0.2660\n",
      "Epoch 53/100\n",
      "\u001b[1m1500/1500\u001b[0m \u001b[32m━━━━━━━━━━━━━━━━━━━━\u001b[0m\u001b[37m\u001b[0m \u001b[1m1s\u001b[0m 876us/step - accuracy: 0.9294 - loss: 0.2494 - val_accuracy: 0.9258 - val_loss: 0.2637\n",
      "Epoch 54/100\n",
      "\u001b[1m1500/1500\u001b[0m \u001b[32m━━━━━━━━━━━━━━━━━━━━\u001b[0m\u001b[37m\u001b[0m \u001b[1m2s\u001b[0m 1ms/step - accuracy: 0.9304 - loss: 0.2439 - val_accuracy: 0.9266 - val_loss: 0.2613\n",
      "Epoch 55/100\n",
      "\u001b[1m1500/1500\u001b[0m \u001b[32m━━━━━━━━━━━━━━━━━━━━\u001b[0m\u001b[37m\u001b[0m \u001b[1m1s\u001b[0m 907us/step - accuracy: 0.9297 - loss: 0.2475 - val_accuracy: 0.9277 - val_loss: 0.2592\n",
      "Epoch 56/100\n",
      "\u001b[1m1500/1500\u001b[0m \u001b[32m━━━━━━━━━━━━━━━━━━━━\u001b[0m\u001b[37m\u001b[0m \u001b[1m1s\u001b[0m 909us/step - accuracy: 0.9305 - loss: 0.2446 - val_accuracy: 0.9283 - val_loss: 0.2574\n",
      "Epoch 57/100\n",
      "\u001b[1m1500/1500\u001b[0m \u001b[32m━━━━━━━━━━━━━━━━━━━━\u001b[0m\u001b[37m\u001b[0m \u001b[1m1s\u001b[0m 906us/step - accuracy: 0.9272 - loss: 0.2476 - val_accuracy: 0.9287 - val_loss: 0.2549\n",
      "Epoch 58/100\n",
      "\u001b[1m1500/1500\u001b[0m \u001b[32m━━━━━━━━━━━━━━━━━━━━\u001b[0m\u001b[37m\u001b[0m \u001b[1m1s\u001b[0m 939us/step - accuracy: 0.9327 - loss: 0.2426 - val_accuracy: 0.9291 - val_loss: 0.2529\n",
      "Epoch 59/100\n",
      "\u001b[1m1500/1500\u001b[0m \u001b[32m━━━━━━━━━━━━━━━━━━━━\u001b[0m\u001b[37m\u001b[0m \u001b[1m1s\u001b[0m 932us/step - accuracy: 0.9329 - loss: 0.2389 - val_accuracy: 0.9301 - val_loss: 0.2510\n",
      "Epoch 60/100\n",
      "\u001b[1m1500/1500\u001b[0m \u001b[32m━━━━━━━━━━━━━━━━━━━━\u001b[0m\u001b[37m\u001b[0m \u001b[1m1s\u001b[0m 892us/step - accuracy: 0.9310 - loss: 0.2406 - val_accuracy: 0.9306 - val_loss: 0.2492\n",
      "Epoch 61/100\n",
      "\u001b[1m1500/1500\u001b[0m \u001b[32m━━━━━━━━━━━━━━━━━━━━\u001b[0m\u001b[37m\u001b[0m \u001b[1m1s\u001b[0m 924us/step - accuracy: 0.9355 - loss: 0.2307 - val_accuracy: 0.9316 - val_loss: 0.2472\n",
      "Epoch 62/100\n",
      "\u001b[1m1500/1500\u001b[0m \u001b[32m━━━━━━━━━━━━━━━━━━━━\u001b[0m\u001b[37m\u001b[0m \u001b[1m1s\u001b[0m 885us/step - accuracy: 0.9369 - loss: 0.2278 - val_accuracy: 0.9313 - val_loss: 0.2452\n",
      "Epoch 63/100\n",
      "\u001b[1m1500/1500\u001b[0m \u001b[32m━━━━━━━━━━━━━━━━━━━━\u001b[0m\u001b[37m\u001b[0m \u001b[1m1s\u001b[0m 932us/step - accuracy: 0.9348 - loss: 0.2320 - val_accuracy: 0.9329 - val_loss: 0.2432\n",
      "Epoch 64/100\n",
      "\u001b[1m1500/1500\u001b[0m \u001b[32m━━━━━━━━━━━━━━━━━━━━\u001b[0m\u001b[37m\u001b[0m \u001b[1m1s\u001b[0m 917us/step - accuracy: 0.9364 - loss: 0.2217 - val_accuracy: 0.9333 - val_loss: 0.2415\n",
      "Epoch 65/100\n",
      "\u001b[1m1500/1500\u001b[0m \u001b[32m━━━━━━━━━━━━━━━━━━━━\u001b[0m\u001b[37m\u001b[0m \u001b[1m1s\u001b[0m 914us/step - accuracy: 0.9366 - loss: 0.2229 - val_accuracy: 0.9337 - val_loss: 0.2398\n",
      "Epoch 66/100\n",
      "\u001b[1m1500/1500\u001b[0m \u001b[32m━━━━━━━━━━━━━━━━━━━━\u001b[0m\u001b[37m\u001b[0m \u001b[1m2s\u001b[0m 1ms/step - accuracy: 0.9391 - loss: 0.2200 - val_accuracy: 0.9342 - val_loss: 0.2383\n",
      "Epoch 67/100\n",
      "\u001b[1m1500/1500\u001b[0m \u001b[32m━━━━━━━━━━━━━━━━━━━━\u001b[0m\u001b[37m\u001b[0m \u001b[1m2s\u001b[0m 1ms/step - accuracy: 0.9400 - loss: 0.2139 - val_accuracy: 0.9353 - val_loss: 0.2365\n",
      "Epoch 68/100\n",
      "\u001b[1m1500/1500\u001b[0m \u001b[32m━━━━━━━━━━━━━━━━━━━━\u001b[0m\u001b[37m\u001b[0m \u001b[1m2s\u001b[0m 1ms/step - accuracy: 0.9389 - loss: 0.2181 - val_accuracy: 0.9354 - val_loss: 0.2346\n",
      "Epoch 69/100\n",
      "\u001b[1m1500/1500\u001b[0m \u001b[32m━━━━━━━━━━━━━━━━━━━━\u001b[0m\u001b[37m\u001b[0m \u001b[1m1s\u001b[0m 909us/step - accuracy: 0.9401 - loss: 0.2139 - val_accuracy: 0.9358 - val_loss: 0.2333\n",
      "Epoch 70/100\n",
      "\u001b[1m1500/1500\u001b[0m \u001b[32m━━━━━━━━━━━━━━━━━━━━\u001b[0m\u001b[37m\u001b[0m \u001b[1m1s\u001b[0m 892us/step - accuracy: 0.9400 - loss: 0.2141 - val_accuracy: 0.9361 - val_loss: 0.2316\n",
      "Epoch 71/100\n",
      "\u001b[1m1500/1500\u001b[0m \u001b[32m━━━━━━━━━━━━━━━━━━━━\u001b[0m\u001b[37m\u001b[0m \u001b[1m1s\u001b[0m 860us/step - accuracy: 0.9433 - loss: 0.2076 - val_accuracy: 0.9369 - val_loss: 0.2305\n",
      "Epoch 72/100\n",
      "\u001b[1m1500/1500\u001b[0m \u001b[32m━━━━━━━━━━━━━━━━━━━━\u001b[0m\u001b[37m\u001b[0m \u001b[1m1s\u001b[0m 906us/step - accuracy: 0.9420 - loss: 0.2117 - val_accuracy: 0.9373 - val_loss: 0.2285\n",
      "Epoch 73/100\n",
      "\u001b[1m1500/1500\u001b[0m \u001b[32m━━━━━━━━━━━━━━━━━━━━\u001b[0m\u001b[37m\u001b[0m \u001b[1m1s\u001b[0m 926us/step - accuracy: 0.9446 - loss: 0.1988 - val_accuracy: 0.9375 - val_loss: 0.2272\n",
      "Epoch 74/100\n",
      "\u001b[1m1500/1500\u001b[0m \u001b[32m━━━━━━━━━━━━━━━━━━━━\u001b[0m\u001b[37m\u001b[0m \u001b[1m1s\u001b[0m 847us/step - accuracy: 0.9442 - loss: 0.2036 - val_accuracy: 0.9381 - val_loss: 0.2261\n",
      "Epoch 75/100\n",
      "\u001b[1m1500/1500\u001b[0m \u001b[32m━━━━━━━━━━━━━━━━━━━━\u001b[0m\u001b[37m\u001b[0m \u001b[1m1s\u001b[0m 847us/step - accuracy: 0.9436 - loss: 0.2008 - val_accuracy: 0.9383 - val_loss: 0.2248\n",
      "Epoch 76/100\n",
      "\u001b[1m1500/1500\u001b[0m \u001b[32m━━━━━━━━━━━━━━━━━━━━\u001b[0m\u001b[37m\u001b[0m \u001b[1m1s\u001b[0m 891us/step - accuracy: 0.9449 - loss: 0.1958 - val_accuracy: 0.9385 - val_loss: 0.2234\n",
      "Epoch 77/100\n",
      "\u001b[1m1500/1500\u001b[0m \u001b[32m━━━━━━━━━━━━━━━━━━━━\u001b[0m\u001b[37m\u001b[0m \u001b[1m1s\u001b[0m 858us/step - accuracy: 0.9432 - loss: 0.1997 - val_accuracy: 0.9392 - val_loss: 0.2218\n",
      "Epoch 78/100\n",
      "\u001b[1m1500/1500\u001b[0m \u001b[32m━━━━━━━━━━━━━━━━━━━━\u001b[0m\u001b[37m\u001b[0m \u001b[1m1s\u001b[0m 880us/step - accuracy: 0.9467 - loss: 0.1907 - val_accuracy: 0.9395 - val_loss: 0.2205\n",
      "Epoch 79/100\n",
      "\u001b[1m1500/1500\u001b[0m \u001b[32m━━━━━━━━━━━━━━━━━━━━\u001b[0m\u001b[37m\u001b[0m \u001b[1m1s\u001b[0m 889us/step - accuracy: 0.9458 - loss: 0.1936 - val_accuracy: 0.9398 - val_loss: 0.2192\n",
      "Epoch 80/100\n",
      "\u001b[1m1500/1500\u001b[0m \u001b[32m━━━━━━━━━━━━━━━━━━━━\u001b[0m\u001b[37m\u001b[0m \u001b[1m1s\u001b[0m 855us/step - accuracy: 0.9467 - loss: 0.1948 - val_accuracy: 0.9397 - val_loss: 0.2179\n",
      "Epoch 81/100\n",
      "\u001b[1m1500/1500\u001b[0m \u001b[32m━━━━━━━━━━━━━━━━━━━━\u001b[0m\u001b[37m\u001b[0m \u001b[1m1s\u001b[0m 909us/step - accuracy: 0.9485 - loss: 0.1894 - val_accuracy: 0.9402 - val_loss: 0.2166\n",
      "Epoch 82/100\n",
      "\u001b[1m1500/1500\u001b[0m \u001b[32m━━━━━━━━━━━━━━━━━━━━\u001b[0m\u001b[37m\u001b[0m \u001b[1m1s\u001b[0m 965us/step - accuracy: 0.9462 - loss: 0.1927 - val_accuracy: 0.9403 - val_loss: 0.2153\n",
      "Epoch 83/100\n",
      "\u001b[1m1500/1500\u001b[0m \u001b[32m━━━━━━━━━━━━━━━━━━━━\u001b[0m\u001b[37m\u001b[0m \u001b[1m1s\u001b[0m 939us/step - accuracy: 0.9466 - loss: 0.1849 - val_accuracy: 0.9406 - val_loss: 0.2143\n",
      "Epoch 84/100\n",
      "\u001b[1m1500/1500\u001b[0m \u001b[32m━━━━━━━━━━━━━━━━━━━━\u001b[0m\u001b[37m\u001b[0m \u001b[1m1s\u001b[0m 891us/step - accuracy: 0.9500 - loss: 0.1855 - val_accuracy: 0.9403 - val_loss: 0.2129\n",
      "Epoch 85/100\n",
      "\u001b[1m1500/1500\u001b[0m \u001b[32m━━━━━━━━━━━━━━━━━━━━\u001b[0m\u001b[37m\u001b[0m \u001b[1m1s\u001b[0m 844us/step - accuracy: 0.9474 - loss: 0.1851 - val_accuracy: 0.9416 - val_loss: 0.2118\n",
      "Epoch 86/100\n",
      "\u001b[1m1500/1500\u001b[0m \u001b[32m━━━━━━━━━━━━━━━━━━━━\u001b[0m\u001b[37m\u001b[0m \u001b[1m1s\u001b[0m 853us/step - accuracy: 0.9492 - loss: 0.1809 - val_accuracy: 0.9416 - val_loss: 0.2108\n",
      "Epoch 87/100\n",
      "\u001b[1m1500/1500\u001b[0m \u001b[32m━━━━━━━━━━━━━━━━━━━━\u001b[0m\u001b[37m\u001b[0m \u001b[1m1s\u001b[0m 907us/step - accuracy: 0.9507 - loss: 0.1766 - val_accuracy: 0.9417 - val_loss: 0.2098\n",
      "Epoch 88/100\n",
      "\u001b[1m1500/1500\u001b[0m \u001b[32m━━━━━━━━━━━━━━━━━━━━\u001b[0m\u001b[37m\u001b[0m \u001b[1m1s\u001b[0m 924us/step - accuracy: 0.9518 - loss: 0.1748 - val_accuracy: 0.9419 - val_loss: 0.2088\n",
      "Epoch 89/100\n",
      "\u001b[1m1500/1500\u001b[0m \u001b[32m━━━━━━━━━━━━━━━━━━━━\u001b[0m\u001b[37m\u001b[0m \u001b[1m1s\u001b[0m 880us/step - accuracy: 0.9522 - loss: 0.1760 - val_accuracy: 0.9420 - val_loss: 0.2077\n",
      "Epoch 90/100\n",
      "\u001b[1m1500/1500\u001b[0m \u001b[32m━━━━━━━━━━━━━━━━━━━━\u001b[0m\u001b[37m\u001b[0m \u001b[1m1s\u001b[0m 869us/step - accuracy: 0.9510 - loss: 0.1737 - val_accuracy: 0.9425 - val_loss: 0.2067\n",
      "Epoch 91/100\n",
      "\u001b[1m1500/1500\u001b[0m \u001b[32m━━━━━━━━━━━━━━━━━━━━\u001b[0m\u001b[37m\u001b[0m \u001b[1m1s\u001b[0m 928us/step - accuracy: 0.9516 - loss: 0.1748 - val_accuracy: 0.9422 - val_loss: 0.2059\n",
      "Epoch 92/100\n",
      "\u001b[1m1500/1500\u001b[0m \u001b[32m━━━━━━━━━━━━━━━━━━━━\u001b[0m\u001b[37m\u001b[0m \u001b[1m1s\u001b[0m 882us/step - accuracy: 0.9513 - loss: 0.1764 - val_accuracy: 0.9423 - val_loss: 0.2046\n",
      "Epoch 93/100\n",
      "\u001b[1m1500/1500\u001b[0m \u001b[32m━━━━━━━━━━━━━━━━━━━━\u001b[0m\u001b[37m\u001b[0m \u001b[1m1s\u001b[0m 923us/step - accuracy: 0.9537 - loss: 0.1693 - val_accuracy: 0.9430 - val_loss: 0.2037\n",
      "Epoch 94/100\n",
      "\u001b[1m1500/1500\u001b[0m \u001b[32m━━━━━━━━━━━━━━━━━━━━\u001b[0m\u001b[37m\u001b[0m \u001b[1m2s\u001b[0m 1ms/step - accuracy: 0.9545 - loss: 0.1672 - val_accuracy: 0.9427 - val_loss: 0.2026\n",
      "Epoch 95/100\n",
      "\u001b[1m1500/1500\u001b[0m \u001b[32m━━━━━━━━━━━━━━━━━━━━\u001b[0m\u001b[37m\u001b[0m \u001b[1m2s\u001b[0m 1ms/step - accuracy: 0.9527 - loss: 0.1738 - val_accuracy: 0.9428 - val_loss: 0.2018\n",
      "Epoch 96/100\n",
      "\u001b[1m1500/1500\u001b[0m \u001b[32m━━━━━━━━━━━━━━━━━━━━\u001b[0m\u001b[37m\u001b[0m \u001b[1m2s\u001b[0m 1ms/step - accuracy: 0.9529 - loss: 0.1691 - val_accuracy: 0.9430 - val_loss: 0.2008\n",
      "Epoch 97/100\n",
      "\u001b[1m1500/1500\u001b[0m \u001b[32m━━━━━━━━━━━━━━━━━━━━\u001b[0m\u001b[37m\u001b[0m \u001b[1m2s\u001b[0m 998us/step - accuracy: 0.9540 - loss: 0.1651 - val_accuracy: 0.9433 - val_loss: 0.1998\n",
      "Epoch 98/100\n",
      "\u001b[1m1500/1500\u001b[0m \u001b[32m━━━━━━━━━━━━━━━━━━━━\u001b[0m\u001b[37m\u001b[0m \u001b[1m2s\u001b[0m 1ms/step - accuracy: 0.9544 - loss: 0.1647 - val_accuracy: 0.9439 - val_loss: 0.1990\n",
      "Epoch 99/100\n",
      "\u001b[1m1500/1500\u001b[0m \u001b[32m━━━━━━━━━━━━━━━━━━━━\u001b[0m\u001b[37m\u001b[0m \u001b[1m1s\u001b[0m 920us/step - accuracy: 0.9549 - loss: 0.1636 - val_accuracy: 0.9439 - val_loss: 0.1977\n",
      "Epoch 100/100\n",
      "\u001b[1m1500/1500\u001b[0m \u001b[32m━━━━━━━━━━━━━━━━━━━━\u001b[0m\u001b[37m\u001b[0m \u001b[1m2s\u001b[0m 1ms/step - accuracy: 0.9544 - loss: 0.1616 - val_accuracy: 0.9441 - val_loss: 0.1972\n"
     ]
    },
    {
     "data": {
      "image/png": "[encoded data removed]",
      "text/plain": [
       "<Figure size 1200x500 with 2 Axes>"
      ]
     },
     "metadata": {},
     "output_type": "display_data"
    }
   ],
   "source": [
    "history = tf_MLP_1H.fit(train_images_norm, train_labels, epochs= 100, validation_split=0.2)\n",
    "\n",
    "# Plot losses and accuracy\n",
    "plot_training_results(history)"
   ]
  },
  {
   "cell_type": "markdown",
   "metadata": {},
   "source": [
    "### 4.1.1 Conduct a grid search to fine tune some hyperparameters\n",
    "Test multiple combinations of learning rate, dropout, hidden units and optimizers"
   ]
  },
  {
   "cell_type": "code",
   "execution_count": 7,
   "metadata": {},
   "outputs": [
    {
     "name": "stderr",
     "output_type": "stream",
     "text": [
      "Grid Search Progress:   0%|          | 0/96 [00:00<?, ?it/s]"
     ]
    },
    {
     "name": "stdout",
     "output_type": "stream",
     "text": [
      "Testing: lr0.01_do0.0_hu12_sgd\n",
      "Epoch 31: early stopping\n",
      "Restoring model weights from the end of the best epoch: 26.\n"
     ]
    },
    {
     "name": "stderr",
     "output_type": "stream",
     "text": [
      "Grid Search Progress:   1%|          | 1/96 [00:42<1:07:16, 42.49s/it]"
     ]
    },
    {
     "name": "stdout",
     "output_type": "stream",
     "text": [
      "Testing: lr0.01_do0.0_hu12_adam\n",
      "Epoch 17: early stopping\n",
      "Restoring model weights from the end of the best epoch: 12.\n"
     ]
    },
    {
     "name": "stderr",
     "output_type": "stream",
     "text": [
      "Grid Search Progress:   2%|▏         | 2/96 [01:09<52:36, 33.58s/it]  "
     ]
    },
    {
     "name": "stdout",
     "output_type": "stream",
     "text": [
      "Testing: lr0.01_do0.0_hu64_sgd\n",
      "Epoch 55: early stopping\n",
      "Restoring model weights from the end of the best epoch: 50.\n"
     ]
    },
    {
     "name": "stderr",
     "output_type": "stream",
     "text": [
      "Grid Search Progress:   3%|▎         | 3/96 [02:34<1:28:08, 56.86s/it]"
     ]
    },
    {
     "name": "stdout",
     "output_type": "stream",
     "text": [
      "Testing: lr0.01_do0.0_hu64_adam\n",
      "Epoch 30: early stopping\n",
      "Restoring model weights from the end of the best epoch: 25.\n"
     ]
    },
    {
     "name": "stderr",
     "output_type": "stream",
     "text": [
      "Grid Search Progress:   4%|▍         | 4/96 [03:24<1:23:10, 54.24s/it]"
     ]
    },
    {
     "name": "stdout",
     "output_type": "stream",
     "text": [
      "Testing: lr0.01_do0.0_hu128_sgd\n",
      "Epoch 51: early stopping\n",
      "Restoring model weights from the end of the best epoch: 46.\n"
     ]
    },
    {
     "name": "stderr",
     "output_type": "stream",
     "text": [
      "Grid Search Progress:   5%|▌         | 5/96 [04:49<1:39:15, 65.44s/it]"
     ]
    },
    {
     "name": "stdout",
     "output_type": "stream",
     "text": [
      "Testing: lr0.01_do0.0_hu128_adam\n",
      "Epoch 25: early stopping\n",
      "Restoring model weights from the end of the best epoch: 20.\n"
     ]
    },
    {
     "name": "stderr",
     "output_type": "stream",
     "text": [
      "Grid Search Progress:   6%|▋         | 6/96 [05:47<1:33:57, 62.64s/it]"
     ]
    },
    {
     "name": "stdout",
     "output_type": "stream",
     "text": [
      "Testing: lr0.01_do0.0_hu256_sgd\n",
      "Epoch 47: early stopping\n",
      "Restoring model weights from the end of the best epoch: 42.\n"
     ]
    },
    {
     "name": "stderr",
     "output_type": "stream",
     "text": [
      "Grid Search Progress:   7%|▋         | 7/96 [07:25<1:50:00, 74.17s/it]"
     ]
    },
    {
     "name": "stdout",
     "output_type": "stream",
     "text": [
      "Testing: lr0.01_do0.0_hu256_adam\n",
      "Epoch 25: early stopping\n",
      "Restoring model weights from the end of the best epoch: 20.\n"
     ]
    },
    {
     "name": "stderr",
     "output_type": "stream",
     "text": [
      "Grid Search Progress:   8%|▊         | 8/96 [08:32<1:45:45, 72.11s/it]"
     ]
    },
    {
     "name": "stdout",
     "output_type": "stream",
     "text": [
      "Testing: lr0.01_do0.2_hu12_sgd\n",
      "Epoch 29: early stopping\n",
      "Restoring model weights from the end of the best epoch: 24.\n"
     ]
    },
    {
     "name": "stderr",
     "output_type": "stream",
     "text": [
      "Grid Search Progress:   9%|▉         | 9/96 [09:17<1:32:23, 63.72s/it]"
     ]
    },
    {
     "name": "stdout",
     "output_type": "stream",
     "text": [
      "Testing: lr0.01_do0.2_hu12_adam\n",
      "Epoch 9: early stopping\n",
      "Restoring model weights from the end of the best epoch: 4.\n"
     ]
    },
    {
     "name": "stderr",
     "output_type": "stream",
     "text": [
      "Grid Search Progress:  10%|█         | 10/96 [09:32<1:09:46, 48.68s/it]"
     ]
    },
    {
     "name": "stdout",
     "output_type": "stream",
     "text": [
      "Testing: lr0.01_do0.2_hu64_sgd\n",
      "Epoch 38: early stopping\n",
      "Restoring model weights from the end of the best epoch: 33.\n"
     ]
    },
    {
     "name": "stderr",
     "output_type": "stream",
     "text": [
      "Grid Search Progress:  11%|█▏        | 11/96 [10:33<1:14:09, 52.35s/it]"
     ]
    },
    {
     "name": "stdout",
     "output_type": "stream",
     "text": [
      "Testing: lr0.01_do0.2_hu64_adam\n",
      "Epoch 23: early stopping\n",
      "Restoring model weights from the end of the best epoch: 18.\n"
     ]
    },
    {
     "name": "stderr",
     "output_type": "stream",
     "text": [
      "Grid Search Progress:  12%|█▎        | 12/96 [11:14<1:08:20, 48.81s/it]"
     ]
    },
    {
     "name": "stdout",
     "output_type": "stream",
     "text": [
      "Testing: lr0.01_do0.2_hu128_sgd\n",
      "Epoch 46: early stopping\n",
      "Restoring model weights from the end of the best epoch: 41.\n"
     ]
    },
    {
     "name": "stderr",
     "output_type": "stream",
     "text": [
      "Grid Search Progress:  14%|█▎        | 13/96 [12:32<1:19:36, 57.55s/it]"
     ]
    },
    {
     "name": "stdout",
     "output_type": "stream",
     "text": [
      "Testing: lr0.01_do0.2_hu128_adam\n",
      "Epoch 21: early stopping\n",
      "Restoring model weights from the end of the best epoch: 16.\n"
     ]
    },
    {
     "name": "stderr",
     "output_type": "stream",
     "text": [
      "Grid Search Progress:  15%|█▍        | 14/96 [13:19<1:14:17, 54.36s/it]"
     ]
    },
    {
     "name": "stdout",
     "output_type": "stream",
     "text": [
      "Testing: lr0.01_do0.2_hu256_sgd\n",
      "Epoch 52: early stopping\n",
      "Restoring model weights from the end of the best epoch: 47.\n"
     ]
    },
    {
     "name": "stderr",
     "output_type": "stream",
     "text": [
      "Grid Search Progress:  16%|█▌        | 15/96 [15:09<1:36:23, 71.40s/it]"
     ]
    },
    {
     "name": "stdout",
     "output_type": "stream",
     "text": [
      "Testing: lr0.01_do0.2_hu256_adam\n",
      "Epoch 21: early stopping\n",
      "Restoring model weights from the end of the best epoch: 16.\n"
     ]
    },
    {
     "name": "stderr",
     "output_type": "stream",
     "text": [
      "Grid Search Progress:  17%|█▋        | 16/96 [16:05<1:29:02, 66.79s/it]"
     ]
    },
    {
     "name": "stdout",
     "output_type": "stream",
     "text": [
      "Testing: lr0.01_do0.5_hu12_sgd\n",
      "Epoch 25: early stopping\n",
      "Restoring model weights from the end of the best epoch: 20.\n"
     ]
    },
    {
     "name": "stderr",
     "output_type": "stream",
     "text": [
      "Grid Search Progress:  18%|█▊        | 17/96 [16:42<1:15:53, 57.64s/it]"
     ]
    },
    {
     "name": "stdout",
     "output_type": "stream",
     "text": [
      "Testing: lr0.01_do0.5_hu12_adam\n",
      "Epoch 23: early stopping\n",
      "Restoring model weights from the end of the best epoch: 18.\n"
     ]
    },
    {
     "name": "stderr",
     "output_type": "stream",
     "text": [
      "Grid Search Progress:  19%|█▉        | 18/96 [17:16<1:05:45, 50.59s/it]"
     ]
    },
    {
     "name": "stdout",
     "output_type": "stream",
     "text": [
      "Testing: lr0.01_do0.5_hu64_sgd\n",
      "Epoch 37: early stopping\n",
      "Restoring model weights from the end of the best epoch: 32.\n"
     ]
    },
    {
     "name": "stderr",
     "output_type": "stream",
     "text": [
      "Grid Search Progress:  20%|█▉        | 19/96 [18:11<1:06:45, 52.01s/it]"
     ]
    },
    {
     "name": "stdout",
     "output_type": "stream",
     "text": [
      "Testing: lr0.01_do0.5_hu64_adam\n",
      "Epoch 15: early stopping\n",
      "Restoring model weights from the end of the best epoch: 10.\n"
     ]
    },
    {
     "name": "stderr",
     "output_type": "stream",
     "text": [
      "Grid Search Progress:  21%|██        | 20/96 [18:37<55:55, 44.14s/it]  "
     ]
    },
    {
     "name": "stdout",
     "output_type": "stream",
     "text": [
      "Testing: lr0.01_do0.5_hu128_sgd\n",
      "Epoch 44: early stopping\n",
      "Restoring model weights from the end of the best epoch: 39.\n"
     ]
    },
    {
     "name": "stderr",
     "output_type": "stream",
     "text": [
      "Grid Search Progress:  22%|██▏       | 21/96 [19:52<1:06:33, 53.24s/it]"
     ]
    },
    {
     "name": "stdout",
     "output_type": "stream",
     "text": [
      "Testing: lr0.01_do0.5_hu128_adam\n",
      "Epoch 22: early stopping\n",
      "Restoring model weights from the end of the best epoch: 17.\n"
     ]
    },
    {
     "name": "stderr",
     "output_type": "stream",
     "text": [
      "Grid Search Progress:  23%|██▎       | 22/96 [20:41<1:04:23, 52.21s/it]"
     ]
    },
    {
     "name": "stdout",
     "output_type": "stream",
     "text": [
      "Testing: lr0.01_do0.5_hu256_sgd\n",
      "Epoch 43: early stopping\n",
      "Restoring model weights from the end of the best epoch: 38.\n"
     ]
    },
    {
     "name": "stderr",
     "output_type": "stream",
     "text": [
      "Grid Search Progress:  24%|██▍       | 23/96 [22:12<1:17:31, 63.72s/it]"
     ]
    },
    {
     "name": "stdout",
     "output_type": "stream",
     "text": [
      "Testing: lr0.01_do0.5_hu256_adam\n",
      "Epoch 23: early stopping\n",
      "Restoring model weights from the end of the best epoch: 18.\n"
     ]
    },
    {
     "name": "stderr",
     "output_type": "stream",
     "text": [
      "Grid Search Progress:  25%|██▌       | 24/96 [23:12<1:15:07, 62.61s/it]"
     ]
    },
    {
     "name": "stdout",
     "output_type": "stream",
     "text": [
      "Testing: lr0.001_do0.0_hu12_sgd\n",
      "Epoch 56: early stopping\n",
      "Restoring model weights from the end of the best epoch: 51.\n"
     ]
    },
    {
     "name": "stderr",
     "output_type": "stream",
     "text": [
      "Grid Search Progress:  26%|██▌       | 25/96 [24:31<1:19:58, 67.58s/it]"
     ]
    },
    {
     "name": "stdout",
     "output_type": "stream",
     "text": [
      "Testing: lr0.001_do0.0_hu12_adam\n",
      "Epoch 26: early stopping\n",
      "Restoring model weights from the end of the best epoch: 21.\n"
     ]
    },
    {
     "name": "stderr",
     "output_type": "stream",
     "text": [
      "Grid Search Progress:  27%|██▋       | 26/96 [25:09<1:08:34, 58.78s/it]"
     ]
    },
    {
     "name": "stdout",
     "output_type": "stream",
     "text": [
      "Testing: lr0.001_do0.0_hu64_sgd\n",
      "Epoch 76: early stopping\n",
      "Restoring model weights from the end of the best epoch: 71.\n"
     ]
    },
    {
     "name": "stderr",
     "output_type": "stream",
     "text": [
      "Grid Search Progress:  28%|██▊       | 27/96 [27:04<1:26:46, 75.45s/it]"
     ]
    },
    {
     "name": "stdout",
     "output_type": "stream",
     "text": [
      "Testing: lr0.001_do0.0_hu64_adam\n",
      "Epoch 28: early stopping\n",
      "Restoring model weights from the end of the best epoch: 23.\n"
     ]
    },
    {
     "name": "stderr",
     "output_type": "stream",
     "text": [
      "Grid Search Progress:  29%|██▉       | 28/96 [27:52<1:16:18, 67.33s/it]"
     ]
    },
    {
     "name": "stdout",
     "output_type": "stream",
     "text": [
      "Testing: lr0.001_do0.0_hu128_sgd\n",
      "Epoch 81: early stopping\n",
      "Restoring model weights from the end of the best epoch: 76.\n"
     ]
    },
    {
     "name": "stderr",
     "output_type": "stream",
     "text": [
      "Grid Search Progress:  30%|███       | 29/96 [30:07<1:37:41, 87.48s/it]"
     ]
    },
    {
     "name": "stdout",
     "output_type": "stream",
     "text": [
      "Testing: lr0.001_do0.0_hu128_adam\n",
      "Epoch 20: early stopping\n",
      "Restoring model weights from the end of the best epoch: 15.\n"
     ]
    },
    {
     "name": "stderr",
     "output_type": "stream",
     "text": [
      "Grid Search Progress:  31%|███▏      | 30/96 [30:52<1:22:26, 74.94s/it]"
     ]
    },
    {
     "name": "stdout",
     "output_type": "stream",
     "text": [
      "Testing: lr0.001_do0.0_hu256_sgd\n",
      "Epoch 82: early stopping\n",
      "Restoring model weights from the end of the best epoch: 77.\n"
     ]
    },
    {
     "name": "stderr",
     "output_type": "stream",
     "text": [
      "Grid Search Progress:  32%|███▏      | 31/96 [33:39<1:50:54, 102.37s/it]"
     ]
    },
    {
     "name": "stdout",
     "output_type": "stream",
     "text": [
      "Testing: lr0.001_do0.0_hu256_adam\n",
      "Epoch 15: early stopping\n",
      "Restoring model weights from the end of the best epoch: 10.\n"
     ]
    },
    {
     "name": "stderr",
     "output_type": "stream",
     "text": [
      "Grid Search Progress:  33%|███▎      | 32/96 [34:18<1:28:57, 83.40s/it] "
     ]
    },
    {
     "name": "stdout",
     "output_type": "stream",
     "text": [
      "Testing: lr0.001_do0.2_hu12_sgd\n",
      "Epoch 45: early stopping\n",
      "Restoring model weights from the end of the best epoch: 40.\n"
     ]
    },
    {
     "name": "stderr",
     "output_type": "stream",
     "text": [
      "Grid Search Progress:  34%|███▍      | 33/96 [35:22<1:21:26, 77.56s/it]"
     ]
    },
    {
     "name": "stdout",
     "output_type": "stream",
     "text": [
      "Testing: lr0.001_do0.2_hu12_adam\n",
      "Epoch 21: early stopping\n",
      "Restoring model weights from the end of the best epoch: 16.\n"
     ]
    },
    {
     "name": "stderr",
     "output_type": "stream",
     "text": [
      "Grid Search Progress:  35%|███▌      | 34/96 [35:53<1:05:42, 63.59s/it]"
     ]
    },
    {
     "name": "stdout",
     "output_type": "stream",
     "text": [
      "Testing: lr0.001_do0.2_hu64_sgd\n",
      "Epoch 70: early stopping\n",
      "Restoring model weights from the end of the best epoch: 65.\n"
     ]
    },
    {
     "name": "stderr",
     "output_type": "stream",
     "text": [
      "Grid Search Progress:  36%|███▋      | 35/96 [37:38<1:17:15, 75.99s/it]"
     ]
    },
    {
     "name": "stdout",
     "output_type": "stream",
     "text": [
      "Testing: lr0.001_do0.2_hu64_adam\n",
      "Epoch 29: early stopping\n",
      "Restoring model weights from the end of the best epoch: 24.\n"
     ]
    },
    {
     "name": "stderr",
     "output_type": "stream",
     "text": [
      "Grid Search Progress:  38%|███▊      | 36/96 [38:29<1:08:39, 68.66s/it]"
     ]
    },
    {
     "name": "stdout",
     "output_type": "stream",
     "text": [
      "Testing: lr0.001_do0.2_hu128_sgd\n",
      "Epoch 72: early stopping\n",
      "Restoring model weights from the end of the best epoch: 67.\n"
     ]
    },
    {
     "name": "stderr",
     "output_type": "stream",
     "text": [
      "Grid Search Progress:  39%|███▊      | 37/96 [40:31<1:23:14, 84.65s/it]"
     ]
    },
    {
     "name": "stdout",
     "output_type": "stream",
     "text": [
      "Testing: lr0.001_do0.2_hu128_adam\n",
      "Epoch 23: early stopping\n",
      "Restoring model weights from the end of the best epoch: 18.\n"
     ]
    },
    {
     "name": "stderr",
     "output_type": "stream",
     "text": [
      "Grid Search Progress:  40%|███▉      | 38/96 [41:23<1:12:26, 74.94s/it]"
     ]
    },
    {
     "name": "stdout",
     "output_type": "stream",
     "text": [
      "Testing: lr0.001_do0.2_hu256_sgd\n",
      "Epoch 69: early stopping\n",
      "Restoring model weights from the end of the best epoch: 64.\n"
     ]
    },
    {
     "name": "stderr",
     "output_type": "stream",
     "text": [
      "Grid Search Progress:  41%|████      | 39/96 [43:50<1:31:27, 96.27s/it]"
     ]
    },
    {
     "name": "stdout",
     "output_type": "stream",
     "text": [
      "Testing: lr0.001_do0.2_hu256_adam\n",
      "Epoch 24: early stopping\n",
      "Restoring model weights from the end of the best epoch: 19.\n"
     ]
    },
    {
     "name": "stderr",
     "output_type": "stream",
     "text": [
      "Grid Search Progress:  42%|████▏     | 40/96 [44:53<1:20:35, 86.35s/it]"
     ]
    },
    {
     "name": "stdout",
     "output_type": "stream",
     "text": [
      "Testing: lr0.001_do0.5_hu12_sgd\n",
      "Epoch 41: early stopping\n",
      "Restoring model weights from the end of the best epoch: 36.\n"
     ]
    },
    {
     "name": "stderr",
     "output_type": "stream",
     "text": [
      "Grid Search Progress:  43%|████▎     | 41/96 [45:51<1:11:31, 78.03s/it]"
     ]
    },
    {
     "name": "stdout",
     "output_type": "stream",
     "text": [
      "Testing: lr0.001_do0.5_hu12_adam\n",
      "Epoch 20: early stopping\n",
      "Restoring model weights from the end of the best epoch: 15.\n"
     ]
    },
    {
     "name": "stderr",
     "output_type": "stream",
     "text": [
      "Grid Search Progress:  44%|████▍     | 42/96 [46:21<57:12, 63.57s/it]  "
     ]
    },
    {
     "name": "stdout",
     "output_type": "stream",
     "text": [
      "Testing: lr0.001_do0.5_hu64_sgd\n",
      "Epoch 66: early stopping\n",
      "Restoring model weights from the end of the best epoch: 61.\n"
     ]
    },
    {
     "name": "stderr",
     "output_type": "stream",
     "text": [
      "Grid Search Progress:  45%|████▍     | 43/96 [48:00<1:05:26, 74.08s/it]"
     ]
    },
    {
     "name": "stdout",
     "output_type": "stream",
     "text": [
      "Testing: lr0.001_do0.5_hu64_adam\n",
      "Epoch 22: early stopping\n",
      "Restoring model weights from the end of the best epoch: 17.\n"
     ]
    },
    {
     "name": "stderr",
     "output_type": "stream",
     "text": [
      "Grid Search Progress:  46%|████▌     | 44/96 [48:39<55:08, 63.63s/it]  "
     ]
    },
    {
     "name": "stdout",
     "output_type": "stream",
     "text": [
      "Testing: lr0.001_do0.5_hu128_sgd\n",
      "Epoch 63: early stopping\n",
      "Restoring model weights from the end of the best epoch: 58.\n"
     ]
    },
    {
     "name": "stderr",
     "output_type": "stream",
     "text": [
      "Grid Search Progress:  47%|████▋     | 45/96 [50:25<1:04:51, 76.30s/it]"
     ]
    },
    {
     "name": "stdout",
     "output_type": "stream",
     "text": [
      "Testing: lr0.001_do0.5_hu128_adam\n",
      "Epoch 40: early stopping\n",
      "Restoring model weights from the end of the best epoch: 35.\n"
     ]
    },
    {
     "name": "stderr",
     "output_type": "stream",
     "text": [
      "Grid Search Progress:  48%|████▊     | 46/96 [51:54<1:06:49, 80.19s/it]"
     ]
    },
    {
     "name": "stdout",
     "output_type": "stream",
     "text": [
      "Testing: lr0.001_do0.5_hu256_sgd\n",
      "Epoch 72: early stopping\n",
      "Restoring model weights from the end of the best epoch: 67.\n"
     ]
    },
    {
     "name": "stderr",
     "output_type": "stream",
     "text": [
      "Grid Search Progress:  49%|████▉     | 47/96 [54:25<1:22:44, 101.31s/it]"
     ]
    },
    {
     "name": "stdout",
     "output_type": "stream",
     "text": [
      "Testing: lr0.001_do0.5_hu256_adam\n",
      "Epoch 31: early stopping\n",
      "Restoring model weights from the end of the best epoch: 26.\n"
     ]
    },
    {
     "name": "stderr",
     "output_type": "stream",
     "text": [
      "Grid Search Progress:  50%|█████     | 48/96 [55:45<1:16:04, 95.10s/it] "
     ]
    },
    {
     "name": "stdout",
     "output_type": "stream",
     "text": [
      "Testing: lr0.0001_do0.0_hu12_sgd\n",
      "Restoring model weights from the end of the best epoch: 98.\n"
     ]
    },
    {
     "name": "stderr",
     "output_type": "stream",
     "text": [
      "Grid Search Progress:  51%|█████     | 49/96 [58:07<1:25:29, 109.14s/it]"
     ]
    },
    {
     "name": "stdout",
     "output_type": "stream",
     "text": [
      "Testing: lr0.0001_do0.0_hu12_adam\n",
      "Epoch 38: early stopping\n",
      "Restoring model weights from the end of the best epoch: 33.\n"
     ]
    },
    {
     "name": "stderr",
     "output_type": "stream",
     "text": [
      "Grid Search Progress:  52%|█████▏    | 50/96 [59:03<1:11:26, 93.18s/it] "
     ]
    },
    {
     "name": "stdout",
     "output_type": "stream",
     "text": [
      "Testing: lr0.0001_do0.0_hu64_sgd\n",
      "Restoring model weights from the end of the best epoch: 97.\n"
     ]
    },
    {
     "name": "stderr",
     "output_type": "stream",
     "text": [
      "Grid Search Progress:  53%|█████▎    | 51/96 [1:01:33<1:22:43, 110.30s/it]"
     ]
    },
    {
     "name": "stdout",
     "output_type": "stream",
     "text": [
      "Testing: lr0.0001_do0.0_hu64_adam\n",
      "Epoch 58: early stopping\n",
      "Restoring model weights from the end of the best epoch: 53.\n"
     ]
    },
    {
     "name": "stderr",
     "output_type": "stream",
     "text": [
      "Grid Search Progress:  54%|█████▍    | 52/96 [1:03:09<1:17:44, 106.02s/it]"
     ]
    },
    {
     "name": "stdout",
     "output_type": "stream",
     "text": [
      "Testing: lr0.0001_do0.0_hu128_sgd\n",
      "Restoring model weights from the end of the best epoch: 96.\n"
     ]
    },
    {
     "name": "stderr",
     "output_type": "stream",
     "text": [
      "Grid Search Progress:  55%|█████▌    | 53/96 [1:05:55<1:28:47, 123.90s/it]"
     ]
    },
    {
     "name": "stdout",
     "output_type": "stream",
     "text": [
      "Testing: lr0.0001_do0.0_hu128_adam\n",
      "Epoch 46: early stopping\n",
      "Restoring model weights from the end of the best epoch: 41.\n"
     ]
    },
    {
     "name": "stderr",
     "output_type": "stream",
     "text": [
      "Grid Search Progress:  56%|█████▋    | 54/96 [1:07:37<1:22:04, 117.26s/it]"
     ]
    },
    {
     "name": "stdout",
     "output_type": "stream",
     "text": [
      "Testing: lr0.0001_do0.0_hu256_sgd\n",
      "Epoch 99: early stopping\n",
      "Restoring model weights from the end of the best epoch: 94.\n"
     ]
    },
    {
     "name": "stderr",
     "output_type": "stream",
     "text": [
      "Grid Search Progress:  57%|█████▋    | 55/96 [1:11:01<1:38:01, 143.46s/it]"
     ]
    },
    {
     "name": "stdout",
     "output_type": "stream",
     "text": [
      "Testing: lr0.0001_do0.0_hu256_adam\n",
      "Epoch 39: early stopping\n",
      "Restoring model weights from the end of the best epoch: 34.\n"
     ]
    },
    {
     "name": "stderr",
     "output_type": "stream",
     "text": [
      "Grid Search Progress:  58%|█████▊    | 56/96 [1:12:42<1:27:01, 130.53s/it]"
     ]
    },
    {
     "name": "stdout",
     "output_type": "stream",
     "text": [
      "Testing: lr0.0001_do0.2_hu12_sgd\n",
      "Restoring model weights from the end of the best epoch: 98.\n"
     ]
    },
    {
     "name": "stderr",
     "output_type": "stream",
     "text": [
      "Grid Search Progress:  59%|█████▉    | 57/96 [1:15:04<1:27:01, 133.88s/it]"
     ]
    },
    {
     "name": "stdout",
     "output_type": "stream",
     "text": [
      "Testing: lr0.0001_do0.2_hu12_adam\n",
      "Epoch 30: early stopping\n",
      "Restoring model weights from the end of the best epoch: 25.\n"
     ]
    },
    {
     "name": "stderr",
     "output_type": "stream",
     "text": [
      "Grid Search Progress:  60%|██████    | 58/96 [1:15:48<1:07:47, 107.04s/it]"
     ]
    },
    {
     "name": "stdout",
     "output_type": "stream",
     "text": [
      "Testing: lr0.0001_do0.2_hu64_sgd\n",
      "Restoring model weights from the end of the best epoch: 99.\n"
     ]
    },
    {
     "name": "stderr",
     "output_type": "stream",
     "text": [
      "Grid Search Progress:  61%|██████▏   | 59/96 [1:18:18<1:13:54, 119.85s/it]"
     ]
    },
    {
     "name": "stdout",
     "output_type": "stream",
     "text": [
      "Testing: lr0.0001_do0.2_hu64_adam\n",
      "Epoch 44: early stopping\n",
      "Restoring model weights from the end of the best epoch: 39.\n"
     ]
    },
    {
     "name": "stderr",
     "output_type": "stream",
     "text": [
      "Grid Search Progress:  62%|██████▎   | 60/96 [1:19:32<1:03:45, 106.27s/it]"
     ]
    },
    {
     "name": "stdout",
     "output_type": "stream",
     "text": [
      "Testing: lr0.0001_do0.2_hu128_sgd\n",
      "Restoring model weights from the end of the best epoch: 97.\n"
     ]
    },
    {
     "name": "stderr",
     "output_type": "stream",
     "text": [
      "Grid Search Progress:  64%|██████▎   | 61/96 [1:22:19<1:12:29, 124.27s/it]"
     ]
    },
    {
     "name": "stdout",
     "output_type": "stream",
     "text": [
      "Testing: lr0.0001_do0.2_hu128_adam\n",
      "Epoch 50: early stopping\n",
      "Restoring model weights from the end of the best epoch: 45.\n"
     ]
    },
    {
     "name": "stderr",
     "output_type": "stream",
     "text": [
      "Grid Search Progress:  65%|██████▍   | 62/96 [1:24:11<1:08:26, 120.78s/it]"
     ]
    },
    {
     "name": "stdout",
     "output_type": "stream",
     "text": [
      "Testing: lr0.0001_do0.2_hu256_sgd\n",
      "Epoch 95: early stopping\n",
      "Restoring model weights from the end of the best epoch: 90.\n"
     ]
    },
    {
     "name": "stderr",
     "output_type": "stream",
     "text": [
      "Grid Search Progress:  66%|██████▌   | 63/96 [1:27:34<1:20:00, 145.46s/it]"
     ]
    },
    {
     "name": "stdout",
     "output_type": "stream",
     "text": [
      "Testing: lr0.0001_do0.2_hu256_adam\n",
      "Epoch 37: early stopping\n",
      "Restoring model weights from the end of the best epoch: 32.\n"
     ]
    },
    {
     "name": "stderr",
     "output_type": "stream",
     "text": [
      "Grid Search Progress:  67%|██████▋   | 64/96 [1:29:12<1:09:58, 131.20s/it]"
     ]
    },
    {
     "name": "stdout",
     "output_type": "stream",
     "text": [
      "Testing: lr0.0001_do0.5_hu12_sgd\n",
      "Epoch 92: early stopping\n",
      "Restoring model weights from the end of the best epoch: 87.\n"
     ]
    },
    {
     "name": "stderr",
     "output_type": "stream",
     "text": [
      "Grid Search Progress:  68%|██████▊   | 65/96 [1:31:25<1:08:02, 131.70s/it]"
     ]
    },
    {
     "name": "stdout",
     "output_type": "stream",
     "text": [
      "Testing: lr0.0001_do0.5_hu12_adam\n",
      "Epoch 27: early stopping\n",
      "Restoring model weights from the end of the best epoch: 22.\n"
     ]
    },
    {
     "name": "stderr",
     "output_type": "stream",
     "text": [
      "Grid Search Progress:  69%|██████▉   | 66/96 [1:32:06<52:12, 104.43s/it]  "
     ]
    },
    {
     "name": "stdout",
     "output_type": "stream",
     "text": [
      "Testing: lr0.0001_do0.5_hu64_sgd\n",
      "Restoring model weights from the end of the best epoch: 98.\n"
     ]
    },
    {
     "name": "stderr",
     "output_type": "stream",
     "text": [
      "Grid Search Progress:  70%|██████▉   | 67/96 [1:34:37<57:12, 118.37s/it]"
     ]
    },
    {
     "name": "stdout",
     "output_type": "stream",
     "text": [
      "Testing: lr0.0001_do0.5_hu64_adam\n",
      "Epoch 37: early stopping\n",
      "Restoring model weights from the end of the best epoch: 32.\n"
     ]
    },
    {
     "name": "stderr",
     "output_type": "stream",
     "text": [
      "Grid Search Progress:  71%|███████   | 68/96 [1:35:40<47:30, 101.80s/it]"
     ]
    },
    {
     "name": "stdout",
     "output_type": "stream",
     "text": [
      "Testing: lr0.0001_do0.5_hu128_sgd\n",
      "Restoring model weights from the end of the best epoch: 97.\n"
     ]
    },
    {
     "name": "stderr",
     "output_type": "stream",
     "text": [
      "Grid Search Progress:  72%|███████▏  | 69/96 [1:38:25<54:20, 120.77s/it]"
     ]
    },
    {
     "name": "stdout",
     "output_type": "stream",
     "text": [
      "Testing: lr0.0001_do0.5_hu128_adam\n",
      "Epoch 43: early stopping\n",
      "Restoring model weights from the end of the best epoch: 38.\n"
     ]
    },
    {
     "name": "stderr",
     "output_type": "stream",
     "text": [
      "Grid Search Progress:  73%|███████▎  | 70/96 [1:40:01<49:07, 113.36s/it]"
     ]
    },
    {
     "name": "stdout",
     "output_type": "stream",
     "text": [
      "Testing: lr0.0001_do0.5_hu256_sgd\n",
      "Restoring model weights from the end of the best epoch: 98.\n"
     ]
    },
    {
     "name": "stderr",
     "output_type": "stream",
     "text": [
      "Grid Search Progress:  74%|███████▍  | 71/96 [1:43:27<58:52, 141.31s/it]"
     ]
    },
    {
     "name": "stdout",
     "output_type": "stream",
     "text": [
      "Testing: lr0.0001_do0.5_hu256_adam\n",
      "Epoch 50: early stopping\n",
      "Restoring model weights from the end of the best epoch: 45.\n"
     ]
    },
    {
     "name": "stderr",
     "output_type": "stream",
     "text": [
      "Grid Search Progress:  75%|███████▌  | 72/96 [1:45:36<54:57, 137.39s/it]"
     ]
    },
    {
     "name": "stdout",
     "output_type": "stream",
     "text": [
      "Testing: lr1e-05_do0.0_hu12_sgd\n",
      "Restoring model weights from the end of the best epoch: 98.\n"
     ]
    },
    {
     "name": "stderr",
     "output_type": "stream",
     "text": [
      "Grid Search Progress:  76%|███████▌  | 73/96 [1:47:59<53:19, 139.13s/it]"
     ]
    },
    {
     "name": "stdout",
     "output_type": "stream",
     "text": [
      "Testing: lr1e-05_do0.0_hu12_adam\n",
      "Epoch 69: early stopping\n",
      "Restoring model weights from the end of the best epoch: 64.\n"
     ]
    },
    {
     "name": "stderr",
     "output_type": "stream",
     "text": [
      "Grid Search Progress:  77%|███████▋  | 74/96 [1:49:43<47:07, 128.50s/it]"
     ]
    },
    {
     "name": "stdout",
     "output_type": "stream",
     "text": [
      "Testing: lr1e-05_do0.0_hu64_sgd\n",
      "Restoring model weights from the end of the best epoch: 100.\n"
     ]
    },
    {
     "name": "stderr",
     "output_type": "stream",
     "text": [
      "Grid Search Progress:  78%|███████▊  | 75/96 [1:52:15<47:30, 135.73s/it]"
     ]
    },
    {
     "name": "stdout",
     "output_type": "stream",
     "text": [
      "Testing: lr1e-05_do0.0_hu64_adam\n",
      "Epoch 79: early stopping\n",
      "Restoring model weights from the end of the best epoch: 74.\n"
     ]
    },
    {
     "name": "stderr",
     "output_type": "stream",
     "text": [
      "Grid Search Progress:  79%|███████▉  | 76/96 [1:54:30<45:10, 135.50s/it]"
     ]
    },
    {
     "name": "stdout",
     "output_type": "stream",
     "text": [
      "Testing: lr1e-05_do0.0_hu128_sgd\n",
      "Restoring model weights from the end of the best epoch: 99.\n"
     ]
    },
    {
     "name": "stderr",
     "output_type": "stream",
     "text": [
      "Grid Search Progress:  80%|████████  | 77/96 [1:57:20<46:08, 145.71s/it]"
     ]
    },
    {
     "name": "stdout",
     "output_type": "stream",
     "text": [
      "Testing: lr1e-05_do0.0_hu128_adam\n",
      "Epoch 76: early stopping\n",
      "Restoring model weights from the end of the best epoch: 71.\n"
     ]
    },
    {
     "name": "stderr",
     "output_type": "stream",
     "text": [
      "Grid Search Progress:  81%|████████▏ | 78/96 [2:00:29<47:38, 158.80s/it]"
     ]
    },
    {
     "name": "stdout",
     "output_type": "stream",
     "text": [
      "Testing: lr1e-05_do0.0_hu256_sgd\n",
      "Restoring model weights from the end of the best epoch: 99.\n"
     ]
    },
    {
     "name": "stderr",
     "output_type": "stream",
     "text": [
      "Grid Search Progress:  82%|████████▏ | 79/96 [2:04:06<49:57, 176.32s/it]"
     ]
    },
    {
     "name": "stdout",
     "output_type": "stream",
     "text": [
      "Testing: lr1e-05_do0.0_hu256_adam\n",
      "Epoch 73: early stopping\n",
      "Restoring model weights from the end of the best epoch: 68.\n"
     ]
    },
    {
     "name": "stderr",
     "output_type": "stream",
     "text": [
      "Grid Search Progress:  83%|████████▎ | 80/96 [2:07:43<50:14, 188.38s/it]"
     ]
    },
    {
     "name": "stdout",
     "output_type": "stream",
     "text": [
      "Testing: lr1e-05_do0.2_hu12_sgd\n",
      "Epoch 66: early stopping\n",
      "Restoring model weights from the end of the best epoch: 61.\n"
     ]
    },
    {
     "name": "stderr",
     "output_type": "stream",
     "text": [
      "Grid Search Progress:  84%|████████▍ | 81/96 [2:09:28<40:51, 163.45s/it]"
     ]
    },
    {
     "name": "stdout",
     "output_type": "stream",
     "text": [
      "Testing: lr1e-05_do0.2_hu12_adam\n",
      "Epoch 68: early stopping\n",
      "Restoring model weights from the end of the best epoch: 63.\n"
     ]
    },
    {
     "name": "stderr",
     "output_type": "stream",
     "text": [
      "Grid Search Progress:  85%|████████▌ | 82/96 [2:11:16<34:16, 146.92s/it]"
     ]
    },
    {
     "name": "stdout",
     "output_type": "stream",
     "text": [
      "Testing: lr1e-05_do0.2_hu64_sgd\n",
      "Restoring model weights from the end of the best epoch: 99.\n"
     ]
    },
    {
     "name": "stderr",
     "output_type": "stream",
     "text": [
      "Grid Search Progress:  86%|████████▋ | 83/96 [2:14:01<32:59, 152.27s/it]"
     ]
    },
    {
     "name": "stdout",
     "output_type": "stream",
     "text": [
      "Testing: lr1e-05_do0.2_hu64_adam\n",
      "Epoch 74: early stopping\n",
      "Restoring model weights from the end of the best epoch: 69.\n"
     ]
    },
    {
     "name": "stderr",
     "output_type": "stream",
     "text": [
      "Grid Search Progress:  88%|████████▊ | 84/96 [2:16:21<29:42, 148.51s/it]"
     ]
    },
    {
     "name": "stdout",
     "output_type": "stream",
     "text": [
      "Testing: lr1e-05_do0.2_hu128_sgd\n",
      "Restoring model weights from the end of the best epoch: 100.\n"
     ]
    },
    {
     "name": "stderr",
     "output_type": "stream",
     "text": [
      "Grid Search Progress:  89%|████████▊ | 85/96 [2:19:26<29:14, 159.46s/it]"
     ]
    },
    {
     "name": "stdout",
     "output_type": "stream",
     "text": [
      "Testing: lr1e-05_do0.2_hu128_adam\n",
      "Epoch 83: early stopping\n",
      "Restoring model weights from the end of the best epoch: 78.\n"
     ]
    },
    {
     "name": "stderr",
     "output_type": "stream",
     "text": [
      "Grid Search Progress:  90%|████████▉ | 86/96 [2:22:59<29:15, 175.59s/it]"
     ]
    },
    {
     "name": "stdout",
     "output_type": "stream",
     "text": [
      "Testing: lr1e-05_do0.2_hu256_sgd\n",
      "Restoring model weights from the end of the best epoch: 100.\n"
     ]
    },
    {
     "name": "stderr",
     "output_type": "stream",
     "text": [
      "Grid Search Progress:  91%|█████████ | 87/96 [2:26:57<29:07, 194.19s/it]"
     ]
    },
    {
     "name": "stdout",
     "output_type": "stream",
     "text": [
      "Testing: lr1e-05_do0.2_hu256_adam\n",
      "Epoch 71: early stopping\n",
      "Restoring model weights from the end of the best epoch: 66.\n"
     ]
    },
    {
     "name": "stderr",
     "output_type": "stream",
     "text": [
      "Grid Search Progress:  92%|█████████▏| 88/96 [2:30:36<26:54, 201.78s/it]"
     ]
    },
    {
     "name": "stdout",
     "output_type": "stream",
     "text": [
      "Testing: lr1e-05_do0.5_hu12_sgd\n",
      "Epoch 91: early stopping\n",
      "Restoring model weights from the end of the best epoch: 86.\n"
     ]
    },
    {
     "name": "stderr",
     "output_type": "stream",
     "text": [
      "Grid Search Progress:  93%|█████████▎| 89/96 [2:32:43<20:54, 179.17s/it]"
     ]
    },
    {
     "name": "stdout",
     "output_type": "stream",
     "text": [
      "Testing: lr1e-05_do0.5_hu12_adam\n",
      "Epoch 55: early stopping\n",
      "Restoring model weights from the end of the best epoch: 50.\n"
     ]
    },
    {
     "name": "stderr",
     "output_type": "stream",
     "text": [
      "Grid Search Progress:  94%|█████████▍| 90/96 [2:33:57<14:46, 147.68s/it]"
     ]
    },
    {
     "name": "stdout",
     "output_type": "stream",
     "text": [
      "Testing: lr1e-05_do0.5_hu64_sgd\n",
      "Restoring model weights from the end of the best epoch: 100.\n"
     ]
    },
    {
     "name": "stderr",
     "output_type": "stream",
     "text": [
      "Grid Search Progress:  95%|█████████▍| 91/96 [2:36:32<12:29, 149.85s/it]"
     ]
    },
    {
     "name": "stdout",
     "output_type": "stream",
     "text": [
      "Testing: lr1e-05_do0.5_hu64_adam\n",
      "Epoch 66: early stopping\n",
      "Restoring model weights from the end of the best epoch: 61.\n"
     ]
    },
    {
     "name": "stderr",
     "output_type": "stream",
     "text": [
      "Grid Search Progress:  96%|█████████▌| 92/96 [2:38:27<09:17, 139.34s/it]"
     ]
    },
    {
     "name": "stdout",
     "output_type": "stream",
     "text": [
      "Testing: lr1e-05_do0.5_hu128_sgd\n",
      "Restoring model weights from the end of the best epoch: 100.\n"
     ]
    },
    {
     "name": "stderr",
     "output_type": "stream",
     "text": [
      "Grid Search Progress:  97%|█████████▋| 93/96 [2:41:17<07:26, 148.74s/it]"
     ]
    },
    {
     "name": "stdout",
     "output_type": "stream",
     "text": [
      "Testing: lr1e-05_do0.5_hu128_adam\n",
      "Epoch 60: early stopping\n",
      "Restoring model weights from the end of the best epoch: 55.\n"
     ]
    },
    {
     "name": "stderr",
     "output_type": "stream",
     "text": [
      "Grid Search Progress:  98%|█████████▊| 94/96 [2:43:20<04:42, 141.09s/it]"
     ]
    },
    {
     "name": "stdout",
     "output_type": "stream",
     "text": [
      "Testing: lr1e-05_do0.5_hu256_sgd\n",
      "Restoring model weights from the end of the best epoch: 100.\n"
     ]
    },
    {
     "name": "stderr",
     "output_type": "stream",
     "text": [
      "Grid Search Progress:  99%|█████████▉| 95/96 [2:46:39<02:38, 158.22s/it]"
     ]
    },
    {
     "name": "stdout",
     "output_type": "stream",
     "text": [
      "Testing: lr1e-05_do0.5_hu256_adam\n",
      "Epoch 68: early stopping\n",
      "Restoring model weights from the end of the best epoch: 63.\n"
     ]
    },
    {
     "name": "stderr",
     "output_type": "stream",
     "text": [
      "Grid Search Progress: 100%|██████████| 96/96 [2:49:29<00:00, 105.94s/it]"
     ]
    },
    {
     "name": "stdout",
     "output_type": "stream",
     "text": [
      "Total grid search time: 169.50 minutes\n",
      "{'learning_rate': 0.001, 'dropout': 0.2, 'hidden_neurons': 256, 'optimizer': 'adam', 'val_accuracy': 0.9623333215713501, 'val_precision': 0.9652115702629089, 'val_recall': 0.9618333578109741, 'model_path': 'mlp1H_saved_models_run2/model_lr0.001_do0.2_hu256_adam.keras'}\n",
      "{'learning_rate': 0.0001, 'dropout': 0.2, 'hidden_neurons': 256, 'optimizer': 'adam', 'val_accuracy': 0.9599999785423279, 'val_precision': 0.9668410420417786, 'val_recall': 0.9549166560173035, 'model_path': 'mlp1H_saved_models_run2/model_lr0.0001_do0.2_hu256_adam.keras'}\n",
      "{'learning_rate': 0.0001, 'dropout': 0.5, 'hidden_neurons': 256, 'optimizer': 'adam', 'val_accuracy': 0.9599166512489319, 'val_precision': 0.9678456783294678, 'val_recall': 0.953166663646698, 'model_path': 'mlp1H_saved_models_run2/model_lr0.0001_do0.5_hu256_adam.keras'}\n",
      "{'learning_rate': 0.001, 'dropout': 0.5, 'hidden_neurons': 256, 'optimizer': 'adam', 'val_accuracy': 0.9597499966621399, 'val_precision': 0.9637887477874756, 'val_recall': 0.9581666588783264, 'model_path': 'mlp1H_saved_models_run2/model_lr0.001_do0.5_hu256_adam.keras'}\n",
      "{'learning_rate': 0.001, 'dropout': 0.0, 'hidden_neurons': 256, 'optimizer': 'adam', 'val_accuracy': 0.9584166407585144, 'val_precision': 0.9598930478096008, 'val_recall': 0.9573333263397217, 'model_path': 'mlp1H_saved_models_run2/model_lr0.001_do0.0_hu256_adam.keras'}\n"
     ]
    },
    {
     "name": "stderr",
     "output_type": "stream",
     "text": [
      "\n"
     ]
    }
   ],
   "source": [
    "learning_rates = [1e-2, 1e-3, 1e-4, 1e-5]\n",
    "dropouts = [0.0, 0.2, 0.5]\n",
    "hidden_neurons = [12, 64, 128, 256]\n",
    "optimizers_list = ['sgd', 'adam']\n",
    "\n",
    "# Grid search\n",
    "results = []\n",
    "\n",
    "# Ensure the file to save the models exists\n",
    "os.makedirs(\"mlp1H_saved_models_run2\", exist_ok=True)\n",
    "\n",
    "# Create the full grid of hyperparameters\n",
    "grid = list(itertools.product(learning_rates, dropouts, hidden_neurons, optimizers_list))\n",
    "\n",
    "start_time = time.time()\n",
    "\n",
    "for lr, dr, hu, opt_name in tqdm(grid, desc=\"Grid Search Progress\"):\n",
    "    config_name = f\"lr{lr}_do{dr}_hu{hu}_{opt_name}\"\n",
    "    model_path = f\"mlp1H_saved_models_run2/model_{config_name}.keras\"\n",
    "\n",
    "    print(f\"Testing: {config_name}\")\n",
    "\n",
    "    model = build_tf_model_1H(hidden_units=hu, dropout=dr, optimizer_name=opt_name, lr=lr)\n",
    "\n",
    "    # Save best model on validation accuracy\n",
    "    checkpoint = ModelCheckpoint(\n",
    "        filepath=model_path,\n",
    "        monitor='val_accuracy',\n",
    "        save_best_only=True,\n",
    "        save_weights_only=False,\n",
    "        mode='max',\n",
    "        verbose=0\n",
    "    )\n",
    "\n",
    "    early_stop = EarlyStopping(\n",
    "        monitor='loss',\n",
    "        min_delta = 0.01,    \n",
    "        patience=5,            # number of epochs with no improvement after which training will be stopped\n",
    "        restore_best_weights=True,\n",
    "        mode = 'min',\n",
    "        verbose = 1  # restores model weights from the epoch with the best value of the monitored quantity\n",
    "    )\n",
    "\n",
    "    history = model.fit(train_images_norm, train_labels, epochs=100, validation_data=(validation_images_norm, validation_labels), callbacks = [checkpoint, early_stop], verbose=0)\n",
    "    \n",
    "    # Evaluate the saved best model\n",
    "    try:\n",
    "        best_model = tf.keras.models.load_model(model_path)\n",
    "        val_loss, val_acc, val_precision, val_recall = best_model.evaluate(validation_images_norm, validation_labels, verbose=0)\n",
    "\n",
    "        results.append({\n",
    "            'learning_rate': lr,\n",
    "            'dropout': dr,\n",
    "            'hidden_neurons': hu,\n",
    "            'optimizer': opt_name,\n",
    "            'val_accuracy': val_acc,\n",
    "            'val_precision': val_precision,\n",
    "            'val_recall': val_recall,\n",
    "            'model_path': model_path\n",
    "        })\n",
    "    except Exception as e:\n",
    "        print(f\"Failed to evaluate model {config_name}: {e}\")   \n",
    "\n",
    "print(f\"Total grid search time: {(time.time() - start_time)/60:.2f} minutes\")\n",
    "\n",
    "# Save the results of the grid search\n",
    "with open(\"mlp1H_grid_search_results_run2.json\", \"w\") as f:\n",
    "    json.dump(results, f, indent=4)\n",
    "\n",
    "# Sort results by best validation accuracy\n",
    "results = sorted(results, key=lambda x: x['val_accuracy'], reverse=True)\n",
    "\n",
    "# Print top 5 configs\n",
    "for r in results[:5]:\n",
    "    print(r)"
   ]
  },
  {
   "cell_type": "code",
   "execution_count": 8,
   "metadata": {},
   "outputs": [
    {
     "name": "stdout",
     "output_type": "stream",
     "text": [
      "Total grid search time: 169.51 minutes\n"
     ]
    }
   ],
   "source": [
    "end_time = time.time()\n",
    "gridSearch_MLP_1H_time = end_time - start_time\n",
    "print(f\"Total grid search time: {(time.time() - start_time)/60:.2f} minutes\")"
   ]
  },
  {
   "cell_type": "markdown",
   "metadata": {},
   "source": [
    "### 4.1.2. Retrieve best run"
   ]
  },
  {
   "cell_type": "code",
   "execution_count": 12,
   "metadata": {},
   "outputs": [
    {
     "data": {
      "text/html": [
       "<div>\n",
       "<style scoped>\n",
       "    .dataframe tbody tr th:only-of-type {\n",
       "        vertical-align: middle;\n",
       "    }\n",
       "\n",
       "    .dataframe tbody tr th {\n",
       "        vertical-align: top;\n",
       "    }\n",
       "\n",
       "    .dataframe thead th {\n",
       "        text-align: right;\n",
       "    }\n",
       "</style>\n",
       "<table border=\"1\" class=\"dataframe\">\n",
       "  <thead>\n",
       "    <tr style=\"text-align: right;\">\n",
       "      <th></th>\n",
       "      <th>learning_rate</th>\n",
       "      <th>dropout</th>\n",
       "      <th>hidden_neurons</th>\n",
       "      <th>optimizer</th>\n",
       "      <th>val_accuracy</th>\n",
       "      <th>val_precision</th>\n",
       "      <th>val_recall</th>\n",
       "      <th>model_path</th>\n",
       "    </tr>\n",
       "  </thead>\n",
       "  <tbody>\n",
       "    <tr>\n",
       "      <th>0</th>\n",
       "      <td>0.01</td>\n",
       "      <td>0.0</td>\n",
       "      <td>12</td>\n",
       "      <td>sgd</td>\n",
       "      <td>0.868750</td>\n",
       "      <td>0.899377</td>\n",
       "      <td>0.841667</td>\n",
       "      <td>mlp1H_mlp1H_saved_models_run2/model_lr0.01_do0...</td>\n",
       "    </tr>\n",
       "    <tr>\n",
       "      <th>1</th>\n",
       "      <td>0.01</td>\n",
       "      <td>0.0</td>\n",
       "      <td>12</td>\n",
       "      <td>adam</td>\n",
       "      <td>0.855167</td>\n",
       "      <td>0.884840</td>\n",
       "      <td>0.831750</td>\n",
       "      <td>mlp1H_mlp1H_saved_models_run2/model_lr0.01_do0...</td>\n",
       "    </tr>\n",
       "    <tr>\n",
       "      <th>2</th>\n",
       "      <td>0.01</td>\n",
       "      <td>0.0</td>\n",
       "      <td>64</td>\n",
       "      <td>sgd</td>\n",
       "      <td>0.940000</td>\n",
       "      <td>0.950574</td>\n",
       "      <td>0.931167</td>\n",
       "      <td>mlp1H_mlp1H_saved_models_run2/model_lr0.01_do0...</td>\n",
       "    </tr>\n",
       "    <tr>\n",
       "      <th>3</th>\n",
       "      <td>0.01</td>\n",
       "      <td>0.0</td>\n",
       "      <td>64</td>\n",
       "      <td>adam</td>\n",
       "      <td>0.916917</td>\n",
       "      <td>0.933774</td>\n",
       "      <td>0.905917</td>\n",
       "      <td>mlp1H_mlp1H_saved_models_run2/model_lr0.01_do0...</td>\n",
       "    </tr>\n",
       "    <tr>\n",
       "      <th>4</th>\n",
       "      <td>0.01</td>\n",
       "      <td>0.0</td>\n",
       "      <td>128</td>\n",
       "      <td>sgd</td>\n",
       "      <td>0.948167</td>\n",
       "      <td>0.959274</td>\n",
       "      <td>0.938250</td>\n",
       "      <td>mlp1H_mlp1H_saved_models_run2/model_lr0.01_do0...</td>\n",
       "    </tr>\n",
       "  </tbody>\n",
       "</table>\n",
       "</div>"
      ],
      "text/plain": [
       "   learning_rate  dropout  hidden_neurons optimizer  val_accuracy  \\\n",
       "0           0.01      0.0              12       sgd      0.868750   \n",
       "1           0.01      0.0              12      adam      0.855167   \n",
       "2           0.01      0.0              64       sgd      0.940000   \n",
       "3           0.01      0.0              64      adam      0.916917   \n",
       "4           0.01      0.0             128       sgd      0.948167   \n",
       "\n",
       "   val_precision  val_recall  \\\n",
       "0       0.899377    0.841667   \n",
       "1       0.884840    0.831750   \n",
       "2       0.950574    0.931167   \n",
       "3       0.933774    0.905917   \n",
       "4       0.959274    0.938250   \n",
       "\n",
       "                                          model_path  \n",
       "0  mlp1H_mlp1H_saved_models_run2/model_lr0.01_do0...  \n",
       "1  mlp1H_mlp1H_saved_models_run2/model_lr0.01_do0...  \n",
       "2  mlp1H_mlp1H_saved_models_run2/model_lr0.01_do0...  \n",
       "3  mlp1H_mlp1H_saved_models_run2/model_lr0.01_do0...  \n",
       "4  mlp1H_mlp1H_saved_models_run2/model_lr0.01_do0...  "
      ]
     },
     "execution_count": 12,
     "metadata": {},
     "output_type": "execute_result"
    }
   ],
   "source": [
    "# Read the grid search results and convert to a data frame\n",
    "results_MLP_1H = pd.read_json('mlp1H_grid_search_results_run2.json')\n",
    "\n",
    "# Correct the model path (altered after grid search run)\n",
    "results_MLP_1H['model_path'] = results_MLP_1H['model_path'].str.replace('saved_models', 'mlp1H_saved_models', regex= False)\n",
    "\n",
    "results_MLP_1H.head()"
   ]
  },
  {
   "cell_type": "code",
   "execution_count": 18,
   "metadata": {},
   "outputs": [
    {
     "name": "stdout",
     "output_type": "stream",
     "text": [
      "Best grid search accuracy: 0.9623333215713501\n",
      "Best run index: 39\n",
      "Epoch 1/300\n",
      "\u001b[1m1875/1875\u001b[0m \u001b[32m━━━━━━━━━━━━━━━━━━━━\u001b[0m\u001b[37m\u001b[0m \u001b[1m5s\u001b[0m 2ms/step - accuracy: 0.8238 - loss: 0.5802 - precision: 0.9087 - recall: 0.7446 - val_accuracy: 0.8526 - val_loss: 0.4741 - val_precision: 0.8978 - val_recall: 0.8196\n",
      "Epoch 2/300\n",
      "\u001b[1m1875/1875\u001b[0m \u001b[32m━━━━━━━━━━━━━━━━━━━━\u001b[0m\u001b[37m\u001b[0m \u001b[1m4s\u001b[0m 2ms/step - accuracy: 0.9393 - loss: 0.2036 - precision: 0.9572 - recall: 0.9242 - val_accuracy: 0.8783 - val_loss: 0.4117 - val_precision: 0.9121 - val_recall: 0.8516\n",
      "Epoch 3/300\n",
      "\u001b[1m1875/1875\u001b[0m \u001b[32m━━━━━━━━━━━━━━━━━━━━\u001b[0m\u001b[37m\u001b[0m \u001b[1m4s\u001b[0m 2ms/step - accuracy: 0.9569 - loss: 0.1415 - precision: 0.9679 - recall: 0.9479 - val_accuracy: 0.8919 - val_loss: 0.3807 - val_precision: 0.9178 - val_recall: 0.8759\n",
      "Epoch 4/300\n",
      "\u001b[1m1875/1875\u001b[0m \u001b[32m━━━━━━━━━━━━━━━━━━━━\u001b[0m\u001b[37m\u001b[0m \u001b[1m4s\u001b[0m 2ms/step - accuracy: 0.9659 - loss: 0.1117 - precision: 0.9736 - recall: 0.9594 - val_accuracy: 0.8995 - val_loss: 0.3518 - val_precision: 0.9230 - val_recall: 0.8845\n",
      "Epoch 5/300\n",
      "\u001b[1m1875/1875\u001b[0m \u001b[32m━━━━━━━━━━━━━━━━━━━━\u001b[0m\u001b[37m\u001b[0m \u001b[1m4s\u001b[0m 2ms/step - accuracy: 0.9712 - loss: 0.0929 - precision: 0.9768 - recall: 0.9662 - val_accuracy: 0.9032 - val_loss: 0.3550 - val_precision: 0.9228 - val_recall: 0.8919\n",
      "Epoch 6/300\n",
      "\u001b[1m1875/1875\u001b[0m \u001b[32m━━━━━━━━━━━━━━━━━━━━\u001b[0m\u001b[37m\u001b[0m \u001b[1m4s\u001b[0m 2ms/step - accuracy: 0.9762 - loss: 0.0756 - precision: 0.9803 - recall: 0.9718 - val_accuracy: 0.8926 - val_loss: 0.4000 - val_precision: 0.9098 - val_recall: 0.8822\n",
      "Epoch 7/300\n",
      "\u001b[1m1875/1875\u001b[0m \u001b[32m━━━━━━━━━━━━━━━━━━━━\u001b[0m\u001b[37m\u001b[0m \u001b[1m4s\u001b[0m 2ms/step - accuracy: 0.9767 - loss: 0.0703 - precision: 0.9804 - recall: 0.9729 - val_accuracy: 0.9060 - val_loss: 0.3785 - val_precision: 0.9206 - val_recall: 0.8989\n",
      "Epoch 8/300\n",
      "\u001b[1m1875/1875\u001b[0m \u001b[32m━━━━━━━━━━━━━━━━━━━━\u001b[0m\u001b[37m\u001b[0m \u001b[1m4s\u001b[0m 2ms/step - accuracy: 0.9824 - loss: 0.0554 - precision: 0.9849 - recall: 0.9798 - val_accuracy: 0.9057 - val_loss: 0.4187 - val_precision: 0.9183 - val_recall: 0.8992\n",
      "Epoch 9/300\n",
      "\u001b[1m1875/1875\u001b[0m \u001b[32m━━━━━━━━━━━━━━━━━━━━\u001b[0m\u001b[37m\u001b[0m \u001b[1m4s\u001b[0m 2ms/step - accuracy: 0.9835 - loss: 0.0506 - precision: 0.9859 - recall: 0.9812 - val_accuracy: 0.9079 - val_loss: 0.4039 - val_precision: 0.9185 - val_recall: 0.9026\n",
      "Epoch 10/300\n",
      "\u001b[1m1875/1875\u001b[0m \u001b[32m━━━━━━━━━━━━━━━━━━━━\u001b[0m\u001b[37m\u001b[0m \u001b[1m4s\u001b[0m 2ms/step - accuracy: 0.9846 - loss: 0.0494 - precision: 0.9864 - recall: 0.9832 - val_accuracy: 0.9021 - val_loss: 0.4274 - val_precision: 0.9123 - val_recall: 0.8967\n",
      "Epoch 11/300\n",
      "\u001b[1m1875/1875\u001b[0m \u001b[32m━━━━━━━━━━━━━━━━━━━━\u001b[0m\u001b[37m\u001b[0m \u001b[1m4s\u001b[0m 2ms/step - accuracy: 0.9882 - loss: 0.0373 - precision: 0.9896 - recall: 0.9871 - val_accuracy: 0.9089 - val_loss: 0.4238 - val_precision: 0.9188 - val_recall: 0.9051\n",
      "Epoch 12/300\n",
      "\u001b[1m1875/1875\u001b[0m \u001b[32m━━━━━━━━━━━━━━━━━━━━\u001b[0m\u001b[37m\u001b[0m \u001b[1m4s\u001b[0m 2ms/step - accuracy: 0.9863 - loss: 0.0400 - precision: 0.9876 - recall: 0.9848 - val_accuracy: 0.9056 - val_loss: 0.4536 - val_precision: 0.9156 - val_recall: 0.9014\n",
      "Epoch 13/300\n",
      "\u001b[1m1875/1875\u001b[0m \u001b[32m━━━━━━━━━━━━━━━━━━━━\u001b[0m\u001b[37m\u001b[0m \u001b[1m4s\u001b[0m 2ms/step - accuracy: 0.9853 - loss: 0.0408 - precision: 0.9864 - recall: 0.9842 - val_accuracy: 0.9047 - val_loss: 0.4710 - val_precision: 0.9133 - val_recall: 0.9000\n",
      "Epoch 14/300\n",
      "\u001b[1m1875/1875\u001b[0m \u001b[32m━━━━━━━━━━━━━━━━━━━━\u001b[0m\u001b[37m\u001b[0m \u001b[1m4s\u001b[0m 2ms/step - accuracy: 0.9875 - loss: 0.0363 - precision: 0.9890 - recall: 0.9867 - val_accuracy: 0.9086 - val_loss: 0.4520 - val_precision: 0.9184 - val_recall: 0.9041\n",
      "Epoch 15/300\n",
      "\u001b[1m1875/1875\u001b[0m \u001b[32m━━━━━━━━━━━━━━━━━━━━\u001b[0m\u001b[37m\u001b[0m \u001b[1m4s\u001b[0m 2ms/step - accuracy: 0.9882 - loss: 0.0354 - precision: 0.9893 - recall: 0.9870 - val_accuracy: 0.9064 - val_loss: 0.4756 - val_precision: 0.9135 - val_recall: 0.9037\n",
      "Epoch 16/300\n",
      "\u001b[1m1875/1875\u001b[0m \u001b[32m━━━━━━━━━━━━━━━━━━━━\u001b[0m\u001b[37m\u001b[0m \u001b[1m4s\u001b[0m 2ms/step - accuracy: 0.9884 - loss: 0.0340 - precision: 0.9892 - recall: 0.9873 - val_accuracy: 0.9070 - val_loss: 0.5085 - val_precision: 0.9136 - val_recall: 0.9037\n",
      "Epoch 17/300\n",
      "\u001b[1m1875/1875\u001b[0m \u001b[32m━━━━━━━━━━━━━━━━━━━━\u001b[0m\u001b[37m\u001b[0m \u001b[1m4s\u001b[0m 2ms/step - accuracy: 0.9888 - loss: 0.0324 - precision: 0.9900 - recall: 0.9879 - val_accuracy: 0.9078 - val_loss: 0.4771 - val_precision: 0.9162 - val_recall: 0.9046\n",
      "Epoch 18/300\n",
      "\u001b[1m1875/1875\u001b[0m \u001b[32m━━━━━━━━━━━━━━━━━━━━\u001b[0m\u001b[37m\u001b[0m \u001b[1m4s\u001b[0m 2ms/step - accuracy: 0.9893 - loss: 0.0319 - precision: 0.9901 - recall: 0.9887 - val_accuracy: 0.8999 - val_loss: 0.5424 - val_precision: 0.9061 - val_recall: 0.8969\n",
      "Epoch 19/300\n",
      "\u001b[1m1875/1875\u001b[0m \u001b[32m━━━━━━━━━━━━━━━━━━━━\u001b[0m\u001b[37m\u001b[0m \u001b[1m4s\u001b[0m 2ms/step - accuracy: 0.9902 - loss: 0.0293 - precision: 0.9910 - recall: 0.9898 - val_accuracy: 0.9121 - val_loss: 0.5002 - val_precision: 0.9190 - val_recall: 0.9094\n",
      "Epoch 20/300\n",
      "\u001b[1m1875/1875\u001b[0m \u001b[32m━━━━━━━━━━━━━━━━━━━━\u001b[0m\u001b[37m\u001b[0m \u001b[1m4s\u001b[0m 2ms/step - accuracy: 0.9918 - loss: 0.0245 - precision: 0.9923 - recall: 0.9913 - val_accuracy: 0.9095 - val_loss: 0.5130 - val_precision: 0.9158 - val_recall: 0.9068\n",
      "Epoch 21/300\n",
      "\u001b[1m1875/1875\u001b[0m \u001b[32m━━━━━━━━━━━━━━━━━━━━\u001b[0m\u001b[37m\u001b[0m \u001b[1m4s\u001b[0m 2ms/step - accuracy: 0.9920 - loss: 0.0249 - precision: 0.9930 - recall: 0.9917 - val_accuracy: 0.9035 - val_loss: 0.5669 - val_precision: 0.9101 - val_recall: 0.9004\n",
      "Epoch 22/300\n",
      "\u001b[1m1875/1875\u001b[0m \u001b[32m━━━━━━━━━━━━━━━━━━━━\u001b[0m\u001b[37m\u001b[0m \u001b[1m4s\u001b[0m 2ms/step - accuracy: 0.9907 - loss: 0.0280 - precision: 0.9913 - recall: 0.9904 - val_accuracy: 0.9047 - val_loss: 0.5706 - val_precision: 0.9103 - val_recall: 0.9019\n",
      "Epoch 23/300\n",
      "\u001b[1m1875/1875\u001b[0m \u001b[32m━━━━━━━━━━━━━━━━━━━━\u001b[0m\u001b[37m\u001b[0m \u001b[1m4s\u001b[0m 2ms/step - accuracy: 0.9913 - loss: 0.0276 - precision: 0.9919 - recall: 0.9905 - val_accuracy: 0.9101 - val_loss: 0.5475 - val_precision: 0.9170 - val_recall: 0.9074\n",
      "Epoch 24/300\n",
      "\u001b[1m1875/1875\u001b[0m \u001b[32m━━━━━━━━━━━━━━━━━━━━\u001b[0m\u001b[37m\u001b[0m \u001b[1m4s\u001b[0m 2ms/step - accuracy: 0.9914 - loss: 0.0267 - precision: 0.9921 - recall: 0.9911 - val_accuracy: 0.9092 - val_loss: 0.5756 - val_precision: 0.9138 - val_recall: 0.9075\n",
      "Epoch 25/300\n",
      "\u001b[1m1875/1875\u001b[0m \u001b[32m━━━━━━━━━━━━━━━━━━━━\u001b[0m\u001b[37m\u001b[0m \u001b[1m4s\u001b[0m 2ms/step - accuracy: 0.9917 - loss: 0.0253 - precision: 0.9921 - recall: 0.9913 - val_accuracy: 0.9104 - val_loss: 0.5710 - val_precision: 0.9150 - val_recall: 0.9077\n",
      "Epoch 26/300\n",
      "\u001b[1m1875/1875\u001b[0m \u001b[32m━━━━━━━━━━━━━━━━━━━━\u001b[0m\u001b[37m\u001b[0m \u001b[1m4s\u001b[0m 2ms/step - accuracy: 0.9920 - loss: 0.0229 - precision: 0.9925 - recall: 0.9917 - val_accuracy: 0.9057 - val_loss: 0.5885 - val_precision: 0.9102 - val_recall: 0.9039\n",
      "Epoch 27/300\n",
      "\u001b[1m1875/1875\u001b[0m \u001b[32m━━━━━━━━━━━━━━━━━━━━\u001b[0m\u001b[37m\u001b[0m \u001b[1m4s\u001b[0m 2ms/step - accuracy: 0.9929 - loss: 0.0219 - precision: 0.9934 - recall: 0.9926 - val_accuracy: 0.9103 - val_loss: 0.6051 - val_precision: 0.9143 - val_recall: 0.9074\n",
      "Epoch 28/300\n",
      "\u001b[1m1875/1875\u001b[0m \u001b[32m━━━━━━━━━━━━━━━━━━━━\u001b[0m\u001b[37m\u001b[0m \u001b[1m4s\u001b[0m 2ms/step - accuracy: 0.9923 - loss: 0.0231 - precision: 0.9927 - recall: 0.9920 - val_accuracy: 0.9106 - val_loss: 0.6082 - val_precision: 0.9143 - val_recall: 0.9082\n",
      "Epoch 29/300\n",
      "\u001b[1m1875/1875\u001b[0m \u001b[32m━━━━━━━━━━━━━━━━━━━━\u001b[0m\u001b[37m\u001b[0m \u001b[1m4s\u001b[0m 2ms/step - accuracy: 0.9920 - loss: 0.0240 - precision: 0.9926 - recall: 0.9917 - val_accuracy: 0.9097 - val_loss: 0.6140 - val_precision: 0.9138 - val_recall: 0.9078\n",
      "Epoch 30/300\n",
      "\u001b[1m1875/1875\u001b[0m \u001b[32m━━━━━━━━━━━━━━━━━━━━\u001b[0m\u001b[37m\u001b[0m \u001b[1m4s\u001b[0m 2ms/step - accuracy: 0.9920 - loss: 0.0241 - precision: 0.9925 - recall: 0.9916 - val_accuracy: 0.9113 - val_loss: 0.6113 - val_precision: 0.9153 - val_recall: 0.9101\n",
      "Epoch 31/300\n",
      "\u001b[1m1875/1875\u001b[0m \u001b[32m━━━━━━━━━━━━━━━━━━━━\u001b[0m\u001b[37m\u001b[0m \u001b[1m4s\u001b[0m 2ms/step - accuracy: 0.9920 - loss: 0.0235 - precision: 0.9922 - recall: 0.9916 - val_accuracy: 0.9078 - val_loss: 0.6343 - val_precision: 0.9127 - val_recall: 0.9063\n",
      "Epoch 32/300\n",
      "\u001b[1m1875/1875\u001b[0m \u001b[32m━━━━━━━━━━━━━━━━━━━━\u001b[0m\u001b[37m\u001b[0m \u001b[1m4s\u001b[0m 2ms/step - accuracy: 0.9931 - loss: 0.0210 - precision: 0.9933 - recall: 0.9929 - val_accuracy: 0.9089 - val_loss: 0.6492 - val_precision: 0.9135 - val_recall: 0.9076\n",
      "Epoch 33/300\n",
      "\u001b[1m1875/1875\u001b[0m \u001b[32m━━━━━━━━━━━━━━━━━━━━\u001b[0m\u001b[37m\u001b[0m \u001b[1m4s\u001b[0m 2ms/step - accuracy: 0.9932 - loss: 0.0211 - precision: 0.9934 - recall: 0.9930 - val_accuracy: 0.9079 - val_loss: 0.6909 - val_precision: 0.9118 - val_recall: 0.9058\n",
      "Epoch 34/300\n",
      "\u001b[1m1875/1875\u001b[0m \u001b[32m━━━━━━━━━━━━━━━━━━━━\u001b[0m\u001b[37m\u001b[0m \u001b[1m4s\u001b[0m 2ms/step - accuracy: 0.9927 - loss: 0.0215 - precision: 0.9931 - recall: 0.9925 - val_accuracy: 0.9116 - val_loss: 0.6380 - val_precision: 0.9161 - val_recall: 0.9100\n",
      "Epoch 35/300\n",
      "\u001b[1m1875/1875\u001b[0m \u001b[32m━━━━━━━━━━━━━━━━━━━━\u001b[0m\u001b[37m\u001b[0m \u001b[1m4s\u001b[0m 2ms/step - accuracy: 0.9935 - loss: 0.0204 - precision: 0.9937 - recall: 0.9933 - val_accuracy: 0.9081 - val_loss: 0.6688 - val_precision: 0.9117 - val_recall: 0.9066\n",
      "Epoch 36/300\n",
      "\u001b[1m1875/1875\u001b[0m \u001b[32m━━━━━━━━━━━━━━━━━━━━\u001b[0m\u001b[37m\u001b[0m \u001b[1m4s\u001b[0m 2ms/step - accuracy: 0.9930 - loss: 0.0213 - precision: 0.9933 - recall: 0.9927 - val_accuracy: 0.9110 - val_loss: 0.6763 - val_precision: 0.9142 - val_recall: 0.9098\n",
      "Epoch 37/300\n",
      "\u001b[1m1875/1875\u001b[0m \u001b[32m━━━━━━━━━━━━━━━━━━━━\u001b[0m\u001b[37m\u001b[0m \u001b[1m4s\u001b[0m 2ms/step - accuracy: 0.9933 - loss: 0.0204 - precision: 0.9935 - recall: 0.9931 - val_accuracy: 0.9137 - val_loss: 0.6558 - val_precision: 0.9170 - val_recall: 0.9127\n",
      "Epoch 38/300\n",
      "\u001b[1m1875/1875\u001b[0m \u001b[32m━━━━━━━━━━━━━━━━━━━━\u001b[0m\u001b[37m\u001b[0m \u001b[1m4s\u001b[0m 2ms/step - accuracy: 0.9932 - loss: 0.0206 - precision: 0.9934 - recall: 0.9930 - val_accuracy: 0.9092 - val_loss: 0.6927 - val_precision: 0.9120 - val_recall: 0.9078\n",
      "Epoch 39/300\n",
      "\u001b[1m1875/1875\u001b[0m \u001b[32m━━━━━━━━━━━━━━━━━━━━\u001b[0m\u001b[37m\u001b[0m \u001b[1m4s\u001b[0m 2ms/step - accuracy: 0.9925 - loss: 0.0250 - precision: 0.9927 - recall: 0.9923 - val_accuracy: 0.9094 - val_loss: 0.6775 - val_precision: 0.9129 - val_recall: 0.9085\n",
      "Epoch 40/300\n",
      "\u001b[1m1875/1875\u001b[0m \u001b[32m━━━━━━━━━━━━━━━━━━━━\u001b[0m\u001b[37m\u001b[0m \u001b[1m4s\u001b[0m 2ms/step - accuracy: 0.9933 - loss: 0.0204 - precision: 0.9936 - recall: 0.9932 - val_accuracy: 0.9092 - val_loss: 0.6860 - val_precision: 0.9129 - val_recall: 0.9081\n",
      "Epoch 41/300\n",
      "\u001b[1m1875/1875\u001b[0m \u001b[32m━━━━━━━━━━━━━━━━━━━━\u001b[0m\u001b[37m\u001b[0m \u001b[1m4s\u001b[0m 2ms/step - accuracy: 0.9935 - loss: 0.0192 - precision: 0.9938 - recall: 0.9933 - val_accuracy: 0.9107 - val_loss: 0.6978 - val_precision: 0.9145 - val_recall: 0.9097\n",
      "Epoch 42/300\n",
      "\u001b[1m1875/1875\u001b[0m \u001b[32m━━━━━━━━━━━━━━━━━━━━\u001b[0m\u001b[37m\u001b[0m \u001b[1m4s\u001b[0m 2ms/step - accuracy: 0.9940 - loss: 0.0196 - precision: 0.9943 - recall: 0.9938 - val_accuracy: 0.9102 - val_loss: 0.7144 - val_precision: 0.9131 - val_recall: 0.9095\n",
      "Epoch 43/300\n",
      "\u001b[1m1875/1875\u001b[0m \u001b[32m━━━━━━━━━━━━━━━━━━━━\u001b[0m\u001b[37m\u001b[0m \u001b[1m4s\u001b[0m 2ms/step - accuracy: 0.9943 - loss: 0.0171 - precision: 0.9945 - recall: 0.9942 - val_accuracy: 0.9130 - val_loss: 0.7249 - val_precision: 0.9161 - val_recall: 0.9117\n",
      "Epoch 44/300\n",
      "\u001b[1m1875/1875\u001b[0m \u001b[32m━━━━━━━━━━━━━━━━━━━━\u001b[0m\u001b[37m\u001b[0m \u001b[1m4s\u001b[0m 2ms/step - accuracy: 0.9938 - loss: 0.0211 - precision: 0.9941 - recall: 0.9936 - val_accuracy: 0.9093 - val_loss: 0.7391 - val_precision: 0.9127 - val_recall: 0.9079\n",
      "Epoch 45/300\n",
      "\u001b[1m1875/1875\u001b[0m \u001b[32m━━━━━━━━━━━━━━━━━━━━\u001b[0m\u001b[37m\u001b[0m \u001b[1m4s\u001b[0m 2ms/step - accuracy: 0.9947 - loss: 0.0162 - precision: 0.9950 - recall: 0.9946 - val_accuracy: 0.9098 - val_loss: 0.7504 - val_precision: 0.9122 - val_recall: 0.9084\n",
      "Epoch 46/300\n",
      "\u001b[1m1875/1875\u001b[0m \u001b[32m━━━━━━━━━━━━━━━━━━━━\u001b[0m\u001b[37m\u001b[0m \u001b[1m4s\u001b[0m 2ms/step - accuracy: 0.9939 - loss: 0.0193 - precision: 0.9941 - recall: 0.9936 - val_accuracy: 0.9113 - val_loss: 0.7409 - val_precision: 0.9135 - val_recall: 0.9103\n",
      "Epoch 47/300\n",
      "\u001b[1m1875/1875\u001b[0m \u001b[32m━━━━━━━━━━━━━━━━━━━━\u001b[0m\u001b[37m\u001b[0m \u001b[1m4s\u001b[0m 2ms/step - accuracy: 0.9953 - loss: 0.0158 - precision: 0.9955 - recall: 0.9952 - val_accuracy: 0.9049 - val_loss: 0.7883 - val_precision: 0.9091 - val_recall: 0.9031\n",
      "Epoch 48/300\n",
      "\u001b[1m1875/1875\u001b[0m \u001b[32m━━━━━━━━━━━━━━━━━━━━\u001b[0m\u001b[37m\u001b[0m \u001b[1m4s\u001b[0m 2ms/step - accuracy: 0.9946 - loss: 0.0168 - precision: 0.9948 - recall: 0.9944 - val_accuracy: 0.9096 - val_loss: 0.7799 - val_precision: 0.9120 - val_recall: 0.9089\n",
      "Epoch 49/300\n",
      "\u001b[1m1875/1875\u001b[0m \u001b[32m━━━━━━━━━━━━━━━━━━━━\u001b[0m\u001b[37m\u001b[0m \u001b[1m4s\u001b[0m 2ms/step - accuracy: 0.9945 - loss: 0.0175 - precision: 0.9947 - recall: 0.9943 - val_accuracy: 0.9135 - val_loss: 0.7536 - val_precision: 0.9171 - val_recall: 0.9122\n",
      "Epoch 50/300\n",
      "\u001b[1m1875/1875\u001b[0m \u001b[32m━━━━━━━━━━━━━━━━━━━━\u001b[0m\u001b[37m\u001b[0m \u001b[1m4s\u001b[0m 2ms/step - accuracy: 0.9936 - loss: 0.0184 - precision: 0.9937 - recall: 0.9932 - val_accuracy: 0.9088 - val_loss: 0.7639 - val_precision: 0.9120 - val_recall: 0.9073\n",
      "Epoch 51/300\n",
      "\u001b[1m1875/1875\u001b[0m \u001b[32m━━━━━━━━━━━━━━━━━━━━\u001b[0m\u001b[37m\u001b[0m \u001b[1m4s\u001b[0m 2ms/step - accuracy: 0.9944 - loss: 0.0183 - precision: 0.9945 - recall: 0.9942 - val_accuracy: 0.9106 - val_loss: 0.7720 - val_precision: 0.9144 - val_recall: 0.9094\n",
      "Epoch 52/300\n",
      "\u001b[1m1875/1875\u001b[0m \u001b[32m━━━━━━━━━━━━━━━━━━━━\u001b[0m\u001b[37m\u001b[0m \u001b[1m4s\u001b[0m 2ms/step - accuracy: 0.9942 - loss: 0.0162 - precision: 0.9943 - recall: 0.9940 - val_accuracy: 0.9107 - val_loss: 0.7865 - val_precision: 0.9139 - val_recall: 0.9096\n",
      "Epoch 53/300\n",
      "\u001b[1m1875/1875\u001b[0m \u001b[32m━━━━━━━━━━━━━━━━━━━━\u001b[0m\u001b[37m\u001b[0m \u001b[1m4s\u001b[0m 2ms/step - accuracy: 0.9934 - loss: 0.0196 - precision: 0.9935 - recall: 0.9932 - val_accuracy: 0.9113 - val_loss: 0.7985 - val_precision: 0.9141 - val_recall: 0.9103\n",
      "Epoch 54/300\n",
      "\u001b[1m1875/1875\u001b[0m \u001b[32m━━━━━━━━━━━━━━━━━━━━\u001b[0m\u001b[37m\u001b[0m \u001b[1m4s\u001b[0m 2ms/step - accuracy: 0.9952 - loss: 0.0160 - precision: 0.9953 - recall: 0.9951 - val_accuracy: 0.9136 - val_loss: 0.8020 - val_precision: 0.9156 - val_recall: 0.9120\n",
      "Epoch 55/300\n",
      "\u001b[1m1875/1875\u001b[0m \u001b[32m━━━━━━━━━━━━━━━━━━━━\u001b[0m\u001b[37m\u001b[0m \u001b[1m4s\u001b[0m 2ms/step - accuracy: 0.9942 - loss: 0.0198 - precision: 0.9944 - recall: 0.9941 - val_accuracy: 0.9123 - val_loss: 0.7984 - val_precision: 0.9151 - val_recall: 0.9116\n",
      "Epoch 56/300\n",
      "\u001b[1m1875/1875\u001b[0m \u001b[32m━━━━━━━━━━━━━━━━━━━━\u001b[0m\u001b[37m\u001b[0m \u001b[1m4s\u001b[0m 2ms/step - accuracy: 0.9945 - loss: 0.0193 - precision: 0.9947 - recall: 0.9944 - val_accuracy: 0.9118 - val_loss: 0.7820 - val_precision: 0.9143 - val_recall: 0.9106\n",
      "Epoch 57/300\n",
      "\u001b[1m1875/1875\u001b[0m \u001b[32m━━━━━━━━━━━━━━━━━━━━\u001b[0m\u001b[37m\u001b[0m \u001b[1m4s\u001b[0m 2ms/step - accuracy: 0.9947 - loss: 0.0183 - precision: 0.9947 - recall: 0.9944 - val_accuracy: 0.9059 - val_loss: 0.8702 - val_precision: 0.9091 - val_recall: 0.9054\n",
      "Epoch 58/300\n",
      "\u001b[1m1875/1875\u001b[0m \u001b[32m━━━━━━━━━━━━━━━━━━━━\u001b[0m\u001b[37m\u001b[0m \u001b[1m4s\u001b[0m 2ms/step - accuracy: 0.9946 - loss: 0.0171 - precision: 0.9949 - recall: 0.9944 - val_accuracy: 0.9112 - val_loss: 0.8260 - val_precision: 0.9137 - val_recall: 0.9107\n",
      "Epoch 59/300\n",
      "\u001b[1m1875/1875\u001b[0m \u001b[32m━━━━━━━━━━━━━━━━━━━━\u001b[0m\u001b[37m\u001b[0m \u001b[1m4s\u001b[0m 2ms/step - accuracy: 0.9946 - loss: 0.0178 - precision: 0.9947 - recall: 0.9946 - val_accuracy: 0.9066 - val_loss: 0.9050 - val_precision: 0.9089 - val_recall: 0.9053\n",
      "Epoch 60/300\n",
      "\u001b[1m1875/1875\u001b[0m \u001b[32m━━━━━━━━━━━━━━━━━━━━\u001b[0m\u001b[37m\u001b[0m \u001b[1m4s\u001b[0m 2ms/step - accuracy: 0.9942 - loss: 0.0201 - precision: 0.9944 - recall: 0.9941 - val_accuracy: 0.9098 - val_loss: 0.8810 - val_precision: 0.9114 - val_recall: 0.9088\n",
      "Epoch 61/300\n",
      "\u001b[1m1875/1875\u001b[0m \u001b[32m━━━━━━━━━━━━━━━━━━━━\u001b[0m\u001b[37m\u001b[0m \u001b[1m4s\u001b[0m 2ms/step - accuracy: 0.9956 - loss: 0.0149 - precision: 0.9957 - recall: 0.9955 - val_accuracy: 0.9093 - val_loss: 0.8748 - val_precision: 0.9112 - val_recall: 0.9081\n",
      "Epoch 62/300\n",
      "\u001b[1m1875/1875\u001b[0m \u001b[32m━━━━━━━━━━━━━━━━━━━━\u001b[0m\u001b[37m\u001b[0m \u001b[1m4s\u001b[0m 2ms/step - accuracy: 0.9949 - loss: 0.0163 - precision: 0.9951 - recall: 0.9948 - val_accuracy: 0.9032 - val_loss: 0.9194 - val_precision: 0.9061 - val_recall: 0.9026\n",
      "Epoch 63/300\n",
      "\u001b[1m1875/1875\u001b[0m \u001b[32m━━━━━━━━━━━━━━━━━━━━\u001b[0m\u001b[37m\u001b[0m \u001b[1m4s\u001b[0m 2ms/step - accuracy: 0.9951 - loss: 0.0163 - precision: 0.9953 - recall: 0.9951 - val_accuracy: 0.9119 - val_loss: 0.8731 - val_precision: 0.9138 - val_recall: 0.9105\n",
      "Epoch 64/300\n",
      "\u001b[1m1875/1875\u001b[0m \u001b[32m━━━━━━━━━━━━━━━━━━━━\u001b[0m\u001b[37m\u001b[0m \u001b[1m4s\u001b[0m 2ms/step - accuracy: 0.9951 - loss: 0.0150 - precision: 0.9953 - recall: 0.9949 - val_accuracy: 0.9091 - val_loss: 0.8982 - val_precision: 0.9115 - val_recall: 0.9086\n",
      "Epoch 64: early stopping\n",
      "Restoring model weights from the end of the best epoch: 54.\n",
      "Total final train time for MLP 1H: 4.49 minutes\n"
     ]
    },
    {
     "data": {
      "image/png": "[encoded data removed]",
      "text/plain": [
       "<Figure size 1200x500 with 2 Axes>"
      ]
     },
     "metadata": {},
     "output_type": "display_data"
    }
   ],
   "source": [
    "# Get the best accuracy\n",
    "best_acc = results_MLP_1H['val_accuracy'].max()\n",
    "\n",
    "print(f'Best grid search accuracy: {best_acc}')\n",
    "\n",
    "# Get the index for the best run\n",
    "best_indices = results_MLP_1H.loc[results_MLP_1H['val_accuracy']==best_acc, :].index\n",
    "\n",
    "if best_indices.shape[0] > 1:\n",
    "    print(f'Multiple runs with accuracy = {best_acc}. \\nBest indices = {best_indices.values}.')\n",
    "    best_idx = int(input(f'Which index do you want to consider?\\nOptions: {best_indices.values}'))\n",
    "    assert best_idx in best_indices.values, 'Invalid index!'\n",
    "else:\n",
    "    best_idx = best_indices[0]\n",
    "\n",
    "print(f'Best run index: {best_idx}')\n",
    "\n",
    "# Load the best model\n",
    "#best_model_path = results_MLP_1H.iloc[best_idx, -1]\n",
    "\n",
    "#best_MLP_1H = tf.keras.models.load_model(best_model_path)\n",
    "\n",
    "# Train the best configuration on the training + validation set\n",
    "## Get the best configuration parameters\n",
    "best_lr, best_dropout, best_hu, best_optimizer = results_MLP_1H.iloc[best_idx, :4]\n",
    "\n",
    "best_MLP_1H = build_tf_model_1H(hidden_units= best_hu, dropout= best_dropout, optimizer_name= best_optimizer, lr = best_lr)\n",
    "\n",
    "early_stop = EarlyStopping(\n",
    "    monitor='loss',\n",
    "    min_delta = 0.001,    \n",
    "    patience=10,            # number of epochs with no improvement after which training will be stopped\n",
    "    restore_best_weights=True,\n",
    "    mode = 'min',\n",
    "    verbose = 1  # restores model weights from the epoch with the best value of the monitored quantity\n",
    ")\n",
    "\n",
    "start_time = time.time()\n",
    "\n",
    "history_MLP_1H = best_MLP_1H.fit(np.vstack((train_images_norm, validation_images_norm)), np.vstack((train_labels, validation_labels)), \n",
    "                          epochs = 300,\n",
    "                          callbacks = [early_stop],\n",
    "                          validation_data = (test_images_norm, pd.get_dummies(test_labels, dtype= int).to_numpy()))\n",
    "\n",
    "end_time = time.time()\n",
    "\n",
    "finalTrain_MLP_1H_time = end_time - start_time\n",
    "print(f\"Total final train time for MLP 1H: {(finalTrain_MLP_1H_time)/60:.2f} minutes\")\n",
    "\n",
    "plot_finalTraining_results(history_MLP_1H)"
   ]
  },
  {
   "cell_type": "code",
   "execution_count": 32,
   "metadata": {},
   "outputs": [
    {
     "data": {
      "image/png": "[encoded data removed]",
      "text/plain": [
       "<Figure size 1200x500 with 2 Axes>"
      ]
     },
     "metadata": {},
     "output_type": "display_data"
    }
   ],
   "source": [
    "plot_finalTraining_results(history_MLP_1H)"
   ]
  },
  {
   "cell_type": "code",
   "execution_count": 23,
   "metadata": {},
   "outputs": [],
   "source": [
    "# Save the model after the final training\n",
    "tf.keras.models.save_model(best_MLP_1H, 'finalModel_MLP_1H.keras')"
   ]
  },
  {
   "cell_type": "markdown",
   "metadata": {},
   "source": [
    "## 4.2 MLP with 3 hidden layers"
   ]
  },
  {
   "cell_type": "code",
   "execution_count": 18,
   "metadata": {},
   "outputs": [
    {
     "name": "stdout",
     "output_type": "stream",
     "text": [
      "Epoch 1/20\n",
      "\u001b[1m1500/1500\u001b[0m \u001b[32m━━━━━━━━━━━━━━━━━━━━\u001b[0m\u001b[37m\u001b[0m \u001b[1m3s\u001b[0m 2ms/step - accuracy: 0.7303 - loss: 0.8626 - precision: 0.8160 - recall: 0.6618 - val_accuracy: 0.8935 - val_loss: 0.3499 - val_precision: 0.9219 - val_recall: 0.8720\n",
      "Epoch 2/20\n",
      "\u001b[1m1500/1500\u001b[0m \u001b[32m━━━━━━━━━━━━━━━━━━━━\u001b[0m\u001b[37m\u001b[0m \u001b[1m2s\u001b[0m 2ms/step - accuracy: 0.8654 - loss: 0.4363 - precision: 0.9005 - recall: 0.8378 - val_accuracy: 0.9277 - val_loss: 0.2406 - val_precision: 0.9464 - val_recall: 0.9132\n",
      "Epoch 3/20\n",
      "\u001b[1m1500/1500\u001b[0m \u001b[32m━━━━━━━━━━━━━━━━━━━━\u001b[0m\u001b[37m\u001b[0m \u001b[1m3s\u001b[0m 2ms/step - accuracy: 0.8985 - loss: 0.3333 - precision: 0.9232 - recall: 0.8785 - val_accuracy: 0.9388 - val_loss: 0.2016 - val_precision: 0.9496 - val_recall: 0.9287\n",
      "Epoch 4/20\n",
      "\u001b[1m1500/1500\u001b[0m \u001b[32m━━━━━━━━━━━━━━━━━━━━\u001b[0m\u001b[37m\u001b[0m \u001b[1m2s\u001b[0m 2ms/step - accuracy: 0.9169 - loss: 0.2657 - precision: 0.9340 - recall: 0.9031 - val_accuracy: 0.9473 - val_loss: 0.1747 - val_precision: 0.9568 - val_recall: 0.9394\n",
      "Epoch 5/20\n",
      "\u001b[1m1500/1500\u001b[0m \u001b[32m━━━━━━━━━━━━━━━━━━━━\u001b[0m\u001b[37m\u001b[0m \u001b[1m2s\u001b[0m 2ms/step - accuracy: 0.9322 - loss: 0.2229 - precision: 0.9459 - recall: 0.9203 - val_accuracy: 0.9559 - val_loss: 0.1482 - val_precision: 0.9644 - val_recall: 0.9513\n",
      "Epoch 6/20\n",
      "\u001b[1m1500/1500\u001b[0m \u001b[32m━━━━━━━━━━━━━━━━━━━━\u001b[0m\u001b[37m\u001b[0m \u001b[1m2s\u001b[0m 1ms/step - accuracy: 0.9384 - loss: 0.2003 - precision: 0.9503 - recall: 0.9286 - val_accuracy: 0.9553 - val_loss: 0.1511 - val_precision: 0.9629 - val_recall: 0.9509\n",
      "Epoch 7/20\n",
      "\u001b[1m1500/1500\u001b[0m \u001b[32m━━━━━━━━━━━━━━━━━━━━\u001b[0m\u001b[37m\u001b[0m \u001b[1m2s\u001b[0m 2ms/step - accuracy: 0.9462 - loss: 0.1743 - precision: 0.9566 - recall: 0.9384 - val_accuracy: 0.9576 - val_loss: 0.1421 - val_precision: 0.9657 - val_recall: 0.9537\n",
      "Epoch 8/20\n",
      "\u001b[1m1500/1500\u001b[0m \u001b[32m━━━━━━━━━━━━━━━━━━━━\u001b[0m\u001b[37m\u001b[0m \u001b[1m2s\u001b[0m 1ms/step - accuracy: 0.9522 - loss: 0.1563 - precision: 0.9615 - recall: 0.9444 - val_accuracy: 0.9602 - val_loss: 0.1392 - val_precision: 0.9648 - val_recall: 0.9563\n",
      "Epoch 9/20\n",
      "\u001b[1m1500/1500\u001b[0m \u001b[32m━━━━━━━━━━━━━━━━━━━━\u001b[0m\u001b[37m\u001b[0m \u001b[1m2s\u001b[0m 2ms/step - accuracy: 0.9569 - loss: 0.1394 - precision: 0.9644 - recall: 0.9502 - val_accuracy: 0.9594 - val_loss: 0.1417 - val_precision: 0.9652 - val_recall: 0.9568\n",
      "Epoch 10/20\n",
      "\u001b[1m1500/1500\u001b[0m \u001b[32m━━━━━━━━━━━━━━━━━━━━\u001b[0m\u001b[37m\u001b[0m \u001b[1m2s\u001b[0m 2ms/step - accuracy: 0.9584 - loss: 0.1374 - precision: 0.9654 - recall: 0.9530 - val_accuracy: 0.9603 - val_loss: 0.1419 - val_precision: 0.9651 - val_recall: 0.9571\n",
      "Epoch 11/20\n",
      "\u001b[1m1500/1500\u001b[0m \u001b[32m━━━━━━━━━━━━━━━━━━━━\u001b[0m\u001b[37m\u001b[0m \u001b[1m2s\u001b[0m 2ms/step - accuracy: 0.9591 - loss: 0.1273 - precision: 0.9660 - recall: 0.9546 - val_accuracy: 0.9593 - val_loss: 0.1399 - val_precision: 0.9634 - val_recall: 0.9560\n",
      "Epoch 12/20\n",
      "\u001b[1m1500/1500\u001b[0m \u001b[32m━━━━━━━━━━━━━━━━━━━━\u001b[0m\u001b[37m\u001b[0m \u001b[1m2s\u001b[0m 2ms/step - accuracy: 0.9631 - loss: 0.1194 - precision: 0.9684 - recall: 0.9583 - val_accuracy: 0.9631 - val_loss: 0.1363 - val_precision: 0.9668 - val_recall: 0.9598\n",
      "Epoch 13/20\n",
      "\u001b[1m1500/1500\u001b[0m \u001b[32m━━━━━━━━━━━━━━━━━━━━\u001b[0m\u001b[37m\u001b[0m \u001b[1m2s\u001b[0m 2ms/step - accuracy: 0.9649 - loss: 0.1089 - precision: 0.9702 - recall: 0.9603 - val_accuracy: 0.9638 - val_loss: 0.1375 - val_precision: 0.9671 - val_recall: 0.9613\n",
      "Epoch 14/20\n",
      "\u001b[1m1500/1500\u001b[0m \u001b[32m━━━━━━━━━━━━━━━━━━━━\u001b[0m\u001b[37m\u001b[0m \u001b[1m2s\u001b[0m 2ms/step - accuracy: 0.9678 - loss: 0.1022 - precision: 0.9731 - recall: 0.9636 - val_accuracy: 0.9643 - val_loss: 0.1357 - val_precision: 0.9677 - val_recall: 0.9623\n",
      "Epoch 15/20\n",
      "\u001b[1m1500/1500\u001b[0m \u001b[32m━━━━━━━━━━━━━━━━━━━━\u001b[0m\u001b[37m\u001b[0m \u001b[1m2s\u001b[0m 1ms/step - accuracy: 0.9684 - loss: 0.0997 - precision: 0.9735 - recall: 0.9648 - val_accuracy: 0.9632 - val_loss: 0.1445 - val_precision: 0.9666 - val_recall: 0.9607\n",
      "Epoch 16/20\n",
      "\u001b[1m1500/1500\u001b[0m \u001b[32m━━━━━━━━━━━━━━━━━━━━\u001b[0m\u001b[37m\u001b[0m \u001b[1m2s\u001b[0m 2ms/step - accuracy: 0.9689 - loss: 0.0957 - precision: 0.9744 - recall: 0.9654 - val_accuracy: 0.9622 - val_loss: 0.1457 - val_precision: 0.9659 - val_recall: 0.9605\n",
      "Epoch 17/20\n",
      "\u001b[1m1500/1500\u001b[0m \u001b[32m━━━━━━━━━━━━━━━━━━━━\u001b[0m\u001b[37m\u001b[0m \u001b[1m2s\u001b[0m 2ms/step - accuracy: 0.9701 - loss: 0.0950 - precision: 0.9745 - recall: 0.9667 - val_accuracy: 0.9627 - val_loss: 0.1420 - val_precision: 0.9670 - val_recall: 0.9610\n",
      "Epoch 18/20\n",
      "\u001b[1m1500/1500\u001b[0m \u001b[32m━━━━━━━━━━━━━━━━━━━━\u001b[0m\u001b[37m\u001b[0m \u001b[1m2s\u001b[0m 1ms/step - accuracy: 0.9711 - loss: 0.0886 - precision: 0.9749 - recall: 0.9684 - val_accuracy: 0.9639 - val_loss: 0.1417 - val_precision: 0.9668 - val_recall: 0.9622\n",
      "Epoch 19/20\n",
      "\u001b[1m1500/1500\u001b[0m \u001b[32m━━━━━━━━━━━━━━━━━━━━\u001b[0m\u001b[37m\u001b[0m \u001b[1m2s\u001b[0m 2ms/step - accuracy: 0.9730 - loss: 0.0838 - precision: 0.9772 - recall: 0.9702 - val_accuracy: 0.9638 - val_loss: 0.1445 - val_precision: 0.9667 - val_recall: 0.9617\n",
      "Epoch 20/20\n",
      "\u001b[1m1500/1500\u001b[0m \u001b[32m━━━━━━━━━━━━━━━━━━━━\u001b[0m\u001b[37m\u001b[0m \u001b[1m2s\u001b[0m 2ms/step - accuracy: 0.9748 - loss: 0.0794 - precision: 0.9780 - recall: 0.9718 - val_accuracy: 0.9638 - val_loss: 0.1418 - val_precision: 0.9674 - val_recall: 0.9626\n"
     ]
    },
    {
     "data": {
      "image/png": "[encoded data removed]",
      "text/plain": [
       "<Figure size 1200x500 with 2 Axes>"
      ]
     },
     "metadata": {},
     "output_type": "display_data"
    }
   ],
   "source": [
    "MLP_3H = build_tf_model_3H(256, 256, 64, 0.2, 'adam', 1e-3)\n",
    "\n",
    "history = MLP_3H.fit(train_images_norm, train_labels, epochs= 20, validation_data=(validation_images_norm, validation_labels))\n",
    "\n",
    "# Plot losses and accuracy\n",
    "plot_training_results(history)"
   ]
  },
  {
   "cell_type": "markdown",
   "metadata": {},
   "source": [
    "### 4.2.1 Conduct a grid search to fine tune some hyperparameters\n",
    "Test multiple combinations of learning rate, dropout, hidden units (in all three hidden layers) and optimizers"
   ]
  },
  {
   "cell_type": "code",
   "execution_count": 10,
   "metadata": {},
   "outputs": [
    {
     "name": "stderr",
     "output_type": "stream",
     "text": [
      "Grid Search Progress:   0%|          | 0/480 [00:00<?, ?it/s]"
     ]
    },
    {
     "name": "stdout",
     "output_type": "stream",
     "text": [
      "Testing: lr0.01_do0.0_hu32_32_32_sgd\n",
      "Epoch 38: early stopping\n",
      "Restoring model weights from the end of the best epoch: 33.\n"
     ]
    },
    {
     "name": "stderr",
     "output_type": "stream",
     "text": [
      "Grid Search Progress:   0%|          | 1/480 [01:15<10:02:38, 75.49s/it]"
     ]
    },
    {
     "name": "stdout",
     "output_type": "stream",
     "text": [
      "Testing: lr0.01_do0.0_hu32_32_32_adam\n",
      "Epoch 31: early stopping\n",
      "Restoring model weights from the end of the best epoch: 26.\n"
     ]
    },
    {
     "name": "stderr",
     "output_type": "stream",
     "text": [
      "Grid Search Progress:   0%|          | 2/480 [02:25<9:34:47, 72.15s/it] "
     ]
    },
    {
     "name": "stdout",
     "output_type": "stream",
     "text": [
      "Testing: lr0.01_do0.0_hu64_32_32_sgd\n",
      "Epoch 37: early stopping\n",
      "Restoring model weights from the end of the best epoch: 32.\n"
     ]
    },
    {
     "name": "stderr",
     "output_type": "stream",
     "text": [
      "Grid Search Progress:   1%|          | 3/480 [03:40<9:45:19, 73.63s/it]"
     ]
    },
    {
     "name": "stdout",
     "output_type": "stream",
     "text": [
      "Testing: lr0.01_do0.0_hu64_32_32_adam\n",
      "Epoch 30: early stopping\n",
      "Restoring model weights from the end of the best epoch: 25.\n"
     ]
    },
    {
     "name": "stderr",
     "output_type": "stream",
     "text": [
      "Grid Search Progress:   1%|          | 4/480 [04:51<9:35:32, 72.55s/it]"
     ]
    },
    {
     "name": "stdout",
     "output_type": "stream",
     "text": [
      "Testing: lr0.01_do0.0_hu64_64_32_sgd\n",
      "Epoch 36: early stopping\n",
      "Restoring model weights from the end of the best epoch: 31.\n"
     ]
    },
    {
     "name": "stderr",
     "output_type": "stream",
     "text": [
      "Grid Search Progress:   1%|          | 5/480 [06:04<9:35:12, 72.66s/it]"
     ]
    },
    {
     "name": "stdout",
     "output_type": "stream",
     "text": [
      "Testing: lr0.01_do0.0_hu64_64_32_adam\n",
      "Epoch 33: early stopping\n",
      "Restoring model weights from the end of the best epoch: 28.\n"
     ]
    },
    {
     "name": "stderr",
     "output_type": "stream",
     "text": [
      "Grid Search Progress:   1%|▏         | 6/480 [07:21<9:46:20, 74.22s/it]"
     ]
    },
    {
     "name": "stdout",
     "output_type": "stream",
     "text": [
      "Testing: lr0.01_do0.0_hu64_64_64_sgd\n",
      "Epoch 37: early stopping\n",
      "Restoring model weights from the end of the best epoch: 32.\n"
     ]
    },
    {
     "name": "stderr",
     "output_type": "stream",
     "text": [
      "Grid Search Progress:   1%|▏         | 7/480 [08:36<9:46:21, 74.38s/it]"
     ]
    },
    {
     "name": "stdout",
     "output_type": "stream",
     "text": [
      "Testing: lr0.01_do0.0_hu64_64_64_adam\n",
      "Epoch 29: early stopping\n",
      "Restoring model weights from the end of the best epoch: 24.\n"
     ]
    },
    {
     "name": "stderr",
     "output_type": "stream",
     "text": [
      "Grid Search Progress:   2%|▏         | 8/480 [09:45<9:31:50, 72.69s/it]"
     ]
    },
    {
     "name": "stdout",
     "output_type": "stream",
     "text": [
      "Testing: lr0.01_do0.0_hu128_32_32_sgd\n",
      "Epoch 34: early stopping\n",
      "Restoring model weights from the end of the best epoch: 29.\n"
     ]
    },
    {
     "name": "stderr",
     "output_type": "stream",
     "text": [
      "Grid Search Progress:   2%|▏         | 9/480 [11:01<9:39:33, 73.83s/it]"
     ]
    },
    {
     "name": "stdout",
     "output_type": "stream",
     "text": [
      "Testing: lr0.01_do0.0_hu128_32_32_adam\n",
      "Epoch 29: early stopping\n",
      "Restoring model weights from the end of the best epoch: 24.\n"
     ]
    },
    {
     "name": "stderr",
     "output_type": "stream",
     "text": [
      "Grid Search Progress:   2%|▏         | 10/480 [12:18<9:44:24, 74.61s/it]"
     ]
    },
    {
     "name": "stdout",
     "output_type": "stream",
     "text": [
      "Testing: lr0.01_do0.0_hu128_64_32_sgd\n",
      "Epoch 34: early stopping\n",
      "Restoring model weights from the end of the best epoch: 29.\n"
     ]
    },
    {
     "name": "stderr",
     "output_type": "stream",
     "text": [
      "Grid Search Progress:   2%|▏         | 11/480 [13:34<9:46:26, 75.03s/it]"
     ]
    },
    {
     "name": "stdout",
     "output_type": "stream",
     "text": [
      "Testing: lr0.01_do0.0_hu128_64_32_adam\n",
      "Epoch 30: early stopping\n",
      "Restoring model weights from the end of the best epoch: 25.\n"
     ]
    },
    {
     "name": "stderr",
     "output_type": "stream",
     "text": [
      "Grid Search Progress:   2%|▎         | 12/480 [14:53<9:55:30, 76.35s/it]"
     ]
    },
    {
     "name": "stdout",
     "output_type": "stream",
     "text": [
      "Testing: lr0.01_do0.0_hu128_64_64_sgd\n",
      "Epoch 30: early stopping\n",
      "Restoring model weights from the end of the best epoch: 25.\n"
     ]
    },
    {
     "name": "stderr",
     "output_type": "stream",
     "text": [
      "Grid Search Progress:   3%|▎         | 13/480 [16:00<9:32:40, 73.58s/it]"
     ]
    },
    {
     "name": "stdout",
     "output_type": "stream",
     "text": [
      "Testing: lr0.01_do0.0_hu128_64_64_adam\n",
      "Epoch 29: early stopping\n",
      "Restoring model weights from the end of the best epoch: 24.\n"
     ]
    },
    {
     "name": "stderr",
     "output_type": "stream",
     "text": [
      "Grid Search Progress:   3%|▎         | 14/480 [17:17<9:38:52, 74.53s/it]"
     ]
    },
    {
     "name": "stdout",
     "output_type": "stream",
     "text": [
      "Testing: lr0.01_do0.0_hu128_128_32_sgd\n",
      "Epoch 32: early stopping\n",
      "Restoring model weights from the end of the best epoch: 27.\n"
     ]
    },
    {
     "name": "stderr",
     "output_type": "stream",
     "text": [
      "Grid Search Progress:   3%|▎         | 15/480 [18:21<9:12:30, 71.29s/it]"
     ]
    },
    {
     "name": "stdout",
     "output_type": "stream",
     "text": [
      "Testing: lr0.01_do0.0_hu128_128_32_adam\n",
      "Epoch 29: early stopping\n",
      "Restoring model weights from the end of the best epoch: 24.\n"
     ]
    },
    {
     "name": "stderr",
     "output_type": "stream",
     "text": [
      "Grid Search Progress:   3%|▎         | 16/480 [19:36<9:20:25, 72.47s/it]"
     ]
    },
    {
     "name": "stdout",
     "output_type": "stream",
     "text": [
      "Testing: lr0.01_do0.0_hu128_128_64_sgd\n",
      "Epoch 31: early stopping\n",
      "Restoring model weights from the end of the best epoch: 26.\n"
     ]
    },
    {
     "name": "stderr",
     "output_type": "stream",
     "text": [
      "Grid Search Progress:   4%|▎         | 17/480 [20:44<9:10:06, 71.29s/it]"
     ]
    },
    {
     "name": "stdout",
     "output_type": "stream",
     "text": [
      "Testing: lr0.01_do0.0_hu128_128_64_adam\n",
      "Epoch 25: early stopping\n",
      "Restoring model weights from the end of the best epoch: 20.\n"
     ]
    },
    {
     "name": "stderr",
     "output_type": "stream",
     "text": [
      "Grid Search Progress:   4%|▍         | 18/480 [22:03<9:24:33, 73.32s/it]"
     ]
    },
    {
     "name": "stdout",
     "output_type": "stream",
     "text": [
      "Testing: lr0.01_do0.0_hu128_128_128_sgd\n",
      "Epoch 28: early stopping\n",
      "Restoring model weights from the end of the best epoch: 23.\n"
     ]
    },
    {
     "name": "stderr",
     "output_type": "stream",
     "text": [
      "Grid Search Progress:   4%|▍         | 19/480 [23:08<9:04:22, 70.85s/it]"
     ]
    },
    {
     "name": "stdout",
     "output_type": "stream",
     "text": [
      "Testing: lr0.01_do0.0_hu128_128_128_adam\n",
      "Epoch 24: early stopping\n",
      "Restoring model weights from the end of the best epoch: 19.\n"
     ]
    },
    {
     "name": "stderr",
     "output_type": "stream",
     "text": [
      "Grid Search Progress:   4%|▍         | 20/480 [24:23<9:12:43, 72.09s/it]"
     ]
    },
    {
     "name": "stdout",
     "output_type": "stream",
     "text": [
      "Testing: lr0.01_do0.0_hu256_32_32_sgd\n",
      "Epoch 29: early stopping\n",
      "Restoring model weights from the end of the best epoch: 24.\n"
     ]
    },
    {
     "name": "stderr",
     "output_type": "stream",
     "text": [
      "Grid Search Progress:   4%|▍         | 21/480 [25:36<9:14:40, 72.51s/it]"
     ]
    },
    {
     "name": "stdout",
     "output_type": "stream",
     "text": [
      "Testing: lr0.01_do0.0_hu256_32_32_adam\n",
      "Epoch 24: early stopping\n",
      "Restoring model weights from the end of the best epoch: 19.\n"
     ]
    },
    {
     "name": "stderr",
     "output_type": "stream",
     "text": [
      "Grid Search Progress:   5%|▍         | 22/480 [26:57<9:33:05, 75.08s/it]"
     ]
    },
    {
     "name": "stdout",
     "output_type": "stream",
     "text": [
      "Testing: lr0.01_do0.0_hu256_64_32_sgd\n",
      "Epoch 26: early stopping\n",
      "Restoring model weights from the end of the best epoch: 21.\n"
     ]
    },
    {
     "name": "stderr",
     "output_type": "stream",
     "text": [
      "Grid Search Progress:   5%|▍         | 23/480 [28:05<9:14:33, 72.81s/it]"
     ]
    },
    {
     "name": "stdout",
     "output_type": "stream",
     "text": [
      "Testing: lr0.01_do0.0_hu256_64_32_adam\n",
      "Epoch 28: early stopping\n",
      "Restoring model weights from the end of the best epoch: 23.\n"
     ]
    },
    {
     "name": "stderr",
     "output_type": "stream",
     "text": [
      "Grid Search Progress:   5%|▌         | 24/480 [29:42<10:08:51, 80.11s/it]"
     ]
    },
    {
     "name": "stdout",
     "output_type": "stream",
     "text": [
      "Testing: lr0.01_do0.0_hu256_64_64_sgd\n",
      "Epoch 24: early stopping\n",
      "Restoring model weights from the end of the best epoch: 19.\n"
     ]
    },
    {
     "name": "stderr",
     "output_type": "stream",
     "text": [
      "Grid Search Progress:   5%|▌         | 25/480 [30:44<9:26:41, 74.73s/it] "
     ]
    },
    {
     "name": "stdout",
     "output_type": "stream",
     "text": [
      "Testing: lr0.01_do0.0_hu256_64_64_adam\n",
      "Epoch 30: early stopping\n",
      "Restoring model weights from the end of the best epoch: 25.\n"
     ]
    },
    {
     "name": "stderr",
     "output_type": "stream",
     "text": [
      "Grid Search Progress:   5%|▌         | 26/480 [32:29<10:33:36, 83.74s/it]"
     ]
    },
    {
     "name": "stdout",
     "output_type": "stream",
     "text": [
      "Testing: lr0.01_do0.0_hu256_128_32_sgd\n",
      "Epoch 26: early stopping\n",
      "Restoring model weights from the end of the best epoch: 21.\n"
     ]
    },
    {
     "name": "stderr",
     "output_type": "stream",
     "text": [
      "Grid Search Progress:   6%|▌         | 27/480 [33:37<9:57:56, 79.20s/it] "
     ]
    },
    {
     "name": "stdout",
     "output_type": "stream",
     "text": [
      "Testing: lr0.01_do0.0_hu256_128_32_adam\n",
      "Epoch 22: early stopping\n",
      "Restoring model weights from the end of the best epoch: 17.\n"
     ]
    },
    {
     "name": "stderr",
     "output_type": "stream",
     "text": [
      "Grid Search Progress:   6%|▌         | 28/480 [35:01<10:07:48, 80.68s/it]"
     ]
    },
    {
     "name": "stdout",
     "output_type": "stream",
     "text": [
      "Testing: lr0.01_do0.0_hu256_128_64_sgd\n",
      "Epoch 22: early stopping\n",
      "Restoring model weights from the end of the best epoch: 17.\n"
     ]
    },
    {
     "name": "stderr",
     "output_type": "stream",
     "text": [
      "Grid Search Progress:   6%|▌         | 29/480 [36:03<9:24:02, 75.04s/it] "
     ]
    },
    {
     "name": "stdout",
     "output_type": "stream",
     "text": [
      "Testing: lr0.01_do0.0_hu256_128_64_adam\n",
      "Epoch 28: early stopping\n",
      "Restoring model weights from the end of the best epoch: 23.\n"
     ]
    },
    {
     "name": "stderr",
     "output_type": "stream",
     "text": [
      "Grid Search Progress:   6%|▋         | 30/480 [37:48<10:29:53, 83.99s/it]"
     ]
    },
    {
     "name": "stdout",
     "output_type": "stream",
     "text": [
      "Testing: lr0.01_do0.0_hu256_128_128_sgd\n",
      "Epoch 23: early stopping\n",
      "Restoring model weights from the end of the best epoch: 18.\n"
     ]
    },
    {
     "name": "stderr",
     "output_type": "stream",
     "text": [
      "Grid Search Progress:   6%|▋         | 31/480 [38:54<9:47:29, 78.51s/it] "
     ]
    },
    {
     "name": "stdout",
     "output_type": "stream",
     "text": [
      "Testing: lr0.01_do0.0_hu256_128_128_adam\n",
      "Epoch 30: early stopping\n",
      "Restoring model weights from the end of the best epoch: 25.\n"
     ]
    },
    {
     "name": "stderr",
     "output_type": "stream",
     "text": [
      "Grid Search Progress:   7%|▋         | 32/480 [40:46<11:01:19, 88.57s/it]"
     ]
    },
    {
     "name": "stdout",
     "output_type": "stream",
     "text": [
      "Testing: lr0.01_do0.0_hu256_256_32_sgd\n",
      "Epoch 23: early stopping\n",
      "Restoring model weights from the end of the best epoch: 18.\n"
     ]
    },
    {
     "name": "stderr",
     "output_type": "stream",
     "text": [
      "Grid Search Progress:   7%|▋         | 33/480 [41:51<10:06:24, 81.40s/it]"
     ]
    },
    {
     "name": "stdout",
     "output_type": "stream",
     "text": [
      "Testing: lr0.01_do0.0_hu256_256_32_adam\n",
      "Epoch 25: early stopping\n",
      "Restoring model weights from the end of the best epoch: 20.\n"
     ]
    },
    {
     "name": "stderr",
     "output_type": "stream",
     "text": [
      "Grid Search Progress:   7%|▋         | 34/480 [43:24<10:31:24, 84.94s/it]"
     ]
    },
    {
     "name": "stdout",
     "output_type": "stream",
     "text": [
      "Testing: lr0.01_do0.0_hu256_256_64_sgd\n",
      "Epoch 24: early stopping\n",
      "Restoring model weights from the end of the best epoch: 19.\n"
     ]
    },
    {
     "name": "stderr",
     "output_type": "stream",
     "text": [
      "Grid Search Progress:   7%|▋         | 35/480 [44:33<9:54:14, 80.12s/it] "
     ]
    },
    {
     "name": "stdout",
     "output_type": "stream",
     "text": [
      "Testing: lr0.01_do0.0_hu256_256_64_adam\n",
      "Epoch 25: early stopping\n",
      "Restoring model weights from the end of the best epoch: 20.\n"
     ]
    },
    {
     "name": "stderr",
     "output_type": "stream",
     "text": [
      "Grid Search Progress:   8%|▊         | 36/480 [46:07<10:25:12, 84.49s/it]"
     ]
    },
    {
     "name": "stdout",
     "output_type": "stream",
     "text": [
      "Testing: lr0.01_do0.0_hu256_256_128_sgd\n",
      "Epoch 25: early stopping\n",
      "Restoring model weights from the end of the best epoch: 20.\n"
     ]
    },
    {
     "name": "stderr",
     "output_type": "stream",
     "text": [
      "Grid Search Progress:   8%|▊         | 37/480 [47:21<9:59:08, 81.15s/it] "
     ]
    },
    {
     "name": "stdout",
     "output_type": "stream",
     "text": [
      "Testing: lr0.01_do0.0_hu256_256_128_adam\n",
      "Epoch 28: early stopping\n",
      "Restoring model weights from the end of the best epoch: 23.\n"
     ]
    },
    {
     "name": "stderr",
     "output_type": "stream",
     "text": [
      "Grid Search Progress:   8%|▊         | 38/480 [49:09<10:56:35, 89.13s/it]"
     ]
    },
    {
     "name": "stdout",
     "output_type": "stream",
     "text": [
      "Testing: lr0.01_do0.0_hu256_256_256_sgd\n",
      "Epoch 25: early stopping\n",
      "Restoring model weights from the end of the best epoch: 20.\n"
     ]
    },
    {
     "name": "stderr",
     "output_type": "stream",
     "text": [
      "Grid Search Progress:   8%|▊         | 39/480 [50:34<10:46:11, 87.92s/it]"
     ]
    },
    {
     "name": "stdout",
     "output_type": "stream",
     "text": [
      "Testing: lr0.01_do0.0_hu256_256_256_adam\n",
      "Epoch 27: early stopping\n",
      "Restoring model weights from the end of the best epoch: 22.\n"
     ]
    },
    {
     "name": "stderr",
     "output_type": "stream",
     "text": [
      "Grid Search Progress:   8%|▊         | 40/480 [52:30<11:47:21, 96.46s/it]"
     ]
    },
    {
     "name": "stdout",
     "output_type": "stream",
     "text": [
      "Testing: lr0.01_do0.2_hu32_32_32_sgd\n",
      "Epoch 34: early stopping\n",
      "Restoring model weights from the end of the best epoch: 29.\n"
     ]
    },
    {
     "name": "stderr",
     "output_type": "stream",
     "text": [
      "Grid Search Progress:   9%|▊         | 41/480 [53:37<10:41:10, 87.63s/it]"
     ]
    },
    {
     "name": "stdout",
     "output_type": "stream",
     "text": [
      "Testing: lr0.01_do0.2_hu32_32_32_adam\n",
      "Epoch 24: early stopping\n",
      "Restoring model weights from the end of the best epoch: 19.\n"
     ]
    },
    {
     "name": "stderr",
     "output_type": "stream",
     "text": [
      "Grid Search Progress:   9%|▉         | 42/480 [54:32<9:28:13, 77.84s/it] "
     ]
    },
    {
     "name": "stdout",
     "output_type": "stream",
     "text": [
      "Testing: lr0.01_do0.2_hu64_32_32_sgd\n",
      "Epoch 44: early stopping\n",
      "Restoring model weights from the end of the best epoch: 39.\n"
     ]
    },
    {
     "name": "stderr",
     "output_type": "stream",
     "text": [
      "Grid Search Progress:   9%|▉         | 43/480 [56:00<9:48:26, 80.79s/it]"
     ]
    },
    {
     "name": "stdout",
     "output_type": "stream",
     "text": [
      "Testing: lr0.01_do0.2_hu64_32_32_adam\n",
      "Epoch 34: early stopping\n",
      "Restoring model weights from the end of the best epoch: 29.\n"
     ]
    },
    {
     "name": "stderr",
     "output_type": "stream",
     "text": [
      "Grid Search Progress:   9%|▉         | 44/480 [57:18<9:40:58, 79.95s/it]"
     ]
    },
    {
     "name": "stdout",
     "output_type": "stream",
     "text": [
      "Testing: lr0.01_do0.2_hu64_64_32_sgd\n",
      "Epoch 34: early stopping\n",
      "Restoring model weights from the end of the best epoch: 29.\n"
     ]
    },
    {
     "name": "stderr",
     "output_type": "stream",
     "text": [
      "Grid Search Progress:   9%|▉         | 45/480 [58:26<9:14:22, 76.47s/it]"
     ]
    },
    {
     "name": "stdout",
     "output_type": "stream",
     "text": [
      "Testing: lr0.01_do0.2_hu64_64_32_adam\n",
      "Epoch 27: early stopping\n",
      "Restoring model weights from the end of the best epoch: 22.\n"
     ]
    },
    {
     "name": "stderr",
     "output_type": "stream",
     "text": [
      "Grid Search Progress:  10%|▉         | 46/480 [59:30<8:45:29, 72.65s/it]"
     ]
    },
    {
     "name": "stdout",
     "output_type": "stream",
     "text": [
      "Testing: lr0.01_do0.2_hu64_64_64_sgd\n",
      "Epoch 35: early stopping\n",
      "Restoring model weights from the end of the best epoch: 30.\n"
     ]
    },
    {
     "name": "stderr",
     "output_type": "stream",
     "text": [
      "Grid Search Progress:  10%|▉         | 47/480 [1:00:40<8:39:14, 71.95s/it]"
     ]
    },
    {
     "name": "stdout",
     "output_type": "stream",
     "text": [
      "Testing: lr0.01_do0.2_hu64_64_64_adam\n",
      "Epoch 38: early stopping\n",
      "Restoring model weights from the end of the best epoch: 33.\n"
     ]
    },
    {
     "name": "stderr",
     "output_type": "stream",
     "text": [
      "Grid Search Progress:  10%|█         | 48/480 [1:02:10<9:16:42, 77.32s/it]"
     ]
    },
    {
     "name": "stdout",
     "output_type": "stream",
     "text": [
      "Testing: lr0.01_do0.2_hu128_32_32_sgd\n",
      "Epoch 40: early stopping\n",
      "Restoring model weights from the end of the best epoch: 35.\n"
     ]
    },
    {
     "name": "stderr",
     "output_type": "stream",
     "text": [
      "Grid Search Progress:  10%|█         | 49/480 [1:03:35<9:32:43, 79.73s/it]"
     ]
    },
    {
     "name": "stdout",
     "output_type": "stream",
     "text": [
      "Testing: lr0.01_do0.2_hu128_32_32_adam\n",
      "Epoch 24: early stopping\n",
      "Restoring model weights from the end of the best epoch: 19.\n"
     ]
    },
    {
     "name": "stderr",
     "output_type": "stream",
     "text": [
      "Grid Search Progress:  10%|█         | 50/480 [1:04:44<9:08:16, 76.50s/it]"
     ]
    },
    {
     "name": "stdout",
     "output_type": "stream",
     "text": [
      "Testing: lr0.01_do0.2_hu128_64_32_sgd\n",
      "Epoch 47: early stopping\n",
      "Restoring model weights from the end of the best epoch: 42.\n"
     ]
    },
    {
     "name": "stderr",
     "output_type": "stream",
     "text": [
      "Grid Search Progress:  11%|█         | 51/480 [1:06:32<10:14:59, 86.01s/it]"
     ]
    },
    {
     "name": "stdout",
     "output_type": "stream",
     "text": [
      "Testing: lr0.01_do0.2_hu128_64_32_adam\n",
      "Epoch 31: early stopping\n",
      "Restoring model weights from the end of the best epoch: 26.\n"
     ]
    },
    {
     "name": "stderr",
     "output_type": "stream",
     "text": [
      "Grid Search Progress:  11%|█         | 52/480 [1:08:07<10:31:43, 88.56s/it]"
     ]
    },
    {
     "name": "stdout",
     "output_type": "stream",
     "text": [
      "Testing: lr0.01_do0.2_hu128_64_64_sgd\n",
      "Epoch 46: early stopping\n",
      "Restoring model weights from the end of the best epoch: 41.\n"
     ]
    },
    {
     "name": "stderr",
     "output_type": "stream",
     "text": [
      "Grid Search Progress:  11%|█         | 53/480 [1:09:52<11:05:20, 93.49s/it]"
     ]
    },
    {
     "name": "stdout",
     "output_type": "stream",
     "text": [
      "Testing: lr0.01_do0.2_hu128_64_64_adam\n",
      "Epoch 32: early stopping\n",
      "Restoring model weights from the end of the best epoch: 27.\n"
     ]
    },
    {
     "name": "stderr",
     "output_type": "stream",
     "text": [
      "Grid Search Progress:  11%|█▏        | 54/480 [1:11:31<11:15:18, 95.11s/it]"
     ]
    },
    {
     "name": "stdout",
     "output_type": "stream",
     "text": [
      "Testing: lr0.01_do0.2_hu128_128_32_sgd\n",
      "Epoch 45: early stopping\n",
      "Restoring model weights from the end of the best epoch: 40.\n"
     ]
    },
    {
     "name": "stderr",
     "output_type": "stream",
     "text": [
      "Grid Search Progress:  11%|█▏        | 55/480 [1:13:14<11:30:11, 97.44s/it]"
     ]
    },
    {
     "name": "stdout",
     "output_type": "stream",
     "text": [
      "Testing: lr0.01_do0.2_hu128_128_32_adam\n",
      "Epoch 37: early stopping\n",
      "Restoring model weights from the end of the best epoch: 32.\n"
     ]
    },
    {
     "name": "stderr",
     "output_type": "stream",
     "text": [
      "Grid Search Progress:  12%|█▏        | 56/480 [1:15:05<11:58:43, 101.71s/it]"
     ]
    },
    {
     "name": "stdout",
     "output_type": "stream",
     "text": [
      "Testing: lr0.01_do0.2_hu128_128_64_sgd\n",
      "Epoch 46: early stopping\n",
      "Restoring model weights from the end of the best epoch: 41.\n"
     ]
    },
    {
     "name": "stderr",
     "output_type": "stream",
     "text": [
      "Grid Search Progress:  12%|█▏        | 57/480 [1:16:50<12:02:57, 102.55s/it]"
     ]
    },
    {
     "name": "stdout",
     "output_type": "stream",
     "text": [
      "Testing: lr0.01_do0.2_hu128_128_64_adam\n",
      "Epoch 34: early stopping\n",
      "Restoring model weights from the end of the best epoch: 29.\n"
     ]
    },
    {
     "name": "stderr",
     "output_type": "stream",
     "text": [
      "Grid Search Progress:  12%|█▏        | 58/480 [1:18:34<12:04:35, 103.02s/it]"
     ]
    },
    {
     "name": "stdout",
     "output_type": "stream",
     "text": [
      "Testing: lr0.01_do0.2_hu128_128_128_sgd\n",
      "Epoch 34: early stopping\n",
      "Restoring model weights from the end of the best epoch: 29.\n"
     ]
    },
    {
     "name": "stderr",
     "output_type": "stream",
     "text": [
      "Grid Search Progress:  12%|█▏        | 59/480 [1:19:54<11:13:37, 96.00s/it] "
     ]
    },
    {
     "name": "stdout",
     "output_type": "stream",
     "text": [
      "Testing: lr0.01_do0.2_hu128_128_128_adam\n",
      "Epoch 34: early stopping\n",
      "Restoring model weights from the end of the best epoch: 29.\n"
     ]
    },
    {
     "name": "stderr",
     "output_type": "stream",
     "text": [
      "Grid Search Progress:  12%|█▎        | 60/480 [1:21:40<11:34:44, 99.25s/it]"
     ]
    },
    {
     "name": "stdout",
     "output_type": "stream",
     "text": [
      "Testing: lr0.01_do0.2_hu256_32_32_sgd\n",
      "Epoch 38: early stopping\n",
      "Restoring model weights from the end of the best epoch: 33.\n"
     ]
    },
    {
     "name": "stderr",
     "output_type": "stream",
     "text": [
      "Grid Search Progress:  13%|█▎        | 61/480 [1:23:16<11:24:37, 98.04s/it]"
     ]
    },
    {
     "name": "stdout",
     "output_type": "stream",
     "text": [
      "Testing: lr0.01_do0.2_hu256_32_32_adam\n",
      "Epoch 39: early stopping\n",
      "Restoring model weights from the end of the best epoch: 34.\n"
     ]
    },
    {
     "name": "stderr",
     "output_type": "stream",
     "text": [
      "Grid Search Progress:  13%|█▎        | 62/480 [1:25:28<12:34:16, 108.27s/it]"
     ]
    },
    {
     "name": "stdout",
     "output_type": "stream",
     "text": [
      "Testing: lr0.01_do0.2_hu256_64_32_sgd\n",
      "Epoch 43: early stopping\n",
      "Restoring model weights from the end of the best epoch: 38.\n"
     ]
    },
    {
     "name": "stderr",
     "output_type": "stream",
     "text": [
      "Grid Search Progress:  13%|█▎        | 63/480 [1:27:18<12:37:13, 108.95s/it]"
     ]
    },
    {
     "name": "stdout",
     "output_type": "stream",
     "text": [
      "Testing: lr0.01_do0.2_hu256_64_32_adam\n",
      "Epoch 33: early stopping\n",
      "Restoring model weights from the end of the best epoch: 28.\n"
     ]
    },
    {
     "name": "stderr",
     "output_type": "stream",
     "text": [
      "Grid Search Progress:  13%|█▎        | 64/480 [1:29:13<12:47:57, 110.76s/it]"
     ]
    },
    {
     "name": "stdout",
     "output_type": "stream",
     "text": [
      "Testing: lr0.01_do0.2_hu256_64_64_sgd\n",
      "Epoch 35: early stopping\n",
      "Restoring model weights from the end of the best epoch: 30.\n"
     ]
    },
    {
     "name": "stderr",
     "output_type": "stream",
     "text": [
      "Grid Search Progress:  14%|█▎        | 65/480 [1:30:52<12:21:01, 107.14s/it]"
     ]
    },
    {
     "name": "stdout",
     "output_type": "stream",
     "text": [
      "Testing: lr0.01_do0.2_hu256_64_64_adam\n",
      "Epoch 36: early stopping\n",
      "Restoring model weights from the end of the best epoch: 31.\n"
     ]
    },
    {
     "name": "stderr",
     "output_type": "stream",
     "text": [
      "Grid Search Progress:  14%|█▍        | 66/480 [1:33:08<13:18:05, 115.67s/it]"
     ]
    },
    {
     "name": "stdout",
     "output_type": "stream",
     "text": [
      "Testing: lr0.01_do0.2_hu256_128_32_sgd\n",
      "Epoch 40: early stopping\n",
      "Restoring model weights from the end of the best epoch: 35.\n"
     ]
    },
    {
     "name": "stderr",
     "output_type": "stream",
     "text": [
      "Grid Search Progress:  14%|█▍        | 67/480 [1:35:03<13:14:47, 115.47s/it]"
     ]
    },
    {
     "name": "stdout",
     "output_type": "stream",
     "text": [
      "Testing: lr0.01_do0.2_hu256_128_32_adam\n",
      "Epoch 32: early stopping\n",
      "Restoring model weights from the end of the best epoch: 27.\n"
     ]
    },
    {
     "name": "stderr",
     "output_type": "stream",
     "text": [
      "Grid Search Progress:  14%|█▍        | 68/480 [1:37:02<13:21:32, 116.73s/it]"
     ]
    },
    {
     "name": "stdout",
     "output_type": "stream",
     "text": [
      "Testing: lr0.01_do0.2_hu256_128_64_sgd\n",
      "Epoch 47: early stopping\n",
      "Restoring model weights from the end of the best epoch: 42.\n"
     ]
    },
    {
     "name": "stderr",
     "output_type": "stream",
     "text": [
      "Grid Search Progress:  14%|█▍        | 69/480 [1:39:14<13:50:22, 121.22s/it]"
     ]
    },
    {
     "name": "stdout",
     "output_type": "stream",
     "text": [
      "Testing: lr0.01_do0.2_hu256_128_64_adam\n",
      "Epoch 29: early stopping\n",
      "Restoring model weights from the end of the best epoch: 24.\n"
     ]
    },
    {
     "name": "stderr",
     "output_type": "stream",
     "text": [
      "Grid Search Progress:  15%|█▍        | 70/480 [1:40:58<13:13:03, 116.06s/it]"
     ]
    },
    {
     "name": "stdout",
     "output_type": "stream",
     "text": [
      "Testing: lr0.01_do0.2_hu256_128_128_sgd\n",
      "Epoch 42: early stopping\n",
      "Restoring model weights from the end of the best epoch: 37.\n"
     ]
    },
    {
     "name": "stderr",
     "output_type": "stream",
     "text": [
      "Grid Search Progress:  15%|█▍        | 71/480 [1:42:57<13:16:50, 116.90s/it]"
     ]
    },
    {
     "name": "stdout",
     "output_type": "stream",
     "text": [
      "Testing: lr0.01_do0.2_hu256_128_128_adam\n",
      "Epoch 26: early stopping\n",
      "Restoring model weights from the end of the best epoch: 21.\n"
     ]
    },
    {
     "name": "stderr",
     "output_type": "stream",
     "text": [
      "Grid Search Progress:  15%|█▌        | 72/480 [1:44:35<12:36:03, 111.18s/it]"
     ]
    },
    {
     "name": "stdout",
     "output_type": "stream",
     "text": [
      "Testing: lr0.01_do0.2_hu256_256_32_sgd\n",
      "Epoch 38: early stopping\n",
      "Restoring model weights from the end of the best epoch: 33.\n"
     ]
    },
    {
     "name": "stderr",
     "output_type": "stream",
     "text": [
      "Grid Search Progress:  15%|█▌        | 73/480 [1:46:23<12:28:12, 110.30s/it]"
     ]
    },
    {
     "name": "stdout",
     "output_type": "stream",
     "text": [
      "Testing: lr0.01_do0.2_hu256_256_32_adam\n",
      "Epoch 34: early stopping\n",
      "Restoring model weights from the end of the best epoch: 29.\n"
     ]
    },
    {
     "name": "stderr",
     "output_type": "stream",
     "text": [
      "Grid Search Progress:  15%|█▌        | 74/480 [1:48:31<13:02:50, 115.69s/it]"
     ]
    },
    {
     "name": "stdout",
     "output_type": "stream",
     "text": [
      "Testing: lr0.01_do0.2_hu256_256_64_sgd\n",
      "Epoch 39: early stopping\n",
      "Restoring model weights from the end of the best epoch: 34.\n"
     ]
    },
    {
     "name": "stderr",
     "output_type": "stream",
     "text": [
      "Grid Search Progress:  16%|█▌        | 75/480 [1:50:23<12:53:44, 114.63s/it]"
     ]
    },
    {
     "name": "stdout",
     "output_type": "stream",
     "text": [
      "Testing: lr0.01_do0.2_hu256_256_64_adam\n",
      "Epoch 32: early stopping\n",
      "Restoring model weights from the end of the best epoch: 27.\n"
     ]
    },
    {
     "name": "stderr",
     "output_type": "stream",
     "text": [
      "Grid Search Progress:  16%|█▌        | 76/480 [1:52:25<13:05:57, 116.73s/it]"
     ]
    },
    {
     "name": "stdout",
     "output_type": "stream",
     "text": [
      "Testing: lr0.01_do0.2_hu256_256_128_sgd\n",
      "Epoch 39: early stopping\n",
      "Restoring model weights from the end of the best epoch: 34.\n"
     ]
    },
    {
     "name": "stderr",
     "output_type": "stream",
     "text": [
      "Grid Search Progress:  16%|█▌        | 77/480 [1:54:24<13:09:20, 117.52s/it]"
     ]
    },
    {
     "name": "stdout",
     "output_type": "stream",
     "text": [
      "Testing: lr0.01_do0.2_hu256_256_128_adam\n",
      "Epoch 33: early stopping\n",
      "Restoring model weights from the end of the best epoch: 28.\n"
     ]
    },
    {
     "name": "stderr",
     "output_type": "stream",
     "text": [
      "Grid Search Progress:  16%|█▋        | 78/480 [1:56:34<13:32:17, 121.24s/it]"
     ]
    },
    {
     "name": "stdout",
     "output_type": "stream",
     "text": [
      "Testing: lr0.01_do0.2_hu256_256_256_sgd\n",
      "Epoch 36: early stopping\n",
      "Restoring model weights from the end of the best epoch: 31.\n"
     ]
    },
    {
     "name": "stderr",
     "output_type": "stream",
     "text": [
      "Grid Search Progress:  16%|█▋        | 79/480 [1:58:32<13:22:59, 120.15s/it]"
     ]
    },
    {
     "name": "stdout",
     "output_type": "stream",
     "text": [
      "Testing: lr0.01_do0.2_hu256_256_256_adam\n",
      "Epoch 29: early stopping\n",
      "Restoring model weights from the end of the best epoch: 24.\n"
     ]
    },
    {
     "name": "stderr",
     "output_type": "stream",
     "text": [
      "Grid Search Progress:  17%|█▋        | 80/480 [2:00:43<13:43:39, 123.55s/it]"
     ]
    },
    {
     "name": "stdout",
     "output_type": "stream",
     "text": [
      "Testing: lr0.01_do0.5_hu32_32_32_sgd\n",
      "Epoch 37: early stopping\n",
      "Restoring model weights from the end of the best epoch: 32.\n"
     ]
    },
    {
     "name": "stderr",
     "output_type": "stream",
     "text": [
      "Grid Search Progress:  17%|█▋        | 81/480 [2:01:57<12:01:11, 108.45s/it]"
     ]
    },
    {
     "name": "stdout",
     "output_type": "stream",
     "text": [
      "Testing: lr0.01_do0.5_hu32_32_32_adam\n",
      "Epoch 27: early stopping\n",
      "Restoring model weights from the end of the best epoch: 22.\n"
     ]
    },
    {
     "name": "stderr",
     "output_type": "stream",
     "text": [
      "Grid Search Progress:  17%|█▋        | 82/480 [2:02:58<10:25:35, 94.31s/it] "
     ]
    },
    {
     "name": "stdout",
     "output_type": "stream",
     "text": [
      "Testing: lr0.01_do0.5_hu64_32_32_sgd\n",
      "Epoch 42: early stopping\n",
      "Restoring model weights from the end of the best epoch: 37.\n"
     ]
    },
    {
     "name": "stderr",
     "output_type": "stream",
     "text": [
      "Grid Search Progress:  17%|█▋        | 83/480 [2:04:23<10:06:09, 91.61s/it]"
     ]
    },
    {
     "name": "stdout",
     "output_type": "stream",
     "text": [
      "Testing: lr0.01_do0.5_hu64_32_32_adam\n",
      "Epoch 26: early stopping\n",
      "Restoring model weights from the end of the best epoch: 21.\n"
     ]
    },
    {
     "name": "stderr",
     "output_type": "stream",
     "text": [
      "Grid Search Progress:  18%|█▊        | 84/480 [2:05:27<9:09:33, 83.27s/it] "
     ]
    },
    {
     "name": "stdout",
     "output_type": "stream",
     "text": [
      "Testing: lr0.01_do0.5_hu64_64_32_sgd\n",
      "Epoch 33: early stopping\n",
      "Restoring model weights from the end of the best epoch: 28.\n"
     ]
    },
    {
     "name": "stderr",
     "output_type": "stream",
     "text": [
      "Grid Search Progress:  18%|█▊        | 85/480 [2:06:36<8:39:36, 78.93s/it]"
     ]
    },
    {
     "name": "stdout",
     "output_type": "stream",
     "text": [
      "Testing: lr0.01_do0.5_hu64_64_32_adam\n",
      "Epoch 32: early stopping\n",
      "Restoring model weights from the end of the best epoch: 27.\n"
     ]
    },
    {
     "name": "stderr",
     "output_type": "stream",
     "text": [
      "Grid Search Progress:  18%|█▊        | 86/480 [2:07:54<8:36:42, 78.69s/it]"
     ]
    },
    {
     "name": "stdout",
     "output_type": "stream",
     "text": [
      "Testing: lr0.01_do0.5_hu64_64_64_sgd\n",
      "Epoch 46: early stopping\n",
      "Restoring model weights from the end of the best epoch: 41.\n"
     ]
    },
    {
     "name": "stderr",
     "output_type": "stream",
     "text": [
      "Grid Search Progress:  18%|█▊        | 87/480 [2:09:28<9:04:44, 83.17s/it]"
     ]
    },
    {
     "name": "stdout",
     "output_type": "stream",
     "text": [
      "Testing: lr0.01_do0.5_hu64_64_64_adam\n",
      "Epoch 31: early stopping\n",
      "Restoring model weights from the end of the best epoch: 26.\n"
     ]
    },
    {
     "name": "stderr",
     "output_type": "stream",
     "text": [
      "Grid Search Progress:  18%|█▊        | 88/480 [2:10:42<8:45:34, 80.44s/it]"
     ]
    },
    {
     "name": "stdout",
     "output_type": "stream",
     "text": [
      "Testing: lr0.01_do0.5_hu128_32_32_sgd\n",
      "Epoch 51: early stopping\n",
      "Restoring model weights from the end of the best epoch: 46.\n"
     ]
    },
    {
     "name": "stderr",
     "output_type": "stream",
     "text": [
      "Grid Search Progress:  19%|█▊        | 89/480 [2:12:31<9:40:34, 89.09s/it]"
     ]
    },
    {
     "name": "stdout",
     "output_type": "stream",
     "text": [
      "Testing: lr0.01_do0.5_hu128_32_32_adam\n",
      "Epoch 36: early stopping\n",
      "Restoring model weights from the end of the best epoch: 31.\n"
     ]
    },
    {
     "name": "stderr",
     "output_type": "stream",
     "text": [
      "Grid Search Progress:  19%|█▉        | 90/480 [2:14:15<10:08:30, 93.62s/it]"
     ]
    },
    {
     "name": "stdout",
     "output_type": "stream",
     "text": [
      "Testing: lr0.01_do0.5_hu128_64_32_sgd\n",
      "Epoch 55: early stopping\n",
      "Restoring model weights from the end of the best epoch: 50.\n"
     ]
    },
    {
     "name": "stderr",
     "output_type": "stream",
     "text": [
      "Grid Search Progress:  19%|█▉        | 91/480 [2:16:14<10:56:35, 101.27s/it]"
     ]
    },
    {
     "name": "stdout",
     "output_type": "stream",
     "text": [
      "Testing: lr0.01_do0.5_hu128_64_32_adam\n",
      "Epoch 33: early stopping\n",
      "Restoring model weights from the end of the best epoch: 28.\n"
     ]
    },
    {
     "name": "stderr",
     "output_type": "stream",
     "text": [
      "Grid Search Progress:  19%|█▉        | 92/480 [2:17:51<10:46:20, 99.95s/it] "
     ]
    },
    {
     "name": "stdout",
     "output_type": "stream",
     "text": [
      "Testing: lr0.01_do0.5_hu128_64_64_sgd\n",
      "Epoch 42: early stopping\n",
      "Restoring model weights from the end of the best epoch: 37.\n"
     ]
    },
    {
     "name": "stderr",
     "output_type": "stream",
     "text": [
      "Grid Search Progress:  19%|█▉        | 93/480 [2:19:25<10:32:34, 98.07s/it]"
     ]
    },
    {
     "name": "stdout",
     "output_type": "stream",
     "text": [
      "Testing: lr0.01_do0.5_hu128_64_64_adam\n",
      "Epoch 36: early stopping\n",
      "Restoring model weights from the end of the best epoch: 31.\n"
     ]
    },
    {
     "name": "stderr",
     "output_type": "stream",
     "text": [
      "Grid Search Progress:  20%|█▉        | 94/480 [2:21:13<10:50:44, 101.15s/it]"
     ]
    },
    {
     "name": "stdout",
     "output_type": "stream",
     "text": [
      "Testing: lr0.01_do0.5_hu128_128_32_sgd\n",
      "Epoch 47: early stopping\n",
      "Restoring model weights from the end of the best epoch: 42.\n"
     ]
    },
    {
     "name": "stderr",
     "output_type": "stream",
     "text": [
      "Grid Search Progress:  20%|█▉        | 95/480 [2:22:58<10:56:11, 102.26s/it]"
     ]
    },
    {
     "name": "stdout",
     "output_type": "stream",
     "text": [
      "Testing: lr0.01_do0.5_hu128_128_32_adam\n",
      "Epoch 40: early stopping\n",
      "Restoring model weights from the end of the best epoch: 35.\n"
     ]
    },
    {
     "name": "stderr",
     "output_type": "stream",
     "text": [
      "Grid Search Progress:  20%|██        | 96/480 [2:25:08<11:46:57, 110.46s/it]"
     ]
    },
    {
     "name": "stdout",
     "output_type": "stream",
     "text": [
      "Testing: lr0.01_do0.5_hu128_128_64_sgd\n",
      "Epoch 46: early stopping\n",
      "Restoring model weights from the end of the best epoch: 41.\n"
     ]
    },
    {
     "name": "stderr",
     "output_type": "stream",
     "text": [
      "Grid Search Progress:  20%|██        | 97/480 [2:26:59<11:47:23, 110.82s/it]"
     ]
    },
    {
     "name": "stdout",
     "output_type": "stream",
     "text": [
      "Testing: lr0.01_do0.5_hu128_128_64_adam\n",
      "Epoch 28: early stopping\n",
      "Restoring model weights from the end of the best epoch: 23.\n"
     ]
    },
    {
     "name": "stderr",
     "output_type": "stream",
     "text": [
      "Grid Search Progress:  20%|██        | 98/480 [2:28:30<11:07:40, 104.87s/it]"
     ]
    },
    {
     "name": "stdout",
     "output_type": "stream",
     "text": [
      "Testing: lr0.01_do0.5_hu128_128_128_sgd\n",
      "Epoch 53: early stopping\n",
      "Restoring model weights from the end of the best epoch: 48.\n"
     ]
    },
    {
     "name": "stderr",
     "output_type": "stream",
     "text": [
      "Grid Search Progress:  21%|██        | 99/480 [2:30:43<11:58:09, 113.10s/it]"
     ]
    },
    {
     "name": "stdout",
     "output_type": "stream",
     "text": [
      "Testing: lr0.01_do0.5_hu128_128_128_adam\n",
      "Epoch 37: early stopping\n",
      "Restoring model weights from the end of the best epoch: 32.\n"
     ]
    },
    {
     "name": "stderr",
     "output_type": "stream",
     "text": [
      "Grid Search Progress:  21%|██        | 100/480 [2:32:45<12:14:41, 116.00s/it]"
     ]
    },
    {
     "name": "stdout",
     "output_type": "stream",
     "text": [
      "Testing: lr0.01_do0.5_hu256_32_32_sgd\n",
      "Epoch 43: early stopping\n",
      "Restoring model weights from the end of the best epoch: 38.\n"
     ]
    },
    {
     "name": "stderr",
     "output_type": "stream",
     "text": [
      "Grid Search Progress:  21%|██        | 101/480 [2:34:40<12:09:39, 115.51s/it]"
     ]
    },
    {
     "name": "stdout",
     "output_type": "stream",
     "text": [
      "Testing: lr0.01_do0.5_hu256_32_32_adam\n",
      "Epoch 39: early stopping\n",
      "Restoring model weights from the end of the best epoch: 34.\n"
     ]
    },
    {
     "name": "stderr",
     "output_type": "stream",
     "text": [
      "Grid Search Progress:  21%|██▏       | 102/480 [2:36:57<12:49:25, 122.13s/it]"
     ]
    },
    {
     "name": "stdout",
     "output_type": "stream",
     "text": [
      "Testing: lr0.01_do0.5_hu256_64_32_sgd\n",
      "Epoch 56: early stopping\n",
      "Restoring model weights from the end of the best epoch: 51.\n"
     ]
    },
    {
     "name": "stderr",
     "output_type": "stream",
     "text": [
      "Grid Search Progress:  21%|██▏       | 103/480 [2:39:26<13:38:07, 130.21s/it]"
     ]
    },
    {
     "name": "stdout",
     "output_type": "stream",
     "text": [
      "Testing: lr0.01_do0.5_hu256_64_32_adam\n",
      "Epoch 43: early stopping\n",
      "Restoring model weights from the end of the best epoch: 38.\n"
     ]
    },
    {
     "name": "stderr",
     "output_type": "stream",
     "text": [
      "Grid Search Progress:  22%|██▏       | 104/480 [2:41:58<14:17:02, 136.76s/it]"
     ]
    },
    {
     "name": "stdout",
     "output_type": "stream",
     "text": [
      "Testing: lr0.01_do0.5_hu256_64_64_sgd\n",
      "Epoch 44: early stopping\n",
      "Restoring model weights from the end of the best epoch: 39.\n"
     ]
    },
    {
     "name": "stderr",
     "output_type": "stream",
     "text": [
      "Grid Search Progress:  22%|██▏       | 105/480 [2:43:55<13:36:13, 130.60s/it]"
     ]
    },
    {
     "name": "stdout",
     "output_type": "stream",
     "text": [
      "Testing: lr0.01_do0.5_hu256_64_64_adam\n",
      "Epoch 29: early stopping\n",
      "Restoring model weights from the end of the best epoch: 24.\n"
     ]
    },
    {
     "name": "stderr",
     "output_type": "stream",
     "text": [
      "Grid Search Progress:  22%|██▏       | 106/480 [2:45:39<12:44:53, 122.71s/it]"
     ]
    },
    {
     "name": "stdout",
     "output_type": "stream",
     "text": [
      "Testing: lr0.01_do0.5_hu256_128_32_sgd\n",
      "Epoch 48: early stopping\n",
      "Restoring model weights from the end of the best epoch: 43.\n"
     ]
    },
    {
     "name": "stderr",
     "output_type": "stream",
     "text": [
      "Grid Search Progress:  22%|██▏       | 107/480 [2:47:50<12:58:27, 125.22s/it]"
     ]
    },
    {
     "name": "stdout",
     "output_type": "stream",
     "text": [
      "Testing: lr0.01_do0.5_hu256_128_32_adam\n",
      "Epoch 37: early stopping\n",
      "Restoring model weights from the end of the best epoch: 32.\n"
     ]
    },
    {
     "name": "stderr",
     "output_type": "stream",
     "text": [
      "Grid Search Progress:  22%|██▎       | 108/480 [2:50:04<13:12:18, 127.79s/it]"
     ]
    },
    {
     "name": "stdout",
     "output_type": "stream",
     "text": [
      "Testing: lr0.01_do0.5_hu256_128_64_sgd\n",
      "Epoch 57: early stopping\n",
      "Restoring model weights from the end of the best epoch: 52.\n"
     ]
    },
    {
     "name": "stderr",
     "output_type": "stream",
     "text": [
      "Grid Search Progress:  23%|██▎       | 109/480 [2:52:41<14:04:55, 136.64s/it]"
     ]
    },
    {
     "name": "stdout",
     "output_type": "stream",
     "text": [
      "Testing: lr0.01_do0.5_hu256_128_64_adam\n",
      "Epoch 40: early stopping\n",
      "Restoring model weights from the end of the best epoch: 35.\n"
     ]
    },
    {
     "name": "stderr",
     "output_type": "stream",
     "text": [
      "Grid Search Progress:  23%|██▎       | 110/480 [2:55:06<14:18:38, 139.24s/it]"
     ]
    },
    {
     "name": "stdout",
     "output_type": "stream",
     "text": [
      "Testing: lr0.01_do0.5_hu256_128_128_sgd\n",
      "Epoch 50: early stopping\n",
      "Restoring model weights from the end of the best epoch: 45.\n"
     ]
    },
    {
     "name": "stderr",
     "output_type": "stream",
     "text": [
      "Grid Search Progress:  23%|██▎       | 111/480 [2:57:28<14:21:31, 140.08s/it]"
     ]
    },
    {
     "name": "stdout",
     "output_type": "stream",
     "text": [
      "Testing: lr0.01_do0.5_hu256_128_128_adam\n",
      "Epoch 35: early stopping\n",
      "Restoring model weights from the end of the best epoch: 30.\n"
     ]
    },
    {
     "name": "stderr",
     "output_type": "stream",
     "text": [
      "Grid Search Progress:  23%|██▎       | 112/480 [2:59:41<14:05:18, 137.82s/it]"
     ]
    },
    {
     "name": "stdout",
     "output_type": "stream",
     "text": [
      "Testing: lr0.01_do0.5_hu256_256_32_sgd\n",
      "Epoch 48: early stopping\n",
      "Restoring model weights from the end of the best epoch: 43.\n"
     ]
    },
    {
     "name": "stderr",
     "output_type": "stream",
     "text": [
      "Grid Search Progress:  24%|██▎       | 113/480 [3:01:58<14:01:49, 137.63s/it]"
     ]
    },
    {
     "name": "stdout",
     "output_type": "stream",
     "text": [
      "Testing: lr0.01_do0.5_hu256_256_32_adam\n",
      "Epoch 30: early stopping\n",
      "Restoring model weights from the end of the best epoch: 25.\n"
     ]
    },
    {
     "name": "stderr",
     "output_type": "stream",
     "text": [
      "Grid Search Progress:  24%|██▍       | 114/480 [3:04:04<13:38:51, 134.24s/it]"
     ]
    },
    {
     "name": "stdout",
     "output_type": "stream",
     "text": [
      "Testing: lr0.01_do0.5_hu256_256_64_sgd\n",
      "Epoch 49: early stopping\n",
      "Restoring model weights from the end of the best epoch: 44.\n"
     ]
    },
    {
     "name": "stderr",
     "output_type": "stream",
     "text": [
      "Grid Search Progress:  24%|██▍       | 115/480 [3:06:47<14:28:15, 142.73s/it]"
     ]
    },
    {
     "name": "stdout",
     "output_type": "stream",
     "text": [
      "Testing: lr0.01_do0.5_hu256_256_64_adam\n",
      "Epoch 39: early stopping\n",
      "Restoring model weights from the end of the best epoch: 34.\n"
     ]
    },
    {
     "name": "stderr",
     "output_type": "stream",
     "text": [
      "Grid Search Progress:  24%|██▍       | 116/480 [3:09:32<15:05:41, 149.29s/it]"
     ]
    },
    {
     "name": "stdout",
     "output_type": "stream",
     "text": [
      "Testing: lr0.01_do0.5_hu256_256_128_sgd\n",
      "Epoch 50: early stopping\n",
      "Restoring model weights from the end of the best epoch: 45.\n"
     ]
    },
    {
     "name": "stderr",
     "output_type": "stream",
     "text": [
      "Grid Search Progress:  24%|██▍       | 117/480 [3:12:24<15:45:31, 156.28s/it]"
     ]
    },
    {
     "name": "stdout",
     "output_type": "stream",
     "text": [
      "Testing: lr0.01_do0.5_hu256_256_128_adam\n",
      "Epoch 44: early stopping\n",
      "Restoring model weights from the end of the best epoch: 39.\n"
     ]
    },
    {
     "name": "stderr",
     "output_type": "stream",
     "text": [
      "Grid Search Progress:  25%|██▍       | 118/480 [3:15:36<16:46:44, 166.86s/it]"
     ]
    },
    {
     "name": "stdout",
     "output_type": "stream",
     "text": [
      "Testing: lr0.01_do0.5_hu256_256_256_sgd\n",
      "Epoch 46: early stopping\n",
      "Restoring model weights from the end of the best epoch: 41.\n"
     ]
    },
    {
     "name": "stderr",
     "output_type": "stream",
     "text": [
      "Grid Search Progress:  25%|██▍       | 119/480 [3:18:17<16:34:21, 165.27s/it]"
     ]
    },
    {
     "name": "stdout",
     "output_type": "stream",
     "text": [
      "Testing: lr0.01_do0.5_hu256_256_256_adam\n",
      "Epoch 36: early stopping\n",
      "Restoring model weights from the end of the best epoch: 31.\n"
     ]
    },
    {
     "name": "stderr",
     "output_type": "stream",
     "text": [
      "Grid Search Progress:  25%|██▌       | 120/480 [3:20:59<16:24:33, 164.09s/it]"
     ]
    },
    {
     "name": "stdout",
     "output_type": "stream",
     "text": [
      "Testing: lr0.001_do0.0_hu32_32_32_sgd\n",
      "Epoch 58: early stopping\n",
      "Restoring model weights from the end of the best epoch: 53.\n"
     ]
    },
    {
     "name": "stderr",
     "output_type": "stream",
     "text": [
      "Grid Search Progress:  25%|██▌       | 121/480 [3:22:50<14:47:16, 148.29s/it]"
     ]
    },
    {
     "name": "stdout",
     "output_type": "stream",
     "text": [
      "Testing: lr0.001_do0.0_hu32_32_32_adam\n",
      "Epoch 33: early stopping\n",
      "Restoring model weights from the end of the best epoch: 28.\n"
     ]
    },
    {
     "name": "stderr",
     "output_type": "stream",
     "text": [
      "Grid Search Progress:  25%|██▌       | 122/480 [3:24:01<12:26:48, 125.16s/it]"
     ]
    },
    {
     "name": "stdout",
     "output_type": "stream",
     "text": [
      "Testing: lr0.001_do0.0_hu64_32_32_sgd\n",
      "Epoch 50: early stopping\n",
      "Restoring model weights from the end of the best epoch: 45.\n"
     ]
    },
    {
     "name": "stderr",
     "output_type": "stream",
     "text": [
      "Grid Search Progress:  26%|██▌       | 123/480 [3:25:42<11:40:48, 117.78s/it]"
     ]
    },
    {
     "name": "stdout",
     "output_type": "stream",
     "text": [
      "Testing: lr0.001_do0.0_hu64_32_32_adam\n",
      "Epoch 29: early stopping\n",
      "Restoring model weights from the end of the best epoch: 24.\n"
     ]
    },
    {
     "name": "stderr",
     "output_type": "stream",
     "text": [
      "Grid Search Progress:  26%|██▌       | 124/480 [3:26:47<10:05:46, 102.10s/it]"
     ]
    },
    {
     "name": "stdout",
     "output_type": "stream",
     "text": [
      "Testing: lr0.001_do0.0_hu64_64_32_sgd\n",
      "Epoch 58: early stopping\n",
      "Restoring model weights from the end of the best epoch: 53.\n"
     ]
    },
    {
     "name": "stderr",
     "output_type": "stream",
     "text": [
      "Grid Search Progress:  26%|██▌       | 125/480 [3:28:44<10:29:30, 106.40s/it]"
     ]
    },
    {
     "name": "stdout",
     "output_type": "stream",
     "text": [
      "Testing: lr0.001_do0.0_hu64_64_32_adam\n",
      "Epoch 28: early stopping\n",
      "Restoring model weights from the end of the best epoch: 23.\n"
     ]
    },
    {
     "name": "stderr",
     "output_type": "stream",
     "text": [
      "Grid Search Progress:  26%|██▋       | 126/480 [3:29:47<9:12:08, 93.58s/it]  "
     ]
    },
    {
     "name": "stdout",
     "output_type": "stream",
     "text": [
      "Testing: lr0.001_do0.0_hu64_64_64_sgd\n",
      "Epoch 66: early stopping\n",
      "Restoring model weights from the end of the best epoch: 61.\n"
     ]
    },
    {
     "name": "stderr",
     "output_type": "stream",
     "text": [
      "Grid Search Progress:  26%|██▋       | 127/480 [3:31:59<10:18:26, 105.12s/it]"
     ]
    },
    {
     "name": "stdout",
     "output_type": "stream",
     "text": [
      "Testing: lr0.001_do0.0_hu64_64_64_adam\n",
      "Epoch 27: early stopping\n",
      "Restoring model weights from the end of the best epoch: 22.\n"
     ]
    },
    {
     "name": "stderr",
     "output_type": "stream",
     "text": [
      "Grid Search Progress:  27%|██▋       | 128/480 [3:33:03<9:02:51, 92.53s/it]  "
     ]
    },
    {
     "name": "stdout",
     "output_type": "stream",
     "text": [
      "Testing: lr0.001_do0.0_hu128_32_32_sgd\n",
      "Epoch 65: early stopping\n",
      "Restoring model weights from the end of the best epoch: 60.\n"
     ]
    },
    {
     "name": "stderr",
     "output_type": "stream",
     "text": [
      "Grid Search Progress:  27%|██▋       | 129/480 [3:35:20<10:20:24, 106.05s/it]"
     ]
    },
    {
     "name": "stdout",
     "output_type": "stream",
     "text": [
      "Testing: lr0.001_do0.0_hu128_32_32_adam\n",
      "Epoch 23: early stopping\n",
      "Restoring model weights from the end of the best epoch: 18.\n"
     ]
    },
    {
     "name": "stderr",
     "output_type": "stream",
     "text": [
      "Grid Search Progress:  27%|██▋       | 130/480 [3:36:25<9:06:31, 93.69s/it]  "
     ]
    },
    {
     "name": "stdout",
     "output_type": "stream",
     "text": [
      "Testing: lr0.001_do0.0_hu128_64_32_sgd\n",
      "Epoch 58: early stopping\n",
      "Restoring model weights from the end of the best epoch: 53.\n"
     ]
    },
    {
     "name": "stderr",
     "output_type": "stream",
     "text": [
      "Grid Search Progress:  27%|██▋       | 131/480 [3:38:30<9:58:45, 102.94s/it]"
     ]
    },
    {
     "name": "stdout",
     "output_type": "stream",
     "text": [
      "Testing: lr0.001_do0.0_hu128_64_32_adam\n",
      "Epoch 24: early stopping\n",
      "Restoring model weights from the end of the best epoch: 19.\n"
     ]
    },
    {
     "name": "stderr",
     "output_type": "stream",
     "text": [
      "Grid Search Progress:  28%|██▊       | 132/480 [3:39:38<8:57:20, 92.65s/it] "
     ]
    },
    {
     "name": "stdout",
     "output_type": "stream",
     "text": [
      "Testing: lr0.001_do0.0_hu128_64_64_sgd\n",
      "Epoch 61: early stopping\n",
      "Restoring model weights from the end of the best epoch: 56.\n"
     ]
    },
    {
     "name": "stderr",
     "output_type": "stream",
     "text": [
      "Grid Search Progress:  28%|██▊       | 133/480 [3:41:51<10:05:18, 104.67s/it]"
     ]
    },
    {
     "name": "stdout",
     "output_type": "stream",
     "text": [
      "Testing: lr0.001_do0.0_hu128_64_64_adam\n",
      "Epoch 22: early stopping\n",
      "Restoring model weights from the end of the best epoch: 17.\n"
     ]
    },
    {
     "name": "stderr",
     "output_type": "stream",
     "text": [
      "Grid Search Progress:  28%|██▊       | 134/480 [3:42:54<8:52:22, 92.32s/it]  "
     ]
    },
    {
     "name": "stdout",
     "output_type": "stream",
     "text": [
      "Testing: lr0.001_do0.0_hu128_128_32_sgd\n",
      "Epoch 58: early stopping\n",
      "Restoring model weights from the end of the best epoch: 53.\n"
     ]
    },
    {
     "name": "stderr",
     "output_type": "stream",
     "text": [
      "Grid Search Progress:  28%|██▊       | 135/480 [3:45:01<9:50:11, 102.64s/it]"
     ]
    },
    {
     "name": "stdout",
     "output_type": "stream",
     "text": [
      "Testing: lr0.001_do0.0_hu128_128_32_adam\n",
      "Epoch 23: early stopping\n",
      "Restoring model weights from the end of the best epoch: 18.\n"
     ]
    },
    {
     "name": "stderr",
     "output_type": "stream",
     "text": [
      "Grid Search Progress:  28%|██▊       | 136/480 [3:46:18<9:03:34, 94.81s/it] "
     ]
    },
    {
     "name": "stdout",
     "output_type": "stream",
     "text": [
      "Testing: lr0.001_do0.0_hu128_128_64_sgd\n",
      "Epoch 54: early stopping\n",
      "Restoring model weights from the end of the best epoch: 49.\n"
     ]
    },
    {
     "name": "stderr",
     "output_type": "stream",
     "text": [
      "Grid Search Progress:  29%|██▊       | 137/480 [3:48:28<10:02:42, 105.43s/it]"
     ]
    },
    {
     "name": "stdout",
     "output_type": "stream",
     "text": [
      "Testing: lr0.001_do0.0_hu128_128_64_adam\n",
      "Epoch 25: early stopping\n",
      "Restoring model weights from the end of the best epoch: 20.\n"
     ]
    },
    {
     "name": "stderr",
     "output_type": "stream",
     "text": [
      "Grid Search Progress:  29%|██▉       | 138/480 [3:49:50<9:21:30, 98.51s/it]  "
     ]
    },
    {
     "name": "stdout",
     "output_type": "stream",
     "text": [
      "Testing: lr0.001_do0.0_hu128_128_128_sgd\n",
      "Epoch 60: early stopping\n",
      "Restoring model weights from the end of the best epoch: 55.\n"
     ]
    },
    {
     "name": "stderr",
     "output_type": "stream",
     "text": [
      "Grid Search Progress:  29%|██▉       | 139/480 [3:52:18<10:44:34, 113.41s/it]"
     ]
    },
    {
     "name": "stdout",
     "output_type": "stream",
     "text": [
      "Testing: lr0.001_do0.0_hu128_128_128_adam\n",
      "Epoch 25: early stopping\n",
      "Restoring model weights from the end of the best epoch: 20.\n"
     ]
    },
    {
     "name": "stderr",
     "output_type": "stream",
     "text": [
      "Grid Search Progress:  29%|██▉       | 140/480 [3:53:42<9:52:09, 104.50s/it] "
     ]
    },
    {
     "name": "stdout",
     "output_type": "stream",
     "text": [
      "Testing: lr0.001_do0.0_hu256_32_32_sgd\n",
      "Epoch 65: early stopping\n",
      "Restoring model weights from the end of the best epoch: 60.\n"
     ]
    },
    {
     "name": "stderr",
     "output_type": "stream",
     "text": [
      "Grid Search Progress:  29%|██▉       | 141/480 [3:56:34<11:45:19, 124.84s/it]"
     ]
    },
    {
     "name": "stdout",
     "output_type": "stream",
     "text": [
      "Testing: lr0.001_do0.0_hu256_32_32_adam\n",
      "Epoch 26: early stopping\n",
      "Restoring model weights from the end of the best epoch: 21.\n"
     ]
    },
    {
     "name": "stderr",
     "output_type": "stream",
     "text": [
      "Grid Search Progress:  30%|██▉       | 142/480 [3:58:08<10:50:36, 115.49s/it]"
     ]
    },
    {
     "name": "stdout",
     "output_type": "stream",
     "text": [
      "Testing: lr0.001_do0.0_hu256_64_32_sgd\n",
      "Epoch 59: early stopping\n",
      "Restoring model weights from the end of the best epoch: 54.\n"
     ]
    },
    {
     "name": "stderr",
     "output_type": "stream",
     "text": [
      "Grid Search Progress:  30%|██▉       | 143/480 [4:00:45<11:59:12, 128.05s/it]"
     ]
    },
    {
     "name": "stdout",
     "output_type": "stream",
     "text": [
      "Testing: lr0.001_do0.0_hu256_64_32_adam\n",
      "Epoch 21: early stopping\n",
      "Restoring model weights from the end of the best epoch: 16.\n"
     ]
    },
    {
     "name": "stderr",
     "output_type": "stream",
     "text": [
      "Grid Search Progress:  30%|███       | 144/480 [4:02:02<10:30:29, 112.59s/it]"
     ]
    },
    {
     "name": "stdout",
     "output_type": "stream",
     "text": [
      "Testing: lr0.001_do0.0_hu256_64_64_sgd\n",
      "Epoch 56: early stopping\n",
      "Restoring model weights from the end of the best epoch: 51.\n"
     ]
    },
    {
     "name": "stderr",
     "output_type": "stream",
     "text": [
      "Grid Search Progress:  30%|███       | 145/480 [4:04:31<11:29:07, 123.42s/it]"
     ]
    },
    {
     "name": "stdout",
     "output_type": "stream",
     "text": [
      "Testing: lr0.001_do0.0_hu256_64_64_adam\n",
      "Epoch 20: early stopping\n",
      "Restoring model weights from the end of the best epoch: 15.\n"
     ]
    },
    {
     "name": "stderr",
     "output_type": "stream",
     "text": [
      "Grid Search Progress:  30%|███       | 146/480 [4:05:43<10:02:28, 108.23s/it]"
     ]
    },
    {
     "name": "stdout",
     "output_type": "stream",
     "text": [
      "Testing: lr0.001_do0.0_hu256_128_32_sgd\n",
      "Epoch 67: early stopping\n",
      "Restoring model weights from the end of the best epoch: 62.\n"
     ]
    },
    {
     "name": "stderr",
     "output_type": "stream",
     "text": [
      "Grid Search Progress:  31%|███       | 147/480 [4:08:45<12:03:23, 130.34s/it]"
     ]
    },
    {
     "name": "stdout",
     "output_type": "stream",
     "text": [
      "Testing: lr0.001_do0.0_hu256_128_32_adam\n",
      "Epoch 26: early stopping\n",
      "Restoring model weights from the end of the best epoch: 21.\n"
     ]
    },
    {
     "name": "stderr",
     "output_type": "stream",
     "text": [
      "Grid Search Progress:  31%|███       | 148/480 [4:10:19<11:00:26, 119.36s/it]"
     ]
    },
    {
     "name": "stdout",
     "output_type": "stream",
     "text": [
      "Testing: lr0.001_do0.0_hu256_128_64_sgd\n",
      "Epoch 56: early stopping\n",
      "Restoring model weights from the end of the best epoch: 51.\n"
     ]
    },
    {
     "name": "stderr",
     "output_type": "stream",
     "text": [
      "Grid Search Progress:  31%|███       | 149/480 [4:12:51<11:52:14, 129.11s/it]"
     ]
    },
    {
     "name": "stdout",
     "output_type": "stream",
     "text": [
      "Testing: lr0.001_do0.0_hu256_128_64_adam\n",
      "Epoch 23: early stopping\n",
      "Restoring model weights from the end of the best epoch: 18.\n"
     ]
    },
    {
     "name": "stderr",
     "output_type": "stream",
     "text": [
      "Grid Search Progress:  31%|███▏      | 150/480 [4:14:15<10:35:48, 115.60s/it]"
     ]
    },
    {
     "name": "stdout",
     "output_type": "stream",
     "text": [
      "Testing: lr0.001_do0.0_hu256_128_128_sgd\n",
      "Epoch 50: early stopping\n",
      "Restoring model weights from the end of the best epoch: 45.\n"
     ]
    },
    {
     "name": "stderr",
     "output_type": "stream",
     "text": [
      "Grid Search Progress:  31%|███▏      | 151/480 [4:16:35<11:13:46, 122.88s/it]"
     ]
    },
    {
     "name": "stdout",
     "output_type": "stream",
     "text": [
      "Testing: lr0.001_do0.0_hu256_128_128_adam\n",
      "Epoch 23: early stopping\n",
      "Restoring model weights from the end of the best epoch: 18.\n"
     ]
    },
    {
     "name": "stderr",
     "output_type": "stream",
     "text": [
      "Grid Search Progress:  32%|███▏      | 152/480 [4:18:02<10:13:19, 112.19s/it]"
     ]
    },
    {
     "name": "stdout",
     "output_type": "stream",
     "text": [
      "Testing: lr0.001_do0.0_hu256_256_32_sgd\n",
      "Epoch 61: early stopping\n",
      "Restoring model weights from the end of the best epoch: 56.\n"
     ]
    },
    {
     "name": "stderr",
     "output_type": "stream",
     "text": [
      "Grid Search Progress:  32%|███▏      | 153/480 [4:20:55<11:50:02, 130.28s/it]"
     ]
    },
    {
     "name": "stdout",
     "output_type": "stream",
     "text": [
      "Testing: lr0.001_do0.0_hu256_256_32_adam\n",
      "Epoch 24: early stopping\n",
      "Restoring model weights from the end of the best epoch: 19.\n"
     ]
    },
    {
     "name": "stderr",
     "output_type": "stream",
     "text": [
      "Grid Search Progress:  32%|███▏      | 154/480 [4:22:24<10:41:38, 118.09s/it]"
     ]
    },
    {
     "name": "stdout",
     "output_type": "stream",
     "text": [
      "Testing: lr0.001_do0.0_hu256_256_64_sgd\n",
      "Epoch 62: early stopping\n",
      "Restoring model weights from the end of the best epoch: 57.\n"
     ]
    },
    {
     "name": "stderr",
     "output_type": "stream",
     "text": [
      "Grid Search Progress:  32%|███▏      | 155/480 [4:25:20<12:14:00, 135.51s/it]"
     ]
    },
    {
     "name": "stdout",
     "output_type": "stream",
     "text": [
      "Testing: lr0.001_do0.0_hu256_256_64_adam\n",
      "Epoch 20: early stopping\n",
      "Restoring model weights from the end of the best epoch: 15.\n"
     ]
    },
    {
     "name": "stderr",
     "output_type": "stream",
     "text": [
      "Grid Search Progress:  32%|███▎      | 156/480 [4:26:39<10:38:48, 118.30s/it]"
     ]
    },
    {
     "name": "stdout",
     "output_type": "stream",
     "text": [
      "Testing: lr0.001_do0.0_hu256_256_128_sgd\n",
      "Epoch 54: early stopping\n",
      "Restoring model weights from the end of the best epoch: 49.\n"
     ]
    },
    {
     "name": "stderr",
     "output_type": "stream",
     "text": [
      "Grid Search Progress:  33%|███▎      | 157/480 [4:29:19<11:44:20, 130.84s/it]"
     ]
    },
    {
     "name": "stdout",
     "output_type": "stream",
     "text": [
      "Testing: lr0.001_do0.0_hu256_256_128_adam\n",
      "Epoch 21: early stopping\n",
      "Restoring model weights from the end of the best epoch: 16.\n"
     ]
    },
    {
     "name": "stderr",
     "output_type": "stream",
     "text": [
      "Grid Search Progress:  33%|███▎      | 158/480 [4:30:41<10:24:03, 116.28s/it]"
     ]
    },
    {
     "name": "stdout",
     "output_type": "stream",
     "text": [
      "Testing: lr0.001_do0.0_hu256_256_256_sgd\n",
      "Epoch 48: early stopping\n",
      "Restoring model weights from the end of the best epoch: 43.\n"
     ]
    },
    {
     "name": "stderr",
     "output_type": "stream",
     "text": [
      "Grid Search Progress:  33%|███▎      | 159/480 [4:33:14<11:21:10, 127.32s/it]"
     ]
    },
    {
     "name": "stdout",
     "output_type": "stream",
     "text": [
      "Testing: lr0.001_do0.0_hu256_256_256_adam\n",
      "Epoch 20: early stopping\n",
      "Restoring model weights from the end of the best epoch: 15.\n"
     ]
    },
    {
     "name": "stderr",
     "output_type": "stream",
     "text": [
      "Grid Search Progress:  33%|███▎      | 160/480 [4:34:49<10:26:35, 117.49s/it]"
     ]
    },
    {
     "name": "stdout",
     "output_type": "stream",
     "text": [
      "Testing: lr0.001_do0.2_hu32_32_32_sgd\n",
      "Epoch 60: early stopping\n",
      "Restoring model weights from the end of the best epoch: 55.\n"
     ]
    },
    {
     "name": "stderr",
     "output_type": "stream",
     "text": [
      "Grid Search Progress:  34%|███▎      | 161/480 [4:36:55<10:39:28, 120.28s/it]"
     ]
    },
    {
     "name": "stdout",
     "output_type": "stream",
     "text": [
      "Testing: lr0.001_do0.2_hu32_32_32_adam\n",
      "Epoch 36: early stopping\n",
      "Restoring model weights from the end of the best epoch: 31.\n"
     ]
    },
    {
     "name": "stderr",
     "output_type": "stream",
     "text": [
      "Grid Search Progress:  34%|███▍      | 162/480 [4:38:23<9:45:23, 110.45s/it] "
     ]
    },
    {
     "name": "stdout",
     "output_type": "stream",
     "text": [
      "Testing: lr0.001_do0.2_hu64_32_32_sgd\n",
      "Epoch 61: early stopping\n",
      "Restoring model weights from the end of the best epoch: 56.\n"
     ]
    },
    {
     "name": "stderr",
     "output_type": "stream",
     "text": [
      "Grid Search Progress:  34%|███▍      | 163/480 [4:40:36<10:18:48, 117.13s/it]"
     ]
    },
    {
     "name": "stdout",
     "output_type": "stream",
     "text": [
      "Testing: lr0.001_do0.2_hu64_32_32_adam\n",
      "Epoch 38: early stopping\n",
      "Restoring model weights from the end of the best epoch: 33.\n"
     ]
    },
    {
     "name": "stderr",
     "output_type": "stream",
     "text": [
      "Grid Search Progress:  34%|███▍      | 164/480 [4:42:12<9:43:38, 110.82s/it] "
     ]
    },
    {
     "name": "stdout",
     "output_type": "stream",
     "text": [
      "Testing: lr0.001_do0.2_hu64_64_32_sgd\n",
      "Epoch 69: early stopping\n",
      "Restoring model weights from the end of the best epoch: 64.\n"
     ]
    },
    {
     "name": "stderr",
     "output_type": "stream",
     "text": [
      "Grid Search Progress:  34%|███▍      | 165/480 [4:44:41<10:41:49, 122.25s/it]"
     ]
    },
    {
     "name": "stdout",
     "output_type": "stream",
     "text": [
      "Testing: lr0.001_do0.2_hu64_64_32_adam\n",
      "Epoch 36: early stopping\n",
      "Restoring model weights from the end of the best epoch: 31.\n"
     ]
    },
    {
     "name": "stderr",
     "output_type": "stream",
     "text": [
      "Grid Search Progress:  35%|███▍      | 166/480 [4:46:14<9:53:55, 113.49s/it] "
     ]
    },
    {
     "name": "stdout",
     "output_type": "stream",
     "text": [
      "Testing: lr0.001_do0.2_hu64_64_64_sgd\n",
      "Epoch 40: early stopping\n",
      "Restoring model weights from the end of the best epoch: 35.\n"
     ]
    },
    {
     "name": "stderr",
     "output_type": "stream",
     "text": [
      "Grid Search Progress:  35%|███▍      | 167/480 [4:47:41<9:10:45, 105.58s/it]"
     ]
    },
    {
     "name": "stdout",
     "output_type": "stream",
     "text": [
      "Testing: lr0.001_do0.2_hu64_64_64_adam\n",
      "Epoch 34: early stopping\n",
      "Restoring model weights from the end of the best epoch: 29.\n"
     ]
    },
    {
     "name": "stderr",
     "output_type": "stream",
     "text": [
      "Grid Search Progress:  35%|███▌      | 168/480 [4:49:09<8:42:13, 100.43s/it]"
     ]
    },
    {
     "name": "stdout",
     "output_type": "stream",
     "text": [
      "Testing: lr0.001_do0.2_hu128_32_32_sgd\n",
      "Epoch 66: early stopping\n",
      "Restoring model weights from the end of the best epoch: 61.\n"
     ]
    },
    {
     "name": "stderr",
     "output_type": "stream",
     "text": [
      "Grid Search Progress:  35%|███▌      | 169/480 [4:51:40<9:58:26, 115.45s/it]"
     ]
    },
    {
     "name": "stdout",
     "output_type": "stream",
     "text": [
      "Testing: lr0.001_do0.2_hu128_32_32_adam\n",
      "Epoch 37: early stopping\n",
      "Restoring model weights from the end of the best epoch: 32.\n"
     ]
    },
    {
     "name": "stderr",
     "output_type": "stream",
     "text": [
      "Grid Search Progress:  35%|███▌      | 170/480 [4:53:31<9:50:41, 114.33s/it]"
     ]
    },
    {
     "name": "stdout",
     "output_type": "stream",
     "text": [
      "Testing: lr0.001_do0.2_hu128_64_32_sgd\n",
      "Epoch 66: early stopping\n",
      "Restoring model weights from the end of the best epoch: 61.\n"
     ]
    },
    {
     "name": "stderr",
     "output_type": "stream",
     "text": [
      "Grid Search Progress:  36%|███▌      | 171/480 [4:56:05<10:49:17, 126.08s/it]"
     ]
    },
    {
     "name": "stdout",
     "output_type": "stream",
     "text": [
      "Testing: lr0.001_do0.2_hu128_64_32_adam\n",
      "Epoch 33: early stopping\n",
      "Restoring model weights from the end of the best epoch: 28.\n"
     ]
    },
    {
     "name": "stderr",
     "output_type": "stream",
     "text": [
      "Grid Search Progress:  36%|███▌      | 172/480 [4:57:47<10:10:38, 118.96s/it]"
     ]
    },
    {
     "name": "stdout",
     "output_type": "stream",
     "text": [
      "Testing: lr0.001_do0.2_hu128_64_64_sgd\n",
      "Epoch 55: early stopping\n",
      "Restoring model weights from the end of the best epoch: 50.\n"
     ]
    },
    {
     "name": "stderr",
     "output_type": "stream",
     "text": [
      "Grid Search Progress:  36%|███▌      | 173/480 [4:59:54<10:20:44, 121.32s/it]"
     ]
    },
    {
     "name": "stdout",
     "output_type": "stream",
     "text": [
      "Testing: lr0.001_do0.2_hu128_64_64_adam\n",
      "Epoch 40: early stopping\n",
      "Restoring model weights from the end of the best epoch: 35.\n"
     ]
    },
    {
     "name": "stderr",
     "output_type": "stream",
     "text": [
      "Grid Search Progress:  36%|███▋      | 174/480 [5:01:58<10:22:32, 122.07s/it]"
     ]
    },
    {
     "name": "stdout",
     "output_type": "stream",
     "text": [
      "Testing: lr0.001_do0.2_hu128_128_32_sgd\n",
      "Epoch 64: early stopping\n",
      "Restoring model weights from the end of the best epoch: 59.\n"
     ]
    },
    {
     "name": "stderr",
     "output_type": "stream",
     "text": [
      "Grid Search Progress:  36%|███▋      | 175/480 [5:04:27<11:01:48, 130.19s/it]"
     ]
    },
    {
     "name": "stdout",
     "output_type": "stream",
     "text": [
      "Testing: lr0.001_do0.2_hu128_128_32_adam\n",
      "Epoch 33: early stopping\n",
      "Restoring model weights from the end of the best epoch: 28.\n"
     ]
    },
    {
     "name": "stderr",
     "output_type": "stream",
     "text": [
      "Grid Search Progress:  37%|███▋      | 176/480 [5:06:11<10:19:51, 122.34s/it]"
     ]
    },
    {
     "name": "stdout",
     "output_type": "stream",
     "text": [
      "Testing: lr0.001_do0.2_hu128_128_64_sgd\n",
      "Epoch 49: early stopping\n",
      "Restoring model weights from the end of the best epoch: 44.\n"
     ]
    },
    {
     "name": "stderr",
     "output_type": "stream",
     "text": [
      "Grid Search Progress:  37%|███▋      | 177/480 [5:08:07<10:07:58, 120.39s/it]"
     ]
    },
    {
     "name": "stdout",
     "output_type": "stream",
     "text": [
      "Testing: lr0.001_do0.2_hu128_128_64_adam\n",
      "Epoch 33: early stopping\n",
      "Restoring model weights from the end of the best epoch: 28.\n"
     ]
    },
    {
     "name": "stderr",
     "output_type": "stream",
     "text": [
      "Grid Search Progress:  37%|███▋      | 178/480 [5:09:53<9:44:45, 116.18s/it] "
     ]
    },
    {
     "name": "stdout",
     "output_type": "stream",
     "text": [
      "Testing: lr0.001_do0.2_hu128_128_128_sgd\n",
      "Epoch 66: early stopping\n",
      "Restoring model weights from the end of the best epoch: 61.\n"
     ]
    },
    {
     "name": "stderr",
     "output_type": "stream",
     "text": [
      "Grid Search Progress:  37%|███▋      | 179/480 [5:12:35<10:50:42, 129.71s/it]"
     ]
    },
    {
     "name": "stdout",
     "output_type": "stream",
     "text": [
      "Testing: lr0.001_do0.2_hu128_128_128_adam\n",
      "Epoch 36: early stopping\n",
      "Restoring model weights from the end of the best epoch: 31.\n"
     ]
    },
    {
     "name": "stderr",
     "output_type": "stream",
     "text": [
      "Grid Search Progress:  38%|███▊      | 180/480 [5:14:33<10:32:11, 126.44s/it]"
     ]
    },
    {
     "name": "stdout",
     "output_type": "stream",
     "text": [
      "Testing: lr0.001_do0.2_hu256_32_32_sgd\n",
      "Epoch 65: early stopping\n",
      "Restoring model weights from the end of the best epoch: 60.\n"
     ]
    },
    {
     "name": "stderr",
     "output_type": "stream",
     "text": [
      "Grid Search Progress:  38%|███▊      | 181/480 [5:17:24<11:36:37, 139.79s/it]"
     ]
    },
    {
     "name": "stdout",
     "output_type": "stream",
     "text": [
      "Testing: lr0.001_do0.2_hu256_32_32_adam\n",
      "Epoch 33: early stopping\n",
      "Restoring model weights from the end of the best epoch: 28.\n"
     ]
    },
    {
     "name": "stderr",
     "output_type": "stream",
     "text": [
      "Grid Search Progress:  38%|███▊      | 182/480 [5:19:23<11:02:54, 133.47s/it]"
     ]
    },
    {
     "name": "stdout",
     "output_type": "stream",
     "text": [
      "Testing: lr0.001_do0.2_hu256_64_32_sgd\n",
      "Epoch 78: early stopping\n",
      "Restoring model weights from the end of the best epoch: 73.\n"
     ]
    },
    {
     "name": "stderr",
     "output_type": "stream",
     "text": [
      "Grid Search Progress:  38%|███▊      | 183/480 [5:22:54<12:55:52, 156.74s/it]"
     ]
    },
    {
     "name": "stdout",
     "output_type": "stream",
     "text": [
      "Testing: lr0.001_do0.2_hu256_64_32_adam\n",
      "Epoch 32: early stopping\n",
      "Restoring model weights from the end of the best epoch: 27.\n"
     ]
    },
    {
     "name": "stderr",
     "output_type": "stream",
     "text": [
      "Grid Search Progress:  38%|███▊      | 184/480 [5:24:56<12:01:06, 146.17s/it]"
     ]
    },
    {
     "name": "stdout",
     "output_type": "stream",
     "text": [
      "Testing: lr0.001_do0.2_hu256_64_64_sgd\n",
      "Epoch 68: early stopping\n",
      "Restoring model weights from the end of the best epoch: 63.\n"
     ]
    },
    {
     "name": "stderr",
     "output_type": "stream",
     "text": [
      "Grid Search Progress:  39%|███▊      | 185/480 [5:28:38<13:51:36, 169.14s/it]"
     ]
    },
    {
     "name": "stdout",
     "output_type": "stream",
     "text": [
      "Testing: lr0.001_do0.2_hu256_64_64_adam\n",
      "Epoch 33: early stopping\n",
      "Restoring model weights from the end of the best epoch: 28.\n"
     ]
    },
    {
     "name": "stderr",
     "output_type": "stream",
     "text": [
      "Grid Search Progress:  39%|███▉      | 186/480 [5:30:57<13:04:31, 160.11s/it]"
     ]
    },
    {
     "name": "stdout",
     "output_type": "stream",
     "text": [
      "Testing: lr0.001_do0.2_hu256_128_32_sgd\n",
      "Epoch 69: early stopping\n",
      "Restoring model weights from the end of the best epoch: 64.\n"
     ]
    },
    {
     "name": "stderr",
     "output_type": "stream",
     "text": [
      "Grid Search Progress:  39%|███▉      | 187/480 [5:34:49<14:46:30, 181.54s/it]"
     ]
    },
    {
     "name": "stdout",
     "output_type": "stream",
     "text": [
      "Testing: lr0.001_do0.2_hu256_128_32_adam\n",
      "Epoch 36: early stopping\n",
      "Restoring model weights from the end of the best epoch: 31.\n"
     ]
    },
    {
     "name": "stderr",
     "output_type": "stream",
     "text": [
      "Grid Search Progress:  39%|███▉      | 188/480 [5:37:19<13:57:20, 172.06s/it]"
     ]
    },
    {
     "name": "stdout",
     "output_type": "stream",
     "text": [
      "Testing: lr0.001_do0.2_hu256_128_64_sgd\n",
      "Epoch 59: early stopping\n",
      "Restoring model weights from the end of the best epoch: 54.\n"
     ]
    },
    {
     "name": "stderr",
     "output_type": "stream",
     "text": [
      "Grid Search Progress:  39%|███▉      | 189/480 [5:40:35<14:29:02, 179.18s/it]"
     ]
    },
    {
     "name": "stdout",
     "output_type": "stream",
     "text": [
      "Testing: lr0.001_do0.2_hu256_128_64_adam\n",
      "Epoch 31: early stopping\n",
      "Restoring model weights from the end of the best epoch: 26.\n"
     ]
    },
    {
     "name": "stderr",
     "output_type": "stream",
     "text": [
      "Grid Search Progress:  40%|███▉      | 190/480 [5:42:47<13:17:44, 165.05s/it]"
     ]
    },
    {
     "name": "stdout",
     "output_type": "stream",
     "text": [
      "Testing: lr0.001_do0.2_hu256_128_128_sgd\n",
      "Epoch 70: early stopping\n",
      "Restoring model weights from the end of the best epoch: 65.\n"
     ]
    },
    {
     "name": "stderr",
     "output_type": "stream",
     "text": [
      "Grid Search Progress:  40%|███▉      | 191/480 [5:46:45<15:00:20, 186.92s/it]"
     ]
    },
    {
     "name": "stdout",
     "output_type": "stream",
     "text": [
      "Testing: lr0.001_do0.2_hu256_128_128_adam\n",
      "Epoch 35: early stopping\n",
      "Restoring model weights from the end of the best epoch: 30.\n"
     ]
    },
    {
     "name": "stderr",
     "output_type": "stream",
     "text": [
      "Grid Search Progress:  40%|████      | 192/480 [5:49:16<14:05:59, 176.25s/it]"
     ]
    },
    {
     "name": "stdout",
     "output_type": "stream",
     "text": [
      "Testing: lr0.001_do0.2_hu256_256_32_sgd\n",
      "Epoch 63: early stopping\n",
      "Restoring model weights from the end of the best epoch: 58.\n"
     ]
    },
    {
     "name": "stderr",
     "output_type": "stream",
     "text": [
      "Grid Search Progress:  40%|████      | 193/480 [5:52:50<14:57:38, 187.66s/it]"
     ]
    },
    {
     "name": "stdout",
     "output_type": "stream",
     "text": [
      "Testing: lr0.001_do0.2_hu256_256_32_adam\n",
      "Epoch 34: early stopping\n",
      "Restoring model weights from the end of the best epoch: 29.\n"
     ]
    },
    {
     "name": "stderr",
     "output_type": "stream",
     "text": [
      "Grid Search Progress:  40%|████      | 194/480 [5:55:18<13:57:45, 175.75s/it]"
     ]
    },
    {
     "name": "stdout",
     "output_type": "stream",
     "text": [
      "Testing: lr0.001_do0.2_hu256_256_64_sgd\n",
      "Epoch 51: early stopping\n",
      "Restoring model weights from the end of the best epoch: 46.\n"
     ]
    },
    {
     "name": "stderr",
     "output_type": "stream",
     "text": [
      "Grid Search Progress:  41%|████      | 195/480 [5:58:12<13:52:08, 175.19s/it]"
     ]
    },
    {
     "name": "stdout",
     "output_type": "stream",
     "text": [
      "Testing: lr0.001_do0.2_hu256_256_64_adam\n",
      "Epoch 31: early stopping\n",
      "Restoring model weights from the end of the best epoch: 26.\n"
     ]
    },
    {
     "name": "stderr",
     "output_type": "stream",
     "text": [
      "Grid Search Progress:  41%|████      | 196/480 [6:00:29<12:54:13, 163.57s/it]"
     ]
    },
    {
     "name": "stdout",
     "output_type": "stream",
     "text": [
      "Testing: lr0.001_do0.2_hu256_256_128_sgd\n",
      "Epoch 69: early stopping\n",
      "Restoring model weights from the end of the best epoch: 64.\n"
     ]
    },
    {
     "name": "stderr",
     "output_type": "stream",
     "text": [
      "Grid Search Progress:  41%|████      | 197/480 [6:04:30<14:40:58, 186.78s/it]"
     ]
    },
    {
     "name": "stdout",
     "output_type": "stream",
     "text": [
      "Testing: lr0.001_do0.2_hu256_256_128_adam\n",
      "Epoch 31: early stopping\n",
      "Restoring model weights from the end of the best epoch: 26.\n"
     ]
    },
    {
     "name": "stderr",
     "output_type": "stream",
     "text": [
      "Grid Search Progress:  41%|████▏     | 198/480 [6:06:46<13:27:15, 171.76s/it]"
     ]
    },
    {
     "name": "stdout",
     "output_type": "stream",
     "text": [
      "Testing: lr0.001_do0.2_hu256_256_256_sgd\n",
      "Epoch 56: early stopping\n",
      "Restoring model weights from the end of the best epoch: 51.\n"
     ]
    },
    {
     "name": "stderr",
     "output_type": "stream",
     "text": [
      "Grid Search Progress:  41%|████▏     | 199/480 [6:10:08<14:06:06, 180.66s/it]"
     ]
    },
    {
     "name": "stdout",
     "output_type": "stream",
     "text": [
      "Testing: lr0.001_do0.2_hu256_256_256_adam\n",
      "Epoch 22: early stopping\n",
      "Restoring model weights from the end of the best epoch: 17.\n"
     ]
    },
    {
     "name": "stderr",
     "output_type": "stream",
     "text": [
      "Grid Search Progress:  42%|████▏     | 200/480 [6:11:48<12:09:51, 156.40s/it]"
     ]
    },
    {
     "name": "stdout",
     "output_type": "stream",
     "text": [
      "Testing: lr0.001_do0.5_hu32_32_32_sgd\n",
      "Epoch 64: early stopping\n",
      "Restoring model weights from the end of the best epoch: 59.\n"
     ]
    },
    {
     "name": "stderr",
     "output_type": "stream",
     "text": [
      "Grid Search Progress:  42%|████▏     | 201/480 [6:13:54<11:25:42, 147.46s/it]"
     ]
    },
    {
     "name": "stdout",
     "output_type": "stream",
     "text": [
      "Testing: lr0.001_do0.5_hu32_32_32_adam\n",
      "Epoch 26: early stopping\n",
      "Restoring model weights from the end of the best epoch: 21.\n"
     ]
    },
    {
     "name": "stderr",
     "output_type": "stream",
     "text": [
      "Grid Search Progress:  42%|████▏     | 202/480 [6:14:53<9:20:27, 120.96s/it] "
     ]
    },
    {
     "name": "stdout",
     "output_type": "stream",
     "text": [
      "Testing: lr0.001_do0.5_hu64_32_32_sgd\n",
      "Epoch 81: early stopping\n",
      "Restoring model weights from the end of the best epoch: 76.\n"
     ]
    },
    {
     "name": "stderr",
     "output_type": "stream",
     "text": [
      "Grid Search Progress:  42%|████▏     | 203/480 [6:17:39<10:19:53, 134.27s/it]"
     ]
    },
    {
     "name": "stdout",
     "output_type": "stream",
     "text": [
      "Testing: lr0.001_do0.5_hu64_32_32_adam\n",
      "Epoch 27: early stopping\n",
      "Restoring model weights from the end of the best epoch: 22.\n"
     ]
    },
    {
     "name": "stderr",
     "output_type": "stream",
     "text": [
      "Grid Search Progress:  42%|████▎     | 204/480 [6:18:44<8:42:43, 113.64s/it] "
     ]
    },
    {
     "name": "stdout",
     "output_type": "stream",
     "text": [
      "Testing: lr0.001_do0.5_hu64_64_32_sgd\n",
      "Epoch 71: early stopping\n",
      "Restoring model weights from the end of the best epoch: 66.\n"
     ]
    },
    {
     "name": "stderr",
     "output_type": "stream",
     "text": [
      "Grid Search Progress:  43%|████▎     | 205/480 [6:21:11<9:27:11, 123.75s/it]"
     ]
    },
    {
     "name": "stdout",
     "output_type": "stream",
     "text": [
      "Testing: lr0.001_do0.5_hu64_64_32_adam\n",
      "Epoch 27: early stopping\n",
      "Restoring model weights from the end of the best epoch: 22.\n"
     ]
    },
    {
     "name": "stderr",
     "output_type": "stream",
     "text": [
      "Grid Search Progress:  43%|████▎     | 206/480 [6:22:19<8:08:19, 106.93s/it]"
     ]
    },
    {
     "name": "stdout",
     "output_type": "stream",
     "text": [
      "Testing: lr0.001_do0.5_hu64_64_64_sgd\n",
      "Epoch 66: early stopping\n",
      "Restoring model weights from the end of the best epoch: 61.\n"
     ]
    },
    {
     "name": "stderr",
     "output_type": "stream",
     "text": [
      "Grid Search Progress:  43%|████▎     | 207/480 [6:24:37<8:49:01, 116.27s/it]"
     ]
    },
    {
     "name": "stdout",
     "output_type": "stream",
     "text": [
      "Testing: lr0.001_do0.5_hu64_64_64_adam\n",
      "Epoch 31: early stopping\n",
      "Restoring model weights from the end of the best epoch: 26.\n"
     ]
    },
    {
     "name": "stderr",
     "output_type": "stream",
     "text": [
      "Grid Search Progress:  43%|████▎     | 208/480 [6:25:54<7:53:41, 104.49s/it]"
     ]
    },
    {
     "name": "stdout",
     "output_type": "stream",
     "text": [
      "Testing: lr0.001_do0.5_hu128_32_32_sgd\n",
      "Epoch 69: early stopping\n",
      "Restoring model weights from the end of the best epoch: 64.\n"
     ]
    },
    {
     "name": "stderr",
     "output_type": "stream",
     "text": [
      "Grid Search Progress:  44%|████▎     | 209/480 [6:28:27<8:56:48, 118.85s/it]"
     ]
    },
    {
     "name": "stdout",
     "output_type": "stream",
     "text": [
      "Testing: lr0.001_do0.5_hu128_32_32_adam\n",
      "Epoch 34: early stopping\n",
      "Restoring model weights from the end of the best epoch: 29.\n"
     ]
    },
    {
     "name": "stderr",
     "output_type": "stream",
     "text": [
      "Grid Search Progress:  44%|████▍     | 210/480 [6:30:08<8:31:28, 113.66s/it]"
     ]
    },
    {
     "name": "stdout",
     "output_type": "stream",
     "text": [
      "Testing: lr0.001_do0.5_hu128_64_32_sgd\n",
      "Epoch 81: early stopping\n",
      "Restoring model weights from the end of the best epoch: 76.\n"
     ]
    },
    {
     "name": "stderr",
     "output_type": "stream",
     "text": [
      "Grid Search Progress:  44%|████▍     | 211/480 [6:33:12<10:03:31, 134.61s/it]"
     ]
    },
    {
     "name": "stdout",
     "output_type": "stream",
     "text": [
      "Testing: lr0.001_do0.5_hu128_64_32_adam\n",
      "Epoch 24: early stopping\n",
      "Restoring model weights from the end of the best epoch: 19.\n"
     ]
    },
    {
     "name": "stderr",
     "output_type": "stream",
     "text": [
      "Grid Search Progress:  44%|████▍     | 212/480 [6:34:26<8:40:25, 116.51s/it] "
     ]
    },
    {
     "name": "stdout",
     "output_type": "stream",
     "text": [
      "Testing: lr0.001_do0.5_hu128_64_64_sgd\n",
      "Epoch 61: early stopping\n",
      "Restoring model weights from the end of the best epoch: 56.\n"
     ]
    },
    {
     "name": "stderr",
     "output_type": "stream",
     "text": [
      "Grid Search Progress:  44%|████▍     | 213/480 [6:37:10<9:41:31, 130.68s/it]"
     ]
    },
    {
     "name": "stdout",
     "output_type": "stream",
     "text": [
      "Testing: lr0.001_do0.5_hu128_64_64_adam\n",
      "Epoch 37: early stopping\n",
      "Restoring model weights from the end of the best epoch: 32.\n"
     ]
    },
    {
     "name": "stderr",
     "output_type": "stream",
     "text": [
      "Grid Search Progress:  45%|████▍     | 214/480 [6:39:16<9:34:07, 129.50s/it]"
     ]
    },
    {
     "name": "stdout",
     "output_type": "stream",
     "text": [
      "Testing: lr0.001_do0.5_hu128_128_32_sgd\n",
      "Epoch 66: early stopping\n",
      "Restoring model weights from the end of the best epoch: 61.\n"
     ]
    },
    {
     "name": "stderr",
     "output_type": "stream",
     "text": [
      "Grid Search Progress:  45%|████▍     | 215/480 [6:42:13<10:34:03, 143.56s/it]"
     ]
    },
    {
     "name": "stdout",
     "output_type": "stream",
     "text": [
      "Testing: lr0.001_do0.5_hu128_128_32_adam\n",
      "Epoch 40: early stopping\n",
      "Restoring model weights from the end of the best epoch: 35.\n"
     ]
    },
    {
     "name": "stderr",
     "output_type": "stream",
     "text": [
      "Grid Search Progress:  45%|████▌     | 216/480 [6:44:33<10:27:42, 142.66s/it]"
     ]
    },
    {
     "name": "stdout",
     "output_type": "stream",
     "text": [
      "Testing: lr0.001_do0.5_hu128_128_64_sgd\n",
      "Epoch 79: early stopping\n",
      "Restoring model weights from the end of the best epoch: 74.\n"
     ]
    },
    {
     "name": "stderr",
     "output_type": "stream",
     "text": [
      "Grid Search Progress:  45%|████▌     | 217/480 [6:48:09<12:00:52, 164.46s/it]"
     ]
    },
    {
     "name": "stdout",
     "output_type": "stream",
     "text": [
      "Testing: lr0.001_do0.5_hu128_128_64_adam\n",
      "Epoch 31: early stopping\n",
      "Restoring model weights from the end of the best epoch: 26.\n"
     ]
    },
    {
     "name": "stderr",
     "output_type": "stream",
     "text": [
      "Grid Search Progress:  45%|████▌     | 218/480 [6:50:03<10:51:54, 149.29s/it]"
     ]
    },
    {
     "name": "stdout",
     "output_type": "stream",
     "text": [
      "Testing: lr0.001_do0.5_hu128_128_128_sgd\n",
      "Epoch 69: early stopping\n",
      "Restoring model weights from the end of the best epoch: 64.\n"
     ]
    },
    {
     "name": "stderr",
     "output_type": "stream",
     "text": [
      "Grid Search Progress:  46%|████▌     | 219/480 [6:53:17<11:48:51, 162.96s/it]"
     ]
    },
    {
     "name": "stdout",
     "output_type": "stream",
     "text": [
      "Testing: lr0.001_do0.5_hu128_128_128_adam\n",
      "Epoch 39: early stopping\n",
      "Restoring model weights from the end of the best epoch: 34.\n"
     ]
    },
    {
     "name": "stderr",
     "output_type": "stream",
     "text": [
      "Grid Search Progress:  46%|████▌     | 220/480 [6:55:41<11:21:34, 157.29s/it]"
     ]
    },
    {
     "name": "stdout",
     "output_type": "stream",
     "text": [
      "Testing: lr0.001_do0.5_hu256_32_32_sgd\n",
      "Epoch 83: early stopping\n",
      "Restoring model weights from the end of the best epoch: 78.\n"
     ]
    },
    {
     "name": "stderr",
     "output_type": "stream",
     "text": [
      "Grid Search Progress:  46%|████▌     | 221/480 [6:59:55<13:23:05, 186.04s/it]"
     ]
    },
    {
     "name": "stdout",
     "output_type": "stream",
     "text": [
      "Testing: lr0.001_do0.5_hu256_32_32_adam\n",
      "Epoch 39: early stopping\n",
      "Restoring model weights from the end of the best epoch: 34.\n"
     ]
    },
    {
     "name": "stderr",
     "output_type": "stream",
     "text": [
      "Grid Search Progress:  46%|████▋     | 222/480 [7:02:30<12:40:33, 176.88s/it]"
     ]
    },
    {
     "name": "stdout",
     "output_type": "stream",
     "text": [
      "Testing: lr0.001_do0.5_hu256_64_32_sgd\n",
      "Epoch 78: early stopping\n",
      "Restoring model weights from the end of the best epoch: 73.\n"
     ]
    },
    {
     "name": "stderr",
     "output_type": "stream",
     "text": [
      "Grid Search Progress:  46%|████▋     | 223/480 [7:06:30<13:58:35, 195.78s/it]"
     ]
    },
    {
     "name": "stdout",
     "output_type": "stream",
     "text": [
      "Testing: lr0.001_do0.5_hu256_64_32_adam\n",
      "Epoch 36: early stopping\n",
      "Restoring model weights from the end of the best epoch: 31.\n"
     ]
    },
    {
     "name": "stderr",
     "output_type": "stream",
     "text": [
      "Grid Search Progress:  47%|████▋     | 224/480 [7:08:56<12:51:29, 180.82s/it]"
     ]
    },
    {
     "name": "stdout",
     "output_type": "stream",
     "text": [
      "Testing: lr0.001_do0.5_hu256_64_64_sgd\n",
      "Epoch 71: early stopping\n",
      "Restoring model weights from the end of the best epoch: 66.\n"
     ]
    },
    {
     "name": "stderr",
     "output_type": "stream",
     "text": [
      "Grid Search Progress:  47%|████▋     | 225/480 [7:12:33<13:34:20, 191.61s/it]"
     ]
    },
    {
     "name": "stdout",
     "output_type": "stream",
     "text": [
      "Testing: lr0.001_do0.5_hu256_64_64_adam\n",
      "Epoch 45: early stopping\n",
      "Restoring model weights from the end of the best epoch: 40.\n"
     ]
    },
    {
     "name": "stderr",
     "output_type": "stream",
     "text": [
      "Grid Search Progress:  47%|████▋     | 226/480 [7:15:32<13:14:59, 187.79s/it]"
     ]
    },
    {
     "name": "stdout",
     "output_type": "stream",
     "text": [
      "Testing: lr0.001_do0.5_hu256_128_32_sgd\n",
      "Epoch 85: early stopping\n",
      "Restoring model weights from the end of the best epoch: 80.\n"
     ]
    },
    {
     "name": "stderr",
     "output_type": "stream",
     "text": [
      "Grid Search Progress:  47%|████▋     | 227/480 [7:19:57<14:50:20, 211.15s/it]"
     ]
    },
    {
     "name": "stdout",
     "output_type": "stream",
     "text": [
      "Testing: lr0.001_do0.5_hu256_128_32_adam\n",
      "Epoch 30: early stopping\n",
      "Restoring model weights from the end of the best epoch: 25.\n"
     ]
    },
    {
     "name": "stderr",
     "output_type": "stream",
     "text": [
      "Grid Search Progress:  48%|████▊     | 228/480 [7:21:57<12:52:16, 183.88s/it]"
     ]
    },
    {
     "name": "stdout",
     "output_type": "stream",
     "text": [
      "Testing: lr0.001_do0.5_hu256_128_64_sgd\n",
      "Epoch 71: early stopping\n",
      "Restoring model weights from the end of the best epoch: 66.\n"
     ]
    },
    {
     "name": "stderr",
     "output_type": "stream",
     "text": [
      "Grid Search Progress:  48%|████▊     | 229/480 [7:25:41<13:39:09, 195.82s/it]"
     ]
    },
    {
     "name": "stdout",
     "output_type": "stream",
     "text": [
      "Testing: lr0.001_do0.5_hu256_128_64_adam\n",
      "Epoch 45: early stopping\n",
      "Restoring model weights from the end of the best epoch: 40.\n"
     ]
    },
    {
     "name": "stderr",
     "output_type": "stream",
     "text": [
      "Grid Search Progress:  48%|████▊     | 230/480 [7:28:45<13:20:53, 192.21s/it]"
     ]
    },
    {
     "name": "stdout",
     "output_type": "stream",
     "text": [
      "Testing: lr0.001_do0.5_hu256_128_128_sgd\n",
      "Epoch 66: early stopping\n",
      "Restoring model weights from the end of the best epoch: 61.\n"
     ]
    },
    {
     "name": "stderr",
     "output_type": "stream",
     "text": [
      "Grid Search Progress:  48%|████▊     | 231/480 [7:32:22<13:48:35, 199.66s/it]"
     ]
    },
    {
     "name": "stdout",
     "output_type": "stream",
     "text": [
      "Testing: lr0.001_do0.5_hu256_128_128_adam\n",
      "Epoch 40: early stopping\n",
      "Restoring model weights from the end of the best epoch: 35.\n"
     ]
    },
    {
     "name": "stderr",
     "output_type": "stream",
     "text": [
      "Grid Search Progress:  48%|████▊     | 232/480 [7:35:10<13:06:31, 190.29s/it]"
     ]
    },
    {
     "name": "stdout",
     "output_type": "stream",
     "text": [
      "Testing: lr0.001_do0.5_hu256_256_32_sgd\n",
      "Epoch 85: early stopping\n",
      "Restoring model weights from the end of the best epoch: 80.\n"
     ]
    },
    {
     "name": "stderr",
     "output_type": "stream",
     "text": [
      "Grid Search Progress:  49%|████▊     | 233/480 [7:39:55<15:00:08, 218.66s/it]"
     ]
    },
    {
     "name": "stdout",
     "output_type": "stream",
     "text": [
      "Testing: lr0.001_do0.5_hu256_256_32_adam\n",
      "Epoch 37: early stopping\n",
      "Restoring model weights from the end of the best epoch: 32.\n"
     ]
    },
    {
     "name": "stderr",
     "output_type": "stream",
     "text": [
      "Grid Search Progress:  49%|████▉     | 234/480 [7:42:32<13:40:27, 200.11s/it]"
     ]
    },
    {
     "name": "stdout",
     "output_type": "stream",
     "text": [
      "Testing: lr0.001_do0.5_hu256_256_64_sgd\n",
      "Epoch 73: early stopping\n",
      "Restoring model weights from the end of the best epoch: 68.\n"
     ]
    },
    {
     "name": "stderr",
     "output_type": "stream",
     "text": [
      "Grid Search Progress:  49%|████▉     | 235/480 [7:46:37<14:32:35, 213.70s/it]"
     ]
    },
    {
     "name": "stdout",
     "output_type": "stream",
     "text": [
      "Testing: lr0.001_do0.5_hu256_256_64_adam\n",
      "Epoch 39: early stopping\n",
      "Restoring model weights from the end of the best epoch: 34.\n"
     ]
    },
    {
     "name": "stderr",
     "output_type": "stream",
     "text": [
      "Grid Search Progress:  49%|████▉     | 236/480 [7:49:28<13:36:57, 200.89s/it]"
     ]
    },
    {
     "name": "stdout",
     "output_type": "stream",
     "text": [
      "Testing: lr0.001_do0.5_hu256_256_128_sgd\n",
      "Epoch 65: early stopping\n",
      "Restoring model weights from the end of the best epoch: 60.\n"
     ]
    },
    {
     "name": "stderr",
     "output_type": "stream",
     "text": [
      "Grid Search Progress:  49%|████▉     | 237/480 [7:53:20<14:11:11, 210.17s/it]"
     ]
    },
    {
     "name": "stdout",
     "output_type": "stream",
     "text": [
      "Testing: lr0.001_do0.5_hu256_256_128_adam\n",
      "Epoch 43: early stopping\n",
      "Restoring model weights from the end of the best epoch: 38.\n"
     ]
    },
    {
     "name": "stderr",
     "output_type": "stream",
     "text": [
      "Grid Search Progress:  50%|████▉     | 238/480 [7:56:30<13:43:20, 204.13s/it]"
     ]
    },
    {
     "name": "stdout",
     "output_type": "stream",
     "text": [
      "Testing: lr0.001_do0.5_hu256_256_256_sgd\n",
      "Epoch 61: early stopping\n",
      "Restoring model weights from the end of the best epoch: 56.\n"
     ]
    },
    {
     "name": "stderr",
     "output_type": "stream",
     "text": [
      "Grid Search Progress:  50%|████▉     | 239/480 [8:00:16<14:05:57, 210.61s/it]"
     ]
    },
    {
     "name": "stdout",
     "output_type": "stream",
     "text": [
      "Testing: lr0.001_do0.5_hu256_256_256_adam\n",
      "Epoch 32: early stopping\n",
      "Restoring model weights from the end of the best epoch: 27.\n"
     ]
    },
    {
     "name": "stderr",
     "output_type": "stream",
     "text": [
      "Grid Search Progress:  50%|█████     | 240/480 [8:02:44<12:47:00, 191.75s/it]"
     ]
    },
    {
     "name": "stdout",
     "output_type": "stream",
     "text": [
      "Testing: lr0.0001_do0.0_hu32_32_32_sgd\n",
      "Epoch 97: early stopping\n",
      "Restoring model weights from the end of the best epoch: 92.\n"
     ]
    },
    {
     "name": "stderr",
     "output_type": "stream",
     "text": [
      "Grid Search Progress:  50%|█████     | 241/480 [8:05:54<12:41:26, 191.16s/it]"
     ]
    },
    {
     "name": "stdout",
     "output_type": "stream",
     "text": [
      "Testing: lr0.0001_do0.0_hu32_32_32_adam\n",
      "Epoch 46: early stopping\n",
      "Restoring model weights from the end of the best epoch: 41.\n"
     ]
    },
    {
     "name": "stderr",
     "output_type": "stream",
     "text": [
      "Grid Search Progress:  50%|█████     | 242/480 [8:07:34<10:50:52, 164.09s/it]"
     ]
    },
    {
     "name": "stdout",
     "output_type": "stream",
     "text": [
      "Testing: lr0.0001_do0.0_hu64_32_32_sgd\n",
      "Epoch 85: early stopping\n",
      "Restoring model weights from the end of the best epoch: 80.\n"
     ]
    },
    {
     "name": "stderr",
     "output_type": "stream",
     "text": [
      "Grid Search Progress:  51%|█████     | 243/480 [8:10:27<10:58:04, 166.60s/it]"
     ]
    },
    {
     "name": "stdout",
     "output_type": "stream",
     "text": [
      "Testing: lr0.0001_do0.0_hu64_32_32_adam\n",
      "Epoch 37: early stopping\n",
      "Restoring model weights from the end of the best epoch: 32.\n"
     ]
    },
    {
     "name": "stderr",
     "output_type": "stream",
     "text": [
      "Grid Search Progress:  51%|█████     | 244/480 [8:12:21<9:53:04, 150.78s/it] "
     ]
    },
    {
     "name": "stdout",
     "output_type": "stream",
     "text": [
      "Testing: lr0.0001_do0.0_hu64_64_32_sgd\n",
      "Epoch 94: early stopping\n",
      "Restoring model weights from the end of the best epoch: 89.\n"
     ]
    },
    {
     "name": "stderr",
     "output_type": "stream",
     "text": [
      "Grid Search Progress:  51%|█████     | 245/480 [8:16:08<11:20:02, 173.63s/it]"
     ]
    },
    {
     "name": "stdout",
     "output_type": "stream",
     "text": [
      "Testing: lr0.0001_do0.0_hu64_64_32_adam\n",
      "Epoch 47: early stopping\n",
      "Restoring model weights from the end of the best epoch: 42.\n"
     ]
    },
    {
     "name": "stderr",
     "output_type": "stream",
     "text": [
      "Grid Search Progress:  51%|█████▏    | 246/480 [8:18:24<10:33:11, 162.36s/it]"
     ]
    },
    {
     "name": "stdout",
     "output_type": "stream",
     "text": [
      "Testing: lr0.0001_do0.0_hu64_64_64_sgd\n",
      "Epoch 87: early stopping\n",
      "Restoring model weights from the end of the best epoch: 82.\n"
     ]
    },
    {
     "name": "stderr",
     "output_type": "stream",
     "text": [
      "Grid Search Progress:  51%|█████▏    | 247/480 [8:21:51<11:23:14, 175.94s/it]"
     ]
    },
    {
     "name": "stdout",
     "output_type": "stream",
     "text": [
      "Testing: lr0.0001_do0.0_hu64_64_64_adam\n",
      "Epoch 39: early stopping\n",
      "Restoring model weights from the end of the best epoch: 34.\n"
     ]
    },
    {
     "name": "stderr",
     "output_type": "stream",
     "text": [
      "Grid Search Progress:  52%|█████▏    | 248/480 [8:23:44<10:06:24, 156.83s/it]"
     ]
    },
    {
     "name": "stdout",
     "output_type": "stream",
     "text": [
      "Testing: lr0.0001_do0.0_hu128_32_32_sgd\n",
      "Epoch 88: early stopping\n",
      "Restoring model weights from the end of the best epoch: 83.\n"
     ]
    },
    {
     "name": "stderr",
     "output_type": "stream",
     "text": [
      "Grid Search Progress:  52%|█████▏    | 249/480 [8:27:20<11:12:04, 174.56s/it]"
     ]
    },
    {
     "name": "stdout",
     "output_type": "stream",
     "text": [
      "Testing: lr0.0001_do0.0_hu128_32_32_adam\n",
      "Epoch 31: early stopping\n",
      "Restoring model weights from the end of the best epoch: 26.\n"
     ]
    },
    {
     "name": "stderr",
     "output_type": "stream",
     "text": [
      "Grid Search Progress:  52%|█████▏    | 250/480 [8:28:59<9:42:42, 152.01s/it] "
     ]
    },
    {
     "name": "stdout",
     "output_type": "stream",
     "text": [
      "Testing: lr0.0001_do0.0_hu128_64_32_sgd\n",
      "Epoch 84: early stopping\n",
      "Restoring model weights from the end of the best epoch: 79.\n"
     ]
    },
    {
     "name": "stderr",
     "output_type": "stream",
     "text": [
      "Grid Search Progress:  52%|█████▏    | 251/480 [8:32:28<10:45:29, 169.13s/it]"
     ]
    },
    {
     "name": "stdout",
     "output_type": "stream",
     "text": [
      "Testing: lr0.0001_do0.0_hu128_64_32_adam\n",
      "Epoch 32: early stopping\n",
      "Restoring model weights from the end of the best epoch: 27.\n"
     ]
    },
    {
     "name": "stderr",
     "output_type": "stream",
     "text": [
      "Grid Search Progress:  52%|█████▎    | 252/480 [8:34:14<9:30:53, 150.23s/it] "
     ]
    },
    {
     "name": "stdout",
     "output_type": "stream",
     "text": [
      "Testing: lr0.0001_do0.0_hu128_64_64_sgd\n",
      "Epoch 73: early stopping\n",
      "Restoring model weights from the end of the best epoch: 68.\n"
     ]
    },
    {
     "name": "stderr",
     "output_type": "stream",
     "text": [
      "Grid Search Progress:  53%|█████▎    | 253/480 [8:37:16<10:04:15, 159.72s/it]"
     ]
    },
    {
     "name": "stdout",
     "output_type": "stream",
     "text": [
      "Testing: lr0.0001_do0.0_hu128_64_64_adam\n",
      "Epoch 32: early stopping\n",
      "Restoring model weights from the end of the best epoch: 27.\n"
     ]
    },
    {
     "name": "stderr",
     "output_type": "stream",
     "text": [
      "Grid Search Progress:  53%|█████▎    | 254/480 [8:39:02<9:00:51, 143.59s/it] "
     ]
    },
    {
     "name": "stdout",
     "output_type": "stream",
     "text": [
      "Testing: lr0.0001_do0.0_hu128_128_32_sgd\n",
      "Epoch 96: early stopping\n",
      "Restoring model weights from the end of the best epoch: 91.\n"
     ]
    },
    {
     "name": "stderr",
     "output_type": "stream",
     "text": [
      "Grid Search Progress:  53%|█████▎    | 255/480 [8:43:04<10:49:33, 173.22s/it]"
     ]
    },
    {
     "name": "stdout",
     "output_type": "stream",
     "text": [
      "Testing: lr0.0001_do0.0_hu128_128_32_adam\n",
      "Epoch 31: early stopping\n",
      "Restoring model weights from the end of the best epoch: 26.\n"
     ]
    },
    {
     "name": "stderr",
     "output_type": "stream",
     "text": [
      "Grid Search Progress:  53%|█████▎    | 256/480 [8:44:50<9:30:42, 152.87s/it] "
     ]
    },
    {
     "name": "stdout",
     "output_type": "stream",
     "text": [
      "Testing: lr0.0001_do0.0_hu128_128_64_sgd\n",
      "Epoch 79: early stopping\n",
      "Restoring model weights from the end of the best epoch: 74.\n"
     ]
    },
    {
     "name": "stderr",
     "output_type": "stream",
     "text": [
      "Grid Search Progress:  54%|█████▎    | 257/480 [8:48:10<10:21:23, 167.19s/it]"
     ]
    },
    {
     "name": "stdout",
     "output_type": "stream",
     "text": [
      "Testing: lr0.0001_do0.0_hu128_128_64_adam\n",
      "Epoch 30: early stopping\n",
      "Restoring model weights from the end of the best epoch: 25.\n"
     ]
    },
    {
     "name": "stderr",
     "output_type": "stream",
     "text": [
      "Grid Search Progress:  54%|█████▍    | 258/480 [8:49:54<9:08:31, 148.25s/it] "
     ]
    },
    {
     "name": "stdout",
     "output_type": "stream",
     "text": [
      "Testing: lr0.0001_do0.0_hu128_128_128_sgd\n",
      "Epoch 77: early stopping\n",
      "Restoring model weights from the end of the best epoch: 72.\n"
     ]
    },
    {
     "name": "stderr",
     "output_type": "stream",
     "text": [
      "Grid Search Progress:  54%|█████▍    | 259/480 [8:53:17<10:05:34, 164.41s/it]"
     ]
    },
    {
     "name": "stdout",
     "output_type": "stream",
     "text": [
      "Testing: lr0.0001_do0.0_hu128_128_128_adam\n",
      "Epoch 28: early stopping\n",
      "Restoring model weights from the end of the best epoch: 23.\n"
     ]
    },
    {
     "name": "stderr",
     "output_type": "stream",
     "text": [
      "Grid Search Progress:  54%|█████▍    | 260/480 [8:54:55<8:50:24, 144.66s/it] "
     ]
    },
    {
     "name": "stdout",
     "output_type": "stream",
     "text": [
      "Testing: lr0.0001_do0.0_hu256_32_32_sgd\n",
      "Epoch 87: early stopping\n",
      "Restoring model weights from the end of the best epoch: 82.\n"
     ]
    },
    {
     "name": "stderr",
     "output_type": "stream",
     "text": [
      "Grid Search Progress:  54%|█████▍    | 261/480 [8:59:00<10:38:10, 174.84s/it]"
     ]
    },
    {
     "name": "stdout",
     "output_type": "stream",
     "text": [
      "Testing: lr0.0001_do0.0_hu256_32_32_adam\n",
      "Epoch 26: early stopping\n",
      "Restoring model weights from the end of the best epoch: 21.\n"
     ]
    },
    {
     "name": "stderr",
     "output_type": "stream",
     "text": [
      "Grid Search Progress:  55%|█████▍    | 262/480 [9:00:39<9:12:09, 151.97s/it] "
     ]
    },
    {
     "name": "stdout",
     "output_type": "stream",
     "text": [
      "Testing: lr0.0001_do0.0_hu256_64_32_sgd\n",
      "Epoch 99: early stopping\n",
      "Restoring model weights from the end of the best epoch: 94.\n"
     ]
    },
    {
     "name": "stderr",
     "output_type": "stream",
     "text": [
      "Grid Search Progress:  55%|█████▍    | 263/480 [9:05:11<11:19:43, 187.94s/it]"
     ]
    },
    {
     "name": "stdout",
     "output_type": "stream",
     "text": [
      "Testing: lr0.0001_do0.0_hu256_64_32_adam\n",
      "Epoch 25: early stopping\n",
      "Restoring model weights from the end of the best epoch: 20.\n"
     ]
    },
    {
     "name": "stderr",
     "output_type": "stream",
     "text": [
      "Grid Search Progress:  55%|█████▌    | 264/480 [9:06:46<9:36:41, 160.19s/it] "
     ]
    },
    {
     "name": "stdout",
     "output_type": "stream",
     "text": [
      "Testing: lr0.0001_do0.0_hu256_64_64_sgd\n",
      "Epoch 88: early stopping\n",
      "Restoring model weights from the end of the best epoch: 83.\n"
     ]
    },
    {
     "name": "stderr",
     "output_type": "stream",
     "text": [
      "Grid Search Progress:  55%|█████▌    | 265/480 [9:10:52<11:06:16, 185.94s/it]"
     ]
    },
    {
     "name": "stdout",
     "output_type": "stream",
     "text": [
      "Testing: lr0.0001_do0.0_hu256_64_64_adam\n",
      "Epoch 25: early stopping\n",
      "Restoring model weights from the end of the best epoch: 20.\n"
     ]
    },
    {
     "name": "stderr",
     "output_type": "stream",
     "text": [
      "Grid Search Progress:  55%|█████▌    | 266/480 [9:12:29<9:27:30, 159.12s/it] "
     ]
    },
    {
     "name": "stdout",
     "output_type": "stream",
     "text": [
      "Testing: lr0.0001_do0.0_hu256_128_32_sgd\n",
      "Epoch 90: early stopping\n",
      "Restoring model weights from the end of the best epoch: 85.\n"
     ]
    },
    {
     "name": "stderr",
     "output_type": "stream",
     "text": [
      "Grid Search Progress:  56%|█████▌    | 267/480 [9:16:48<11:11:20, 189.11s/it]"
     ]
    },
    {
     "name": "stdout",
     "output_type": "stream",
     "text": [
      "Testing: lr0.0001_do0.0_hu256_128_32_adam\n",
      "Epoch 24: early stopping\n",
      "Restoring model weights from the end of the best epoch: 19.\n"
     ]
    },
    {
     "name": "stderr",
     "output_type": "stream",
     "text": [
      "Grid Search Progress:  56%|█████▌    | 268/480 [9:18:22<9:26:54, 160.45s/it] "
     ]
    },
    {
     "name": "stdout",
     "output_type": "stream",
     "text": [
      "Testing: lr0.0001_do0.0_hu256_128_64_sgd\n",
      "Epoch 92: early stopping\n",
      "Restoring model weights from the end of the best epoch: 87.\n"
     ]
    },
    {
     "name": "stderr",
     "output_type": "stream",
     "text": [
      "Grid Search Progress:  56%|█████▌    | 269/480 [9:22:51<11:19:22, 193.19s/it]"
     ]
    },
    {
     "name": "stdout",
     "output_type": "stream",
     "text": [
      "Testing: lr0.0001_do0.0_hu256_128_64_adam\n",
      "Epoch 27: early stopping\n",
      "Restoring model weights from the end of the best epoch: 22.\n"
     ]
    },
    {
     "name": "stderr",
     "output_type": "stream",
     "text": [
      "Grid Search Progress:  56%|█████▋    | 270/480 [9:24:40<9:47:32, 167.87s/it] "
     ]
    },
    {
     "name": "stdout",
     "output_type": "stream",
     "text": [
      "Testing: lr0.0001_do0.0_hu256_128_128_sgd\n",
      "Epoch 77: early stopping\n",
      "Restoring model weights from the end of the best epoch: 72.\n"
     ]
    },
    {
     "name": "stderr",
     "output_type": "stream",
     "text": [
      "Grid Search Progress:  56%|█████▋    | 271/480 [9:28:36<10:56:03, 188.34s/it]"
     ]
    },
    {
     "name": "stdout",
     "output_type": "stream",
     "text": [
      "Testing: lr0.0001_do0.0_hu256_128_128_adam\n",
      "Epoch 25: early stopping\n",
      "Restoring model weights from the end of the best epoch: 20.\n"
     ]
    },
    {
     "name": "stderr",
     "output_type": "stream",
     "text": [
      "Grid Search Progress:  57%|█████▋    | 272/480 [9:30:19<9:24:39, 162.88s/it] "
     ]
    },
    {
     "name": "stdout",
     "output_type": "stream",
     "text": [
      "Testing: lr0.0001_do0.0_hu256_256_32_sgd\n",
      "Epoch 76: early stopping\n",
      "Restoring model weights from the end of the best epoch: 71.\n"
     ]
    },
    {
     "name": "stderr",
     "output_type": "stream",
     "text": [
      "Grid Search Progress:  57%|█████▋    | 273/480 [9:34:15<10:37:37, 184.82s/it]"
     ]
    },
    {
     "name": "stdout",
     "output_type": "stream",
     "text": [
      "Testing: lr0.0001_do0.0_hu256_256_32_adam\n",
      "Epoch 24: early stopping\n",
      "Restoring model weights from the end of the best epoch: 19.\n"
     ]
    },
    {
     "name": "stderr",
     "output_type": "stream",
     "text": [
      "Grid Search Progress:  57%|█████▋    | 274/480 [9:35:56<9:08:10, 159.66s/it] "
     ]
    },
    {
     "name": "stdout",
     "output_type": "stream",
     "text": [
      "Testing: lr0.0001_do0.0_hu256_256_64_sgd\n",
      "Epoch 93: early stopping\n",
      "Restoring model weights from the end of the best epoch: 88.\n"
     ]
    },
    {
     "name": "stderr",
     "output_type": "stream",
     "text": [
      "Grid Search Progress:  57%|█████▋    | 275/480 [9:40:52<11:24:41, 200.40s/it]"
     ]
    },
    {
     "name": "stdout",
     "output_type": "stream",
     "text": [
      "Testing: lr0.0001_do0.0_hu256_256_64_adam\n",
      "Epoch 20: early stopping\n",
      "Restoring model weights from the end of the best epoch: 15.\n"
     ]
    },
    {
     "name": "stderr",
     "output_type": "stream",
     "text": [
      "Grid Search Progress:  57%|█████▊    | 276/480 [9:42:18<9:24:57, 166.16s/it] "
     ]
    },
    {
     "name": "stdout",
     "output_type": "stream",
     "text": [
      "Testing: lr0.0001_do0.0_hu256_256_128_sgd\n",
      "Epoch 76: early stopping\n",
      "Restoring model weights from the end of the best epoch: 71.\n"
     ]
    },
    {
     "name": "stderr",
     "output_type": "stream",
     "text": [
      "Grid Search Progress:  58%|█████▊    | 277/480 [9:46:33<10:52:21, 192.82s/it]"
     ]
    },
    {
     "name": "stdout",
     "output_type": "stream",
     "text": [
      "Testing: lr0.0001_do0.0_hu256_256_128_adam\n",
      "Epoch 23: early stopping\n",
      "Restoring model weights from the end of the best epoch: 18.\n"
     ]
    },
    {
     "name": "stderr",
     "output_type": "stream",
     "text": [
      "Grid Search Progress:  58%|█████▊    | 278/480 [9:48:14<9:15:58, 165.14s/it] "
     ]
    },
    {
     "name": "stdout",
     "output_type": "stream",
     "text": [
      "Testing: lr0.0001_do0.0_hu256_256_256_sgd\n",
      "Epoch 80: early stopping\n",
      "Restoring model weights from the end of the best epoch: 75.\n"
     ]
    },
    {
     "name": "stderr",
     "output_type": "stream",
     "text": [
      "Grid Search Progress:  58%|█████▊    | 279/480 [9:52:52<11:07:09, 199.15s/it]"
     ]
    },
    {
     "name": "stdout",
     "output_type": "stream",
     "text": [
      "Testing: lr0.0001_do0.0_hu256_256_256_adam\n",
      "Epoch 19: early stopping\n",
      "Restoring model weights from the end of the best epoch: 14.\n"
     ]
    },
    {
     "name": "stderr",
     "output_type": "stream",
     "text": [
      "Grid Search Progress:  58%|█████▊    | 280/480 [9:54:45<9:37:25, 173.23s/it] "
     ]
    },
    {
     "name": "stdout",
     "output_type": "stream",
     "text": [
      "Testing: lr0.0001_do0.2_hu32_32_32_sgd\n",
      "Epoch 78: early stopping\n",
      "Restoring model weights from the end of the best epoch: 73.\n"
     ]
    },
    {
     "name": "stderr",
     "output_type": "stream",
     "text": [
      "Grid Search Progress:  59%|█████▊    | 281/480 [9:57:51<9:47:37, 177.18s/it]"
     ]
    },
    {
     "name": "stdout",
     "output_type": "stream",
     "text": [
      "Testing: lr0.0001_do0.2_hu32_32_32_adam\n",
      "Epoch 49: early stopping\n",
      "Restoring model weights from the end of the best epoch: 44.\n"
     ]
    },
    {
     "name": "stderr",
     "output_type": "stream",
     "text": [
      "Grid Search Progress:  59%|█████▉    | 282/480 [10:00:09<9:05:52, 165.41s/it]"
     ]
    },
    {
     "name": "stdout",
     "output_type": "stream",
     "text": [
      "Testing: lr0.0001_do0.2_hu64_32_32_sgd\n",
      "Epoch 89: early stopping\n",
      "Restoring model weights from the end of the best epoch: 84.\n"
     ]
    },
    {
     "name": "stderr",
     "output_type": "stream",
     "text": [
      "Grid Search Progress:  59%|█████▉    | 283/480 [10:03:51<9:58:13, 182.20s/it]"
     ]
    },
    {
     "name": "stdout",
     "output_type": "stream",
     "text": [
      "Testing: lr0.0001_do0.2_hu64_32_32_adam\n",
      "Epoch 59: early stopping\n",
      "Restoring model weights from the end of the best epoch: 54.\n"
     ]
    },
    {
     "name": "stderr",
     "output_type": "stream",
     "text": [
      "Grid Search Progress:  59%|█████▉    | 284/480 [10:06:46<9:48:13, 180.07s/it]"
     ]
    },
    {
     "name": "stdout",
     "output_type": "stream",
     "text": [
      "Testing: lr0.0001_do0.2_hu64_64_32_sgd\n",
      "Epoch 77: early stopping\n",
      "Restoring model weights from the end of the best epoch: 72.\n"
     ]
    },
    {
     "name": "stderr",
     "output_type": "stream",
     "text": [
      "Grid Search Progress:  59%|█████▉    | 285/480 [10:09:58<9:57:08, 183.73s/it]"
     ]
    },
    {
     "name": "stdout",
     "output_type": "stream",
     "text": [
      "Testing: lr0.0001_do0.2_hu64_64_32_adam\n",
      "Epoch 51: early stopping\n",
      "Restoring model weights from the end of the best epoch: 46.\n"
     ]
    },
    {
     "name": "stderr",
     "output_type": "stream",
     "text": [
      "Grid Search Progress:  60%|█████▉    | 286/480 [10:12:31<9:24:37, 174.63s/it]"
     ]
    },
    {
     "name": "stdout",
     "output_type": "stream",
     "text": [
      "Testing: lr0.0001_do0.2_hu64_64_64_sgd\n",
      "Epoch 72: early stopping\n",
      "Restoring model weights from the end of the best epoch: 67.\n"
     ]
    },
    {
     "name": "stderr",
     "output_type": "stream",
     "text": [
      "Grid Search Progress:  60%|█████▉    | 287/480 [10:15:30<9:25:38, 175.85s/it]"
     ]
    },
    {
     "name": "stdout",
     "output_type": "stream",
     "text": [
      "Testing: lr0.0001_do0.2_hu64_64_64_adam\n",
      "Epoch 39: early stopping\n",
      "Restoring model weights from the end of the best epoch: 34.\n"
     ]
    },
    {
     "name": "stderr",
     "output_type": "stream",
     "text": [
      "Grid Search Progress:  60%|██████    | 288/480 [10:17:29<8:28:22, 158.87s/it]"
     ]
    },
    {
     "name": "stdout",
     "output_type": "stream",
     "text": [
      "Testing: lr0.0001_do0.2_hu128_32_32_sgd\n",
      "Epoch 87: early stopping\n",
      "Restoring model weights from the end of the best epoch: 82.\n"
     ]
    },
    {
     "name": "stderr",
     "output_type": "stream",
     "text": [
      "Grid Search Progress:  60%|██████    | 289/480 [10:21:11<9:25:42, 177.71s/it]"
     ]
    },
    {
     "name": "stdout",
     "output_type": "stream",
     "text": [
      "Testing: lr0.0001_do0.2_hu128_32_32_adam\n",
      "Epoch 55: early stopping\n",
      "Restoring model weights from the end of the best epoch: 50.\n"
     ]
    },
    {
     "name": "stderr",
     "output_type": "stream",
     "text": [
      "Grid Search Progress:  60%|██████    | 290/480 [10:24:08<9:22:08, 177.52s/it]"
     ]
    },
    {
     "name": "stdout",
     "output_type": "stream",
     "text": [
      "Testing: lr0.0001_do0.2_hu128_64_32_sgd\n",
      "Epoch 88: early stopping\n",
      "Restoring model weights from the end of the best epoch: 83.\n"
     ]
    },
    {
     "name": "stderr",
     "output_type": "stream",
     "text": [
      "Grid Search Progress:  61%|██████    | 291/480 [10:27:58<10:08:09, 193.07s/it]"
     ]
    },
    {
     "name": "stdout",
     "output_type": "stream",
     "text": [
      "Testing: lr0.0001_do0.2_hu128_64_32_adam\n",
      "Epoch 45: early stopping\n",
      "Restoring model weights from the end of the best epoch: 40.\n"
     ]
    },
    {
     "name": "stderr",
     "output_type": "stream",
     "text": [
      "Grid Search Progress:  61%|██████    | 292/480 [10:30:32<9:28:35, 181.46s/it] "
     ]
    },
    {
     "name": "stdout",
     "output_type": "stream",
     "text": [
      "Testing: lr0.0001_do0.2_hu128_64_64_sgd\n",
      "Epoch 70: early stopping\n",
      "Restoring model weights from the end of the best epoch: 65.\n"
     ]
    },
    {
     "name": "stderr",
     "output_type": "stream",
     "text": [
      "Grid Search Progress:  61%|██████    | 293/480 [10:33:36<9:27:34, 182.11s/it]"
     ]
    },
    {
     "name": "stdout",
     "output_type": "stream",
     "text": [
      "Testing: lr0.0001_do0.2_hu128_64_64_adam\n",
      "Epoch 49: early stopping\n",
      "Restoring model weights from the end of the best epoch: 44.\n"
     ]
    },
    {
     "name": "stderr",
     "output_type": "stream",
     "text": [
      "Grid Search Progress:  61%|██████▏   | 294/480 [10:36:25<9:12:20, 178.17s/it]"
     ]
    },
    {
     "name": "stdout",
     "output_type": "stream",
     "text": [
      "Testing: lr0.0001_do0.2_hu128_128_32_sgd\n",
      "Epoch 93: early stopping\n",
      "Restoring model weights from the end of the best epoch: 88.\n"
     ]
    },
    {
     "name": "stderr",
     "output_type": "stream",
     "text": [
      "Grid Search Progress:  61%|██████▏   | 295/480 [10:40:33<10:14:42, 199.36s/it]"
     ]
    },
    {
     "name": "stdout",
     "output_type": "stream",
     "text": [
      "Testing: lr0.0001_do0.2_hu128_128_32_adam\n",
      "Epoch 42: early stopping\n",
      "Restoring model weights from the end of the best epoch: 37.\n"
     ]
    },
    {
     "name": "stderr",
     "output_type": "stream",
     "text": [
      "Grid Search Progress:  62%|██████▏   | 296/480 [10:43:02<9:24:55, 184.22s/it] "
     ]
    },
    {
     "name": "stdout",
     "output_type": "stream",
     "text": [
      "Testing: lr0.0001_do0.2_hu128_128_64_sgd\n",
      "Epoch 86: early stopping\n",
      "Restoring model weights from the end of the best epoch: 81.\n"
     ]
    },
    {
     "name": "stderr",
     "output_type": "stream",
     "text": [
      "Grid Search Progress:  62%|██████▏   | 297/480 [10:46:58<10:08:57, 199.66s/it]"
     ]
    },
    {
     "name": "stdout",
     "output_type": "stream",
     "text": [
      "Testing: lr0.0001_do0.2_hu128_128_64_adam\n",
      "Epoch 37: early stopping\n",
      "Restoring model weights from the end of the best epoch: 32.\n"
     ]
    },
    {
     "name": "stderr",
     "output_type": "stream",
     "text": [
      "Grid Search Progress:  62%|██████▏   | 298/480 [10:49:14<9:07:21, 180.45s/it] "
     ]
    },
    {
     "name": "stdout",
     "output_type": "stream",
     "text": [
      "Testing: lr0.0001_do0.2_hu128_128_128_sgd\n",
      "Epoch 68: early stopping\n",
      "Restoring model weights from the end of the best epoch: 63.\n"
     ]
    },
    {
     "name": "stderr",
     "output_type": "stream",
     "text": [
      "Grid Search Progress:  62%|██████▏   | 299/480 [10:52:27<9:15:56, 184.29s/it]"
     ]
    },
    {
     "name": "stdout",
     "output_type": "stream",
     "text": [
      "Testing: lr0.0001_do0.2_hu128_128_128_adam\n",
      "Epoch 39: early stopping\n",
      "Restoring model weights from the end of the best epoch: 34.\n"
     ]
    },
    {
     "name": "stderr",
     "output_type": "stream",
     "text": [
      "Grid Search Progress:  62%|██████▎   | 300/480 [10:54:49<8:34:48, 171.60s/it]"
     ]
    },
    {
     "name": "stdout",
     "output_type": "stream",
     "text": [
      "Testing: lr0.0001_do0.2_hu256_32_32_sgd\n",
      "Epoch 93: early stopping\n",
      "Restoring model weights from the end of the best epoch: 88.\n"
     ]
    },
    {
     "name": "stderr",
     "output_type": "stream",
     "text": [
      "Grid Search Progress:  63%|██████▎   | 301/480 [10:59:32<10:11:42, 205.04s/it]"
     ]
    },
    {
     "name": "stdout",
     "output_type": "stream",
     "text": [
      "Testing: lr0.0001_do0.2_hu256_32_32_adam\n",
      "Epoch 54: early stopping\n",
      "Restoring model weights from the end of the best epoch: 49.\n"
     ]
    },
    {
     "name": "stderr",
     "output_type": "stream",
     "text": [
      "Grid Search Progress:  63%|██████▎   | 302/480 [11:03:08<10:18:20, 208.43s/it]"
     ]
    },
    {
     "name": "stdout",
     "output_type": "stream",
     "text": [
      "Testing: lr0.0001_do0.2_hu256_64_32_sgd\n",
      "Epoch 88: early stopping\n",
      "Restoring model weights from the end of the best epoch: 83.\n"
     ]
    },
    {
     "name": "stderr",
     "output_type": "stream",
     "text": [
      "Grid Search Progress:  63%|██████▎   | 303/480 [11:07:44<11:14:46, 228.74s/it]"
     ]
    },
    {
     "name": "stdout",
     "output_type": "stream",
     "text": [
      "Testing: lr0.0001_do0.2_hu256_64_32_adam\n",
      "Epoch 47: early stopping\n",
      "Restoring model weights from the end of the best epoch: 42.\n"
     ]
    },
    {
     "name": "stderr",
     "output_type": "stream",
     "text": [
      "Grid Search Progress:  63%|██████▎   | 304/480 [11:10:55<10:37:51, 217.45s/it]"
     ]
    },
    {
     "name": "stdout",
     "output_type": "stream",
     "text": [
      "Testing: lr0.0001_do0.2_hu256_64_64_sgd\n",
      "Epoch 95: early stopping\n",
      "Restoring model weights from the end of the best epoch: 90.\n"
     ]
    },
    {
     "name": "stderr",
     "output_type": "stream",
     "text": [
      "Grid Search Progress:  64%|██████▎   | 305/480 [11:15:51<11:42:12, 240.76s/it]"
     ]
    },
    {
     "name": "stdout",
     "output_type": "stream",
     "text": [
      "Testing: lr0.0001_do0.2_hu256_64_64_adam\n",
      "Epoch 37: early stopping\n",
      "Restoring model weights from the end of the best epoch: 32.\n"
     ]
    },
    {
     "name": "stderr",
     "output_type": "stream",
     "text": [
      "Grid Search Progress:  64%|██████▍   | 306/480 [11:18:22<10:20:31, 213.98s/it]"
     ]
    },
    {
     "name": "stdout",
     "output_type": "stream",
     "text": [
      "Testing: lr0.0001_do0.2_hu256_128_32_sgd\n",
      "Epoch 95: early stopping\n",
      "Restoring model weights from the end of the best epoch: 90.\n"
     ]
    },
    {
     "name": "stderr",
     "output_type": "stream",
     "text": [
      "Grid Search Progress:  64%|██████▍   | 307/480 [11:23:26<11:34:45, 240.96s/it]"
     ]
    },
    {
     "name": "stdout",
     "output_type": "stream",
     "text": [
      "Testing: lr0.0001_do0.2_hu256_128_32_adam\n",
      "Epoch 41: early stopping\n",
      "Restoring model weights from the end of the best epoch: 36.\n"
     ]
    },
    {
     "name": "stderr",
     "output_type": "stream",
     "text": [
      "Grid Search Progress:  64%|██████▍   | 308/480 [11:26:17<10:30:33, 219.96s/it]"
     ]
    },
    {
     "name": "stdout",
     "output_type": "stream",
     "text": [
      "Testing: lr0.0001_do0.2_hu256_128_64_sgd\n",
      "Epoch 77: early stopping\n",
      "Restoring model weights from the end of the best epoch: 72.\n"
     ]
    },
    {
     "name": "stderr",
     "output_type": "stream",
     "text": [
      "Grid Search Progress:  64%|██████▍   | 309/480 [11:30:31<10:56:23, 230.31s/it]"
     ]
    },
    {
     "name": "stdout",
     "output_type": "stream",
     "text": [
      "Testing: lr0.0001_do0.2_hu256_128_64_adam\n",
      "Epoch 46: early stopping\n",
      "Restoring model weights from the end of the best epoch: 41.\n"
     ]
    },
    {
     "name": "stderr",
     "output_type": "stream",
     "text": [
      "Grid Search Progress:  65%|██████▍   | 310/480 [11:33:48<10:23:54, 220.20s/it]"
     ]
    },
    {
     "name": "stdout",
     "output_type": "stream",
     "text": [
      "Testing: lr0.0001_do0.2_hu256_128_128_sgd\n",
      "Epoch 73: early stopping\n",
      "Restoring model weights from the end of the best epoch: 68.\n"
     ]
    },
    {
     "name": "stderr",
     "output_type": "stream",
     "text": [
      "Grid Search Progress:  65%|██████▍   | 311/480 [11:37:54<10:42:02, 227.94s/it]"
     ]
    },
    {
     "name": "stdout",
     "output_type": "stream",
     "text": [
      "Testing: lr0.0001_do0.2_hu256_128_128_adam\n",
      "Epoch 35: early stopping\n",
      "Restoring model weights from the end of the best epoch: 30.\n"
     ]
    },
    {
     "name": "stderr",
     "output_type": "stream",
     "text": [
      "Grid Search Progress:  65%|██████▌   | 312/480 [11:40:26<9:34:02, 205.02s/it] "
     ]
    },
    {
     "name": "stdout",
     "output_type": "stream",
     "text": [
      "Testing: lr0.0001_do0.2_hu256_256_32_sgd\n",
      "Epoch 95: early stopping\n",
      "Restoring model weights from the end of the best epoch: 90.\n"
     ]
    },
    {
     "name": "stderr",
     "output_type": "stream",
     "text": [
      "Grid Search Progress:  65%|██████▌   | 313/480 [11:45:52<11:12:23, 241.58s/it]"
     ]
    },
    {
     "name": "stdout",
     "output_type": "stream",
     "text": [
      "Testing: lr0.0001_do0.2_hu256_256_32_adam\n",
      "Epoch 38: early stopping\n",
      "Restoring model weights from the end of the best epoch: 33.\n"
     ]
    },
    {
     "name": "stderr",
     "output_type": "stream",
     "text": [
      "Grid Search Progress:  65%|██████▌   | 314/480 [11:48:38<10:05:12, 218.75s/it]"
     ]
    },
    {
     "name": "stdout",
     "output_type": "stream",
     "text": [
      "Testing: lr0.0001_do0.2_hu256_256_64_sgd\n",
      "Epoch 94: early stopping\n",
      "Restoring model weights from the end of the best epoch: 89.\n"
     ]
    },
    {
     "name": "stderr",
     "output_type": "stream",
     "text": [
      "Grid Search Progress:  66%|██████▌   | 315/480 [11:54:03<11:29:34, 250.75s/it]"
     ]
    },
    {
     "name": "stdout",
     "output_type": "stream",
     "text": [
      "Testing: lr0.0001_do0.2_hu256_256_64_adam\n",
      "Epoch 35: early stopping\n",
      "Restoring model weights from the end of the best epoch: 30.\n"
     ]
    },
    {
     "name": "stderr",
     "output_type": "stream",
     "text": [
      "Grid Search Progress:  66%|██████▌   | 316/480 [11:56:41<10:09:20, 222.93s/it]"
     ]
    },
    {
     "name": "stdout",
     "output_type": "stream",
     "text": [
      "Testing: lr0.0001_do0.2_hu256_256_128_sgd\n",
      "Epoch 75: early stopping\n",
      "Restoring model weights from the end of the best epoch: 70.\n"
     ]
    },
    {
     "name": "stderr",
     "output_type": "stream",
     "text": [
      "Grid Search Progress:  66%|██████▌   | 317/480 [12:01:17<10:48:57, 238.88s/it]"
     ]
    },
    {
     "name": "stdout",
     "output_type": "stream",
     "text": [
      "Testing: lr0.0001_do0.2_hu256_256_128_adam\n",
      "Epoch 38: early stopping\n",
      "Restoring model weights from the end of the best epoch: 33.\n"
     ]
    },
    {
     "name": "stderr",
     "output_type": "stream",
     "text": [
      "Grid Search Progress:  66%|██████▋   | 318/480 [12:04:14<9:54:07, 220.04s/it] "
     ]
    },
    {
     "name": "stdout",
     "output_type": "stream",
     "text": [
      "Testing: lr0.0001_do0.2_hu256_256_256_sgd\n",
      "Epoch 76: early stopping\n",
      "Restoring model weights from the end of the best epoch: 71.\n"
     ]
    },
    {
     "name": "stderr",
     "output_type": "stream",
     "text": [
      "Grid Search Progress:  66%|██████▋   | 319/480 [12:11:08<12:26:36, 278.24s/it]"
     ]
    },
    {
     "name": "stdout",
     "output_type": "stream",
     "text": [
      "Testing: lr0.0001_do0.2_hu256_256_256_adam\n",
      "Epoch 35: early stopping\n",
      "Restoring model weights from the end of the best epoch: 30.\n"
     ]
    },
    {
     "name": "stderr",
     "output_type": "stream",
     "text": [
      "Grid Search Progress:  67%|██████▋   | 320/480 [12:14:44<11:32:55, 259.85s/it]"
     ]
    },
    {
     "name": "stdout",
     "output_type": "stream",
     "text": [
      "Testing: lr0.0001_do0.5_hu32_32_32_sgd\n",
      "Epoch 95: early stopping\n",
      "Restoring model weights from the end of the best epoch: 90.\n"
     ]
    },
    {
     "name": "stderr",
     "output_type": "stream",
     "text": [
      "Grid Search Progress:  67%|██████▋   | 321/480 [12:18:34<11:04:24, 250.72s/it]"
     ]
    },
    {
     "name": "stdout",
     "output_type": "stream",
     "text": [
      "Testing: lr0.0001_do0.5_hu32_32_32_adam\n",
      "Epoch 50: early stopping\n",
      "Restoring model weights from the end of the best epoch: 45.\n"
     ]
    },
    {
     "name": "stderr",
     "output_type": "stream",
     "text": [
      "Grid Search Progress:  67%|██████▋   | 322/480 [12:20:59<9:36:25, 218.90s/it] "
     ]
    },
    {
     "name": "stdout",
     "output_type": "stream",
     "text": [
      "Testing: lr0.0001_do0.5_hu64_32_32_sgd\n",
      "Epoch 98: early stopping\n",
      "Restoring model weights from the end of the best epoch: 93.\n"
     ]
    },
    {
     "name": "stderr",
     "output_type": "stream",
     "text": [
      "Grid Search Progress:  67%|██████▋   | 323/480 [12:25:06<9:55:12, 227.47s/it]"
     ]
    },
    {
     "name": "stdout",
     "output_type": "stream",
     "text": [
      "Testing: lr0.0001_do0.5_hu64_32_32_adam\n",
      "Epoch 39: early stopping\n",
      "Restoring model weights from the end of the best epoch: 34.\n"
     ]
    },
    {
     "name": "stderr",
     "output_type": "stream",
     "text": [
      "Grid Search Progress:  68%|██████▊   | 324/480 [12:27:05<8:27:11, 195.07s/it]"
     ]
    },
    {
     "name": "stdout",
     "output_type": "stream",
     "text": [
      "Testing: lr0.0001_do0.5_hu64_64_32_sgd\n",
      "Restoring model weights from the end of the best epoch: 96.\n"
     ]
    },
    {
     "name": "stderr",
     "output_type": "stream",
     "text": [
      "Grid Search Progress:  68%|██████▊   | 325/480 [12:31:19<9:09:27, 212.69s/it]"
     ]
    },
    {
     "name": "stdout",
     "output_type": "stream",
     "text": [
      "Testing: lr0.0001_do0.5_hu64_64_32_adam\n",
      "Epoch 47: early stopping\n",
      "Restoring model weights from the end of the best epoch: 42.\n"
     ]
    },
    {
     "name": "stderr",
     "output_type": "stream",
     "text": [
      "Grid Search Progress:  68%|██████▊   | 326/480 [12:33:44<8:13:37, 192.32s/it]"
     ]
    },
    {
     "name": "stdout",
     "output_type": "stream",
     "text": [
      "Testing: lr0.0001_do0.5_hu64_64_64_sgd\n",
      "Epoch 100: early stopping\n",
      "Restoring model weights from the end of the best epoch: 95.\n"
     ]
    },
    {
     "name": "stderr",
     "output_type": "stream",
     "text": [
      "Grid Search Progress:  68%|██████▊   | 327/480 [12:37:56<8:56:19, 210.32s/it]"
     ]
    },
    {
     "name": "stdout",
     "output_type": "stream",
     "text": [
      "Testing: lr0.0001_do0.5_hu64_64_64_adam\n",
      "Epoch 48: early stopping\n",
      "Restoring model weights from the end of the best epoch: 43.\n"
     ]
    },
    {
     "name": "stderr",
     "output_type": "stream",
     "text": [
      "Grid Search Progress:  68%|██████▊   | 328/480 [12:40:23<8:04:07, 191.10s/it]"
     ]
    },
    {
     "name": "stdout",
     "output_type": "stream",
     "text": [
      "Testing: lr0.0001_do0.5_hu128_32_32_sgd\n",
      "Epoch 93: early stopping\n",
      "Restoring model weights from the end of the best epoch: 88.\n"
     ]
    },
    {
     "name": "stderr",
     "output_type": "stream",
     "text": [
      "Grid Search Progress:  69%|██████▊   | 329/480 [12:44:22<8:37:22, 205.58s/it]"
     ]
    },
    {
     "name": "stdout",
     "output_type": "stream",
     "text": [
      "Testing: lr0.0001_do0.5_hu128_32_32_adam\n",
      "Epoch 63: early stopping\n",
      "Restoring model weights from the end of the best epoch: 58.\n"
     ]
    },
    {
     "name": "stderr",
     "output_type": "stream",
     "text": [
      "Grid Search Progress:  69%|██████▉   | 330/480 [12:47:49<8:34:43, 205.89s/it]"
     ]
    },
    {
     "name": "stdout",
     "output_type": "stream",
     "text": [
      "Testing: lr0.0001_do0.5_hu128_64_32_sgd\n",
      "Restoring model weights from the end of the best epoch: 98.\n"
     ]
    },
    {
     "name": "stderr",
     "output_type": "stream",
     "text": [
      "Grid Search Progress:  69%|██████▉   | 331/480 [12:52:15<9:16:20, 224.03s/it]"
     ]
    },
    {
     "name": "stdout",
     "output_type": "stream",
     "text": [
      "Testing: lr0.0001_do0.5_hu128_64_32_adam\n",
      "Epoch 64: early stopping\n",
      "Restoring model weights from the end of the best epoch: 59.\n"
     ]
    },
    {
     "name": "stderr",
     "output_type": "stream",
     "text": [
      "Grid Search Progress:  69%|██████▉   | 332/480 [12:55:58<9:11:31, 223.59s/it]"
     ]
    },
    {
     "name": "stdout",
     "output_type": "stream",
     "text": [
      "Testing: lr0.0001_do0.5_hu128_64_64_sgd\n",
      "Epoch 96: early stopping\n",
      "Restoring model weights from the end of the best epoch: 91.\n"
     ]
    },
    {
     "name": "stderr",
     "output_type": "stream",
     "text": [
      "Grid Search Progress:  69%|██████▉   | 333/480 [13:00:13<9:31:10, 233.13s/it]"
     ]
    },
    {
     "name": "stdout",
     "output_type": "stream",
     "text": [
      "Testing: lr0.0001_do0.5_hu128_64_64_adam\n",
      "Epoch 58: early stopping\n",
      "Restoring model weights from the end of the best epoch: 53.\n"
     ]
    },
    {
     "name": "stderr",
     "output_type": "stream",
     "text": [
      "Grid Search Progress:  70%|██████▉   | 334/480 [13:03:36<9:05:39, 224.24s/it]"
     ]
    },
    {
     "name": "stdout",
     "output_type": "stream",
     "text": [
      "Testing: lr0.0001_do0.5_hu128_128_32_sgd\n",
      "Restoring model weights from the end of the best epoch: 100.\n"
     ]
    },
    {
     "name": "stderr",
     "output_type": "stream",
     "text": [
      "Grid Search Progress:  70%|██████▉   | 335/480 [13:08:09<9:37:02, 238.78s/it]"
     ]
    },
    {
     "name": "stdout",
     "output_type": "stream",
     "text": [
      "Testing: lr0.0001_do0.5_hu128_128_32_adam\n",
      "Epoch 40: early stopping\n",
      "Restoring model weights from the end of the best epoch: 35.\n"
     ]
    },
    {
     "name": "stderr",
     "output_type": "stream",
     "text": [
      "Grid Search Progress:  70%|███████   | 336/480 [13:10:31<8:23:04, 209.62s/it]"
     ]
    },
    {
     "name": "stdout",
     "output_type": "stream",
     "text": [
      "Testing: lr0.0001_do0.5_hu128_128_64_sgd\n",
      "Epoch 90: early stopping\n",
      "Restoring model weights from the end of the best epoch: 85.\n"
     ]
    },
    {
     "name": "stderr",
     "output_type": "stream",
     "text": [
      "Grid Search Progress:  70%|███████   | 337/480 [13:14:43<8:50:05, 222.42s/it]"
     ]
    },
    {
     "name": "stdout",
     "output_type": "stream",
     "text": [
      "Testing: lr0.0001_do0.5_hu128_128_64_adam\n",
      "Epoch 41: early stopping\n",
      "Restoring model weights from the end of the best epoch: 36.\n"
     ]
    },
    {
     "name": "stderr",
     "output_type": "stream",
     "text": [
      "Grid Search Progress:  70%|███████   | 338/480 [13:17:18<7:58:21, 202.12s/it]"
     ]
    },
    {
     "name": "stdout",
     "output_type": "stream",
     "text": [
      "Testing: lr0.0001_do0.5_hu128_128_128_sgd\n",
      "Epoch 93: early stopping\n",
      "Restoring model weights from the end of the best epoch: 88.\n"
     ]
    },
    {
     "name": "stderr",
     "output_type": "stream",
     "text": [
      "Grid Search Progress:  71%|███████   | 339/480 [13:21:44<8:40:19, 221.41s/it]"
     ]
    },
    {
     "name": "stdout",
     "output_type": "stream",
     "text": [
      "Testing: lr0.0001_do0.5_hu128_128_128_adam\n",
      "Epoch 53: early stopping\n",
      "Restoring model weights from the end of the best epoch: 48.\n"
     ]
    },
    {
     "name": "stderr",
     "output_type": "stream",
     "text": [
      "Grid Search Progress:  71%|███████   | 340/480 [13:25:04<8:21:36, 214.97s/it]"
     ]
    },
    {
     "name": "stdout",
     "output_type": "stream",
     "text": [
      "Testing: lr0.0001_do0.5_hu256_32_32_sgd\n",
      "Restoring model weights from the end of the best epoch: 98.\n"
     ]
    },
    {
     "name": "stderr",
     "output_type": "stream",
     "text": [
      "Grid Search Progress:  71%|███████   | 341/480 [13:30:20<9:27:58, 245.17s/it]"
     ]
    },
    {
     "name": "stdout",
     "output_type": "stream",
     "text": [
      "Testing: lr0.0001_do0.5_hu256_32_32_adam\n",
      "Epoch 65: early stopping\n",
      "Restoring model weights from the end of the best epoch: 60.\n"
     ]
    },
    {
     "name": "stderr",
     "output_type": "stream",
     "text": [
      "Grid Search Progress:  71%|███████▏  | 342/480 [13:34:42<9:35:55, 250.40s/it]"
     ]
    },
    {
     "name": "stdout",
     "output_type": "stream",
     "text": [
      "Testing: lr0.0001_do0.5_hu256_64_32_sgd\n",
      "Restoring model weights from the end of the best epoch: 97.\n"
     ]
    },
    {
     "name": "stderr",
     "output_type": "stream",
     "text": [
      "Grid Search Progress:  71%|███████▏  | 343/480 [13:40:03<10:19:46, 271.44s/it]"
     ]
    },
    {
     "name": "stdout",
     "output_type": "stream",
     "text": [
      "Testing: lr0.0001_do0.5_hu256_64_32_adam\n",
      "Epoch 66: early stopping\n",
      "Restoring model weights from the end of the best epoch: 61.\n"
     ]
    },
    {
     "name": "stderr",
     "output_type": "stream",
     "text": [
      "Grid Search Progress:  72%|███████▏  | 344/480 [13:44:38<10:17:24, 272.39s/it]"
     ]
    },
    {
     "name": "stdout",
     "output_type": "stream",
     "text": [
      "Testing: lr0.0001_do0.5_hu256_64_64_sgd\n",
      "Restoring model weights from the end of the best epoch: 96.\n"
     ]
    },
    {
     "name": "stderr",
     "output_type": "stream",
     "text": [
      "Grid Search Progress:  72%|███████▏  | 345/480 [13:50:02<10:48:20, 288.15s/it]"
     ]
    },
    {
     "name": "stdout",
     "output_type": "stream",
     "text": [
      "Testing: lr0.0001_do0.5_hu256_64_64_adam\n",
      "Epoch 45: early stopping\n",
      "Restoring model weights from the end of the best epoch: 40.\n"
     ]
    },
    {
     "name": "stderr",
     "output_type": "stream",
     "text": [
      "Grid Search Progress:  72%|███████▏  | 346/480 [13:53:13<9:38:07, 258.86s/it] "
     ]
    },
    {
     "name": "stdout",
     "output_type": "stream",
     "text": [
      "Testing: lr0.0001_do0.5_hu256_128_32_sgd\n",
      "Restoring model weights from the end of the best epoch: 99.\n"
     ]
    },
    {
     "name": "stderr",
     "output_type": "stream",
     "text": [
      "Grid Search Progress:  72%|███████▏  | 347/480 [13:58:49<10:25:27, 282.16s/it]"
     ]
    },
    {
     "name": "stdout",
     "output_type": "stream",
     "text": [
      "Testing: lr0.0001_do0.5_hu256_128_32_adam\n",
      "Epoch 64: early stopping\n",
      "Restoring model weights from the end of the best epoch: 59.\n"
     ]
    },
    {
     "name": "stderr",
     "output_type": "stream",
     "text": [
      "Grid Search Progress:  72%|███████▎  | 348/480 [14:03:29<10:18:59, 281.36s/it]"
     ]
    },
    {
     "name": "stdout",
     "output_type": "stream",
     "text": [
      "Testing: lr0.0001_do0.5_hu256_128_64_sgd\n",
      "Epoch 95: early stopping\n",
      "Restoring model weights from the end of the best epoch: 90.\n"
     ]
    },
    {
     "name": "stderr",
     "output_type": "stream",
     "text": [
      "Grid Search Progress:  73%|███████▎  | 349/480 [14:09:00<10:46:43, 296.21s/it]"
     ]
    },
    {
     "name": "stdout",
     "output_type": "stream",
     "text": [
      "Testing: lr0.0001_do0.5_hu256_128_64_adam\n",
      "Epoch 55: early stopping\n",
      "Restoring model weights from the end of the best epoch: 50.\n"
     ]
    },
    {
     "name": "stderr",
     "output_type": "stream",
     "text": [
      "Grid Search Progress:  73%|███████▎  | 350/480 [14:13:04<10:07:40, 280.46s/it]"
     ]
    },
    {
     "name": "stdout",
     "output_type": "stream",
     "text": [
      "Testing: lr0.0001_do0.5_hu256_128_128_sgd\n",
      "Restoring model weights from the end of the best epoch: 99.\n"
     ]
    },
    {
     "name": "stderr",
     "output_type": "stream",
     "text": [
      "Grid Search Progress:  73%|███████▎  | 351/480 [14:18:59<10:51:33, 303.05s/it]"
     ]
    },
    {
     "name": "stdout",
     "output_type": "stream",
     "text": [
      "Testing: lr0.0001_do0.5_hu256_128_128_adam\n",
      "Epoch 62: early stopping\n",
      "Restoring model weights from the end of the best epoch: 57.\n"
     ]
    },
    {
     "name": "stderr",
     "output_type": "stream",
     "text": [
      "Grid Search Progress:  73%|███████▎  | 352/480 [14:23:38<10:31:13, 295.89s/it]"
     ]
    },
    {
     "name": "stdout",
     "output_type": "stream",
     "text": [
      "Testing: lr0.0001_do0.5_hu256_256_32_sgd\n",
      "Epoch 99: early stopping\n",
      "Restoring model weights from the end of the best epoch: 94.\n"
     ]
    },
    {
     "name": "stderr",
     "output_type": "stream",
     "text": [
      "Grid Search Progress:  74%|███████▎  | 353/480 [14:29:37<11:06:20, 314.81s/it]"
     ]
    },
    {
     "name": "stdout",
     "output_type": "stream",
     "text": [
      "Testing: lr0.0001_do0.5_hu256_256_32_adam\n",
      "Epoch 55: early stopping\n",
      "Restoring model weights from the end of the best epoch: 50.\n"
     ]
    },
    {
     "name": "stderr",
     "output_type": "stream",
     "text": [
      "Grid Search Progress:  74%|███████▍  | 354/480 [14:33:49<10:21:27, 295.93s/it]"
     ]
    },
    {
     "name": "stdout",
     "output_type": "stream",
     "text": [
      "Testing: lr0.0001_do0.5_hu256_256_64_sgd\n",
      "Epoch 98: early stopping\n",
      "Restoring model weights from the end of the best epoch: 93.\n"
     ]
    },
    {
     "name": "stderr",
     "output_type": "stream",
     "text": [
      "Grid Search Progress:  74%|███████▍  | 355/480 [14:39:54<10:59:41, 316.65s/it]"
     ]
    },
    {
     "name": "stdout",
     "output_type": "stream",
     "text": [
      "Testing: lr0.0001_do0.5_hu256_256_64_adam\n",
      "Epoch 50: early stopping\n",
      "Restoring model weights from the end of the best epoch: 45.\n"
     ]
    },
    {
     "name": "stderr",
     "output_type": "stream",
     "text": [
      "Grid Search Progress:  74%|███████▍  | 356/480 [14:43:58<10:09:28, 294.91s/it]"
     ]
    },
    {
     "name": "stdout",
     "output_type": "stream",
     "text": [
      "Testing: lr0.0001_do0.5_hu256_256_128_sgd\n",
      "Restoring model weights from the end of the best epoch: 99.\n"
     ]
    },
    {
     "name": "stderr",
     "output_type": "stream",
     "text": [
      "Grid Search Progress:  74%|███████▍  | 357/480 [14:50:29<11:03:17, 323.56s/it]"
     ]
    },
    {
     "name": "stdout",
     "output_type": "stream",
     "text": [
      "Testing: lr0.0001_do0.5_hu256_256_128_adam\n",
      "Epoch 54: early stopping\n",
      "Restoring model weights from the end of the best epoch: 49.\n"
     ]
    },
    {
     "name": "stderr",
     "output_type": "stream",
     "text": [
      "Grid Search Progress:  75%|███████▍  | 358/480 [14:54:57<10:24:10, 306.97s/it]"
     ]
    },
    {
     "name": "stdout",
     "output_type": "stream",
     "text": [
      "Testing: lr0.0001_do0.5_hu256_256_256_sgd\n",
      "Restoring model weights from the end of the best epoch: 97.\n"
     ]
    },
    {
     "name": "stderr",
     "output_type": "stream",
     "text": [
      "Grid Search Progress:  75%|███████▍  | 359/480 [15:01:52<11:24:03, 339.20s/it]"
     ]
    },
    {
     "name": "stdout",
     "output_type": "stream",
     "text": [
      "Testing: lr0.0001_do0.5_hu256_256_256_adam\n",
      "Epoch 48: early stopping\n",
      "Restoring model weights from the end of the best epoch: 43.\n"
     ]
    },
    {
     "name": "stderr",
     "output_type": "stream",
     "text": [
      "Grid Search Progress:  75%|███████▌  | 360/480 [15:05:56<10:21:23, 310.69s/it]"
     ]
    },
    {
     "name": "stdout",
     "output_type": "stream",
     "text": [
      "Testing: lr1e-05_do0.0_hu32_32_32_sgd\n",
      "Restoring model weights from the end of the best epoch: 100.\n"
     ]
    },
    {
     "name": "stderr",
     "output_type": "stream",
     "text": [
      "Grid Search Progress:  75%|███████▌  | 361/480 [15:09:22<9:13:45, 279.21s/it] "
     ]
    },
    {
     "name": "stdout",
     "output_type": "stream",
     "text": [
      "Testing: lr1e-05_do0.0_hu32_32_32_adam\n",
      "Epoch 73: early stopping\n",
      "Restoring model weights from the end of the best epoch: 68.\n"
     ]
    },
    {
     "name": "stderr",
     "output_type": "stream",
     "text": [
      "Grid Search Progress:  75%|███████▌  | 362/480 [15:13:17<8:43:03, 265.96s/it]"
     ]
    },
    {
     "name": "stdout",
     "output_type": "stream",
     "text": [
      "Testing: lr1e-05_do0.0_hu64_32_32_sgd\n",
      "Restoring model weights from the end of the best epoch: 98.\n"
     ]
    },
    {
     "name": "stderr",
     "output_type": "stream",
     "text": [
      "Grid Search Progress:  76%|███████▌  | 363/480 [15:17:46<8:40:39, 267.00s/it]"
     ]
    },
    {
     "name": "stdout",
     "output_type": "stream",
     "text": [
      "Testing: lr1e-05_do0.0_hu64_32_32_adam\n",
      "Epoch 69: early stopping\n",
      "Restoring model weights from the end of the best epoch: 64.\n"
     ]
    },
    {
     "name": "stderr",
     "output_type": "stream",
     "text": [
      "Grid Search Progress:  76%|███████▌  | 364/480 [15:21:33<8:13:10, 255.09s/it]"
     ]
    },
    {
     "name": "stdout",
     "output_type": "stream",
     "text": [
      "Testing: lr1e-05_do0.0_hu64_64_32_sgd\n",
      "Restoring model weights from the end of the best epoch: 98.\n"
     ]
    },
    {
     "name": "stderr",
     "output_type": "stream",
     "text": [
      "Grid Search Progress:  76%|███████▌  | 365/480 [15:26:06<8:19:18, 260.51s/it]"
     ]
    },
    {
     "name": "stdout",
     "output_type": "stream",
     "text": [
      "Testing: lr1e-05_do0.0_hu64_64_32_adam\n",
      "Epoch 62: early stopping\n",
      "Restoring model weights from the end of the best epoch: 57.\n"
     ]
    },
    {
     "name": "stderr",
     "output_type": "stream",
     "text": [
      "Grid Search Progress:  76%|███████▋  | 366/480 [15:29:31<7:43:09, 243.76s/it]"
     ]
    },
    {
     "name": "stdout",
     "output_type": "stream",
     "text": [
      "Testing: lr1e-05_do0.0_hu64_64_64_sgd\n",
      "Restoring model weights from the end of the best epoch: 98.\n"
     ]
    },
    {
     "name": "stderr",
     "output_type": "stream",
     "text": [
      "Grid Search Progress:  76%|███████▋  | 367/480 [15:33:59<7:52:57, 251.13s/it]"
     ]
    },
    {
     "name": "stdout",
     "output_type": "stream",
     "text": [
      "Testing: lr1e-05_do0.0_hu64_64_64_adam\n",
      "Epoch 68: early stopping\n",
      "Restoring model weights from the end of the best epoch: 63.\n"
     ]
    },
    {
     "name": "stderr",
     "output_type": "stream",
     "text": [
      "Grid Search Progress:  77%|███████▋  | 368/480 [15:37:41<7:32:10, 242.24s/it]"
     ]
    },
    {
     "name": "stdout",
     "output_type": "stream",
     "text": [
      "Testing: lr1e-05_do0.0_hu128_32_32_sgd\n",
      "Restoring model weights from the end of the best epoch: 97.\n"
     ]
    },
    {
     "name": "stderr",
     "output_type": "stream",
     "text": [
      "Grid Search Progress:  77%|███████▋  | 369/480 [15:42:10<7:42:50, 250.18s/it]"
     ]
    },
    {
     "name": "stdout",
     "output_type": "stream",
     "text": [
      "Testing: lr1e-05_do0.0_hu128_32_32_adam\n",
      "Epoch 68: early stopping\n",
      "Restoring model weights from the end of the best epoch: 63.\n"
     ]
    },
    {
     "name": "stderr",
     "output_type": "stream",
     "text": [
      "Grid Search Progress:  77%|███████▋  | 370/480 [15:46:02<7:28:53, 244.85s/it]"
     ]
    },
    {
     "name": "stdout",
     "output_type": "stream",
     "text": [
      "Testing: lr1e-05_do0.0_hu128_64_32_sgd\n",
      "Restoring model weights from the end of the best epoch: 98.\n"
     ]
    },
    {
     "name": "stderr",
     "output_type": "stream",
     "text": [
      "Grid Search Progress:  77%|███████▋  | 371/480 [15:50:45<7:45:37, 256.31s/it]"
     ]
    },
    {
     "name": "stdout",
     "output_type": "stream",
     "text": [
      "Testing: lr1e-05_do0.0_hu128_64_32_adam\n",
      "Epoch 70: early stopping\n",
      "Restoring model weights from the end of the best epoch: 65.\n"
     ]
    },
    {
     "name": "stderr",
     "output_type": "stream",
     "text": [
      "Grid Search Progress:  78%|███████▊  | 372/480 [15:55:02<7:41:42, 256.51s/it]"
     ]
    },
    {
     "name": "stdout",
     "output_type": "stream",
     "text": [
      "Testing: lr1e-05_do0.0_hu128_64_64_sgd\n",
      "Restoring model weights from the end of the best epoch: 100.\n"
     ]
    },
    {
     "name": "stderr",
     "output_type": "stream",
     "text": [
      "Grid Search Progress:  78%|███████▊  | 373/480 [15:59:41<7:49:32, 263.30s/it]"
     ]
    },
    {
     "name": "stdout",
     "output_type": "stream",
     "text": [
      "Testing: lr1e-05_do0.0_hu128_64_64_adam\n",
      "Epoch 74: early stopping\n",
      "Restoring model weights from the end of the best epoch: 69.\n"
     ]
    },
    {
     "name": "stderr",
     "output_type": "stream",
     "text": [
      "Grid Search Progress:  78%|███████▊  | 374/480 [16:04:13<7:49:25, 265.71s/it]"
     ]
    },
    {
     "name": "stdout",
     "output_type": "stream",
     "text": [
      "Testing: lr1e-05_do0.0_hu128_128_32_sgd\n",
      "Restoring model weights from the end of the best epoch: 99.\n"
     ]
    },
    {
     "name": "stderr",
     "output_type": "stream",
     "text": [
      "Grid Search Progress:  78%|███████▊  | 375/480 [16:08:57<7:55:03, 271.46s/it]"
     ]
    },
    {
     "name": "stdout",
     "output_type": "stream",
     "text": [
      "Testing: lr1e-05_do0.0_hu128_128_32_adam\n",
      "Epoch 74: early stopping\n",
      "Restoring model weights from the end of the best epoch: 69.\n"
     ]
    },
    {
     "name": "stderr",
     "output_type": "stream",
     "text": [
      "Grid Search Progress:  78%|███████▊  | 376/480 [16:13:32<7:52:08, 272.39s/it]"
     ]
    },
    {
     "name": "stdout",
     "output_type": "stream",
     "text": [
      "Testing: lr1e-05_do0.0_hu128_128_64_sgd\n",
      "Restoring model weights from the end of the best epoch: 98.\n"
     ]
    },
    {
     "name": "stderr",
     "output_type": "stream",
     "text": [
      "Grid Search Progress:  79%|███████▊  | 377/480 [16:18:20<7:55:48, 277.17s/it]"
     ]
    },
    {
     "name": "stdout",
     "output_type": "stream",
     "text": [
      "Testing: lr1e-05_do0.0_hu128_128_64_adam\n",
      "Epoch 75: early stopping\n",
      "Restoring model weights from the end of the best epoch: 70.\n"
     ]
    },
    {
     "name": "stderr",
     "output_type": "stream",
     "text": [
      "Grid Search Progress:  79%|███████▉  | 378/480 [16:23:13<7:59:16, 281.92s/it]"
     ]
    },
    {
     "name": "stdout",
     "output_type": "stream",
     "text": [
      "Testing: lr1e-05_do0.0_hu128_128_128_sgd\n",
      "Restoring model weights from the end of the best epoch: 100.\n"
     ]
    },
    {
     "name": "stderr",
     "output_type": "stream",
     "text": [
      "Grid Search Progress:  79%|███████▉  | 379/480 [16:28:06<8:00:07, 285.23s/it]"
     ]
    },
    {
     "name": "stdout",
     "output_type": "stream",
     "text": [
      "Testing: lr1e-05_do0.0_hu128_128_128_adam\n",
      "Epoch 72: early stopping\n",
      "Restoring model weights from the end of the best epoch: 67.\n"
     ]
    },
    {
     "name": "stderr",
     "output_type": "stream",
     "text": [
      "Grid Search Progress:  79%|███████▉  | 380/480 [16:32:50<7:54:26, 284.67s/it]"
     ]
    },
    {
     "name": "stdout",
     "output_type": "stream",
     "text": [
      "Testing: lr1e-05_do0.0_hu256_32_32_sgd\n",
      "Restoring model weights from the end of the best epoch: 99.\n"
     ]
    },
    {
     "name": "stderr",
     "output_type": "stream",
     "text": [
      "Grid Search Progress:  79%|███████▉  | 381/480 [16:38:21<8:12:42, 298.61s/it]"
     ]
    },
    {
     "name": "stdout",
     "output_type": "stream",
     "text": [
      "Testing: lr1e-05_do0.0_hu256_32_32_adam\n",
      "Epoch 68: early stopping\n",
      "Restoring model weights from the end of the best epoch: 63.\n"
     ]
    },
    {
     "name": "stderr",
     "output_type": "stream",
     "text": [
      "Grid Search Progress:  80%|███████▉  | 382/480 [16:43:11<8:03:45, 296.18s/it]"
     ]
    },
    {
     "name": "stdout",
     "output_type": "stream",
     "text": [
      "Testing: lr1e-05_do0.0_hu256_64_32_sgd\n",
      "Restoring model weights from the end of the best epoch: 97.\n"
     ]
    },
    {
     "name": "stderr",
     "output_type": "stream",
     "text": [
      "Grid Search Progress:  80%|███████▉  | 383/480 [16:48:43<8:16:06, 306.88s/it]"
     ]
    },
    {
     "name": "stdout",
     "output_type": "stream",
     "text": [
      "Testing: lr1e-05_do0.0_hu256_64_32_adam\n",
      "Epoch 65: early stopping\n",
      "Restoring model weights from the end of the best epoch: 60.\n"
     ]
    },
    {
     "name": "stderr",
     "output_type": "stream",
     "text": [
      "Grid Search Progress:  80%|████████  | 384/480 [16:53:28<8:00:26, 300.28s/it]"
     ]
    },
    {
     "name": "stdout",
     "output_type": "stream",
     "text": [
      "Testing: lr1e-05_do0.0_hu256_64_64_sgd\n",
      "Restoring model weights from the end of the best epoch: 99.\n"
     ]
    },
    {
     "name": "stderr",
     "output_type": "stream",
     "text": [
      "Grid Search Progress:  80%|████████  | 385/480 [16:58:56<8:08:24, 308.47s/it]"
     ]
    },
    {
     "name": "stdout",
     "output_type": "stream",
     "text": [
      "Testing: lr1e-05_do0.0_hu256_64_64_adam\n",
      "Epoch 70: early stopping\n",
      "Restoring model weights from the end of the best epoch: 65.\n"
     ]
    },
    {
     "name": "stderr",
     "output_type": "stream",
     "text": [
      "Grid Search Progress:  80%|████████  | 386/480 [17:03:59<8:01:01, 307.04s/it]"
     ]
    },
    {
     "name": "stdout",
     "output_type": "stream",
     "text": [
      "Testing: lr1e-05_do0.0_hu256_128_32_sgd\n",
      "Restoring model weights from the end of the best epoch: 99.\n"
     ]
    },
    {
     "name": "stderr",
     "output_type": "stream",
     "text": [
      "Grid Search Progress:  81%|████████  | 387/480 [17:09:37<8:10:11, 316.25s/it]"
     ]
    },
    {
     "name": "stdout",
     "output_type": "stream",
     "text": [
      "Testing: lr1e-05_do0.0_hu256_128_32_adam\n",
      "Epoch 66: early stopping\n",
      "Restoring model weights from the end of the best epoch: 61.\n"
     ]
    },
    {
     "name": "stderr",
     "output_type": "stream",
     "text": [
      "Grid Search Progress:  81%|████████  | 388/480 [17:14:38<7:57:45, 311.59s/it]"
     ]
    },
    {
     "name": "stdout",
     "output_type": "stream",
     "text": [
      "Testing: lr1e-05_do0.0_hu256_128_64_sgd\n",
      "Restoring model weights from the end of the best epoch: 100.\n"
     ]
    },
    {
     "name": "stderr",
     "output_type": "stream",
     "text": [
      "Grid Search Progress:  81%|████████  | 389/480 [17:20:21<8:06:50, 320.99s/it]"
     ]
    },
    {
     "name": "stdout",
     "output_type": "stream",
     "text": [
      "Testing: lr1e-05_do0.0_hu256_128_64_adam\n",
      "Epoch 67: early stopping\n",
      "Restoring model weights from the end of the best epoch: 62.\n"
     ]
    },
    {
     "name": "stderr",
     "output_type": "stream",
     "text": [
      "Grid Search Progress:  81%|████████▏ | 390/480 [17:25:25<7:54:04, 316.05s/it]"
     ]
    },
    {
     "name": "stdout",
     "output_type": "stream",
     "text": [
      "Testing: lr1e-05_do0.0_hu256_128_128_sgd\n",
      "Restoring model weights from the end of the best epoch: 99.\n"
     ]
    },
    {
     "name": "stderr",
     "output_type": "stream",
     "text": [
      "Grid Search Progress:  81%|████████▏ | 391/480 [17:31:09<8:01:07, 324.35s/it]"
     ]
    },
    {
     "name": "stdout",
     "output_type": "stream",
     "text": [
      "Testing: lr1e-05_do0.0_hu256_128_128_adam\n",
      "Epoch 67: early stopping\n",
      "Restoring model weights from the end of the best epoch: 62.\n"
     ]
    },
    {
     "name": "stderr",
     "output_type": "stream",
     "text": [
      "Grid Search Progress:  82%|████████▏ | 392/480 [17:36:18<7:49:07, 319.86s/it]"
     ]
    },
    {
     "name": "stdout",
     "output_type": "stream",
     "text": [
      "Testing: lr1e-05_do0.0_hu256_256_32_sgd\n",
      "Restoring model weights from the end of the best epoch: 99.\n"
     ]
    },
    {
     "name": "stderr",
     "output_type": "stream",
     "text": [
      "Grid Search Progress:  82%|████████▏ | 393/480 [17:42:14<7:59:27, 330.66s/it]"
     ]
    },
    {
     "name": "stdout",
     "output_type": "stream",
     "text": [
      "Testing: lr1e-05_do0.0_hu256_256_32_adam\n",
      "Epoch 60: early stopping\n",
      "Restoring model weights from the end of the best epoch: 55.\n"
     ]
    },
    {
     "name": "stderr",
     "output_type": "stream",
     "text": [
      "Grid Search Progress:  82%|████████▏ | 394/480 [17:46:54<7:32:06, 315.43s/it]"
     ]
    },
    {
     "name": "stdout",
     "output_type": "stream",
     "text": [
      "Testing: lr1e-05_do0.0_hu256_256_64_sgd\n",
      "Restoring model weights from the end of the best epoch: 98.\n"
     ]
    },
    {
     "name": "stderr",
     "output_type": "stream",
     "text": [
      "Grid Search Progress:  82%|████████▏ | 395/480 [17:52:55<7:46:13, 329.11s/it]"
     ]
    },
    {
     "name": "stdout",
     "output_type": "stream",
     "text": [
      "Testing: lr1e-05_do0.0_hu256_256_64_adam\n",
      "Epoch 56: early stopping\n",
      "Restoring model weights from the end of the best epoch: 51.\n"
     ]
    },
    {
     "name": "stderr",
     "output_type": "stream",
     "text": [
      "Grid Search Progress:  82%|████████▎ | 396/480 [17:57:20<7:13:52, 309.91s/it]"
     ]
    },
    {
     "name": "stdout",
     "output_type": "stream",
     "text": [
      "Testing: lr1e-05_do0.0_hu256_256_128_sgd\n",
      "Restoring model weights from the end of the best epoch: 98.\n"
     ]
    },
    {
     "name": "stderr",
     "output_type": "stream",
     "text": [
      "Grid Search Progress:  83%|████████▎ | 397/480 [18:03:35<7:35:45, 329.46s/it]"
     ]
    },
    {
     "name": "stdout",
     "output_type": "stream",
     "text": [
      "Testing: lr1e-05_do0.0_hu256_256_128_adam\n",
      "Epoch 52: early stopping\n",
      "Restoring model weights from the end of the best epoch: 47.\n"
     ]
    },
    {
     "name": "stderr",
     "output_type": "stream",
     "text": [
      "Grid Search Progress:  83%|████████▎ | 398/480 [18:07:54<7:01:26, 308.37s/it]"
     ]
    },
    {
     "name": "stdout",
     "output_type": "stream",
     "text": [
      "Testing: lr1e-05_do0.0_hu256_256_256_sgd\n",
      "Restoring model weights from the end of the best epoch: 99.\n"
     ]
    },
    {
     "name": "stderr",
     "output_type": "stream",
     "text": [
      "Grid Search Progress:  83%|████████▎ | 399/480 [18:14:26<7:30:04, 333.39s/it]"
     ]
    },
    {
     "name": "stdout",
     "output_type": "stream",
     "text": [
      "Testing: lr1e-05_do0.0_hu256_256_256_adam\n",
      "Epoch 55: early stopping\n",
      "Restoring model weights from the end of the best epoch: 50.\n"
     ]
    },
    {
     "name": "stderr",
     "output_type": "stream",
     "text": [
      "Grid Search Progress:  83%|████████▎ | 400/480 [18:19:03<7:01:45, 316.32s/it]"
     ]
    },
    {
     "name": "stdout",
     "output_type": "stream",
     "text": [
      "Testing: lr1e-05_do0.2_hu32_32_32_sgd\n",
      "Restoring model weights from the end of the best epoch: 100.\n"
     ]
    },
    {
     "name": "stderr",
     "output_type": "stream",
     "text": [
      "Grid Search Progress:  84%|████████▎ | 401/480 [18:22:39<6:16:50, 286.21s/it]"
     ]
    },
    {
     "name": "stdout",
     "output_type": "stream",
     "text": [
      "Testing: lr1e-05_do0.2_hu32_32_32_adam\n",
      "Epoch 69: early stopping\n",
      "Restoring model weights from the end of the best epoch: 64.\n"
     ]
    },
    {
     "name": "stderr",
     "output_type": "stream",
     "text": [
      "Grid Search Progress:  84%|████████▍ | 402/480 [18:25:31<5:27:33, 251.97s/it]"
     ]
    },
    {
     "name": "stdout",
     "output_type": "stream",
     "text": [
      "Testing: lr1e-05_do0.2_hu64_32_32_sgd\n",
      "Restoring model weights from the end of the best epoch: 100.\n"
     ]
    },
    {
     "name": "stderr",
     "output_type": "stream",
     "text": [
      "Grid Search Progress:  84%|████████▍ | 403/480 [18:29:11<5:11:09, 242.46s/it]"
     ]
    },
    {
     "name": "stdout",
     "output_type": "stream",
     "text": [
      "Testing: lr1e-05_do0.2_hu64_32_32_adam\n",
      "Epoch 87: early stopping\n",
      "Restoring model weights from the end of the best epoch: 82.\n"
     ]
    },
    {
     "name": "stderr",
     "output_type": "stream",
     "text": [
      "Grid Search Progress:  84%|████████▍ | 404/480 [18:33:02<5:02:51, 239.10s/it]"
     ]
    },
    {
     "name": "stdout",
     "output_type": "stream",
     "text": [
      "Testing: lr1e-05_do0.2_hu64_64_32_sgd\n",
      "Restoring model weights from the end of the best epoch: 100.\n"
     ]
    },
    {
     "name": "stderr",
     "output_type": "stream",
     "text": [
      "Grid Search Progress:  84%|████████▍ | 405/480 [18:36:49<4:54:17, 235.43s/it]"
     ]
    },
    {
     "name": "stdout",
     "output_type": "stream",
     "text": [
      "Testing: lr1e-05_do0.2_hu64_64_32_adam\n",
      "Epoch 74: early stopping\n",
      "Restoring model weights from the end of the best epoch: 69.\n"
     ]
    },
    {
     "name": "stderr",
     "output_type": "stream",
     "text": [
      "Grid Search Progress:  85%|████████▍ | 406/480 [18:40:10<4:37:34, 225.06s/it]"
     ]
    },
    {
     "name": "stdout",
     "output_type": "stream",
     "text": [
      "Testing: lr1e-05_do0.2_hu64_64_64_sgd\n",
      "Restoring model weights from the end of the best epoch: 98.\n"
     ]
    },
    {
     "name": "stderr",
     "output_type": "stream",
     "text": [
      "Grid Search Progress:  85%|████████▍ | 407/480 [18:43:56<4:34:18, 225.46s/it]"
     ]
    },
    {
     "name": "stdout",
     "output_type": "stream",
     "text": [
      "Testing: lr1e-05_do0.2_hu64_64_64_adam\n",
      "Epoch 62: early stopping\n",
      "Restoring model weights from the end of the best epoch: 57.\n"
     ]
    },
    {
     "name": "stderr",
     "output_type": "stream",
     "text": [
      "Grid Search Progress:  85%|████████▌ | 408/480 [18:46:48<4:11:14, 209.37s/it]"
     ]
    },
    {
     "name": "stdout",
     "output_type": "stream",
     "text": [
      "Testing: lr1e-05_do0.2_hu128_32_32_sgd\n",
      "Restoring model weights from the end of the best epoch: 100.\n"
     ]
    },
    {
     "name": "stderr",
     "output_type": "stream",
     "text": [
      "Grid Search Progress:  85%|████████▌ | 409/480 [18:50:48<4:18:32, 218.49s/it]"
     ]
    },
    {
     "name": "stdout",
     "output_type": "stream",
     "text": [
      "Testing: lr1e-05_do0.2_hu128_32_32_adam\n",
      "Epoch 78: early stopping\n",
      "Restoring model weights from the end of the best epoch: 73.\n"
     ]
    },
    {
     "name": "stderr",
     "output_type": "stream",
     "text": [
      "Grid Search Progress:  85%|████████▌ | 410/480 [18:55:29<4:36:47, 237.24s/it]"
     ]
    },
    {
     "name": "stdout",
     "output_type": "stream",
     "text": [
      "Testing: lr1e-05_do0.2_hu128_64_32_sgd\n",
      "Restoring model weights from the end of the best epoch: 99.\n"
     ]
    },
    {
     "name": "stderr",
     "output_type": "stream",
     "text": [
      "Grid Search Progress:  86%|████████▌ | 411/480 [19:01:20<5:12:09, 271.44s/it]"
     ]
    },
    {
     "name": "stdout",
     "output_type": "stream",
     "text": [
      "Testing: lr1e-05_do0.2_hu128_64_32_adam\n",
      "Epoch 93: early stopping\n",
      "Restoring model weights from the end of the best epoch: 88.\n"
     ]
    },
    {
     "name": "stderr",
     "output_type": "stream",
     "text": [
      "Grid Search Progress:  86%|████████▌ | 412/480 [19:07:46<5:46:39, 305.87s/it]"
     ]
    },
    {
     "name": "stdout",
     "output_type": "stream",
     "text": [
      "Testing: lr1e-05_do0.2_hu128_64_64_sgd\n",
      "Restoring model weights from the end of the best epoch: 97.\n"
     ]
    },
    {
     "name": "stderr",
     "output_type": "stream",
     "text": [
      "Grid Search Progress:  86%|████████▌ | 413/480 [19:13:24<5:52:19, 315.52s/it]"
     ]
    },
    {
     "name": "stdout",
     "output_type": "stream",
     "text": [
      "Testing: lr1e-05_do0.2_hu128_64_64_adam\n",
      "Epoch 80: early stopping\n",
      "Restoring model weights from the end of the best epoch: 75.\n"
     ]
    },
    {
     "name": "stderr",
     "output_type": "stream",
     "text": [
      "Grid Search Progress:  86%|████████▋ | 414/480 [19:18:54<5:51:38, 319.67s/it]"
     ]
    },
    {
     "name": "stdout",
     "output_type": "stream",
     "text": [
      "Testing: lr1e-05_do0.2_hu128_128_32_sgd\n",
      "Restoring model weights from the end of the best epoch: 98.\n"
     ]
    },
    {
     "name": "stderr",
     "output_type": "stream",
     "text": [
      "Grid Search Progress:  86%|████████▋ | 415/480 [19:24:37<5:53:53, 326.67s/it]"
     ]
    },
    {
     "name": "stdout",
     "output_type": "stream",
     "text": [
      "Testing: lr1e-05_do0.2_hu128_128_32_adam\n",
      "Epoch 58: early stopping\n",
      "Restoring model weights from the end of the best epoch: 53.\n"
     ]
    },
    {
     "name": "stderr",
     "output_type": "stream",
     "text": [
      "Grid Search Progress:  87%|████████▋ | 416/480 [19:28:40<5:21:38, 301.54s/it]"
     ]
    },
    {
     "name": "stdout",
     "output_type": "stream",
     "text": [
      "Testing: lr1e-05_do0.2_hu128_128_64_sgd\n",
      "Restoring model weights from the end of the best epoch: 100.\n"
     ]
    },
    {
     "name": "stderr",
     "output_type": "stream",
     "text": [
      "Grid Search Progress:  87%|████████▋ | 417/480 [19:34:29<5:31:42, 315.91s/it]"
     ]
    },
    {
     "name": "stdout",
     "output_type": "stream",
     "text": [
      "Testing: lr1e-05_do0.2_hu128_128_64_adam\n",
      "Epoch 72: early stopping\n",
      "Restoring model weights from the end of the best epoch: 67.\n"
     ]
    },
    {
     "name": "stderr",
     "output_type": "stream",
     "text": [
      "Grid Search Progress:  87%|████████▋ | 418/480 [19:39:56<5:29:56, 319.31s/it]"
     ]
    },
    {
     "name": "stdout",
     "output_type": "stream",
     "text": [
      "Testing: lr1e-05_do0.2_hu128_128_128_sgd\n",
      "Restoring model weights from the end of the best epoch: 98.\n"
     ]
    },
    {
     "name": "stderr",
     "output_type": "stream",
     "text": [
      "Grid Search Progress:  87%|████████▋ | 419/480 [19:45:49<5:34:40, 329.19s/it]"
     ]
    },
    {
     "name": "stdout",
     "output_type": "stream",
     "text": [
      "Testing: lr1e-05_do0.2_hu128_128_128_adam\n",
      "Epoch 59: early stopping\n",
      "Restoring model weights from the end of the best epoch: 54.\n"
     ]
    },
    {
     "name": "stderr",
     "output_type": "stream",
     "text": [
      "Grid Search Progress:  88%|████████▊ | 420/480 [19:50:15<5:10:21, 310.35s/it]"
     ]
    },
    {
     "name": "stdout",
     "output_type": "stream",
     "text": [
      "Testing: lr1e-05_do0.2_hu256_32_32_sgd\n",
      "Restoring model weights from the end of the best epoch: 99.\n"
     ]
    },
    {
     "name": "stderr",
     "output_type": "stream",
     "text": [
      "Grid Search Progress:  88%|████████▊ | 421/480 [19:56:52<5:30:37, 336.22s/it]"
     ]
    },
    {
     "name": "stdout",
     "output_type": "stream",
     "text": [
      "Testing: lr1e-05_do0.2_hu256_32_32_adam\n",
      "Epoch 66: early stopping\n",
      "Restoring model weights from the end of the best epoch: 61.\n"
     ]
    },
    {
     "name": "stderr",
     "output_type": "stream",
     "text": [
      "Grid Search Progress:  88%|████████▊ | 422/480 [20:02:17<5:22:00, 333.12s/it]"
     ]
    },
    {
     "name": "stdout",
     "output_type": "stream",
     "text": [
      "Testing: lr1e-05_do0.2_hu256_64_32_sgd\n",
      "Restoring model weights from the end of the best epoch: 97.\n"
     ]
    },
    {
     "name": "stderr",
     "output_type": "stream",
     "text": [
      "Grid Search Progress:  88%|████████▊ | 423/480 [20:08:57<5:35:31, 353.19s/it]"
     ]
    },
    {
     "name": "stdout",
     "output_type": "stream",
     "text": [
      "Testing: lr1e-05_do0.2_hu256_64_32_adam\n",
      "Epoch 77: early stopping\n",
      "Restoring model weights from the end of the best epoch: 72.\n"
     ]
    },
    {
     "name": "stderr",
     "output_type": "stream",
     "text": [
      "Grid Search Progress:  88%|████████▊ | 424/480 [20:15:17<5:37:05, 361.17s/it]"
     ]
    },
    {
     "name": "stdout",
     "output_type": "stream",
     "text": [
      "Testing: lr1e-05_do0.2_hu256_64_64_sgd\n",
      "Restoring model weights from the end of the best epoch: 98.\n"
     ]
    },
    {
     "name": "stderr",
     "output_type": "stream",
     "text": [
      "Grid Search Progress:  89%|████████▊ | 425/480 [20:21:54<5:40:45, 371.73s/it]"
     ]
    },
    {
     "name": "stdout",
     "output_type": "stream",
     "text": [
      "Testing: lr1e-05_do0.2_hu256_64_64_adam\n",
      "Epoch 63: early stopping\n",
      "Restoring model weights from the end of the best epoch: 58.\n"
     ]
    },
    {
     "name": "stderr",
     "output_type": "stream",
     "text": [
      "Grid Search Progress:  89%|████████▉ | 426/480 [20:27:02<5:17:32, 352.83s/it]"
     ]
    },
    {
     "name": "stdout",
     "output_type": "stream",
     "text": [
      "Testing: lr1e-05_do0.2_hu256_128_32_sgd\n",
      "Restoring model weights from the end of the best epoch: 98.\n"
     ]
    },
    {
     "name": "stderr",
     "output_type": "stream",
     "text": [
      "Grid Search Progress:  89%|████████▉ | 427/480 [20:33:54<5:27:19, 370.55s/it]"
     ]
    },
    {
     "name": "stdout",
     "output_type": "stream",
     "text": [
      "Testing: lr1e-05_do0.2_hu256_128_32_adam\n",
      "Epoch 80: early stopping\n",
      "Restoring model weights from the end of the best epoch: 75.\n"
     ]
    },
    {
     "name": "stderr",
     "output_type": "stream",
     "text": [
      "Grid Search Progress:  89%|████████▉ | 428/480 [20:40:39<5:30:06, 380.89s/it]"
     ]
    },
    {
     "name": "stdout",
     "output_type": "stream",
     "text": [
      "Testing: lr1e-05_do0.2_hu256_128_64_sgd\n",
      "Restoring model weights from the end of the best epoch: 99.\n"
     ]
    },
    {
     "name": "stderr",
     "output_type": "stream",
     "text": [
      "Grid Search Progress:  89%|████████▉ | 429/480 [20:47:30<5:31:21, 389.83s/it]"
     ]
    },
    {
     "name": "stdout",
     "output_type": "stream",
     "text": [
      "Testing: lr1e-05_do0.2_hu256_128_64_adam\n",
      "Epoch 73: early stopping\n",
      "Restoring model weights from the end of the best epoch: 68.\n"
     ]
    },
    {
     "name": "stderr",
     "output_type": "stream",
     "text": [
      "Grid Search Progress:  90%|████████▉ | 430/480 [20:53:49<5:22:10, 386.60s/it]"
     ]
    },
    {
     "name": "stdout",
     "output_type": "stream",
     "text": [
      "Testing: lr1e-05_do0.2_hu256_128_128_sgd\n",
      "Restoring model weights from the end of the best epoch: 97.\n"
     ]
    },
    {
     "name": "stderr",
     "output_type": "stream",
     "text": [
      "Grid Search Progress:  90%|████████▉ | 431/480 [21:00:45<5:22:56, 395.44s/it]"
     ]
    },
    {
     "name": "stdout",
     "output_type": "stream",
     "text": [
      "Testing: lr1e-05_do0.2_hu256_128_128_adam\n",
      "Epoch 71: early stopping\n",
      "Restoring model weights from the end of the best epoch: 66.\n"
     ]
    },
    {
     "name": "stderr",
     "output_type": "stream",
     "text": [
      "Grid Search Progress:  90%|█████████ | 432/480 [21:06:59<5:11:08, 388.92s/it]"
     ]
    },
    {
     "name": "stdout",
     "output_type": "stream",
     "text": [
      "Testing: lr1e-05_do0.2_hu256_256_32_sgd\n",
      "Restoring model weights from the end of the best epoch: 98.\n"
     ]
    },
    {
     "name": "stderr",
     "output_type": "stream",
     "text": [
      "Grid Search Progress:  90%|█████████ | 433/480 [21:14:12<5:14:58, 402.09s/it]"
     ]
    },
    {
     "name": "stdout",
     "output_type": "stream",
     "text": [
      "Testing: lr1e-05_do0.2_hu256_256_32_adam\n",
      "Epoch 82: early stopping\n",
      "Restoring model weights from the end of the best epoch: 77.\n"
     ]
    },
    {
     "name": "stderr",
     "output_type": "stream",
     "text": [
      "Grid Search Progress:  90%|█████████ | 434/480 [21:21:34<5:17:38, 414.31s/it]"
     ]
    },
    {
     "name": "stdout",
     "output_type": "stream",
     "text": [
      "Testing: lr1e-05_do0.2_hu256_256_64_sgd\n",
      "Restoring model weights from the end of the best epoch: 97.\n"
     ]
    },
    {
     "name": "stderr",
     "output_type": "stream",
     "text": [
      "Grid Search Progress:  91%|█████████ | 435/480 [21:28:56<5:16:53, 422.53s/it]"
     ]
    },
    {
     "name": "stdout",
     "output_type": "stream",
     "text": [
      "Testing: lr1e-05_do0.2_hu256_256_64_adam\n",
      "Epoch 69: early stopping\n",
      "Restoring model weights from the end of the best epoch: 64.\n"
     ]
    },
    {
     "name": "stderr",
     "output_type": "stream",
     "text": [
      "Grid Search Progress:  91%|█████████ | 436/480 [21:35:06<4:58:11, 406.62s/it]"
     ]
    },
    {
     "name": "stdout",
     "output_type": "stream",
     "text": [
      "Testing: lr1e-05_do0.2_hu256_256_128_sgd\n",
      "Restoring model weights from the end of the best epoch: 100.\n"
     ]
    },
    {
     "name": "stderr",
     "output_type": "stream",
     "text": [
      "Grid Search Progress:  91%|█████████ | 437/480 [21:42:37<5:00:59, 419.98s/it]"
     ]
    },
    {
     "name": "stdout",
     "output_type": "stream",
     "text": [
      "Testing: lr1e-05_do0.2_hu256_256_128_adam\n",
      "Epoch 74: early stopping\n",
      "Restoring model weights from the end of the best epoch: 69.\n"
     ]
    },
    {
     "name": "stderr",
     "output_type": "stream",
     "text": [
      "Grid Search Progress:  91%|█████████▏| 438/480 [21:49:12<4:48:41, 412.41s/it]"
     ]
    },
    {
     "name": "stdout",
     "output_type": "stream",
     "text": [
      "Testing: lr1e-05_do0.2_hu256_256_256_sgd\n",
      "Restoring model weights from the end of the best epoch: 98.\n"
     ]
    },
    {
     "name": "stderr",
     "output_type": "stream",
     "text": [
      "Grid Search Progress:  91%|█████████▏| 439/480 [21:56:58<4:52:49, 428.53s/it]"
     ]
    },
    {
     "name": "stdout",
     "output_type": "stream",
     "text": [
      "Testing: lr1e-05_do0.2_hu256_256_256_adam\n",
      "Epoch 64: early stopping\n",
      "Restoring model weights from the end of the best epoch: 59.\n"
     ]
    },
    {
     "name": "stderr",
     "output_type": "stream",
     "text": [
      "Grid Search Progress:  92%|█████████▏| 440/480 [22:03:05<4:33:26, 410.17s/it]"
     ]
    },
    {
     "name": "stdout",
     "output_type": "stream",
     "text": [
      "Testing: lr1e-05_do0.5_hu32_32_32_sgd\n",
      "Restoring model weights from the end of the best epoch: 99.\n"
     ]
    },
    {
     "name": "stderr",
     "output_type": "stream",
     "text": [
      "Grid Search Progress:  92%|█████████▏| 441/480 [22:06:48<3:50:05, 354.00s/it]"
     ]
    },
    {
     "name": "stdout",
     "output_type": "stream",
     "text": [
      "Testing: lr1e-05_do0.5_hu32_32_32_adam\n",
      "Epoch 86: early stopping\n",
      "Restoring model weights from the end of the best epoch: 81.\n"
     ]
    },
    {
     "name": "stderr",
     "output_type": "stream",
     "text": [
      "Grid Search Progress:  92%|█████████▏| 442/480 [22:10:30<3:19:11, 314.51s/it]"
     ]
    },
    {
     "name": "stdout",
     "output_type": "stream",
     "text": [
      "Testing: lr1e-05_do0.5_hu64_32_32_sgd\n",
      "Epoch 100: early stopping\n",
      "Restoring model weights from the end of the best epoch: 95.\n"
     ]
    },
    {
     "name": "stderr",
     "output_type": "stream",
     "text": [
      "Grid Search Progress:  92%|█████████▏| 443/480 [22:14:24<2:58:59, 290.27s/it]"
     ]
    },
    {
     "name": "stdout",
     "output_type": "stream",
     "text": [
      "Testing: lr1e-05_do0.5_hu64_32_32_adam\n",
      "Restoring model weights from the end of the best epoch: 99.\n"
     ]
    },
    {
     "name": "stderr",
     "output_type": "stream",
     "text": [
      "Grid Search Progress:  92%|█████████▎| 444/480 [22:19:04<2:52:15, 287.10s/it]"
     ]
    },
    {
     "name": "stdout",
     "output_type": "stream",
     "text": [
      "Testing: lr1e-05_do0.5_hu64_64_32_sgd\n",
      "Epoch 94: early stopping\n",
      "Restoring model weights from the end of the best epoch: 89.\n"
     ]
    },
    {
     "name": "stderr",
     "output_type": "stream",
     "text": [
      "Grid Search Progress:  93%|█████████▎| 445/480 [22:22:50<2:36:51, 268.91s/it]"
     ]
    },
    {
     "name": "stdout",
     "output_type": "stream",
     "text": [
      "Testing: lr1e-05_do0.5_hu64_64_32_adam\n",
      "Restoring model weights from the end of the best epoch: 97.\n"
     ]
    },
    {
     "name": "stderr",
     "output_type": "stream",
     "text": [
      "Grid Search Progress:  93%|█████████▎| 446/480 [22:27:35<2:35:03, 273.64s/it]"
     ]
    },
    {
     "name": "stdout",
     "output_type": "stream",
     "text": [
      "Testing: lr1e-05_do0.5_hu64_64_64_sgd\n",
      "Restoring model weights from the end of the best epoch: 98.\n"
     ]
    },
    {
     "name": "stderr",
     "output_type": "stream",
     "text": [
      "Grid Search Progress:  93%|█████████▎| 447/480 [22:31:38<2:25:23, 264.36s/it]"
     ]
    },
    {
     "name": "stdout",
     "output_type": "stream",
     "text": [
      "Testing: lr1e-05_do0.5_hu64_64_64_adam\n",
      "Epoch 100: early stopping\n",
      "Restoring model weights from the end of the best epoch: 95.\n"
     ]
    },
    {
     "name": "stderr",
     "output_type": "stream",
     "text": [
      "Grid Search Progress:  93%|█████████▎| 448/480 [22:36:33<2:25:58, 273.71s/it]"
     ]
    },
    {
     "name": "stdout",
     "output_type": "stream",
     "text": [
      "Testing: lr1e-05_do0.5_hu128_32_32_sgd\n",
      "Restoring model weights from the end of the best epoch: 98.\n"
     ]
    },
    {
     "name": "stderr",
     "output_type": "stream",
     "text": [
      "Grid Search Progress:  94%|█████████▎| 449/480 [22:40:47<2:18:20, 267.75s/it]"
     ]
    },
    {
     "name": "stdout",
     "output_type": "stream",
     "text": [
      "Testing: lr1e-05_do0.5_hu128_32_32_adam\n",
      "Restoring model weights from the end of the best epoch: 97.\n"
     ]
    },
    {
     "name": "stderr",
     "output_type": "stream",
     "text": [
      "Grid Search Progress:  94%|█████████▍| 450/480 [22:46:14<2:22:43, 285.46s/it]"
     ]
    },
    {
     "name": "stdout",
     "output_type": "stream",
     "text": [
      "Testing: lr1e-05_do0.5_hu128_64_32_sgd\n",
      "Epoch 91: early stopping\n",
      "Restoring model weights from the end of the best epoch: 86.\n"
     ]
    },
    {
     "name": "stderr",
     "output_type": "stream",
     "text": [
      "Grid Search Progress:  94%|█████████▍| 451/480 [22:50:16<2:11:40, 272.43s/it]"
     ]
    },
    {
     "name": "stdout",
     "output_type": "stream",
     "text": [
      "Testing: lr1e-05_do0.5_hu128_64_32_adam\n",
      "Restoring model weights from the end of the best epoch: 99.\n"
     ]
    },
    {
     "name": "stderr",
     "output_type": "stream",
     "text": [
      "Grid Search Progress:  94%|█████████▍| 452/480 [22:56:08<2:18:20, 296.43s/it]"
     ]
    },
    {
     "name": "stdout",
     "output_type": "stream",
     "text": [
      "Testing: lr1e-05_do0.5_hu128_64_64_sgd\n",
      "Restoring model weights from the end of the best epoch: 100.\n"
     ]
    },
    {
     "name": "stderr",
     "output_type": "stream",
     "text": [
      "Grid Search Progress:  94%|█████████▍| 453/480 [23:00:41<2:10:09, 289.22s/it]"
     ]
    },
    {
     "name": "stdout",
     "output_type": "stream",
     "text": [
      "Testing: lr1e-05_do0.5_hu128_64_64_adam\n",
      "Restoring model weights from the end of the best epoch: 98.\n"
     ]
    },
    {
     "name": "stderr",
     "output_type": "stream",
     "text": [
      "Grid Search Progress:  95%|█████████▍| 454/480 [23:06:35<2:13:51, 308.90s/it]"
     ]
    },
    {
     "name": "stdout",
     "output_type": "stream",
     "text": [
      "Testing: lr1e-05_do0.5_hu128_128_32_sgd\n",
      "Restoring model weights from the end of the best epoch: 98.\n"
     ]
    },
    {
     "name": "stderr",
     "output_type": "stream",
     "text": [
      "Grid Search Progress:  95%|█████████▍| 455/480 [23:11:17<2:05:16, 300.65s/it]"
     ]
    },
    {
     "name": "stdout",
     "output_type": "stream",
     "text": [
      "Testing: lr1e-05_do0.5_hu128_128_32_adam\n",
      "Epoch 90: early stopping\n",
      "Restoring model weights from the end of the best epoch: 85.\n"
     ]
    },
    {
     "name": "stderr",
     "output_type": "stream",
     "text": [
      "Grid Search Progress:  95%|█████████▌| 456/480 [23:16:47<2:03:47, 309.48s/it]"
     ]
    },
    {
     "name": "stdout",
     "output_type": "stream",
     "text": [
      "Testing: lr1e-05_do0.5_hu128_128_64_sgd\n",
      "Restoring model weights from the end of the best epoch: 100.\n"
     ]
    },
    {
     "name": "stderr",
     "output_type": "stream",
     "text": [
      "Grid Search Progress:  95%|█████████▌| 457/480 [23:21:40<1:56:45, 304.59s/it]"
     ]
    },
    {
     "name": "stdout",
     "output_type": "stream",
     "text": [
      "Testing: lr1e-05_do0.5_hu128_128_64_adam\n",
      "Epoch 84: early stopping\n",
      "Restoring model weights from the end of the best epoch: 79.\n"
     ]
    },
    {
     "name": "stderr",
     "output_type": "stream",
     "text": [
      "Grid Search Progress:  95%|█████████▌| 458/480 [23:27:14<1:54:51, 313.25s/it]"
     ]
    },
    {
     "name": "stdout",
     "output_type": "stream",
     "text": [
      "Testing: lr1e-05_do0.5_hu128_128_128_sgd\n",
      "Restoring model weights from the end of the best epoch: 98.\n"
     ]
    },
    {
     "name": "stderr",
     "output_type": "stream",
     "text": [
      "Grid Search Progress:  96%|█████████▌| 459/480 [23:32:13<1:48:10, 309.09s/it]"
     ]
    },
    {
     "name": "stdout",
     "output_type": "stream",
     "text": [
      "Testing: lr1e-05_do0.5_hu128_128_128_adam\n",
      "Restoring model weights from the end of the best epoch: 98.\n"
     ]
    },
    {
     "name": "stderr",
     "output_type": "stream",
     "text": [
      "Grid Search Progress:  96%|█████████▌| 460/480 [23:38:55<1:52:21, 337.09s/it]"
     ]
    },
    {
     "name": "stdout",
     "output_type": "stream",
     "text": [
      "Testing: lr1e-05_do0.5_hu256_32_32_sgd\n",
      "Restoring model weights from the end of the best epoch: 98.\n"
     ]
    },
    {
     "name": "stderr",
     "output_type": "stream",
     "text": [
      "Grid Search Progress:  96%|█████████▌| 461/480 [23:44:46<1:48:03, 341.22s/it]"
     ]
    },
    {
     "name": "stdout",
     "output_type": "stream",
     "text": [
      "Testing: lr1e-05_do0.5_hu256_32_32_adam\n",
      "Epoch 98: early stopping\n",
      "Restoring model weights from the end of the best epoch: 93.\n"
     ]
    },
    {
     "name": "stderr",
     "output_type": "stream",
     "text": [
      "Grid Search Progress:  96%|█████████▋| 462/480 [23:52:06<1:51:12, 370.68s/it]"
     ]
    },
    {
     "name": "stdout",
     "output_type": "stream",
     "text": [
      "Testing: lr1e-05_do0.5_hu256_64_32_sgd\n",
      "Restoring model weights from the end of the best epoch: 100.\n"
     ]
    },
    {
     "name": "stderr",
     "output_type": "stream",
     "text": [
      "Grid Search Progress:  96%|█████████▋| 463/480 [24:01:02<1:59:07, 420.46s/it]"
     ]
    },
    {
     "name": "stdout",
     "output_type": "stream",
     "text": [
      "Testing: lr1e-05_do0.5_hu256_64_32_adam\n",
      "Epoch 90: early stopping\n",
      "Restoring model weights from the end of the best epoch: 85.\n"
     ]
    },
    {
     "name": "stderr",
     "output_type": "stream",
     "text": [
      "Grid Search Progress:  97%|█████████▋| 464/480 [24:10:37<2:04:28, 466.78s/it]"
     ]
    },
    {
     "name": "stdout",
     "output_type": "stream",
     "text": [
      "Testing: lr1e-05_do0.5_hu256_64_64_sgd\n",
      "Restoring model weights from the end of the best epoch: 100.\n"
     ]
    },
    {
     "name": "stderr",
     "output_type": "stream",
     "text": [
      "Grid Search Progress:  97%|█████████▋| 465/480 [24:19:03<1:59:39, 478.63s/it]"
     ]
    },
    {
     "name": "stdout",
     "output_type": "stream",
     "text": [
      "Testing: lr1e-05_do0.5_hu256_64_64_adam\n",
      "Epoch 87: early stopping\n",
      "Restoring model weights from the end of the best epoch: 82.\n"
     ]
    },
    {
     "name": "stderr",
     "output_type": "stream",
     "text": [
      "Grid Search Progress:  97%|█████████▋| 466/480 [24:28:10<1:56:24, 498.89s/it]"
     ]
    },
    {
     "name": "stdout",
     "output_type": "stream",
     "text": [
      "Testing: lr1e-05_do0.5_hu256_128_32_sgd\n",
      "Restoring model weights from the end of the best epoch: 97.\n"
     ]
    },
    {
     "name": "stderr",
     "output_type": "stream",
     "text": [
      "Grid Search Progress:  97%|█████████▋| 467/480 [24:36:54<1:49:43, 506.44s/it]"
     ]
    },
    {
     "name": "stdout",
     "output_type": "stream",
     "text": [
      "Testing: lr1e-05_do0.5_hu256_128_32_adam\n",
      "Epoch 93: early stopping\n",
      "Restoring model weights from the end of the best epoch: 88.\n"
     ]
    },
    {
     "name": "stderr",
     "output_type": "stream",
     "text": [
      "Grid Search Progress:  98%|█████████▊| 468/480 [24:47:03<1:47:28, 537.35s/it]"
     ]
    },
    {
     "name": "stdout",
     "output_type": "stream",
     "text": [
      "Testing: lr1e-05_do0.5_hu256_128_64_sgd\n",
      "Restoring model weights from the end of the best epoch: 98.\n"
     ]
    },
    {
     "name": "stderr",
     "output_type": "stream",
     "text": [
      "Grid Search Progress:  98%|█████████▊| 469/480 [24:55:40<1:37:23, 531.21s/it]"
     ]
    },
    {
     "name": "stdout",
     "output_type": "stream",
     "text": [
      "Testing: lr1e-05_do0.5_hu256_128_64_adam\n",
      "Epoch 89: early stopping\n",
      "Restoring model weights from the end of the best epoch: 84.\n"
     ]
    },
    {
     "name": "stderr",
     "output_type": "stream",
     "text": [
      "Grid Search Progress:  98%|█████████▊| 470/480 [25:05:32<1:31:34, 549.40s/it]"
     ]
    },
    {
     "name": "stdout",
     "output_type": "stream",
     "text": [
      "Testing: lr1e-05_do0.5_hu256_128_128_sgd\n",
      "Restoring model weights from the end of the best epoch: 99.\n"
     ]
    },
    {
     "name": "stderr",
     "output_type": "stream",
     "text": [
      "Grid Search Progress:  98%|█████████▊| 471/480 [25:14:16<1:21:15, 541.74s/it]"
     ]
    },
    {
     "name": "stdout",
     "output_type": "stream",
     "text": [
      "Testing: lr1e-05_do0.5_hu256_128_128_adam\n",
      "Epoch 86: early stopping\n",
      "Restoring model weights from the end of the best epoch: 81.\n"
     ]
    },
    {
     "name": "stderr",
     "output_type": "stream",
     "text": [
      "Grid Search Progress:  98%|█████████▊| 472/480 [25:23:50<1:13:32, 551.57s/it]"
     ]
    },
    {
     "name": "stdout",
     "output_type": "stream",
     "text": [
      "Testing: lr1e-05_do0.5_hu256_256_32_sgd\n",
      "Restoring model weights from the end of the best epoch: 98.\n"
     ]
    },
    {
     "name": "stderr",
     "output_type": "stream",
     "text": [
      "Grid Search Progress:  99%|█████████▊| 473/480 [25:33:12<1:04:42, 554.68s/it]"
     ]
    },
    {
     "name": "stdout",
     "output_type": "stream",
     "text": [
      "Testing: lr1e-05_do0.5_hu256_256_32_adam\n",
      "Epoch 97: early stopping\n",
      "Restoring model weights from the end of the best epoch: 92.\n"
     ]
    },
    {
     "name": "stderr",
     "output_type": "stream",
     "text": [
      "Grid Search Progress:  99%|█████████▉| 474/480 [25:43:55<58:06, 581.01s/it]  "
     ]
    },
    {
     "name": "stdout",
     "output_type": "stream",
     "text": [
      "Testing: lr1e-05_do0.5_hu256_256_64_sgd\n",
      "Restoring model weights from the end of the best epoch: 100.\n"
     ]
    },
    {
     "name": "stderr",
     "output_type": "stream",
     "text": [
      "Grid Search Progress:  99%|█████████▉| 475/480 [25:53:10<47:47, 573.43s/it]"
     ]
    },
    {
     "name": "stdout",
     "output_type": "stream",
     "text": [
      "Testing: lr1e-05_do0.5_hu256_256_64_adam\n",
      "Epoch 100: early stopping\n",
      "Restoring model weights from the end of the best epoch: 95.\n"
     ]
    },
    {
     "name": "stderr",
     "output_type": "stream",
     "text": [
      "Grid Search Progress:  99%|█████████▉| 476/480 [26:04:23<40:12, 603.18s/it]"
     ]
    },
    {
     "name": "stdout",
     "output_type": "stream",
     "text": [
      "Testing: lr1e-05_do0.5_hu256_256_128_sgd\n",
      "Restoring model weights from the end of the best epoch: 98.\n"
     ]
    },
    {
     "name": "stderr",
     "output_type": "stream",
     "text": [
      "Grid Search Progress:  99%|█████████▉| 477/480 [26:13:42<29:30, 590.05s/it]"
     ]
    },
    {
     "name": "stdout",
     "output_type": "stream",
     "text": [
      "Testing: lr1e-05_do0.5_hu256_256_128_adam\n",
      "Epoch 98: early stopping\n",
      "Restoring model weights from the end of the best epoch: 93.\n"
     ]
    },
    {
     "name": "stderr",
     "output_type": "stream",
     "text": [
      "Grid Search Progress: 100%|█████████▉| 478/480 [26:24:52<20:27, 613.90s/it]"
     ]
    },
    {
     "name": "stdout",
     "output_type": "stream",
     "text": [
      "Testing: lr1e-05_do0.5_hu256_256_256_sgd\n",
      "Restoring model weights from the end of the best epoch: 100.\n"
     ]
    },
    {
     "name": "stderr",
     "output_type": "stream",
     "text": [
      "Grid Search Progress: 100%|█████████▉| 479/480 [26:34:50<10:09, 609.06s/it]"
     ]
    },
    {
     "name": "stdout",
     "output_type": "stream",
     "text": [
      "Testing: lr1e-05_do0.5_hu256_256_256_adam\n",
      "Epoch 86: early stopping\n",
      "Restoring model weights from the end of the best epoch: 81.\n"
     ]
    },
    {
     "name": "stderr",
     "output_type": "stream",
     "text": [
      "Grid Search Progress: 100%|██████████| 480/480 [26:44:36<00:00, 200.58s/it]"
     ]
    },
    {
     "name": "stdout",
     "output_type": "stream",
     "text": [
      "Total grid search time: 1604.60 minutes\n",
      "{'learning_rate': 0.001, 'dropout': 0.2, 'hidden_neurons1': 256, 'hidden_neurons2': 256, 'hidden_neurons3': 128, 'optimizer': 'adam', 'val_accuracy': 0.9695833325386047, 'val_precision': 0.9735143780708313, 'val_recall': 0.9679166674613953, 'model_path': 'mlp3H_saved_models_run2/best_model_lr0.001_do0.2_hu256_256_128_adam.keras'}\n",
      "{'learning_rate': 0.001, 'dropout': 0.2, 'hidden_neurons1': 256, 'hidden_neurons2': 256, 'hidden_neurons3': 64, 'optimizer': 'adam', 'val_accuracy': 0.9695000052452087, 'val_precision': 0.972520112991333, 'val_recall': 0.9673333168029785, 'model_path': 'mlp3H_saved_models_run2/best_model_lr0.001_do0.2_hu256_256_64_adam.keras'}\n",
      "{'learning_rate': 0.001, 'dropout': 0.2, 'hidden_neurons1': 256, 'hidden_neurons2': 256, 'hidden_neurons3': 32, 'optimizer': 'adam', 'val_accuracy': 0.96875, 'val_precision': 0.9713639616966248, 'val_recall': 0.9667500257492065, 'model_path': 'mlp3H_saved_models_run2/best_model_lr0.001_do0.2_hu256_256_32_adam.keras'}\n",
      "{'learning_rate': 0.001, 'dropout': 0.2, 'hidden_neurons1': 256, 'hidden_neurons2': 128, 'hidden_neurons3': 128, 'optimizer': 'adam', 'val_accuracy': 0.9679999947547913, 'val_precision': 0.9712682366371155, 'val_recall': 0.9662500023841858, 'model_path': 'mlp3H_saved_models_run2/best_model_lr0.001_do0.2_hu256_128_128_adam.keras'}\n",
      "{'learning_rate': 0.001, 'dropout': 0.2, 'hidden_neurons1': 256, 'hidden_neurons2': 128, 'hidden_neurons3': 64, 'optimizer': 'adam', 'val_accuracy': 0.9678333401679993, 'val_precision': 0.9706005454063416, 'val_recall': 0.965666651725769, 'model_path': 'mlp3H_saved_models_run2/best_model_lr0.001_do0.2_hu256_128_64_adam.keras'}\n"
     ]
    },
    {
     "name": "stderr",
     "output_type": "stream",
     "text": [
      "\n"
     ]
    }
   ],
   "source": [
    "learning_rates = [1e-2, 1e-3, 1e-4, 1e-5]\n",
    "dropouts = [0.0, 0.2, 0.5]\n",
    "hidden_neurons = [32, 64, 128, 256]\n",
    "optimizers_list = ['sgd', 'adam']\n",
    "\n",
    "# Prepare model saving directory\n",
    "os.makedirs(\"mlp3H_saved_models_run2\", exist_ok=True)\n",
    "\n",
    "# Prepare all valid hidden layer combinations with constraint\n",
    "valid_hidden_configs = [\n",
    "    (hu1, hu2, hu3)\n",
    "    for hu1 in hidden_neurons\n",
    "    for hu2 in hidden_neurons\n",
    "    for hu3 in hidden_neurons\n",
    "    if hu2 <= hu1 and hu3 <= hu2\n",
    "]\n",
    "\n",
    "# Create the full grid for learning_rate, dropout, optimizer, and hidden layer configs\n",
    "grid = list(itertools.product(learning_rates, dropouts, valid_hidden_configs, optimizers_list))\n",
    "\n",
    "results = []\n",
    "start_time = time.time()\n",
    "\n",
    "for lr, dr, (hu1, hu2, hu3), opt_name in tqdm(grid, desc=\"Grid Search Progress\"):\n",
    "    config_name = f\"lr{lr}_do{dr}_hu{hu1}_{hu2}_{hu3}_{opt_name}\"\n",
    "    model_path = f\"mlp3H_saved_models_run2/best_model_{config_name}.keras\"\n",
    "\n",
    "    print(f\"Testing: {config_name}\")\n",
    "\n",
    "    model = build_tf_model_3H(\n",
    "        hidden_units1=hu1,\n",
    "        hidden_units2=hu2,\n",
    "        hidden_units3=hu3,\n",
    "        dropout=dr,\n",
    "        optimizer_name=opt_name,\n",
    "        lr=lr\n",
    "    )\n",
    "\n",
    "    checkpoint = tf.keras.callbacks.ModelCheckpoint(\n",
    "        filepath=model_path,\n",
    "        monitor='val_accuracy',\n",
    "        save_best_only=True,\n",
    "        save_weights_only=False,\n",
    "        mode='max',\n",
    "        verbose=0\n",
    "    )\n",
    "\n",
    "    early_stop = EarlyStopping(\n",
    "        monitor='loss',\n",
    "        min_delta = 0.01,    \n",
    "        patience=5,            # number of epochs with no improvement after which training will be stopped\n",
    "        restore_best_weights=True,\n",
    "        mode = 'min',\n",
    "        verbose = 1  # restores model weights from the epoch with the best value of the monitored quantity\n",
    "    )\n",
    "\n",
    "    history = model.fit(\n",
    "        train_images_norm,\n",
    "        train_labels,\n",
    "        epochs=100,\n",
    "        validation_data=(validation_images_norm, validation_labels),\n",
    "        callbacks=[checkpoint, early_stop],\n",
    "        verbose=0\n",
    "    )\n",
    "\n",
    "    try:\n",
    "        best_model = tf.keras.models.load_model(model_path)\n",
    "        val_loss, val_acc, val_precision, val_recall = best_model.evaluate(validation_images_norm, validation_labels, verbose=0)\n",
    "\n",
    "        results.append({\n",
    "            'learning_rate': lr,\n",
    "            'dropout': dr,\n",
    "            'hidden_neurons1': hu1,\n",
    "            'hidden_neurons2': hu2,\n",
    "            'hidden_neurons3': hu3,\n",
    "            'optimizer': opt_name,\n",
    "            'val_accuracy': val_acc,\n",
    "            'val_precision': val_precision,\n",
    "            'val_recall': val_recall,\n",
    "            'model_path': model_path\n",
    "        })\n",
    "    except Exception as e:\n",
    "        print(f\"Failed to evaluate model {config_name}: {e}\")\n",
    "\n",
    "end_time = time.time()\n",
    "gridSearch_MLP_3H_time = end_time - start_time\n",
    "print(f\"Total grid search time: {(time.time() - start_time)/60:.2f} minutes\")\n",
    "\n",
    "# Save the results of the grid search\n",
    "with open(\"mlp3H_grid_search_results_run2.json\", \"w\") as f:\n",
    "    json.dump(results, f, indent=4)\n",
    "\n",
    "# Sort and print top 5\n",
    "results = sorted(results, key=lambda x: x['val_accuracy'], reverse=True)\n",
    "\n",
    "for r in results[:5]:\n",
    "    print(r)"
   ]
  },
  {
   "cell_type": "code",
   "execution_count": 11,
   "metadata": {},
   "outputs": [
    {
     "name": "stdout",
     "output_type": "stream",
     "text": [
      "Total grid search time: 2565.62 minutes\n"
     ]
    }
   ],
   "source": [
    "end_time = time.time()\n",
    "gridSearch_MLP_1H_time = end_time - start_time\n",
    "print(f\"Total grid search time: {(time.time() - start_time)/60:.2f} minutes\")"
   ]
  },
  {
   "cell_type": "markdown",
   "metadata": {},
   "source": [
    "### 4.2.2 Retrieve best run"
   ]
  },
  {
   "cell_type": "code",
   "execution_count": 17,
   "metadata": {},
   "outputs": [
    {
     "data": {
      "text/html": [
       "<div>\n",
       "<style scoped>\n",
       "    .dataframe tbody tr th:only-of-type {\n",
       "        vertical-align: middle;\n",
       "    }\n",
       "\n",
       "    .dataframe tbody tr th {\n",
       "        vertical-align: top;\n",
       "    }\n",
       "\n",
       "    .dataframe thead th {\n",
       "        text-align: right;\n",
       "    }\n",
       "</style>\n",
       "<table border=\"1\" class=\"dataframe\">\n",
       "  <thead>\n",
       "    <tr style=\"text-align: right;\">\n",
       "      <th></th>\n",
       "      <th>learning_rate</th>\n",
       "      <th>dropout</th>\n",
       "      <th>hidden_neurons1</th>\n",
       "      <th>hidden_neurons2</th>\n",
       "      <th>hidden_neurons3</th>\n",
       "      <th>optimizer</th>\n",
       "      <th>val_accuracy</th>\n",
       "      <th>val_precision</th>\n",
       "      <th>val_recall</th>\n",
       "      <th>model_path</th>\n",
       "    </tr>\n",
       "  </thead>\n",
       "  <tbody>\n",
       "    <tr>\n",
       "      <th>0</th>\n",
       "      <td>0.01</td>\n",
       "      <td>0.0</td>\n",
       "      <td>32</td>\n",
       "      <td>32</td>\n",
       "      <td>32</td>\n",
       "      <td>sgd</td>\n",
       "      <td>0.931500</td>\n",
       "      <td>0.942347</td>\n",
       "      <td>0.923500</td>\n",
       "      <td>mlp3H_saved_models_run2/best_model_lr0.01_do0....</td>\n",
       "    </tr>\n",
       "    <tr>\n",
       "      <th>1</th>\n",
       "      <td>0.01</td>\n",
       "      <td>0.0</td>\n",
       "      <td>32</td>\n",
       "      <td>32</td>\n",
       "      <td>32</td>\n",
       "      <td>adam</td>\n",
       "      <td>0.931750</td>\n",
       "      <td>0.941865</td>\n",
       "      <td>0.924833</td>\n",
       "      <td>mlp3H_saved_models_run2/best_model_lr0.01_do0....</td>\n",
       "    </tr>\n",
       "    <tr>\n",
       "      <th>2</th>\n",
       "      <td>0.01</td>\n",
       "      <td>0.0</td>\n",
       "      <td>64</td>\n",
       "      <td>32</td>\n",
       "      <td>32</td>\n",
       "      <td>sgd</td>\n",
       "      <td>0.939917</td>\n",
       "      <td>0.948622</td>\n",
       "      <td>0.932417</td>\n",
       "      <td>mlp3H_saved_models_run2/best_model_lr0.01_do0....</td>\n",
       "    </tr>\n",
       "    <tr>\n",
       "      <th>3</th>\n",
       "      <td>0.01</td>\n",
       "      <td>0.0</td>\n",
       "      <td>64</td>\n",
       "      <td>32</td>\n",
       "      <td>32</td>\n",
       "      <td>adam</td>\n",
       "      <td>0.948583</td>\n",
       "      <td>0.954392</td>\n",
       "      <td>0.945167</td>\n",
       "      <td>mlp3H_saved_models_run2/best_model_lr0.01_do0....</td>\n",
       "    </tr>\n",
       "    <tr>\n",
       "      <th>4</th>\n",
       "      <td>0.01</td>\n",
       "      <td>0.0</td>\n",
       "      <td>64</td>\n",
       "      <td>64</td>\n",
       "      <td>32</td>\n",
       "      <td>sgd</td>\n",
       "      <td>0.945583</td>\n",
       "      <td>0.951955</td>\n",
       "      <td>0.941167</td>\n",
       "      <td>mlp3H_saved_models_run2/best_model_lr0.01_do0....</td>\n",
       "    </tr>\n",
       "  </tbody>\n",
       "</table>\n",
       "</div>"
      ],
      "text/plain": [
       "   learning_rate  dropout  hidden_neurons1  hidden_neurons2  hidden_neurons3  \\\n",
       "0           0.01      0.0               32               32               32   \n",
       "1           0.01      0.0               32               32               32   \n",
       "2           0.01      0.0               64               32               32   \n",
       "3           0.01      0.0               64               32               32   \n",
       "4           0.01      0.0               64               64               32   \n",
       "\n",
       "  optimizer  val_accuracy  val_precision  val_recall  \\\n",
       "0       sgd      0.931500       0.942347    0.923500   \n",
       "1      adam      0.931750       0.941865    0.924833   \n",
       "2       sgd      0.939917       0.948622    0.932417   \n",
       "3      adam      0.948583       0.954392    0.945167   \n",
       "4       sgd      0.945583       0.951955    0.941167   \n",
       "\n",
       "                                          model_path  \n",
       "0  mlp3H_saved_models_run2/best_model_lr0.01_do0....  \n",
       "1  mlp3H_saved_models_run2/best_model_lr0.01_do0....  \n",
       "2  mlp3H_saved_models_run2/best_model_lr0.01_do0....  \n",
       "3  mlp3H_saved_models_run2/best_model_lr0.01_do0....  \n",
       "4  mlp3H_saved_models_run2/best_model_lr0.01_do0....  "
      ]
     },
     "execution_count": 17,
     "metadata": {},
     "output_type": "execute_result"
    }
   ],
   "source": [
    "# Read the grid search results and convert to a data frame\n",
    "results_MLP_3H = pd.read_json('mlp3H_grid_search_results_run2.json')\n",
    "\n",
    "results_MLP_3H.head()"
   ]
  },
  {
   "cell_type": "code",
   "execution_count": 19,
   "metadata": {},
   "outputs": [
    {
     "name": "stdout",
     "output_type": "stream",
     "text": [
      "Best grid search accuracy: 0.9695833325386041\n",
      "Best run index: 197\n",
      "Epoch 1/300\n",
      "\u001b[1m1875/1875\u001b[0m \u001b[32m━━━━━━━━━━━━━━━━━━━━\u001b[0m\u001b[37m\u001b[0m \u001b[1m9s\u001b[0m 4ms/step - accuracy: 0.7757 - loss: 0.7200 - precision: 0.8472 - recall: 0.7183 - val_accuracy: 0.8447 - val_loss: 0.4982 - val_precision: 0.8903 - val_recall: 0.8169\n",
      "Epoch 2/300\n",
      "\u001b[1m1875/1875\u001b[0m \u001b[32m━━━━━━━━━━━━━━━━━━━━\u001b[0m\u001b[37m\u001b[0m \u001b[1m8s\u001b[0m 4ms/step - accuracy: 0.9024 - loss: 0.3110 - precision: 0.9271 - recall: 0.8816 - val_accuracy: 0.8666 - val_loss: 0.4515 - val_precision: 0.8971 - val_recall: 0.8483\n",
      "Epoch 3/300\n",
      "\u001b[1m1875/1875\u001b[0m \u001b[32m━━━━━━━━━━━━━━━━━━━━\u001b[0m\u001b[37m\u001b[0m \u001b[1m8s\u001b[0m 4ms/step - accuracy: 0.9241 - loss: 0.2454 - precision: 0.9414 - recall: 0.9104 - val_accuracy: 0.8863 - val_loss: 0.3869 - val_precision: 0.9122 - val_recall: 0.8684\n",
      "Epoch 4/300\n",
      "\u001b[1m1875/1875\u001b[0m \u001b[32m━━━━━━━━━━━━━━━━━━━━\u001b[0m\u001b[37m\u001b[0m \u001b[1m8s\u001b[0m 4ms/step - accuracy: 0.9331 - loss: 0.2148 - precision: 0.9485 - recall: 0.9218 - val_accuracy: 0.8859 - val_loss: 0.3894 - val_precision: 0.9105 - val_recall: 0.8682\n",
      "Epoch 5/300\n",
      "\u001b[1m1875/1875\u001b[0m \u001b[32m━━━━━━━━━━━━━━━━━━━━\u001b[0m\u001b[37m\u001b[0m \u001b[1m8s\u001b[0m 4ms/step - accuracy: 0.9412 - loss: 0.1892 - precision: 0.9542 - recall: 0.9318 - val_accuracy: 0.9007 - val_loss: 0.3490 - val_precision: 0.9215 - val_recall: 0.8886\n",
      "Epoch 6/300\n",
      "\u001b[1m1875/1875\u001b[0m \u001b[32m━━━━━━━━━━━━━━━━━━━━\u001b[0m\u001b[37m\u001b[0m \u001b[1m8s\u001b[0m 4ms/step - accuracy: 0.9473 - loss: 0.1680 - precision: 0.9574 - recall: 0.9384 - val_accuracy: 0.8943 - val_loss: 0.3732 - val_precision: 0.9148 - val_recall: 0.8806\n",
      "Epoch 7/300\n",
      "\u001b[1m1875/1875\u001b[0m \u001b[32m━━━━━━━━━━━━━━━━━━━━\u001b[0m\u001b[37m\u001b[0m \u001b[1m8s\u001b[0m 4ms/step - accuracy: 0.9499 - loss: 0.1580 - precision: 0.9602 - recall: 0.9419 - val_accuracy: 0.9083 - val_loss: 0.3231 - val_precision: 0.9275 - val_recall: 0.8966\n",
      "Epoch 8/300\n",
      "\u001b[1m1875/1875\u001b[0m \u001b[32m━━━━━━━━━━━━━━━━━━━━\u001b[0m\u001b[37m\u001b[0m \u001b[1m8s\u001b[0m 4ms/step - accuracy: 0.9554 - loss: 0.1433 - precision: 0.9630 - recall: 0.9489 - val_accuracy: 0.9099 - val_loss: 0.3239 - val_precision: 0.9280 - val_recall: 0.9002\n",
      "Epoch 9/300\n",
      "\u001b[1m1875/1875\u001b[0m \u001b[32m━━━━━━━━━━━━━━━━━━━━\u001b[0m\u001b[37m\u001b[0m \u001b[1m8s\u001b[0m 4ms/step - accuracy: 0.9572 - loss: 0.1339 - precision: 0.9656 - recall: 0.9513 - val_accuracy: 0.9093 - val_loss: 0.3258 - val_precision: 0.9264 - val_recall: 0.9003\n",
      "Epoch 10/300\n",
      "\u001b[1m1875/1875\u001b[0m \u001b[32m━━━━━━━━━━━━━━━━━━━━\u001b[0m\u001b[37m\u001b[0m \u001b[1m8s\u001b[0m 4ms/step - accuracy: 0.9604 - loss: 0.1241 - precision: 0.9667 - recall: 0.9554 - val_accuracy: 0.9122 - val_loss: 0.3285 - val_precision: 0.9268 - val_recall: 0.9043\n",
      "Epoch 11/300\n",
      "\u001b[1m1875/1875\u001b[0m \u001b[32m━━━━━━━━━━━━━━━━━━━━\u001b[0m\u001b[37m\u001b[0m \u001b[1m8s\u001b[0m 4ms/step - accuracy: 0.9633 - loss: 0.1132 - precision: 0.9691 - recall: 0.9581 - val_accuracy: 0.9093 - val_loss: 0.3411 - val_precision: 0.9239 - val_recall: 0.9015\n",
      "Epoch 12/300\n",
      "\u001b[1m1875/1875\u001b[0m \u001b[32m━━━━━━━━━━━━━━━━━━━━\u001b[0m\u001b[37m\u001b[0m \u001b[1m8s\u001b[0m 4ms/step - accuracy: 0.9623 - loss: 0.1164 - precision: 0.9693 - recall: 0.9574 - val_accuracy: 0.9177 - val_loss: 0.3010 - val_precision: 0.9296 - val_recall: 0.9103\n",
      "Epoch 13/300\n",
      "\u001b[1m1875/1875\u001b[0m \u001b[32m━━━━━━━━━━━━━━━━━━━━\u001b[0m\u001b[37m\u001b[0m \u001b[1m8s\u001b[0m 4ms/step - accuracy: 0.9655 - loss: 0.1049 - precision: 0.9712 - recall: 0.9611 - val_accuracy: 0.9151 - val_loss: 0.3151 - val_precision: 0.9284 - val_recall: 0.9067\n",
      "Epoch 14/300\n",
      "\u001b[1m1875/1875\u001b[0m \u001b[32m━━━━━━━━━━━━━━━━━━━━\u001b[0m\u001b[37m\u001b[0m \u001b[1m8s\u001b[0m 4ms/step - accuracy: 0.9706 - loss: 0.0950 - precision: 0.9754 - recall: 0.9670 - val_accuracy: 0.9137 - val_loss: 0.3286 - val_precision: 0.9259 - val_recall: 0.9058\n",
      "Epoch 15/300\n",
      "\u001b[1m1875/1875\u001b[0m \u001b[32m━━━━━━━━━━━━━━━━━━━━\u001b[0m\u001b[37m\u001b[0m \u001b[1m8s\u001b[0m 4ms/step - accuracy: 0.9687 - loss: 0.0956 - precision: 0.9730 - recall: 0.9652 - val_accuracy: 0.9175 - val_loss: 0.3260 - val_precision: 0.9280 - val_recall: 0.9114\n",
      "Epoch 16/300\n",
      "\u001b[1m1875/1875\u001b[0m \u001b[32m━━━━━━━━━━━━━━━━━━━━\u001b[0m\u001b[37m\u001b[0m \u001b[1m8s\u001b[0m 4ms/step - accuracy: 0.9707 - loss: 0.0906 - precision: 0.9747 - recall: 0.9671 - val_accuracy: 0.9223 - val_loss: 0.3141 - val_precision: 0.9327 - val_recall: 0.9173\n",
      "Epoch 17/300\n",
      "\u001b[1m1875/1875\u001b[0m \u001b[32m━━━━━━━━━━━━━━━━━━━━\u001b[0m\u001b[37m\u001b[0m \u001b[1m8s\u001b[0m 4ms/step - accuracy: 0.9706 - loss: 0.0892 - precision: 0.9747 - recall: 0.9673 - val_accuracy: 0.9209 - val_loss: 0.3100 - val_precision: 0.9317 - val_recall: 0.9148\n",
      "Epoch 18/300\n",
      "\u001b[1m1875/1875\u001b[0m \u001b[32m━━━━━━━━━━━━━━━━━━━━\u001b[0m\u001b[37m\u001b[0m \u001b[1m8s\u001b[0m 4ms/step - accuracy: 0.9731 - loss: 0.0848 - precision: 0.9767 - recall: 0.9700 - val_accuracy: 0.9179 - val_loss: 0.3358 - val_precision: 0.9284 - val_recall: 0.9114\n",
      "Epoch 19/300\n",
      "\u001b[1m1875/1875\u001b[0m \u001b[32m━━━━━━━━━━━━━━━━━━━━\u001b[0m\u001b[37m\u001b[0m \u001b[1m8s\u001b[0m 4ms/step - accuracy: 0.9719 - loss: 0.0862 - precision: 0.9762 - recall: 0.9689 - val_accuracy: 0.9236 - val_loss: 0.3164 - val_precision: 0.9335 - val_recall: 0.9185\n",
      "Epoch 20/300\n",
      "\u001b[1m1875/1875\u001b[0m \u001b[32m━━━━━━━━━━━━━━━━━━━━\u001b[0m\u001b[37m\u001b[0m \u001b[1m8s\u001b[0m 4ms/step - accuracy: 0.9750 - loss: 0.0791 - precision: 0.9785 - recall: 0.9727 - val_accuracy: 0.9200 - val_loss: 0.3272 - val_precision: 0.9292 - val_recall: 0.9154\n",
      "Epoch 21/300\n",
      "\u001b[1m1875/1875\u001b[0m \u001b[32m━━━━━━━━━━━━━━━━━━━━\u001b[0m\u001b[37m\u001b[0m \u001b[1m8s\u001b[0m 4ms/step - accuracy: 0.9759 - loss: 0.0760 - precision: 0.9792 - recall: 0.9736 - val_accuracy: 0.9215 - val_loss: 0.3209 - val_precision: 0.9298 - val_recall: 0.9172\n",
      "Epoch 22/300\n",
      "\u001b[1m1875/1875\u001b[0m \u001b[32m━━━━━━━━━━━━━━━━━━━━\u001b[0m\u001b[37m\u001b[0m \u001b[1m8s\u001b[0m 4ms/step - accuracy: 0.9761 - loss: 0.0736 - precision: 0.9796 - recall: 0.9733 - val_accuracy: 0.9266 - val_loss: 0.3163 - val_precision: 0.9343 - val_recall: 0.9224\n",
      "Epoch 23/300\n",
      "\u001b[1m1875/1875\u001b[0m \u001b[32m━━━━━━━━━━━━━━━━━━━━\u001b[0m\u001b[37m\u001b[0m \u001b[1m8s\u001b[0m 4ms/step - accuracy: 0.9787 - loss: 0.0673 - precision: 0.9814 - recall: 0.9765 - val_accuracy: 0.9210 - val_loss: 0.3326 - val_precision: 0.9291 - val_recall: 0.9164\n",
      "Epoch 24/300\n",
      "\u001b[1m1875/1875\u001b[0m \u001b[32m━━━━━━━━━━━━━━━━━━━━\u001b[0m\u001b[37m\u001b[0m \u001b[1m8s\u001b[0m 4ms/step - accuracy: 0.9776 - loss: 0.0702 - precision: 0.9803 - recall: 0.9754 - val_accuracy: 0.9224 - val_loss: 0.3250 - val_precision: 0.9299 - val_recall: 0.9183\n",
      "Epoch 25/300\n",
      "\u001b[1m1875/1875\u001b[0m \u001b[32m━━━━━━━━━━━━━━━━━━━━\u001b[0m\u001b[37m\u001b[0m \u001b[1m8s\u001b[0m 4ms/step - accuracy: 0.9772 - loss: 0.0696 - precision: 0.9802 - recall: 0.9749 - val_accuracy: 0.9229 - val_loss: 0.3321 - val_precision: 0.9315 - val_recall: 0.9186\n",
      "Epoch 26/300\n",
      "\u001b[1m1875/1875\u001b[0m \u001b[32m━━━━━━━━━━━━━━━━━━━━\u001b[0m\u001b[37m\u001b[0m \u001b[1m8s\u001b[0m 4ms/step - accuracy: 0.9783 - loss: 0.0663 - precision: 0.9810 - recall: 0.9759 - val_accuracy: 0.9234 - val_loss: 0.3339 - val_precision: 0.9321 - val_recall: 0.9201\n",
      "Epoch 27/300\n",
      "\u001b[1m1875/1875\u001b[0m \u001b[32m━━━━━━━━━━━━━━━━━━━━\u001b[0m\u001b[37m\u001b[0m \u001b[1m8s\u001b[0m 4ms/step - accuracy: 0.9787 - loss: 0.0640 - precision: 0.9811 - recall: 0.9765 - val_accuracy: 0.9219 - val_loss: 0.3293 - val_precision: 0.9293 - val_recall: 0.9173\n",
      "Epoch 28/300\n",
      "\u001b[1m1875/1875\u001b[0m \u001b[32m━━━━━━━━━━━━━━━━━━━━\u001b[0m\u001b[37m\u001b[0m \u001b[1m8s\u001b[0m 4ms/step - accuracy: 0.9794 - loss: 0.0594 - precision: 0.9822 - recall: 0.9779 - val_accuracy: 0.9225 - val_loss: 0.3352 - val_precision: 0.9306 - val_recall: 0.9192\n",
      "Epoch 29/300\n",
      "\u001b[1m1875/1875\u001b[0m \u001b[32m━━━━━━━━━━━━━━━━━━━━\u001b[0m\u001b[37m\u001b[0m \u001b[1m8s\u001b[0m 4ms/step - accuracy: 0.9799 - loss: 0.0628 - precision: 0.9823 - recall: 0.9777 - val_accuracy: 0.9243 - val_loss: 0.3380 - val_precision: 0.9316 - val_recall: 0.9208\n",
      "Epoch 30/300\n",
      "\u001b[1m1875/1875\u001b[0m \u001b[32m━━━━━━━━━━━━━━━━━━━━\u001b[0m\u001b[37m\u001b[0m \u001b[1m8s\u001b[0m 4ms/step - accuracy: 0.9792 - loss: 0.0615 - precision: 0.9815 - recall: 0.9770 - val_accuracy: 0.9224 - val_loss: 0.3344 - val_precision: 0.9303 - val_recall: 0.9189\n",
      "Epoch 31/300\n",
      "\u001b[1m1875/1875\u001b[0m \u001b[32m━━━━━━━━━━━━━━━━━━━━\u001b[0m\u001b[37m\u001b[0m \u001b[1m8s\u001b[0m 4ms/step - accuracy: 0.9797 - loss: 0.0610 - precision: 0.9817 - recall: 0.9779 - val_accuracy: 0.9241 - val_loss: 0.3351 - val_precision: 0.9310 - val_recall: 0.9209\n",
      "Epoch 32/300\n",
      "\u001b[1m1875/1875\u001b[0m \u001b[32m━━━━━━━━━━━━━━━━━━━━\u001b[0m\u001b[37m\u001b[0m \u001b[1m8s\u001b[0m 4ms/step - accuracy: 0.9820 - loss: 0.0538 - precision: 0.9840 - recall: 0.9808 - val_accuracy: 0.9246 - val_loss: 0.3333 - val_precision: 0.9312 - val_recall: 0.9218\n",
      "Epoch 33/300\n",
      "\u001b[1m1875/1875\u001b[0m \u001b[32m━━━━━━━━━━━━━━━━━━━━\u001b[0m\u001b[37m\u001b[0m \u001b[1m8s\u001b[0m 4ms/step - accuracy: 0.9811 - loss: 0.0563 - precision: 0.9833 - recall: 0.9796 - val_accuracy: 0.9227 - val_loss: 0.3381 - val_precision: 0.9309 - val_recall: 0.9184\n",
      "Epoch 34/300\n",
      "\u001b[1m1875/1875\u001b[0m \u001b[32m━━━━━━━━━━━━━━━━━━━━\u001b[0m\u001b[37m\u001b[0m \u001b[1m8s\u001b[0m 4ms/step - accuracy: 0.9813 - loss: 0.0551 - precision: 0.9838 - recall: 0.9797 - val_accuracy: 0.9218 - val_loss: 0.3558 - val_precision: 0.9301 - val_recall: 0.9186\n",
      "Epoch 35/300\n",
      "\u001b[1m1875/1875\u001b[0m \u001b[32m━━━━━━━━━━━━━━━━━━━━\u001b[0m\u001b[37m\u001b[0m \u001b[1m8s\u001b[0m 4ms/step - accuracy: 0.9818 - loss: 0.0548 - precision: 0.9838 - recall: 0.9799 - val_accuracy: 0.9245 - val_loss: 0.3293 - val_precision: 0.9312 - val_recall: 0.9204\n",
      "Epoch 36/300\n",
      "\u001b[1m1875/1875\u001b[0m \u001b[32m━━━━━━━━━━━━━━━━━━━━\u001b[0m\u001b[37m\u001b[0m \u001b[1m8s\u001b[0m 4ms/step - accuracy: 0.9825 - loss: 0.0537 - precision: 0.9844 - recall: 0.9810 - val_accuracy: 0.9208 - val_loss: 0.3562 - val_precision: 0.9280 - val_recall: 0.9171\n",
      "Epoch 37/300\n",
      "\u001b[1m1875/1875\u001b[0m \u001b[32m━━━━━━━━━━━━━━━━━━━━\u001b[0m\u001b[37m\u001b[0m \u001b[1m8s\u001b[0m 4ms/step - accuracy: 0.9818 - loss: 0.0522 - precision: 0.9836 - recall: 0.9804 - val_accuracy: 0.9225 - val_loss: 0.3584 - val_precision: 0.9301 - val_recall: 0.9203\n",
      "Epoch 38/300\n",
      "\u001b[1m1875/1875\u001b[0m \u001b[32m━━━━━━━━━━━━━━━━━━━━\u001b[0m\u001b[37m\u001b[0m \u001b[1m8s\u001b[0m 4ms/step - accuracy: 0.9834 - loss: 0.0503 - precision: 0.9856 - recall: 0.9819 - val_accuracy: 0.9230 - val_loss: 0.3458 - val_precision: 0.9303 - val_recall: 0.9188\n",
      "Epoch 39/300\n",
      "\u001b[1m1875/1875\u001b[0m \u001b[32m━━━━━━━━━━━━━━━━━━━━\u001b[0m\u001b[37m\u001b[0m \u001b[1m8s\u001b[0m 4ms/step - accuracy: 0.9830 - loss: 0.0493 - precision: 0.9850 - recall: 0.9817 - val_accuracy: 0.9216 - val_loss: 0.3652 - val_precision: 0.9282 - val_recall: 0.9179\n",
      "Epoch 40/300\n",
      "\u001b[1m1875/1875\u001b[0m \u001b[32m━━━━━━━━━━━━━━━━━━━━\u001b[0m\u001b[37m\u001b[0m \u001b[1m8s\u001b[0m 4ms/step - accuracy: 0.9843 - loss: 0.0454 - precision: 0.9860 - recall: 0.9830 - val_accuracy: 0.9200 - val_loss: 0.3710 - val_precision: 0.9267 - val_recall: 0.9174\n",
      "Epoch 41/300\n",
      "\u001b[1m1875/1875\u001b[0m \u001b[32m━━━━━━━━━━━━━━━━━━━━\u001b[0m\u001b[37m\u001b[0m \u001b[1m8s\u001b[0m 4ms/step - accuracy: 0.9842 - loss: 0.0493 - precision: 0.9856 - recall: 0.9829 - val_accuracy: 0.9203 - val_loss: 0.3590 - val_precision: 0.9288 - val_recall: 0.9169\n",
      "Epoch 42/300\n",
      "\u001b[1m1875/1875\u001b[0m \u001b[32m━━━━━━━━━━━━━━━━━━━━\u001b[0m\u001b[37m\u001b[0m \u001b[1m8s\u001b[0m 4ms/step - accuracy: 0.9842 - loss: 0.0479 - precision: 0.9856 - recall: 0.9830 - val_accuracy: 0.9269 - val_loss: 0.3452 - val_precision: 0.9327 - val_recall: 0.9236\n",
      "Epoch 43/300\n",
      "\u001b[1m1875/1875\u001b[0m \u001b[32m━━━━━━━━━━━━━━━━━━━━\u001b[0m\u001b[37m\u001b[0m \u001b[1m8s\u001b[0m 4ms/step - accuracy: 0.9843 - loss: 0.0456 - precision: 0.9858 - recall: 0.9832 - val_accuracy: 0.9271 - val_loss: 0.3498 - val_precision: 0.9324 - val_recall: 0.9237\n",
      "Epoch 44/300\n",
      "\u001b[1m1875/1875\u001b[0m \u001b[32m━━━━━━━━━━━━━━━━━━━━\u001b[0m\u001b[37m\u001b[0m \u001b[1m8s\u001b[0m 4ms/step - accuracy: 0.9851 - loss: 0.0462 - precision: 0.9859 - recall: 0.9839 - val_accuracy: 0.9245 - val_loss: 0.3648 - val_precision: 0.9301 - val_recall: 0.9217\n",
      "Epoch 45/300\n",
      "\u001b[1m1875/1875\u001b[0m \u001b[32m━━━━━━━━━━━━━━━━━━━━\u001b[0m\u001b[37m\u001b[0m \u001b[1m8s\u001b[0m 4ms/step - accuracy: 0.9854 - loss: 0.0443 - precision: 0.9866 - recall: 0.9841 - val_accuracy: 0.9257 - val_loss: 0.3641 - val_precision: 0.9313 - val_recall: 0.9233\n",
      "Epoch 46/300\n",
      "\u001b[1m1875/1875\u001b[0m \u001b[32m━━━━━━━━━━━━━━━━━━━━\u001b[0m\u001b[37m\u001b[0m \u001b[1m8s\u001b[0m 4ms/step - accuracy: 0.9852 - loss: 0.0429 - precision: 0.9870 - recall: 0.9841 - val_accuracy: 0.9263 - val_loss: 0.3576 - val_precision: 0.9319 - val_recall: 0.9234\n",
      "Epoch 47/300\n",
      "\u001b[1m1875/1875\u001b[0m \u001b[32m━━━━━━━━━━━━━━━━━━━━\u001b[0m\u001b[37m\u001b[0m \u001b[1m8s\u001b[0m 4ms/step - accuracy: 0.9856 - loss: 0.0440 - precision: 0.9870 - recall: 0.9846 - val_accuracy: 0.9255 - val_loss: 0.3543 - val_precision: 0.9303 - val_recall: 0.9230\n",
      "Epoch 48/300\n",
      "\u001b[1m1875/1875\u001b[0m \u001b[32m━━━━━━━━━━━━━━━━━━━━\u001b[0m\u001b[37m\u001b[0m \u001b[1m8s\u001b[0m 4ms/step - accuracy: 0.9851 - loss: 0.0441 - precision: 0.9864 - recall: 0.9840 - val_accuracy: 0.9255 - val_loss: 0.3564 - val_precision: 0.9313 - val_recall: 0.9230\n",
      "Epoch 49/300\n",
      "\u001b[1m1875/1875\u001b[0m \u001b[32m━━━━━━━━━━━━━━━━━━━━\u001b[0m\u001b[37m\u001b[0m \u001b[1m8s\u001b[0m 4ms/step - accuracy: 0.9859 - loss: 0.0420 - precision: 0.9873 - recall: 0.9847 - val_accuracy: 0.9244 - val_loss: 0.3680 - val_precision: 0.9294 - val_recall: 0.9219\n",
      "Epoch 50/300\n",
      "\u001b[1m1875/1875\u001b[0m \u001b[32m━━━━━━━━━━━━━━━━━━━━\u001b[0m\u001b[37m\u001b[0m \u001b[1m8s\u001b[0m 4ms/step - accuracy: 0.9864 - loss: 0.0412 - precision: 0.9878 - recall: 0.9853 - val_accuracy: 0.9246 - val_loss: 0.3622 - val_precision: 0.9309 - val_recall: 0.9209\n",
      "Epoch 51/300\n",
      "\u001b[1m1875/1875\u001b[0m \u001b[32m━━━━━━━━━━━━━━━━━━━━\u001b[0m\u001b[37m\u001b[0m \u001b[1m8s\u001b[0m 4ms/step - accuracy: 0.9855 - loss: 0.0416 - precision: 0.9872 - recall: 0.9847 - val_accuracy: 0.9248 - val_loss: 0.3729 - val_precision: 0.9313 - val_recall: 0.9225\n",
      "Epoch 52/300\n",
      "\u001b[1m1875/1875\u001b[0m \u001b[32m━━━━━━━━━━━━━━━━━━━━\u001b[0m\u001b[37m\u001b[0m \u001b[1m8s\u001b[0m 4ms/step - accuracy: 0.9860 - loss: 0.0439 - precision: 0.9870 - recall: 0.9853 - val_accuracy: 0.9267 - val_loss: 0.3669 - val_precision: 0.9321 - val_recall: 0.9237\n",
      "Epoch 53/300\n",
      "\u001b[1m1875/1875\u001b[0m \u001b[32m━━━━━━━━━━━━━━━━━━━━\u001b[0m\u001b[37m\u001b[0m \u001b[1m8s\u001b[0m 4ms/step - accuracy: 0.9874 - loss: 0.0381 - precision: 0.9884 - recall: 0.9862 - val_accuracy: 0.9286 - val_loss: 0.3495 - val_precision: 0.9353 - val_recall: 0.9260\n",
      "Epoch 54/300\n",
      "\u001b[1m1875/1875\u001b[0m \u001b[32m━━━━━━━━━━━━━━━━━━━━\u001b[0m\u001b[37m\u001b[0m \u001b[1m8s\u001b[0m 4ms/step - accuracy: 0.9865 - loss: 0.0393 - precision: 0.9873 - recall: 0.9858 - val_accuracy: 0.9270 - val_loss: 0.3527 - val_precision: 0.9334 - val_recall: 0.9249\n",
      "Epoch 55/300\n",
      "\u001b[1m1875/1875\u001b[0m \u001b[32m━━━━━━━━━━━━━━━━━━━━\u001b[0m\u001b[37m\u001b[0m \u001b[1m8s\u001b[0m 4ms/step - accuracy: 0.9862 - loss: 0.0414 - precision: 0.9876 - recall: 0.9850 - val_accuracy: 0.9271 - val_loss: 0.3538 - val_precision: 0.9326 - val_recall: 0.9244\n",
      "Epoch 56/300\n",
      "\u001b[1m1875/1875\u001b[0m \u001b[32m━━━━━━━━━━━━━━━━━━━━\u001b[0m\u001b[37m\u001b[0m \u001b[1m8s\u001b[0m 4ms/step - accuracy: 0.9862 - loss: 0.0418 - precision: 0.9875 - recall: 0.9853 - val_accuracy: 0.9294 - val_loss: 0.3514 - val_precision: 0.9341 - val_recall: 0.9269\n",
      "Epoch 57/300\n",
      "\u001b[1m1875/1875\u001b[0m \u001b[32m━━━━━━━━━━━━━━━━━━━━\u001b[0m\u001b[37m\u001b[0m \u001b[1m8s\u001b[0m 4ms/step - accuracy: 0.9868 - loss: 0.0405 - precision: 0.9878 - recall: 0.9858 - val_accuracy: 0.9272 - val_loss: 0.3643 - val_precision: 0.9330 - val_recall: 0.9246\n",
      "Epoch 58/300\n",
      "\u001b[1m1875/1875\u001b[0m \u001b[32m━━━━━━━━━━━━━━━━━━━━\u001b[0m\u001b[37m\u001b[0m \u001b[1m8s\u001b[0m 4ms/step - accuracy: 0.9863 - loss: 0.0417 - precision: 0.9874 - recall: 0.9852 - val_accuracy: 0.9262 - val_loss: 0.3748 - val_precision: 0.9317 - val_recall: 0.9242\n",
      "Epoch 59/300\n",
      "\u001b[1m1875/1875\u001b[0m \u001b[32m━━━━━━━━━━━━━━━━━━━━\u001b[0m\u001b[37m\u001b[0m \u001b[1m8s\u001b[0m 4ms/step - accuracy: 0.9868 - loss: 0.0386 - precision: 0.9874 - recall: 0.9861 - val_accuracy: 0.9227 - val_loss: 0.3684 - val_precision: 0.9276 - val_recall: 0.9203\n",
      "Epoch 60/300\n",
      "\u001b[1m1875/1875\u001b[0m \u001b[32m━━━━━━━━━━━━━━━━━━━━\u001b[0m\u001b[37m\u001b[0m \u001b[1m8s\u001b[0m 4ms/step - accuracy: 0.9878 - loss: 0.0350 - precision: 0.9887 - recall: 0.9868 - val_accuracy: 0.9287 - val_loss: 0.3660 - val_precision: 0.9341 - val_recall: 0.9258\n",
      "Epoch 61/300\n",
      "\u001b[1m1875/1875\u001b[0m \u001b[32m━━━━━━━━━━━━━━━━━━━━\u001b[0m\u001b[37m\u001b[0m \u001b[1m8s\u001b[0m 4ms/step - accuracy: 0.9880 - loss: 0.0369 - precision: 0.9893 - recall: 0.9873 - val_accuracy: 0.9271 - val_loss: 0.3713 - val_precision: 0.9332 - val_recall: 0.9247\n",
      "Epoch 62/300\n",
      "\u001b[1m1875/1875\u001b[0m \u001b[32m━━━━━━━━━━━━━━━━━━━━\u001b[0m\u001b[37m\u001b[0m \u001b[1m8s\u001b[0m 4ms/step - accuracy: 0.9875 - loss: 0.0355 - precision: 0.9886 - recall: 0.9863 - val_accuracy: 0.9258 - val_loss: 0.3737 - val_precision: 0.9310 - val_recall: 0.9239\n",
      "Epoch 63/300\n",
      "\u001b[1m1875/1875\u001b[0m \u001b[32m━━━━━━━━━━━━━━━━━━━━\u001b[0m\u001b[37m\u001b[0m \u001b[1m8s\u001b[0m 4ms/step - accuracy: 0.9883 - loss: 0.0338 - precision: 0.9893 - recall: 0.9877 - val_accuracy: 0.9275 - val_loss: 0.3682 - val_precision: 0.9327 - val_recall: 0.9258\n",
      "Epoch 64/300\n",
      "\u001b[1m1875/1875\u001b[0m \u001b[32m━━━━━━━━━━━━━━━━━━━━\u001b[0m\u001b[37m\u001b[0m \u001b[1m8s\u001b[0m 4ms/step - accuracy: 0.9881 - loss: 0.0354 - precision: 0.9892 - recall: 0.9876 - val_accuracy: 0.9273 - val_loss: 0.3694 - val_precision: 0.9321 - val_recall: 0.9242\n",
      "Epoch 65/300\n",
      "\u001b[1m1875/1875\u001b[0m \u001b[32m━━━━━━━━━━━━━━━━━━━━\u001b[0m\u001b[37m\u001b[0m \u001b[1m8s\u001b[0m 4ms/step - accuracy: 0.9883 - loss: 0.0363 - precision: 0.9893 - recall: 0.9875 - val_accuracy: 0.9292 - val_loss: 0.3707 - val_precision: 0.9341 - val_recall: 0.9272\n",
      "Epoch 66/300\n",
      "\u001b[1m1875/1875\u001b[0m \u001b[32m━━━━━━━━━━━━━━━━━━━━\u001b[0m\u001b[37m\u001b[0m \u001b[1m8s\u001b[0m 4ms/step - accuracy: 0.9891 - loss: 0.0329 - precision: 0.9900 - recall: 0.9884 - val_accuracy: 0.9260 - val_loss: 0.3753 - val_precision: 0.9314 - val_recall: 0.9240\n",
      "Epoch 67/300\n",
      "\u001b[1m1875/1875\u001b[0m \u001b[32m━━━━━━━━━━━━━━━━━━━━\u001b[0m\u001b[37m\u001b[0m \u001b[1m8s\u001b[0m 4ms/step - accuracy: 0.9885 - loss: 0.0326 - precision: 0.9894 - recall: 0.9877 - val_accuracy: 0.9277 - val_loss: 0.3667 - val_precision: 0.9332 - val_recall: 0.9254\n",
      "Epoch 68/300\n",
      "\u001b[1m1875/1875\u001b[0m \u001b[32m━━━━━━━━━━━━━━━━━━━━\u001b[0m\u001b[37m\u001b[0m \u001b[1m8s\u001b[0m 4ms/step - accuracy: 0.9894 - loss: 0.0331 - precision: 0.9901 - recall: 0.9883 - val_accuracy: 0.9278 - val_loss: 0.3605 - val_precision: 0.9329 - val_recall: 0.9260\n",
      "Epoch 69/300\n",
      "\u001b[1m1875/1875\u001b[0m \u001b[32m━━━━━━━━━━━━━━━━━━━━\u001b[0m\u001b[37m\u001b[0m \u001b[1m8s\u001b[0m 4ms/step - accuracy: 0.9891 - loss: 0.0311 - precision: 0.9899 - recall: 0.9882 - val_accuracy: 0.9297 - val_loss: 0.3694 - val_precision: 0.9345 - val_recall: 0.9278\n",
      "Epoch 70/300\n",
      "\u001b[1m1875/1875\u001b[0m \u001b[32m━━━━━━━━━━━━━━━━━━━━\u001b[0m\u001b[37m\u001b[0m \u001b[1m8s\u001b[0m 4ms/step - accuracy: 0.9896 - loss: 0.0320 - precision: 0.9903 - recall: 0.9887 - val_accuracy: 0.9275 - val_loss: 0.3793 - val_precision: 0.9315 - val_recall: 0.9254\n",
      "Epoch 71/300\n",
      "\u001b[1m1875/1875\u001b[0m \u001b[32m━━━━━━━━━━━━━━━━━━━━\u001b[0m\u001b[37m\u001b[0m \u001b[1m8s\u001b[0m 4ms/step - accuracy: 0.9888 - loss: 0.0353 - precision: 0.9898 - recall: 0.9881 - val_accuracy: 0.9280 - val_loss: 0.3657 - val_precision: 0.9321 - val_recall: 0.9259\n",
      "Epoch 72/300\n",
      "\u001b[1m1875/1875\u001b[0m \u001b[32m━━━━━━━━━━━━━━━━━━━━\u001b[0m\u001b[37m\u001b[0m \u001b[1m8s\u001b[0m 4ms/step - accuracy: 0.9893 - loss: 0.0317 - precision: 0.9904 - recall: 0.9883 - val_accuracy: 0.9302 - val_loss: 0.3554 - val_precision: 0.9357 - val_recall: 0.9278\n",
      "Epoch 73/300\n",
      "\u001b[1m1875/1875\u001b[0m \u001b[32m━━━━━━━━━━━━━━━━━━━━\u001b[0m\u001b[37m\u001b[0m \u001b[1m8s\u001b[0m 4ms/step - accuracy: 0.9905 - loss: 0.0289 - precision: 0.9913 - recall: 0.9897 - val_accuracy: 0.9284 - val_loss: 0.3811 - val_precision: 0.9323 - val_recall: 0.9270\n",
      "Epoch 74/300\n",
      "\u001b[1m1875/1875\u001b[0m \u001b[32m━━━━━━━━━━━━━━━━━━━━\u001b[0m\u001b[37m\u001b[0m \u001b[1m8s\u001b[0m 4ms/step - accuracy: 0.9891 - loss: 0.0323 - precision: 0.9896 - recall: 0.9888 - val_accuracy: 0.9285 - val_loss: 0.3681 - val_precision: 0.9341 - val_recall: 0.9268\n",
      "Epoch 75/300\n",
      "\u001b[1m1875/1875\u001b[0m \u001b[32m━━━━━━━━━━━━━━━━━━━━\u001b[0m\u001b[37m\u001b[0m \u001b[1m8s\u001b[0m 4ms/step - accuracy: 0.9878 - loss: 0.0376 - precision: 0.9886 - recall: 0.9872 - val_accuracy: 0.9284 - val_loss: 0.3671 - val_precision: 0.9327 - val_recall: 0.9263\n",
      "Epoch 76/300\n",
      "\u001b[1m1875/1875\u001b[0m \u001b[32m━━━━━━━━━━━━━━━━━━━━\u001b[0m\u001b[37m\u001b[0m \u001b[1m8s\u001b[0m 4ms/step - accuracy: 0.9897 - loss: 0.0308 - precision: 0.9906 - recall: 0.9892 - val_accuracy: 0.9272 - val_loss: 0.3721 - val_precision: 0.9323 - val_recall: 0.9254\n",
      "Epoch 77/300\n",
      "\u001b[1m1875/1875\u001b[0m \u001b[32m━━━━━━━━━━━━━━━━━━━━\u001b[0m\u001b[37m\u001b[0m \u001b[1m8s\u001b[0m 4ms/step - accuracy: 0.9886 - loss: 0.0359 - precision: 0.9895 - recall: 0.9881 - val_accuracy: 0.9305 - val_loss: 0.3674 - val_precision: 0.9341 - val_recall: 0.9282\n",
      "Epoch 78/300\n",
      "\u001b[1m1875/1875\u001b[0m \u001b[32m━━━━━━━━━━━━━━━━━━━━\u001b[0m\u001b[37m\u001b[0m \u001b[1m8s\u001b[0m 4ms/step - accuracy: 0.9886 - loss: 0.0339 - precision: 0.9897 - recall: 0.9880 - val_accuracy: 0.9264 - val_loss: 0.3830 - val_precision: 0.9325 - val_recall: 0.9243\n",
      "Epoch 79/300\n",
      "\u001b[1m1875/1875\u001b[0m \u001b[32m━━━━━━━━━━━━━━━━━━━━\u001b[0m\u001b[37m\u001b[0m \u001b[1m8s\u001b[0m 4ms/step - accuracy: 0.9903 - loss: 0.0282 - precision: 0.9911 - recall: 0.9893 - val_accuracy: 0.9262 - val_loss: 0.3863 - val_precision: 0.9308 - val_recall: 0.9240\n",
      "Epoch 80/300\n",
      "\u001b[1m1875/1875\u001b[0m \u001b[32m━━━━━━━━━━━━━━━━━━━━\u001b[0m\u001b[37m\u001b[0m \u001b[1m8s\u001b[0m 4ms/step - accuracy: 0.9902 - loss: 0.0276 - precision: 0.9909 - recall: 0.9896 - val_accuracy: 0.9277 - val_loss: 0.3760 - val_precision: 0.9325 - val_recall: 0.9265\n",
      "Epoch 81/300\n",
      "\u001b[1m1875/1875\u001b[0m \u001b[32m━━━━━━━━━━━━━━━━━━━━\u001b[0m\u001b[37m\u001b[0m \u001b[1m8s\u001b[0m 4ms/step - accuracy: 0.9893 - loss: 0.0337 - precision: 0.9899 - recall: 0.9886 - val_accuracy: 0.9261 - val_loss: 0.3870 - val_precision: 0.9319 - val_recall: 0.9240\n",
      "Epoch 82/300\n",
      "\u001b[1m1875/1875\u001b[0m \u001b[32m━━━━━━━━━━━━━━━━━━━━\u001b[0m\u001b[37m\u001b[0m \u001b[1m8s\u001b[0m 4ms/step - accuracy: 0.9895 - loss: 0.0320 - precision: 0.9901 - recall: 0.9890 - val_accuracy: 0.9292 - val_loss: 0.3750 - val_precision: 0.9332 - val_recall: 0.9269\n",
      "Epoch 83/300\n",
      "\u001b[1m1875/1875\u001b[0m \u001b[32m━━━━━━━━━━━━━━━━━━━━\u001b[0m\u001b[37m\u001b[0m \u001b[1m8s\u001b[0m 4ms/step - accuracy: 0.9892 - loss: 0.0315 - precision: 0.9900 - recall: 0.9886 - val_accuracy: 0.9277 - val_loss: 0.3912 - val_precision: 0.9320 - val_recall: 0.9245\n",
      "Epoch 84/300\n",
      "\u001b[1m1875/1875\u001b[0m \u001b[32m━━━━━━━━━━━━━━━━━━━━\u001b[0m\u001b[37m\u001b[0m \u001b[1m8s\u001b[0m 4ms/step - accuracy: 0.9901 - loss: 0.0291 - precision: 0.9908 - recall: 0.9895 - val_accuracy: 0.9249 - val_loss: 0.4008 - val_precision: 0.9299 - val_recall: 0.9231\n",
      "Epoch 85/300\n",
      "\u001b[1m1875/1875\u001b[0m \u001b[32m━━━━━━━━━━━━━━━━━━━━\u001b[0m\u001b[37m\u001b[0m \u001b[1m8s\u001b[0m 4ms/step - accuracy: 0.9901 - loss: 0.0295 - precision: 0.9912 - recall: 0.9895 - val_accuracy: 0.9284 - val_loss: 0.3758 - val_precision: 0.9329 - val_recall: 0.9261\n",
      "Epoch 86/300\n",
      "\u001b[1m1875/1875\u001b[0m \u001b[32m━━━━━━━━━━━━━━━━━━━━\u001b[0m\u001b[37m\u001b[0m \u001b[1m8s\u001b[0m 4ms/step - accuracy: 0.9903 - loss: 0.0294 - precision: 0.9909 - recall: 0.9897 - val_accuracy: 0.9268 - val_loss: 0.3949 - val_precision: 0.9323 - val_recall: 0.9242\n",
      "Epoch 87/300\n",
      "\u001b[1m1875/1875\u001b[0m \u001b[32m━━━━━━━━━━━━━━━━━━━━\u001b[0m\u001b[37m\u001b[0m \u001b[1m8s\u001b[0m 4ms/step - accuracy: 0.9908 - loss: 0.0288 - precision: 0.9914 - recall: 0.9902 - val_accuracy: 0.9246 - val_loss: 0.4168 - val_precision: 0.9289 - val_recall: 0.9234\n",
      "Epoch 88/300\n",
      "\u001b[1m1875/1875\u001b[0m \u001b[32m━━━━━━━━━━━━━━━━━━━━\u001b[0m\u001b[37m\u001b[0m \u001b[1m8s\u001b[0m 4ms/step - accuracy: 0.9905 - loss: 0.0303 - precision: 0.9912 - recall: 0.9898 - val_accuracy: 0.9253 - val_loss: 0.4044 - val_precision: 0.9298 - val_recall: 0.9236\n",
      "Epoch 89/300\n",
      "\u001b[1m1875/1875\u001b[0m \u001b[32m━━━━━━━━━━━━━━━━━━━━\u001b[0m\u001b[37m\u001b[0m \u001b[1m8s\u001b[0m 4ms/step - accuracy: 0.9912 - loss: 0.0272 - precision: 0.9920 - recall: 0.9905 - val_accuracy: 0.9296 - val_loss: 0.3789 - val_precision: 0.9340 - val_recall: 0.9282\n",
      "Epoch 90/300\n",
      "\u001b[1m1875/1875\u001b[0m \u001b[32m━━━━━━━━━━━━━━━━━━━━\u001b[0m\u001b[37m\u001b[0m \u001b[1m8s\u001b[0m 4ms/step - accuracy: 0.9900 - loss: 0.0292 - precision: 0.9911 - recall: 0.9895 - val_accuracy: 0.9293 - val_loss: 0.3825 - val_precision: 0.9335 - val_recall: 0.9276\n",
      "Epoch 91/300\n",
      "\u001b[1m1875/1875\u001b[0m \u001b[32m━━━━━━━━━━━━━━━━━━━━\u001b[0m\u001b[37m\u001b[0m \u001b[1m8s\u001b[0m 4ms/step - accuracy: 0.9907 - loss: 0.0279 - precision: 0.9915 - recall: 0.9901 - val_accuracy: 0.9294 - val_loss: 0.3733 - val_precision: 0.9338 - val_recall: 0.9274\n",
      "Epoch 92/300\n",
      "\u001b[1m1875/1875\u001b[0m \u001b[32m━━━━━━━━━━━━━━━━━━━━\u001b[0m\u001b[37m\u001b[0m \u001b[1m8s\u001b[0m 4ms/step - accuracy: 0.9904 - loss: 0.0282 - precision: 0.9912 - recall: 0.9897 - val_accuracy: 0.9272 - val_loss: 0.3871 - val_precision: 0.9323 - val_recall: 0.9245\n",
      "Epoch 93/300\n",
      "\u001b[1m1875/1875\u001b[0m \u001b[32m━━━━━━━━━━━━━━━━━━━━\u001b[0m\u001b[37m\u001b[0m \u001b[1m8s\u001b[0m 4ms/step - accuracy: 0.9914 - loss: 0.0277 - precision: 0.9921 - recall: 0.9909 - val_accuracy: 0.9275 - val_loss: 0.3859 - val_precision: 0.9319 - val_recall: 0.9252\n",
      "Epoch 94/300\n",
      "\u001b[1m1875/1875\u001b[0m \u001b[32m━━━━━━━━━━━━━━━━━━━━\u001b[0m\u001b[37m\u001b[0m \u001b[1m8s\u001b[0m 4ms/step - accuracy: 0.9907 - loss: 0.0263 - precision: 0.9916 - recall: 0.9901 - val_accuracy: 0.9265 - val_loss: 0.3905 - val_precision: 0.9318 - val_recall: 0.9244\n",
      "Epoch 95/300\n",
      "\u001b[1m1875/1875\u001b[0m \u001b[32m━━━━━━━━━━━━━━━━━━━━\u001b[0m\u001b[37m\u001b[0m \u001b[1m8s\u001b[0m 4ms/step - accuracy: 0.9902 - loss: 0.0292 - precision: 0.9910 - recall: 0.9894 - val_accuracy: 0.9252 - val_loss: 0.3974 - val_precision: 0.9295 - val_recall: 0.9229\n",
      "Epoch 96/300\n",
      "\u001b[1m1875/1875\u001b[0m \u001b[32m━━━━━━━━━━━━━━━━━━━━\u001b[0m\u001b[37m\u001b[0m \u001b[1m8s\u001b[0m 4ms/step - accuracy: 0.9911 - loss: 0.0262 - precision: 0.9917 - recall: 0.9906 - val_accuracy: 0.9274 - val_loss: 0.4046 - val_precision: 0.9314 - val_recall: 0.9257\n",
      "Epoch 97/300\n",
      "\u001b[1m1875/1875\u001b[0m \u001b[32m━━━━━━━━━━━━━━━━━━━━\u001b[0m\u001b[37m\u001b[0m \u001b[1m8s\u001b[0m 4ms/step - accuracy: 0.9915 - loss: 0.0251 - precision: 0.9921 - recall: 0.9911 - val_accuracy: 0.9275 - val_loss: 0.3884 - val_precision: 0.9319 - val_recall: 0.9257\n",
      "Epoch 98/300\n",
      "\u001b[1m1875/1875\u001b[0m \u001b[32m━━━━━━━━━━━━━━━━━━━━\u001b[0m\u001b[37m\u001b[0m \u001b[1m8s\u001b[0m 4ms/step - accuracy: 0.9899 - loss: 0.0293 - precision: 0.9907 - recall: 0.9892 - val_accuracy: 0.9291 - val_loss: 0.3921 - val_precision: 0.9335 - val_recall: 0.9268\n",
      "Epoch 99/300\n",
      "\u001b[1m1875/1875\u001b[0m \u001b[32m━━━━━━━━━━━━━━━━━━━━\u001b[0m\u001b[37m\u001b[0m \u001b[1m8s\u001b[0m 4ms/step - accuracy: 0.9903 - loss: 0.0290 - precision: 0.9909 - recall: 0.9897 - val_accuracy: 0.9298 - val_loss: 0.3817 - val_precision: 0.9335 - val_recall: 0.9286\n",
      "Epoch 100/300\n",
      "\u001b[1m1875/1875\u001b[0m \u001b[32m━━━━━━━━━━━━━━━━━━━━\u001b[0m\u001b[37m\u001b[0m \u001b[1m8s\u001b[0m 4ms/step - accuracy: 0.9911 - loss: 0.0265 - precision: 0.9917 - recall: 0.9908 - val_accuracy: 0.9283 - val_loss: 0.3909 - val_precision: 0.9325 - val_recall: 0.9256\n",
      "Epoch 101/300\n",
      "\u001b[1m1875/1875\u001b[0m \u001b[32m━━━━━━━━━━━━━━━━━━━━\u001b[0m\u001b[37m\u001b[0m \u001b[1m8s\u001b[0m 4ms/step - accuracy: 0.9913 - loss: 0.0269 - precision: 0.9917 - recall: 0.9910 - val_accuracy: 0.9279 - val_loss: 0.3938 - val_precision: 0.9323 - val_recall: 0.9260\n",
      "Epoch 102/300\n",
      "\u001b[1m1875/1875\u001b[0m \u001b[32m━━━━━━━━━━━━━━━━━━━━\u001b[0m\u001b[37m\u001b[0m \u001b[1m8s\u001b[0m 4ms/step - accuracy: 0.9910 - loss: 0.0277 - precision: 0.9916 - recall: 0.9906 - val_accuracy: 0.9294 - val_loss: 0.3913 - val_precision: 0.9335 - val_recall: 0.9277\n",
      "Epoch 103/300\n",
      "\u001b[1m1875/1875\u001b[0m \u001b[32m━━━━━━━━━━━━━━━━━━━━\u001b[0m\u001b[37m\u001b[0m \u001b[1m8s\u001b[0m 4ms/step - accuracy: 0.9911 - loss: 0.0267 - precision: 0.9919 - recall: 0.9908 - val_accuracy: 0.9289 - val_loss: 0.3832 - val_precision: 0.9330 - val_recall: 0.9263\n",
      "Epoch 104/300\n",
      "\u001b[1m1875/1875\u001b[0m \u001b[32m━━━━━━━━━━━━━━━━━━━━\u001b[0m\u001b[37m\u001b[0m \u001b[1m8s\u001b[0m 5ms/step - accuracy: 0.9915 - loss: 0.0258 - precision: 0.9921 - recall: 0.9910 - val_accuracy: 0.9282 - val_loss: 0.4061 - val_precision: 0.9320 - val_recall: 0.9261\n",
      "Epoch 104: early stopping\n",
      "Restoring model weights from the end of the best epoch: 94.\n",
      "Total final train time for MLP 3H: 14.20 minutes\n"
     ]
    },
    {
     "data": {
      "image/png": "[encoded data removed]",
      "text/plain": [
       "<Figure size 1200x500 with 2 Axes>"
      ]
     },
     "metadata": {},
     "output_type": "display_data"
    }
   ],
   "source": [
    "# Get the best accuracy\n",
    "best_acc = results_MLP_3H['val_accuracy'].max()\n",
    "\n",
    "print(f'Best grid search accuracy: {best_acc}')\n",
    "\n",
    "# Get the index for the best run\n",
    "best_indices = results_MLP_3H.loc[results_MLP_3H['val_accuracy']==best_acc, :].index\n",
    "\n",
    "if best_indices.shape[0] > 1:\n",
    "    print(f'Multiple runs with accuracy = {best_acc}. \\nBest indices = {best_indices.values}.')\n",
    "    best_idx = int(input(f'Which index do you want to consider?\\nOptions: {best_indices.values}'))\n",
    "    assert best_idx in best_indices.values, 'Invalid index!'\n",
    "else:\n",
    "    best_idx = best_indices[0]\n",
    "\n",
    "print(f'Best run index: {best_idx}')\n",
    "\n",
    "# Load the best model\n",
    "#best_model_path = results_MLP_3H.iloc[best_idx, -1]\n",
    "\n",
    "#best_MLP_1H = tf.keras.models.load_model(best_model_path)\n",
    "\n",
    "# Train the best configuration on the training + validation set\n",
    "## Get the best configuration parameters\n",
    "best_lr, best_dropout, best_hu1, best_hu2, best_hu3, best_optimizer = results_MLP_3H.iloc[best_idx, :6]\n",
    "\n",
    "best_MLP_3H = build_tf_model_3H(hidden_units1= best_hu1, hidden_units2= best_hu2, hidden_units3= best_hu3, dropout= best_dropout, optimizer_name= best_optimizer, lr = best_lr)\n",
    "\n",
    "early_stop = EarlyStopping(\n",
    "    monitor='loss',\n",
    "    min_delta = 0.001,    \n",
    "    patience=10,            # number of epochs with no improvement after which training will be stopped\n",
    "    restore_best_weights=True,\n",
    "    mode = 'min',\n",
    "    verbose = 1  # restores model weights from the epoch with the best value of the monitored quantity\n",
    ")\n",
    "\n",
    "\n",
    "start_time = time.time()\n",
    "\n",
    "history_MLP_3H = best_MLP_3H.fit(np.vstack((train_images_norm, validation_images_norm)), np.vstack((train_labels, validation_labels)), \n",
    "                          epochs = 300,\n",
    "                          callbacks = [early_stop],\n",
    "                          validation_data = (test_images_norm, pd.get_dummies(test_labels, dtype= int).to_numpy()))\n",
    "\n",
    "end_time = time.time()\n",
    "\n",
    "finalTrain_MLP_3H_time = end_time - start_time\n",
    "print(f\"Total final train time for MLP 3H: {(finalTrain_MLP_3H_time)/60:.2f} minutes\")\n",
    "\n",
    "plot_finalTraining_results(history_MLP_3H)"
   ]
  },
  {
   "cell_type": "code",
   "execution_count": 31,
   "metadata": {},
   "outputs": [
    {
     "data": {
      "image/png": "[encoded data removed]",
      "text/plain": [
       "<Figure size 1200x500 with 2 Axes>"
      ]
     },
     "metadata": {},
     "output_type": "display_data"
    }
   ],
   "source": [
    "plot_finalTraining_results(history_MLP_3H)"
   ]
  },
  {
   "cell_type": "code",
   "execution_count": 22,
   "metadata": {},
   "outputs": [],
   "source": [
    "# Save the model after the final training\n",
    "tf.keras.models.save_model(best_MLP_3H, 'finalModel_MLP_3H.keras')"
   ]
  },
  {
   "cell_type": "markdown",
   "metadata": {},
   "source": [
    "## 4.3 Obtain model performance\n",
    "Run a chosen model on the test set (i.e., unseen data) and get the accuracy and confusion matrix"
   ]
  },
  {
   "cell_type": "code",
   "execution_count": 20,
   "metadata": {},
   "outputs": [
    {
     "name": "stdout",
     "output_type": "stream",
     "text": [
      "313/313 - 0s - 963us/step - accuracy: 0.9136 - loss: 0.8020 - precision: 0.9156 - recall: 0.9120\n",
      "Test accuracy: 0.9136\n",
      "\u001b[1m313/313\u001b[0m \u001b[32m━━━━━━━━━━━━━━━━━━━━\u001b[0m\u001b[37m\u001b[0m \u001b[1m0s\u001b[0m 742us/step\n"
     ]
    },
    {
     "data": {
      "image/png": "[encoded data removed]",
      "text/plain": [
       "<Figure size 640x480 with 2 Axes>"
      ]
     },
     "metadata": {},
     "output_type": "display_data"
    }
   ],
   "source": [
    "# Evaluate on test set\n",
    "test_labels = pd.get_dummies(test_labels, dtype= int).to_numpy()\n",
    "test_loss, test_acc, _, _ = best_MLP_1H.evaluate(test_images_norm, test_labels, verbose=2)\n",
    "print(f\"Test accuracy: {test_acc:.4f}\")\n",
    "\n",
    "test_labels = np.argmax(test_labels, axis=1)\n",
    "\n",
    "# Predict classes on test set\n",
    "y_pred_prob = best_MLP_1H.predict(test_images_norm)\n",
    "y_pred = np.argmax(y_pred_prob, axis=1)\n",
    "\n",
    "# Create confusion matrix\n",
    "cm = metrics.confusion_matrix(test_labels, y_pred)\n",
    "\n",
    "# Plot confusion matrix\n",
    "disp = metrics.ConfusionMatrixDisplay(confusion_matrix=cm, display_labels=np.arange(10))\n",
    "disp.plot(cmap=plt.cm.Blues)\n",
    "plt.title(\"Confusion Matrix on Test Set\")\n",
    "plt.show()"
   ]
  },
  {
   "cell_type": "code",
   "execution_count": 21,
   "metadata": {},
   "outputs": [
    {
     "name": "stdout",
     "output_type": "stream",
     "text": [
      "313/313 - 0s - 1ms/step - accuracy: 0.9265 - loss: 0.3905 - precision: 0.9318 - recall: 0.9244\n",
      "Test accuracy: 0.9265\n",
      "\u001b[1m313/313\u001b[0m \u001b[32m━━━━━━━━━━━━━━━━━━━━\u001b[0m\u001b[37m\u001b[0m \u001b[1m0s\u001b[0m 1ms/step\n"
     ]
    },
    {
     "data": {
      "image/png": "[encoded data removed]",
      "text/plain": [
       "<Figure size 640x480 with 2 Axes>"
      ]
     },
     "metadata": {},
     "output_type": "display_data"
    }
   ],
   "source": [
    "# Evaluate on test set\n",
    "test_labels = pd.get_dummies(test_labels, dtype= int).to_numpy()\n",
    "test_loss, test_acc, _, _ = best_MLP_3H.evaluate(test_images_norm, test_labels, verbose=2)\n",
    "print(f\"Test accuracy: {test_acc:.4f}\")\n",
    "\n",
    "test_labels = np.argmax(test_labels, axis=1)\n",
    "\n",
    "# Predict classes on test set\n",
    "y_pred_prob = best_MLP_3H.predict(test_images_norm)\n",
    "y_pred = np.argmax(y_pred_prob, axis=1)\n",
    "\n",
    "# Create confusion matrix\n",
    "cm = metrics.confusion_matrix(test_labels, y_pred)\n",
    "\n",
    "# Plot confusion matrix\n",
    "disp = metrics.ConfusionMatrixDisplay(confusion_matrix=cm, display_labels=np.arange(10))\n",
    "disp.plot(cmap=plt.cm.Blues)\n",
    "plt.title(\"Confusion Matrix on Test Set\")\n",
    "plt.show()"
   ]
  }
 ],
 "metadata": {
  "kernelspec": {
   "display_name": "ai-tutorial-mlp",
   "language": "python",
   "name": "python3"
  },
  "language_info": {
   "codemirror_mode": {
    "name": "ipython",
    "version": 3
   },
   "file_extension": ".py",
   "mimetype": "text/x-python",
   "name": "python",
   "nbconvert_exporter": "python",
   "pygments_lexer": "ipython3",
   "version": "3.12.11"
  }
 },
 "nbformat": 4,
 "nbformat_minor": 2
}
